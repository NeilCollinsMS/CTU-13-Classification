{
  "nbformat": 4,
  "nbformat_minor": 0,
  "metadata": {
    "colab": {
      "name": "CTU-13 Classification (Aggregate).ipynb",
      "provenance": [],
      "machine_shape": "hm",
      "authorship_tag": "ABX9TyNbKP5BCObIugWfGfoPqEha",
      "include_colab_link": true
    },
    "kernelspec": {
      "name": "python3",
      "display_name": "Python 3"
    },
    "language_info": {
      "name": "python"
    }
  },
  "cells": [
    {
      "cell_type": "markdown",
      "metadata": {
        "id": "view-in-github",
        "colab_type": "text"
      },
      "source": [
        "<a href=\"https://colab.research.google.com/github/NeilCollinsMS/CTU-13-Classification/blob/main/CTU_13_Classification_(Aggregate).ipynb\" target=\"_parent\"><img src=\"https://colab.research.google.com/assets/colab-badge.svg\" alt=\"Open In Colab\"/></a>"
      ]
    },
    {
      "cell_type": "markdown",
      "metadata": {
        "id": "SE5gXRns4s80"
      },
      "source": [
        "**CTU-13 Classification Project**\n",
        "\n",
        "Aggregate Notebook (Each scenario combined and analyzed using train/test splits for validation)\n",
        "\n",
        "There is an alternate notebook that was generated with per-scenario models (that you should not use because they are unrefined and flawed).\n",
        "\n",
        "I am making use of Google Colab Pro ($10/mo) so that memory does not become an issue."
      ]
    },
    {
      "cell_type": "code",
      "metadata": {
        "id": "h_1qgiRMlcDD"
      },
      "source": [
        "# Import Libraries - Same libraries utilized for per-scenario base models with a few additions to mount to Google Drive\n",
        "import pandas as pd\n",
        "import numpy as np\n",
        "import os\n",
        "import io\n",
        "from sklearn.model_selection import train_test_split\n",
        "from sklearn.model_selection import GridSearchCV\n",
        "from sklearn.datasets import make_classification\n",
        "from sklearn.ensemble import RandomForestClassifier\n",
        "from sklearn.metrics import confusion_matrix\n",
        "from sklearn.metrics import f1_score \n",
        "from sklearn.metrics import accuracy_score \n",
        "from sklearn.metrics import roc_auc_score\n",
        "from matplotlib import pyplot as plt\n",
        "from google.colab import drive\n",
        "from google.colab import files"
      ],
      "execution_count": 34,
      "outputs": []
    },
    {
      "cell_type": "markdown",
      "metadata": {
        "id": "jAFBN0HXAdqP"
      },
      "source": [
        "Time to aggregate all of the scenarios into one massive dataframe "
      ]
    },
    {
      "cell_type": "code",
      "metadata": {
        "colab": {
          "base_uri": "https://localhost:8080/"
        },
        "id": "fbST_Gxg4ImR",
        "outputId": "02655f80-8c46-4028-ac5c-eebf68853515"
      },
      "source": [
        "# Mounting google drive to this colab file. The file is too large to hold on my local host (3 GB), so storing it in drive is the easiest way to easily access it for future use.\n",
        "drive.mount('/content/drive')\n",
        "os.chdir(\"drive/My Drive\")"
      ],
      "execution_count": 3,
      "outputs": [
        {
          "output_type": "stream",
          "text": [
            "Drive already mounted at /content/drive; to attempt to forcibly remount, call drive.mount(\"/content/drive\", force_remount=True).\n"
          ],
          "name": "stdout"
        }
      ]
    },
    {
      "cell_type": "code",
      "metadata": {
        "colab": {
          "base_uri": "https://localhost:8080/",
          "height": 35
        },
        "id": "C-8W6Hw7yk8Y",
        "outputId": "c0fc0bb9-569c-4e13-fe20-cc1e4a5d7248"
      },
      "source": [
        "# Checking that we're in the right place\n",
        "os.getcwd()"
      ],
      "execution_count": 4,
      "outputs": [
        {
          "output_type": "execute_result",
          "data": {
            "application/vnd.google.colaboratory.intrinsic+json": {
              "type": "string"
            },
            "text/plain": [
              "'/content/drive/My Drive'"
            ]
          },
          "metadata": {
            "tags": []
          },
          "execution_count": 4
        }
      ]
    },
    {
      "cell_type": "code",
      "metadata": {
        "id": "5lSVBR3urjom"
      },
      "source": [
        "# Only run these once to get the dataframes. The next steps will be to concat them into a master dataframe and then export that dataframe to a CSV to save session memory. \n",
        "\n",
        "scenario_1 = pd.read_csv('https://mcfp.felk.cvut.cz/publicDatasets/CTU-Malware-Capture-Botnet-42/detailed-bidirectional-flow-labels/capture20110810.binetflow')\n",
        "scenario_2 = pd.read_csv('https://mcfp.felk.cvut.cz/publicDatasets/CTU-Malware-Capture-Botnet-43/detailed-bidirectional-flow-labels/capture20110811.binetflow')\n",
        "scenario_3 = pd.read_csv('https://mcfp.felk.cvut.cz/publicDatasets/CTU-Malware-Capture-Botnet-44/detailed-bidirectional-flow-labels/capture20110812.binetflow')\n",
        "scenario_4 = pd.read_csv('https://mcfp.felk.cvut.cz/publicDatasets/CTU-Malware-Capture-Botnet-45/detailed-bidirectional-flow-labels/capture20110815.binetflow')\n",
        "scenario_5 = pd.read_csv('https://mcfp.felk.cvut.cz/publicDatasets/CTU-Malware-Capture-Botnet-46/detailed-bidirectional-flow-labels/capture20110815-2.binetflow')\n",
        "scenario_6 = pd.read_csv('https://mcfp.felk.cvut.cz/publicDatasets/CTU-Malware-Capture-Botnet-47/detailed-bidirectional-flow-labels/capture20110816.binetflow')\n",
        "scenario_7 = pd.read_csv('https://mcfp.felk.cvut.cz/publicDatasets/CTU-Malware-Capture-Botnet-48/detailed-bidirectional-flow-labels/capture20110816-2.binetflow')\n",
        "scenario_8 = pd.read_csv('https://mcfp.felk.cvut.cz/publicDatasets/CTU-Malware-Capture-Botnet-49/detailed-bidirectional-flow-labels/capture20110816-3.binetflow')\n",
        "scenario_9 = pd.read_csv('https://mcfp.felk.cvut.cz/publicDatasets/CTU-Malware-Capture-Botnet-50/detailed-bidirectional-flow-labels/capture20110817.binetflow')\n",
        "scenario_10 = pd.read_csv('https://mcfp.felk.cvut.cz/publicDatasets/CTU-Malware-Capture-Botnet-51/detailed-bidirectional-flow-labels/capture20110818.binetflow')\n",
        "scenario_11 = pd.read_csv('https://mcfp.felk.cvut.cz/publicDatasets/CTU-Malware-Capture-Botnet-52/detailed-bidirectional-flow-labels/capture20110818-2.binetflow')\n",
        "scenario_12 = pd.read_csv('https://mcfp.felk.cvut.cz/publicDatasets/CTU-Malware-Capture-Botnet-53/detailed-bidirectional-flow-labels/capture20110819.binetflow')\n",
        "scenario_13 = pd.read_csv('https://mcfp.felk.cvut.cz/publicDatasets/CTU-Malware-Capture-Botnet-54/detailed-bidirectional-flow-labels/capture20110815-3.binetflow')"
      ],
      "execution_count": null,
      "outputs": []
    },
    {
      "cell_type": "code",
      "metadata": {
        "id": "KnhWyFRVtTfU"
      },
      "source": [
        "scenario_df = pd.concat([scenario_1, scenario_2, scenario_3, scenario_4, scenario_5, scenario_6, scenario_7, scenario_8, scenario_9, scenario_10, scenario_11, scenario_12, scenario_13], ignore_index = True)"
      ],
      "execution_count": null,
      "outputs": []
    },
    {
      "cell_type": "code",
      "metadata": {
        "colab": {
          "base_uri": "https://localhost:8080/",
          "height": 191
        },
        "id": "mc47x4hptmpC",
        "outputId": "807098af-73db-466a-c1ca-0823eaae8add"
      },
      "source": [
        "scenario_df.tail()"
      ],
      "execution_count": null,
      "outputs": [
        {
          "output_type": "execute_result",
          "data": {
            "text/html": [
              "<div>\n",
              "<style scoped>\n",
              "    .dataframe tbody tr th:only-of-type {\n",
              "        vertical-align: middle;\n",
              "    }\n",
              "\n",
              "    .dataframe tbody tr th {\n",
              "        vertical-align: top;\n",
              "    }\n",
              "\n",
              "    .dataframe thead th {\n",
              "        text-align: right;\n",
              "    }\n",
              "</style>\n",
              "<table border=\"1\" class=\"dataframe\">\n",
              "  <thead>\n",
              "    <tr style=\"text-align: right;\">\n",
              "      <th></th>\n",
              "      <th>StartTime</th>\n",
              "      <th>Dur</th>\n",
              "      <th>Proto</th>\n",
              "      <th>SrcAddr</th>\n",
              "      <th>Sport</th>\n",
              "      <th>Dir</th>\n",
              "      <th>DstAddr</th>\n",
              "      <th>Dport</th>\n",
              "      <th>State</th>\n",
              "      <th>sTos</th>\n",
              "      <th>dTos</th>\n",
              "      <th>TotPkts</th>\n",
              "      <th>TotBytes</th>\n",
              "      <th>SrcBytes</th>\n",
              "      <th>Label</th>\n",
              "    </tr>\n",
              "  </thead>\n",
              "  <tbody>\n",
              "    <tr>\n",
              "      <th>19976695</th>\n",
              "      <td>2011/08/16 09:36:00.710103</td>\n",
              "      <td>0.000000</td>\n",
              "      <td>udp</td>\n",
              "      <td>147.32.84.229</td>\n",
              "      <td>13363</td>\n",
              "      <td>-&gt;</td>\n",
              "      <td>125.14.162.10</td>\n",
              "      <td>27460</td>\n",
              "      <td>INT</td>\n",
              "      <td>0.0</td>\n",
              "      <td>NaN</td>\n",
              "      <td>1</td>\n",
              "      <td>476</td>\n",
              "      <td>476</td>\n",
              "      <td>flow=Background-UDP-Attempt</td>\n",
              "    </tr>\n",
              "    <tr>\n",
              "      <th>19976696</th>\n",
              "      <td>2011/08/16 09:36:00.777160</td>\n",
              "      <td>0.000427</td>\n",
              "      <td>udp</td>\n",
              "      <td>213.146.167.54</td>\n",
              "      <td>20856</td>\n",
              "      <td>&lt;-&gt;</td>\n",
              "      <td>147.32.84.229</td>\n",
              "      <td>13363</td>\n",
              "      <td>CON</td>\n",
              "      <td>0.0</td>\n",
              "      <td>0.0</td>\n",
              "      <td>2</td>\n",
              "      <td>135</td>\n",
              "      <td>75</td>\n",
              "      <td>flow=Background-UDP-Established</td>\n",
              "    </tr>\n",
              "    <tr>\n",
              "      <th>19976697</th>\n",
              "      <td>2011/08/16 09:36:00.784094</td>\n",
              "      <td>0.000000</td>\n",
              "      <td>udp</td>\n",
              "      <td>147.32.84.229</td>\n",
              "      <td>13363</td>\n",
              "      <td>-&gt;</td>\n",
              "      <td>122.121.0.92</td>\n",
              "      <td>12923</td>\n",
              "      <td>INT</td>\n",
              "      <td>0.0</td>\n",
              "      <td>NaN</td>\n",
              "      <td>1</td>\n",
              "      <td>476</td>\n",
              "      <td>476</td>\n",
              "      <td>flow=Background-UDP-Attempt</td>\n",
              "    </tr>\n",
              "    <tr>\n",
              "      <th>19976698</th>\n",
              "      <td>2011/08/16 09:36:00.784160</td>\n",
              "      <td>0.000000</td>\n",
              "      <td>udp</td>\n",
              "      <td>147.32.84.229</td>\n",
              "      <td>13363</td>\n",
              "      <td>-&gt;</td>\n",
              "      <td>110.233.175.133</td>\n",
              "      <td>37690</td>\n",
              "      <td>INT</td>\n",
              "      <td>0.0</td>\n",
              "      <td>NaN</td>\n",
              "      <td>1</td>\n",
              "      <td>476</td>\n",
              "      <td>476</td>\n",
              "      <td>flow=Background-UDP-Attempt</td>\n",
              "    </tr>\n",
              "    <tr>\n",
              "      <th>19976699</th>\n",
              "      <td>2011/08/16 09:36:00.806547</td>\n",
              "      <td>0.000008</td>\n",
              "      <td>tcp</td>\n",
              "      <td>147.32.87.51</td>\n",
              "      <td>12489</td>\n",
              "      <td>-&gt;</td>\n",
              "      <td>147.32.86.96</td>\n",
              "      <td>49773</td>\n",
              "      <td>SA_</td>\n",
              "      <td>0.0</td>\n",
              "      <td>NaN</td>\n",
              "      <td>2</td>\n",
              "      <td>140</td>\n",
              "      <td>140</td>\n",
              "      <td>flow=Background-TCP-Established</td>\n",
              "    </tr>\n",
              "  </tbody>\n",
              "</table>\n",
              "</div>"
            ],
            "text/plain": [
              "                           StartTime  ...                            Label\n",
              "19976695  2011/08/16 09:36:00.710103  ...      flow=Background-UDP-Attempt\n",
              "19976696  2011/08/16 09:36:00.777160  ...  flow=Background-UDP-Established\n",
              "19976697  2011/08/16 09:36:00.784094  ...      flow=Background-UDP-Attempt\n",
              "19976698  2011/08/16 09:36:00.784160  ...      flow=Background-UDP-Attempt\n",
              "19976699  2011/08/16 09:36:00.806547  ...  flow=Background-TCP-Established\n",
              "\n",
              "[5 rows x 15 columns]"
            ]
          },
          "metadata": {
            "tags": []
          },
          "execution_count": 6
        }
      ]
    },
    {
      "cell_type": "code",
      "metadata": {
        "id": "0UDRWYqk6ZpK"
      },
      "source": [
        "# Making a label column identifying the malicious IPs \n",
        "scenario_df.loc[scenario_df['SrcAddr'] == '147.32.84.165', 'Malicious'] = 1\n",
        "scenario_df.loc[scenario_df['SrcAddr'] == '147.32.84.191', 'Malicious'] = 1\n",
        "scenario_df.loc[scenario_df['SrcAddr'] == '147.32.84.192', 'Malicious'] = 1\n",
        "scenario_df.loc[scenario_df['SrcAddr'] == '147.32.84.193', 'Malicious'] = 1\n",
        "scenario_df.loc[scenario_df['SrcAddr'] == '147.32.84.204', 'Malicious'] = 1\n",
        "scenario_df.loc[scenario_df['SrcAddr'] == '147.32.84.205', 'Malicious'] = 1\n",
        "scenario_df.loc[scenario_df['SrcAddr'] == '147.32.84.206', 'Malicious'] = 1\n",
        "scenario_df.loc[scenario_df['SrcAddr'] == '147.32.84.207', 'Malicious'] = 1\n",
        "scenario_df.loc[scenario_df['SrcAddr'] == '147.32.84.208', 'Malicious'] = 1\n",
        "scenario_df.loc[scenario_df['SrcAddr'] == '147.32.84.209', 'Malicious'] = 1\n",
        "scenario_df.loc[scenario_df['Malicious'] != 1, 'Malicious'] = 0"
      ],
      "execution_count": null,
      "outputs": []
    },
    {
      "cell_type": "code",
      "metadata": {
        "colab": {
          "base_uri": "https://localhost:8080/",
          "height": 365
        },
        "id": "eVyo7jOi-Klh",
        "outputId": "e5de9b1c-5507-428e-fa5b-fe2b032f7335"
      },
      "source": [
        "display(scenario_df.loc[scenario_df['SrcAddr'] == '147.32.84.165'].head())\n",
        "display(scenario_df.head())"
      ],
      "execution_count": null,
      "outputs": [
        {
          "output_type": "display_data",
          "data": {
            "text/html": [
              "<div>\n",
              "<style scoped>\n",
              "    .dataframe tbody tr th:only-of-type {\n",
              "        vertical-align: middle;\n",
              "    }\n",
              "\n",
              "    .dataframe tbody tr th {\n",
              "        vertical-align: top;\n",
              "    }\n",
              "\n",
              "    .dataframe thead th {\n",
              "        text-align: right;\n",
              "    }\n",
              "</style>\n",
              "<table border=\"1\" class=\"dataframe\">\n",
              "  <thead>\n",
              "    <tr style=\"text-align: right;\">\n",
              "      <th></th>\n",
              "      <th>StartTime</th>\n",
              "      <th>Dur</th>\n",
              "      <th>Proto</th>\n",
              "      <th>SrcAddr</th>\n",
              "      <th>Sport</th>\n",
              "      <th>Dir</th>\n",
              "      <th>DstAddr</th>\n",
              "      <th>Dport</th>\n",
              "      <th>State</th>\n",
              "      <th>sTos</th>\n",
              "      <th>dTos</th>\n",
              "      <th>TotPkts</th>\n",
              "      <th>TotBytes</th>\n",
              "      <th>SrcBytes</th>\n",
              "      <th>Label</th>\n",
              "      <th>Malicious</th>\n",
              "    </tr>\n",
              "  </thead>\n",
              "  <tbody>\n",
              "    <tr>\n",
              "      <th>675537</th>\n",
              "      <td>2011/08/10 11:04:24.863449</td>\n",
              "      <td>0.000278</td>\n",
              "      <td>udp</td>\n",
              "      <td>147.32.84.165</td>\n",
              "      <td>1025</td>\n",
              "      <td>&lt;-&gt;</td>\n",
              "      <td>147.32.80.9</td>\n",
              "      <td>53</td>\n",
              "      <td>CON</td>\n",
              "      <td>0.0</td>\n",
              "      <td>0.0</td>\n",
              "      <td>2</td>\n",
              "      <td>203</td>\n",
              "      <td>64</td>\n",
              "      <td>flow=From-Botnet-V42-UDP-DNS</td>\n",
              "      <td>1.0</td>\n",
              "    </tr>\n",
              "    <tr>\n",
              "      <th>675872</th>\n",
              "      <td>2011/08/10 11:04:27.118993</td>\n",
              "      <td>0.020525</td>\n",
              "      <td>udp</td>\n",
              "      <td>147.32.84.165</td>\n",
              "      <td>1025</td>\n",
              "      <td>&lt;-&gt;</td>\n",
              "      <td>147.32.80.9</td>\n",
              "      <td>53</td>\n",
              "      <td>CON</td>\n",
              "      <td>0.0</td>\n",
              "      <td>0.0</td>\n",
              "      <td>2</td>\n",
              "      <td>590</td>\n",
              "      <td>87</td>\n",
              "      <td>flow=From-Botnet-V42-UDP-DNS</td>\n",
              "      <td>1.0</td>\n",
              "    </tr>\n",
              "    <tr>\n",
              "      <th>675877</th>\n",
              "      <td>2011/08/10 11:04:27.140727</td>\n",
              "      <td>0.045125</td>\n",
              "      <td>tcp</td>\n",
              "      <td>147.32.84.165</td>\n",
              "      <td>1027</td>\n",
              "      <td>-&gt;</td>\n",
              "      <td>74.125.232.195</td>\n",
              "      <td>80</td>\n",
              "      <td>SRPA_SPA</td>\n",
              "      <td>0.0</td>\n",
              "      <td>0.0</td>\n",
              "      <td>7</td>\n",
              "      <td>882</td>\n",
              "      <td>629</td>\n",
              "      <td>flow=From-Botnet-V42-TCP-HTTP-Google-Net-Estab...</td>\n",
              "      <td>1.0</td>\n",
              "    </tr>\n",
              "    <tr>\n",
              "      <th>689920</th>\n",
              "      <td>2011/08/10 11:06:23.268442</td>\n",
              "      <td>0.336250</td>\n",
              "      <td>udp</td>\n",
              "      <td>147.32.84.165</td>\n",
              "      <td>1025</td>\n",
              "      <td>&lt;-&gt;</td>\n",
              "      <td>147.32.80.9</td>\n",
              "      <td>53</td>\n",
              "      <td>CON</td>\n",
              "      <td>0.0</td>\n",
              "      <td>0.0</td>\n",
              "      <td>2</td>\n",
              "      <td>215</td>\n",
              "      <td>71</td>\n",
              "      <td>flow=From-Botnet-V42-UDP-DNS</td>\n",
              "      <td>1.0</td>\n",
              "    </tr>\n",
              "    <tr>\n",
              "      <th>689955</th>\n",
              "      <td>2011/08/10 11:06:23.606888</td>\n",
              "      <td>3514.083496</td>\n",
              "      <td>tcp</td>\n",
              "      <td>147.32.84.165</td>\n",
              "      <td>1039</td>\n",
              "      <td>-&gt;</td>\n",
              "      <td>60.190.222.139</td>\n",
              "      <td>65520</td>\n",
              "      <td>SPA_SPA</td>\n",
              "      <td>0.0</td>\n",
              "      <td>0.0</td>\n",
              "      <td>120</td>\n",
              "      <td>7767</td>\n",
              "      <td>2690</td>\n",
              "      <td>flow=From-Botnet-V42-TCP-Established</td>\n",
              "      <td>1.0</td>\n",
              "    </tr>\n",
              "  </tbody>\n",
              "</table>\n",
              "</div>"
            ],
            "text/plain": [
              "                         StartTime  ...  Malicious\n",
              "675537  2011/08/10 11:04:24.863449  ...        1.0\n",
              "675872  2011/08/10 11:04:27.118993  ...        1.0\n",
              "675877  2011/08/10 11:04:27.140727  ...        1.0\n",
              "689920  2011/08/10 11:06:23.268442  ...        1.0\n",
              "689955  2011/08/10 11:06:23.606888  ...        1.0\n",
              "\n",
              "[5 rows x 16 columns]"
            ]
          },
          "metadata": {
            "tags": []
          }
        },
        {
          "output_type": "display_data",
          "data": {
            "text/html": [
              "<div>\n",
              "<style scoped>\n",
              "    .dataframe tbody tr th:only-of-type {\n",
              "        vertical-align: middle;\n",
              "    }\n",
              "\n",
              "    .dataframe tbody tr th {\n",
              "        vertical-align: top;\n",
              "    }\n",
              "\n",
              "    .dataframe thead th {\n",
              "        text-align: right;\n",
              "    }\n",
              "</style>\n",
              "<table border=\"1\" class=\"dataframe\">\n",
              "  <thead>\n",
              "    <tr style=\"text-align: right;\">\n",
              "      <th></th>\n",
              "      <th>StartTime</th>\n",
              "      <th>Dur</th>\n",
              "      <th>Proto</th>\n",
              "      <th>SrcAddr</th>\n",
              "      <th>Sport</th>\n",
              "      <th>Dir</th>\n",
              "      <th>DstAddr</th>\n",
              "      <th>Dport</th>\n",
              "      <th>State</th>\n",
              "      <th>sTos</th>\n",
              "      <th>dTos</th>\n",
              "      <th>TotPkts</th>\n",
              "      <th>TotBytes</th>\n",
              "      <th>SrcBytes</th>\n",
              "      <th>Label</th>\n",
              "      <th>Malicious</th>\n",
              "    </tr>\n",
              "  </thead>\n",
              "  <tbody>\n",
              "    <tr>\n",
              "      <th>0</th>\n",
              "      <td>2011/08/10 09:46:53.047277</td>\n",
              "      <td>3550.182373</td>\n",
              "      <td>udp</td>\n",
              "      <td>212.50.71.179</td>\n",
              "      <td>39678</td>\n",
              "      <td>&lt;-&gt;</td>\n",
              "      <td>147.32.84.229</td>\n",
              "      <td>13363</td>\n",
              "      <td>CON</td>\n",
              "      <td>0.0</td>\n",
              "      <td>0.0</td>\n",
              "      <td>12</td>\n",
              "      <td>875</td>\n",
              "      <td>413</td>\n",
              "      <td>flow=Background-UDP-Established</td>\n",
              "      <td>0.0</td>\n",
              "    </tr>\n",
              "    <tr>\n",
              "      <th>1</th>\n",
              "      <td>2011/08/10 09:46:53.048843</td>\n",
              "      <td>0.000883</td>\n",
              "      <td>udp</td>\n",
              "      <td>84.13.246.132</td>\n",
              "      <td>28431</td>\n",
              "      <td>&lt;-&gt;</td>\n",
              "      <td>147.32.84.229</td>\n",
              "      <td>13363</td>\n",
              "      <td>CON</td>\n",
              "      <td>0.0</td>\n",
              "      <td>0.0</td>\n",
              "      <td>2</td>\n",
              "      <td>135</td>\n",
              "      <td>75</td>\n",
              "      <td>flow=Background-UDP-Established</td>\n",
              "      <td>0.0</td>\n",
              "    </tr>\n",
              "    <tr>\n",
              "      <th>2</th>\n",
              "      <td>2011/08/10 09:46:53.049895</td>\n",
              "      <td>0.000326</td>\n",
              "      <td>tcp</td>\n",
              "      <td>217.163.21.35</td>\n",
              "      <td>80</td>\n",
              "      <td>&lt;?&gt;</td>\n",
              "      <td>147.32.86.194</td>\n",
              "      <td>2063</td>\n",
              "      <td>FA_A</td>\n",
              "      <td>0.0</td>\n",
              "      <td>0.0</td>\n",
              "      <td>2</td>\n",
              "      <td>120</td>\n",
              "      <td>60</td>\n",
              "      <td>flow=Background</td>\n",
              "      <td>0.0</td>\n",
              "    </tr>\n",
              "    <tr>\n",
              "      <th>3</th>\n",
              "      <td>2011/08/10 09:46:53.053771</td>\n",
              "      <td>0.056966</td>\n",
              "      <td>tcp</td>\n",
              "      <td>83.3.77.74</td>\n",
              "      <td>32882</td>\n",
              "      <td>&lt;?&gt;</td>\n",
              "      <td>147.32.85.5</td>\n",
              "      <td>21857</td>\n",
              "      <td>FA_FA</td>\n",
              "      <td>0.0</td>\n",
              "      <td>0.0</td>\n",
              "      <td>3</td>\n",
              "      <td>180</td>\n",
              "      <td>120</td>\n",
              "      <td>flow=Background</td>\n",
              "      <td>0.0</td>\n",
              "    </tr>\n",
              "    <tr>\n",
              "      <th>4</th>\n",
              "      <td>2011/08/10 09:46:53.053937</td>\n",
              "      <td>3427.768066</td>\n",
              "      <td>udp</td>\n",
              "      <td>74.89.223.204</td>\n",
              "      <td>21278</td>\n",
              "      <td>&lt;-&gt;</td>\n",
              "      <td>147.32.84.229</td>\n",
              "      <td>13363</td>\n",
              "      <td>CON</td>\n",
              "      <td>0.0</td>\n",
              "      <td>0.0</td>\n",
              "      <td>42</td>\n",
              "      <td>2856</td>\n",
              "      <td>1596</td>\n",
              "      <td>flow=Background-UDP-Established</td>\n",
              "      <td>0.0</td>\n",
              "    </tr>\n",
              "  </tbody>\n",
              "</table>\n",
              "</div>"
            ],
            "text/plain": [
              "                    StartTime  ...  Malicious\n",
              "0  2011/08/10 09:46:53.047277  ...        0.0\n",
              "1  2011/08/10 09:46:53.048843  ...        0.0\n",
              "2  2011/08/10 09:46:53.049895  ...        0.0\n",
              "3  2011/08/10 09:46:53.053771  ...        0.0\n",
              "4  2011/08/10 09:46:53.053937  ...        0.0\n",
              "\n",
              "[5 rows x 16 columns]"
            ]
          },
          "metadata": {
            "tags": []
          }
        }
      ]
    },
    {
      "cell_type": "code",
      "metadata": {
        "colab": {
          "base_uri": "https://localhost:8080/"
        },
        "id": "Jz5LNX32GI7Q",
        "outputId": "330b80ed-96cd-4982-fed8-6d60294c7b13"
      },
      "source": [
        "# Too many to one-hot encode, not worth it for now\n",
        "scenario_df.State.unique()"
      ],
      "execution_count": null,
      "outputs": [
        {
          "output_type": "execute_result",
          "data": {
            "text/plain": [
              "array(['CON', 'FA_A', 'FA_FA', 'PA_PA', 'FPA_FRPA', 'FPA_RPA',\n",
              "       'FSPA_FSPA', 'PA_A', 'FA_RA', 'PA_FRA', 'FRPA_FPA', 'FPA_FA', 'A_',\n",
              "       'INT', 'FA_', 'S_SA', 'RPA_RPA', 'FPA_FPA', 'PA_RPA', 'FSPA_FSRPA',\n",
              "       'S_', 'SA_R', 'SRPA_SPA', 'SRA_SA', 'FPA_', 'RPA_PA', 'URP',\n",
              "       'SRPA_FSRPA', 'FRPA_PA', 'URN', 'PA_', 'FA_FPA', 'SPA_FSPA',\n",
              "       'PA_FRPA', 'PA_PAC', 'PA_FPA', 'FSRPA_FSPA', 'FRPA_RA', 'TXD',\n",
              "       'RA_FA', 'FRA_', 'ECO', 'FRA_FPA', 'SRPA_FSPA', 'URH', 'SA_',\n",
              "       'SRPA_SRA', 'FSA_FSA', 'RPA_FPA', 'FSRPA_SPA', 'S_RA', 'PA_R',\n",
              "       'RA_A', 'RED', 'RA_', 'SPA_SRPA', 'FA_R', 'RA_FPA', 'A_PA', 'ECR',\n",
              "       'FSPA_FSRA', 'SPA_SPA', 'FSRPA_FSRPA', 'SRA_FSA', 'FPA_PA',\n",
              "       'SR_SA', 'FRPA_RPA', 'FPA_RA', 'FPA_FRA', 'FSPA_FSA', 'FRA_FA',\n",
              "       'URFIL', '_FSPA', 'R_', 'FA_FRPA', 'SPA_FSRPA', 'FA_FRA',\n",
              "       'RPA_FRPA', 'RPA_R', 'A_A', 'A_RA', 'SRPA_SA', 'SRA_RA',\n",
              "       'FSPA_SPA', 'RPAC_PA', 'SPA_SRA', 'FSPAC_FSPA', 'PA_RA', 'FRPA_FA',\n",
              "       'SR_A', 'A_R', 'SRPA_SRPA', 'RSP', '_FSA', 'URHPRO', 'FSRA_FSA',\n",
              "       'FPA_R', 'SR_', 'FSRPA_SA', '_SRA', 'FSPA_SRPA', 'SA_FSA', 'FRPA_',\n",
              "       'SPA_SA', 'FPA_A', 'FSRPA_FSA', '_SPA', 'FS_SA', 'SR_RA',\n",
              "       'FSRA_SA', 'SA_SRA', 'FSA_SRA', 'FRPA_FRPA', 'SRPA_FSA',\n",
              "       'SPAC_SPA', 'URF', 'SA_RA', 'FRA_R', 'FSPA_SRA', '_SRPA',\n",
              "       'SPA_FSRA', 'S_SRA', 'FSA_FSRA', 'NNS', 'FSRPA_SRPA', 'S_FRA',\n",
              "       'SR_SRA', 'NRS', 'FSA_FSPA', 'SRA_', 'FAU_R', 'FS_', 'FSRPAE_FSPA',\n",
              "       'FSRPAEC_FSPA', 'FSRA_FSPA', 'FSPA_SA', 'FSAU_SA', 'FSR_SA', 'DNP',\n",
              "       'FSRPAC_FSPA', 'SRA_SRA', 'FSRPA_FSRA', 'FSPA_FSPAC', 'FSA_SA',\n",
              "       '_SA', 'FSRPA_SRA', 'FSAU_FSA', 'URO', 'RA_S', 'SA_RPA', 'SEC_',\n",
              "       'RPA_', 'SA_SPA', 'S_R', 'SRA_FSPA', 'SPAC_SRPA', 'SPAC_FSPA',\n",
              "       'SA_FSPA', 'A_RPE', 'SRC', 'S_RPA', 'SRPAC_FSPA', 'SRPA_FSRA',\n",
              "       'FSPAC_FSRPA', 'FSPA_FSRPAC', nan, 'REQ', 'FSPAC_FSA',\n",
              "       'FSPAC_FSRA', 'DCE', 'FPA_FSPA', 'SRPAC_SPA', '_PA', 'SA_SA',\n",
              "       'SR_FSA', 'SPA_SRPAC', 'FSPAC_SRPA', 'FSRA_SRA', 'SEC_RA', '_R',\n",
              "       'FSRPAC_FSRPA', 'SA_SRPA', 'PAC_RPA', 'FSAU_SRA', 'FSA_', 'RPA_A',\n",
              "       'RA_PA', 'URNPRO', 'SRA_SPA', 'FSRPAE_FSA', '_FPA', 'SPAC_FSRPA',\n",
              "       'SRPA_SPAC', 'FRPA_FSPA', 'FSPA_FPA', 'SPA_', 'SA_FSRA',\n",
              "       'RPA_FSPA', 'FSAU_FSRA', 'FSPA_FA', 'SPA_FSA', 'FSPAC_SRA',\n",
              "       'FSA_FPA', 'MRQ', 'SA_FSRPA', 'S_FA', 'FSRPAC_SPA', 'FRA_PA',\n",
              "       '_FRPA', 'SREC_SA', 'A_RPA', 'PAC_PA', 'SA_FR', 'FSRA_FSRPA',\n",
              "       'FSPAC_SPA', 'UNK', 'FSRA_SPA', 'FSA_FSRPA', '_FA', '_FSRPA',\n",
              "       'S_A', 'FPAC_FPA', 'FPA_FSRPA', 'FSRA_FSRA', 'SRPA_FSPAC', 'SA_A',\n",
              "       'PA_SRA', 'FSRAU_FSA', '_RA', 'FSPAEC_FSPAE', 'FRPA_R', 'PA_FSPA',\n",
              "       'FPA_FPAC', 'FPA_FRPAC', 'RPA_FA', 'FRPAC_FPA', 'FRA_A', 'S_FSPA',\n",
              "       'SPA_RPA', 'FSPA_FRA', 'SRE_', 'FSRAEC_FSPA', 'RPA_SPA', 'A_FA',\n",
              "       'FSPAEC_FSPA', 'SRPA_PA', 'FSA_FA', 'FA_FSA', 'SRPA_FPA',\n",
              "       'SPAEC_FSRPA', 'FRE_', 'S_SPA', 'PA_SA', 'SRA_R', 'A_FRA', 'F_',\n",
              "       'SA_FA', 'FSPA_SRAC', 'FSRPAC_SRPA', 'FSRAUC_SA', 'FSRA_',\n",
              "       'FSRPA_FSRPAC', 'PA_SRPA', 'FSR_', 'SRA_FSRA', 'SPAEC_SRPA',\n",
              "       'FSPA_', 'SRA_PA', 'SRAE_SA', 'R_PA', 'FSRPAC_FSA', 'R_FPA',\n",
              "       'SRPAEC_SAE', 'SPAEC_FSPAE', 'FSRPAC_FSRA', 'IRQ', 'SEC_SA',\n",
              "       'FSAEC_FSPAE', '_A', 'FSAEC_FSA', 'FAU_', 'SRE_SA', 'TST',\n",
              "       'SPA_SPAC', 'PA_FRPAC', 'FSA_SPA', 'S_RAC', 'A_FRPE', 'RUE_',\n",
              "       'SR_FRA', 'FSPA_A', 'AU_', 'SRAEC_FSA', 'RA_RA', 'A_FPA',\n",
              "       'FSRPAEC_SPA', 'SP_SA', 'FSRPAEC_FSRPA', 'SRA_RPA', 'SRAEC_FSPA',\n",
              "       'FR_', 'PA_FPAC', 'FA_RPA', 'FSA_R', '_', 'FSPAEC_FSA', 'FSPAC_SA',\n",
              "       'RA_R', 'FSRPA_SPAC', 'RPA_PAC', 'FSRPA_FSPAC', 'FSPAU_FSPA',\n",
              "       'FPA_SRPA', 'FRPA_FRA', 'SRA_FPA', 'RC_', 'R_FA', 'PAR', 'S_FPA',\n",
              "       'FA_FSPA', 'FPA_SA', 'FSPA_PA', 'SREC_SAE', 'FSPU_', 'FPU_', 'MAS',\n",
              "       'TSR', 'RTA', 'RTS', 'IRR', 'MSR', 'AHA', 'ROB', 'WAY', 'NRA',\n",
              "       'SKP', 'MRP', 'MHR', 'IAH', 'SEC', 'UR', 'NNA', 'TRC', 'PHO',\n",
              "       'FSPAC_FSPAC', 'FPAC_FRPA', 'PA_SPA', 'SRPA_FRPA', 'FRPA_A',\n",
              "       'FRA_RA', 'FRA_RPA', 'SRPA_', 'FSRA_FA', 'FSRAEC_SPA', 'FSRAC_SPA',\n",
              "       '_RPA', 'FRA_FRPA', 'SPA_FA', 'FRPA_FPAC', 'SPA_R', 'SRA_FA',\n",
              "       'FSRPA_FPA', 'RPA_FSA', 'FSPA_FRPA', 'RPA_FSRPA', 'SRC_SA',\n",
              "       'FRPA_SPA', 'RA_RPA', 'SPA_PA', 'FSA_A', 'SRAE_RA', 'PA_FA',\n",
              "       'FA_PA', 'RPA_RA', 'SRPAC_SRPA', 'SPAEC_SPA', 'FRPAC_PA', 'A_FSPE',\n",
              "       'SRPAEC_FSPA', 'SREC_', 'SA_S', 'FPA_SPA', 'FPA_FSA', 'FSA_FRPA',\n",
              "       'SR_FSPA', 'S_SRPA', 'SA_FPA', 'RA_FRPA', 'SRC_', 'SPA_FPA',\n",
              "       'RPA_SRA', 'RE_', 'PA_FSA', 'FSPAEC_SPA', 'PA_FSRPA',\n",
              "       'SRPAC_FSRPA', 'DNQ', 'URNU', 'PTB', 'A_SPA', 'SPA_A', 'A_SA',\n",
              "       'SA_PA', 'A_SRPA', 'FSA_PA', 'RA_SA', 'A_SRA', 'RPA_SA', 'FRA_SPA',\n",
              "       'S_FSA', 'SPA_RA', 'A_FSA', 'SA_FRA', 'FA_SA', 'S_PA', 'FSPA_RPA',\n",
              "       'SRPA_RPA', 'PA_FSRA', 'FSPAC_FA', 'FA_SRA', '_S', 'FSA_FRA',\n",
              "       'FSRA_SRPA', 'RA_SPA', 'FSRA_FPA', 'SR_FPA', 'FSRA_PA', 'A_FSPA',\n",
              "       'SRA_A', 'FPA_SRA', 'URHU', 'URS', 'URISO', 'URHTOS', 'URPRE',\n",
              "       'URCUT', 'SRPA_FSRPAC', 'FPA_FSRA', 'RPA_SRPA', 'FAU_RA',\n",
              "       'SPA_FRPA', 'FRA_FPAC', 'FRA_FRA', 'SRAEC_SA', 'RA_FRA',\n",
              "       'FSRAE_FSA', 'A_AE', 'FSRAEC_FSA', 'SRPAEC_SPA', 'A_FSRPE',\n",
              "       'SRA_FSRPA', 'FSPAEC_FSRA', 'FPA_PAC', 'FSPA_R', 'SR_RPA', 'FS_RA'],\n",
              "      dtype=object)"
            ]
          },
          "metadata": {
            "tags": []
          },
          "execution_count": 16
        }
      ]
    },
    {
      "cell_type": "code",
      "metadata": {
        "id": "2BS7SoY5FVVk"
      },
      "source": [
        "# This is a very bulky dataframe, to save space I am going to drop any columns that I do not plan to utilize in the models.\n",
        "\n",
        "scenario_df.drop(['StartTime', 'SrcAddr', 'Sport', 'Dir', 'DstAddr', 'Dport', 'State', 'sTos', 'dTos', 'Label'], axis = 1, inplace = True)"
      ],
      "execution_count": null,
      "outputs": []
    },
    {
      "cell_type": "code",
      "metadata": {
        "colab": {
          "base_uri": "https://localhost:8080/",
          "height": 391
        },
        "id": "H5UsMvfXUaw6",
        "outputId": "8912daba-19d9-4c40-d0a5-962953abb138"
      },
      "source": [
        "scenario_df"
      ],
      "execution_count": null,
      "outputs": [
        {
          "output_type": "execute_result",
          "data": {
            "text/html": [
              "<div>\n",
              "<style scoped>\n",
              "    .dataframe tbody tr th:only-of-type {\n",
              "        vertical-align: middle;\n",
              "    }\n",
              "\n",
              "    .dataframe tbody tr th {\n",
              "        vertical-align: top;\n",
              "    }\n",
              "\n",
              "    .dataframe thead th {\n",
              "        text-align: right;\n",
              "    }\n",
              "</style>\n",
              "<table border=\"1\" class=\"dataframe\">\n",
              "  <thead>\n",
              "    <tr style=\"text-align: right;\">\n",
              "      <th></th>\n",
              "      <th>Dur</th>\n",
              "      <th>Proto</th>\n",
              "      <th>TotPkts</th>\n",
              "      <th>TotBytes</th>\n",
              "      <th>SrcBytes</th>\n",
              "      <th>Malicious</th>\n",
              "    </tr>\n",
              "  </thead>\n",
              "  <tbody>\n",
              "    <tr>\n",
              "      <th>0</th>\n",
              "      <td>3550.182373</td>\n",
              "      <td>udp</td>\n",
              "      <td>12</td>\n",
              "      <td>875</td>\n",
              "      <td>413</td>\n",
              "      <td>0.0</td>\n",
              "    </tr>\n",
              "    <tr>\n",
              "      <th>1</th>\n",
              "      <td>0.000883</td>\n",
              "      <td>udp</td>\n",
              "      <td>2</td>\n",
              "      <td>135</td>\n",
              "      <td>75</td>\n",
              "      <td>0.0</td>\n",
              "    </tr>\n",
              "    <tr>\n",
              "      <th>2</th>\n",
              "      <td>0.000326</td>\n",
              "      <td>tcp</td>\n",
              "      <td>2</td>\n",
              "      <td>120</td>\n",
              "      <td>60</td>\n",
              "      <td>0.0</td>\n",
              "    </tr>\n",
              "    <tr>\n",
              "      <th>3</th>\n",
              "      <td>0.056966</td>\n",
              "      <td>tcp</td>\n",
              "      <td>3</td>\n",
              "      <td>180</td>\n",
              "      <td>120</td>\n",
              "      <td>0.0</td>\n",
              "    </tr>\n",
              "    <tr>\n",
              "      <th>4</th>\n",
              "      <td>3427.768066</td>\n",
              "      <td>udp</td>\n",
              "      <td>42</td>\n",
              "      <td>2856</td>\n",
              "      <td>1596</td>\n",
              "      <td>0.0</td>\n",
              "    </tr>\n",
              "    <tr>\n",
              "      <th>...</th>\n",
              "      <td>...</td>\n",
              "      <td>...</td>\n",
              "      <td>...</td>\n",
              "      <td>...</td>\n",
              "      <td>...</td>\n",
              "      <td>...</td>\n",
              "    </tr>\n",
              "    <tr>\n",
              "      <th>19976695</th>\n",
              "      <td>0.000000</td>\n",
              "      <td>udp</td>\n",
              "      <td>1</td>\n",
              "      <td>476</td>\n",
              "      <td>476</td>\n",
              "      <td>0.0</td>\n",
              "    </tr>\n",
              "    <tr>\n",
              "      <th>19976696</th>\n",
              "      <td>0.000427</td>\n",
              "      <td>udp</td>\n",
              "      <td>2</td>\n",
              "      <td>135</td>\n",
              "      <td>75</td>\n",
              "      <td>0.0</td>\n",
              "    </tr>\n",
              "    <tr>\n",
              "      <th>19976697</th>\n",
              "      <td>0.000000</td>\n",
              "      <td>udp</td>\n",
              "      <td>1</td>\n",
              "      <td>476</td>\n",
              "      <td>476</td>\n",
              "      <td>0.0</td>\n",
              "    </tr>\n",
              "    <tr>\n",
              "      <th>19976698</th>\n",
              "      <td>0.000000</td>\n",
              "      <td>udp</td>\n",
              "      <td>1</td>\n",
              "      <td>476</td>\n",
              "      <td>476</td>\n",
              "      <td>0.0</td>\n",
              "    </tr>\n",
              "    <tr>\n",
              "      <th>19976699</th>\n",
              "      <td>0.000008</td>\n",
              "      <td>tcp</td>\n",
              "      <td>2</td>\n",
              "      <td>140</td>\n",
              "      <td>140</td>\n",
              "      <td>0.0</td>\n",
              "    </tr>\n",
              "  </tbody>\n",
              "</table>\n",
              "<p>19976700 rows × 6 columns</p>\n",
              "</div>"
            ],
            "text/plain": [
              "                  Dur Proto  TotPkts  TotBytes  SrcBytes  Malicious\n",
              "0         3550.182373   udp       12       875       413        0.0\n",
              "1            0.000883   udp        2       135        75        0.0\n",
              "2            0.000326   tcp        2       120        60        0.0\n",
              "3            0.056966   tcp        3       180       120        0.0\n",
              "4         3427.768066   udp       42      2856      1596        0.0\n",
              "...               ...   ...      ...       ...       ...        ...\n",
              "19976695     0.000000   udp        1       476       476        0.0\n",
              "19976696     0.000427   udp        2       135        75        0.0\n",
              "19976697     0.000000   udp        1       476       476        0.0\n",
              "19976698     0.000000   udp        1       476       476        0.0\n",
              "19976699     0.000008   tcp        2       140       140        0.0\n",
              "\n",
              "[19976700 rows x 6 columns]"
            ]
          },
          "metadata": {
            "tags": []
          },
          "execution_count": 10
        }
      ]
    },
    {
      "cell_type": "code",
      "metadata": {
        "id": "ki8qNK80vGKA"
      },
      "source": [
        "# Saving the scenarios dataframe to my drive for easy access in the future. I will likely do this for the training/testing data splits later on as well so I don't have to pull this goliath dataset every time I want to train. \n",
        "with open('/content/drive/My Drive/scenarios.csv', 'w') as f:\n",
        "  scenario_df.to_csv(f, header = True, index = False)"
      ],
      "execution_count": null,
      "outputs": []
    },
    {
      "cell_type": "code",
      "metadata": {
        "id": "OiKef3U0C717"
      },
      "source": [
        "scenarios = pd.read_csv('scenarios.csv', error_bad_lines=False, index_col=False, dtype='unicode')"
      ],
      "execution_count": 6,
      "outputs": []
    },
    {
      "cell_type": "code",
      "metadata": {
        "colab": {
          "base_uri": "https://localhost:8080/",
          "height": 391
        },
        "id": "k_OY5BxYEH0t",
        "outputId": "c6d3e895-73c4-4933-8baf-0a5cc12a6b29"
      },
      "source": [
        "scenarios"
      ],
      "execution_count": null,
      "outputs": [
        {
          "output_type": "execute_result",
          "data": {
            "text/html": [
              "<div>\n",
              "<style scoped>\n",
              "    .dataframe tbody tr th:only-of-type {\n",
              "        vertical-align: middle;\n",
              "    }\n",
              "\n",
              "    .dataframe tbody tr th {\n",
              "        vertical-align: top;\n",
              "    }\n",
              "\n",
              "    .dataframe thead th {\n",
              "        text-align: right;\n",
              "    }\n",
              "</style>\n",
              "<table border=\"1\" class=\"dataframe\">\n",
              "  <thead>\n",
              "    <tr style=\"text-align: right;\">\n",
              "      <th></th>\n",
              "      <th>Dur</th>\n",
              "      <th>Proto</th>\n",
              "      <th>TotPkts</th>\n",
              "      <th>TotBytes</th>\n",
              "      <th>SrcBytes</th>\n",
              "      <th>Malicious</th>\n",
              "    </tr>\n",
              "  </thead>\n",
              "  <tbody>\n",
              "    <tr>\n",
              "      <th>0</th>\n",
              "      <td>3550.1823729999996</td>\n",
              "      <td>udp</td>\n",
              "      <td>12</td>\n",
              "      <td>875</td>\n",
              "      <td>413</td>\n",
              "      <td>0.0</td>\n",
              "    </tr>\n",
              "    <tr>\n",
              "      <th>1</th>\n",
              "      <td>0.000883</td>\n",
              "      <td>udp</td>\n",
              "      <td>2</td>\n",
              "      <td>135</td>\n",
              "      <td>75</td>\n",
              "      <td>0.0</td>\n",
              "    </tr>\n",
              "    <tr>\n",
              "      <th>2</th>\n",
              "      <td>0.00032599999999999996</td>\n",
              "      <td>tcp</td>\n",
              "      <td>2</td>\n",
              "      <td>120</td>\n",
              "      <td>60</td>\n",
              "      <td>0.0</td>\n",
              "    </tr>\n",
              "    <tr>\n",
              "      <th>3</th>\n",
              "      <td>0.056965999999999996</td>\n",
              "      <td>tcp</td>\n",
              "      <td>3</td>\n",
              "      <td>180</td>\n",
              "      <td>120</td>\n",
              "      <td>0.0</td>\n",
              "    </tr>\n",
              "    <tr>\n",
              "      <th>4</th>\n",
              "      <td>3427.7680659999996</td>\n",
              "      <td>udp</td>\n",
              "      <td>42</td>\n",
              "      <td>2856</td>\n",
              "      <td>1596</td>\n",
              "      <td>0.0</td>\n",
              "    </tr>\n",
              "    <tr>\n",
              "      <th>...</th>\n",
              "      <td>...</td>\n",
              "      <td>...</td>\n",
              "      <td>...</td>\n",
              "      <td>...</td>\n",
              "      <td>...</td>\n",
              "      <td>...</td>\n",
              "    </tr>\n",
              "    <tr>\n",
              "      <th>19976695</th>\n",
              "      <td>0.0</td>\n",
              "      <td>udp</td>\n",
              "      <td>1</td>\n",
              "      <td>476</td>\n",
              "      <td>476</td>\n",
              "      <td>0.0</td>\n",
              "    </tr>\n",
              "    <tr>\n",
              "      <th>19976696</th>\n",
              "      <td>0.00042699999999999997</td>\n",
              "      <td>udp</td>\n",
              "      <td>2</td>\n",
              "      <td>135</td>\n",
              "      <td>75</td>\n",
              "      <td>0.0</td>\n",
              "    </tr>\n",
              "    <tr>\n",
              "      <th>19976697</th>\n",
              "      <td>0.0</td>\n",
              "      <td>udp</td>\n",
              "      <td>1</td>\n",
              "      <td>476</td>\n",
              "      <td>476</td>\n",
              "      <td>0.0</td>\n",
              "    </tr>\n",
              "    <tr>\n",
              "      <th>19976698</th>\n",
              "      <td>0.0</td>\n",
              "      <td>udp</td>\n",
              "      <td>1</td>\n",
              "      <td>476</td>\n",
              "      <td>476</td>\n",
              "      <td>0.0</td>\n",
              "    </tr>\n",
              "    <tr>\n",
              "      <th>19976699</th>\n",
              "      <td>8e-06</td>\n",
              "      <td>tcp</td>\n",
              "      <td>2</td>\n",
              "      <td>140</td>\n",
              "      <td>140</td>\n",
              "      <td>0.0</td>\n",
              "    </tr>\n",
              "  </tbody>\n",
              "</table>\n",
              "<p>19976700 rows × 6 columns</p>\n",
              "</div>"
            ],
            "text/plain": [
              "                             Dur Proto TotPkts TotBytes SrcBytes Malicious\n",
              "0             3550.1823729999996   udp      12      875      413       0.0\n",
              "1                       0.000883   udp       2      135       75       0.0\n",
              "2         0.00032599999999999996   tcp       2      120       60       0.0\n",
              "3           0.056965999999999996   tcp       3      180      120       0.0\n",
              "4             3427.7680659999996   udp      42     2856     1596       0.0\n",
              "...                          ...   ...     ...      ...      ...       ...\n",
              "19976695                     0.0   udp       1      476      476       0.0\n",
              "19976696  0.00042699999999999997   udp       2      135       75       0.0\n",
              "19976697                     0.0   udp       1      476      476       0.0\n",
              "19976698                     0.0   udp       1      476      476       0.0\n",
              "19976699                   8e-06   tcp       2      140      140       0.0\n",
              "\n",
              "[19976700 rows x 6 columns]"
            ]
          },
          "metadata": {
            "tags": []
          },
          "execution_count": 7
        }
      ]
    },
    {
      "cell_type": "code",
      "metadata": {
        "colab": {
          "base_uri": "https://localhost:8080/",
          "height": 391
        },
        "id": "3cmXl-IaViUp",
        "outputId": "292d529e-f46b-4f9a-b186-331f21e8772d"
      },
      "source": [
        "# Time for one hot encoding of Proto. Usually I'd do this before making a permanent file, but just running the setup files eats most of a colab session worth of memory, so this will have to do\n",
        "\n",
        "Proto_dummy = pd.get_dummies(scenarios.Proto)\n",
        "scenarios = pd.concat([scenarios, Proto_dummy], axis = 1)\n",
        "scenarios"
      ],
      "execution_count": null,
      "outputs": [
        {
          "output_type": "execute_result",
          "data": {
            "text/html": [
              "<div>\n",
              "<style scoped>\n",
              "    .dataframe tbody tr th:only-of-type {\n",
              "        vertical-align: middle;\n",
              "    }\n",
              "\n",
              "    .dataframe tbody tr th {\n",
              "        vertical-align: top;\n",
              "    }\n",
              "\n",
              "    .dataframe thead th {\n",
              "        text-align: right;\n",
              "    }\n",
              "</style>\n",
              "<table border=\"1\" class=\"dataframe\">\n",
              "  <thead>\n",
              "    <tr style=\"text-align: right;\">\n",
              "      <th></th>\n",
              "      <th>Dur</th>\n",
              "      <th>Proto</th>\n",
              "      <th>TotPkts</th>\n",
              "      <th>TotBytes</th>\n",
              "      <th>SrcBytes</th>\n",
              "      <th>Malicious</th>\n",
              "      <th>arp</th>\n",
              "      <th>esp</th>\n",
              "      <th>gre</th>\n",
              "      <th>icmp</th>\n",
              "      <th>igmp</th>\n",
              "      <th>ipnip</th>\n",
              "      <th>ipv6</th>\n",
              "      <th>ipv6-icmp</th>\n",
              "      <th>ipx/spx</th>\n",
              "      <th>llc</th>\n",
              "      <th>pim</th>\n",
              "      <th>rarp</th>\n",
              "      <th>rsvp</th>\n",
              "      <th>rtcp</th>\n",
              "      <th>rtp</th>\n",
              "      <th>tcp</th>\n",
              "      <th>udp</th>\n",
              "      <th>udt</th>\n",
              "      <th>unas</th>\n",
              "    </tr>\n",
              "  </thead>\n",
              "  <tbody>\n",
              "    <tr>\n",
              "      <th>0</th>\n",
              "      <td>3550.1823729999996</td>\n",
              "      <td>udp</td>\n",
              "      <td>12</td>\n",
              "      <td>875</td>\n",
              "      <td>413</td>\n",
              "      <td>0.0</td>\n",
              "      <td>0</td>\n",
              "      <td>0</td>\n",
              "      <td>0</td>\n",
              "      <td>0</td>\n",
              "      <td>0</td>\n",
              "      <td>0</td>\n",
              "      <td>0</td>\n",
              "      <td>0</td>\n",
              "      <td>0</td>\n",
              "      <td>0</td>\n",
              "      <td>0</td>\n",
              "      <td>0</td>\n",
              "      <td>0</td>\n",
              "      <td>0</td>\n",
              "      <td>0</td>\n",
              "      <td>0</td>\n",
              "      <td>1</td>\n",
              "      <td>0</td>\n",
              "      <td>0</td>\n",
              "    </tr>\n",
              "    <tr>\n",
              "      <th>1</th>\n",
              "      <td>0.000883</td>\n",
              "      <td>udp</td>\n",
              "      <td>2</td>\n",
              "      <td>135</td>\n",
              "      <td>75</td>\n",
              "      <td>0.0</td>\n",
              "      <td>0</td>\n",
              "      <td>0</td>\n",
              "      <td>0</td>\n",
              "      <td>0</td>\n",
              "      <td>0</td>\n",
              "      <td>0</td>\n",
              "      <td>0</td>\n",
              "      <td>0</td>\n",
              "      <td>0</td>\n",
              "      <td>0</td>\n",
              "      <td>0</td>\n",
              "      <td>0</td>\n",
              "      <td>0</td>\n",
              "      <td>0</td>\n",
              "      <td>0</td>\n",
              "      <td>0</td>\n",
              "      <td>1</td>\n",
              "      <td>0</td>\n",
              "      <td>0</td>\n",
              "    </tr>\n",
              "    <tr>\n",
              "      <th>2</th>\n",
              "      <td>0.00032599999999999996</td>\n",
              "      <td>tcp</td>\n",
              "      <td>2</td>\n",
              "      <td>120</td>\n",
              "      <td>60</td>\n",
              "      <td>0.0</td>\n",
              "      <td>0</td>\n",
              "      <td>0</td>\n",
              "      <td>0</td>\n",
              "      <td>0</td>\n",
              "      <td>0</td>\n",
              "      <td>0</td>\n",
              "      <td>0</td>\n",
              "      <td>0</td>\n",
              "      <td>0</td>\n",
              "      <td>0</td>\n",
              "      <td>0</td>\n",
              "      <td>0</td>\n",
              "      <td>0</td>\n",
              "      <td>0</td>\n",
              "      <td>0</td>\n",
              "      <td>1</td>\n",
              "      <td>0</td>\n",
              "      <td>0</td>\n",
              "      <td>0</td>\n",
              "    </tr>\n",
              "    <tr>\n",
              "      <th>3</th>\n",
              "      <td>0.056965999999999996</td>\n",
              "      <td>tcp</td>\n",
              "      <td>3</td>\n",
              "      <td>180</td>\n",
              "      <td>120</td>\n",
              "      <td>0.0</td>\n",
              "      <td>0</td>\n",
              "      <td>0</td>\n",
              "      <td>0</td>\n",
              "      <td>0</td>\n",
              "      <td>0</td>\n",
              "      <td>0</td>\n",
              "      <td>0</td>\n",
              "      <td>0</td>\n",
              "      <td>0</td>\n",
              "      <td>0</td>\n",
              "      <td>0</td>\n",
              "      <td>0</td>\n",
              "      <td>0</td>\n",
              "      <td>0</td>\n",
              "      <td>0</td>\n",
              "      <td>1</td>\n",
              "      <td>0</td>\n",
              "      <td>0</td>\n",
              "      <td>0</td>\n",
              "    </tr>\n",
              "    <tr>\n",
              "      <th>4</th>\n",
              "      <td>3427.7680659999996</td>\n",
              "      <td>udp</td>\n",
              "      <td>42</td>\n",
              "      <td>2856</td>\n",
              "      <td>1596</td>\n",
              "      <td>0.0</td>\n",
              "      <td>0</td>\n",
              "      <td>0</td>\n",
              "      <td>0</td>\n",
              "      <td>0</td>\n",
              "      <td>0</td>\n",
              "      <td>0</td>\n",
              "      <td>0</td>\n",
              "      <td>0</td>\n",
              "      <td>0</td>\n",
              "      <td>0</td>\n",
              "      <td>0</td>\n",
              "      <td>0</td>\n",
              "      <td>0</td>\n",
              "      <td>0</td>\n",
              "      <td>0</td>\n",
              "      <td>0</td>\n",
              "      <td>1</td>\n",
              "      <td>0</td>\n",
              "      <td>0</td>\n",
              "    </tr>\n",
              "    <tr>\n",
              "      <th>...</th>\n",
              "      <td>...</td>\n",
              "      <td>...</td>\n",
              "      <td>...</td>\n",
              "      <td>...</td>\n",
              "      <td>...</td>\n",
              "      <td>...</td>\n",
              "      <td>...</td>\n",
              "      <td>...</td>\n",
              "      <td>...</td>\n",
              "      <td>...</td>\n",
              "      <td>...</td>\n",
              "      <td>...</td>\n",
              "      <td>...</td>\n",
              "      <td>...</td>\n",
              "      <td>...</td>\n",
              "      <td>...</td>\n",
              "      <td>...</td>\n",
              "      <td>...</td>\n",
              "      <td>...</td>\n",
              "      <td>...</td>\n",
              "      <td>...</td>\n",
              "      <td>...</td>\n",
              "      <td>...</td>\n",
              "      <td>...</td>\n",
              "      <td>...</td>\n",
              "    </tr>\n",
              "    <tr>\n",
              "      <th>19976695</th>\n",
              "      <td>0.0</td>\n",
              "      <td>udp</td>\n",
              "      <td>1</td>\n",
              "      <td>476</td>\n",
              "      <td>476</td>\n",
              "      <td>0.0</td>\n",
              "      <td>0</td>\n",
              "      <td>0</td>\n",
              "      <td>0</td>\n",
              "      <td>0</td>\n",
              "      <td>0</td>\n",
              "      <td>0</td>\n",
              "      <td>0</td>\n",
              "      <td>0</td>\n",
              "      <td>0</td>\n",
              "      <td>0</td>\n",
              "      <td>0</td>\n",
              "      <td>0</td>\n",
              "      <td>0</td>\n",
              "      <td>0</td>\n",
              "      <td>0</td>\n",
              "      <td>0</td>\n",
              "      <td>1</td>\n",
              "      <td>0</td>\n",
              "      <td>0</td>\n",
              "    </tr>\n",
              "    <tr>\n",
              "      <th>19976696</th>\n",
              "      <td>0.00042699999999999997</td>\n",
              "      <td>udp</td>\n",
              "      <td>2</td>\n",
              "      <td>135</td>\n",
              "      <td>75</td>\n",
              "      <td>0.0</td>\n",
              "      <td>0</td>\n",
              "      <td>0</td>\n",
              "      <td>0</td>\n",
              "      <td>0</td>\n",
              "      <td>0</td>\n",
              "      <td>0</td>\n",
              "      <td>0</td>\n",
              "      <td>0</td>\n",
              "      <td>0</td>\n",
              "      <td>0</td>\n",
              "      <td>0</td>\n",
              "      <td>0</td>\n",
              "      <td>0</td>\n",
              "      <td>0</td>\n",
              "      <td>0</td>\n",
              "      <td>0</td>\n",
              "      <td>1</td>\n",
              "      <td>0</td>\n",
              "      <td>0</td>\n",
              "    </tr>\n",
              "    <tr>\n",
              "      <th>19976697</th>\n",
              "      <td>0.0</td>\n",
              "      <td>udp</td>\n",
              "      <td>1</td>\n",
              "      <td>476</td>\n",
              "      <td>476</td>\n",
              "      <td>0.0</td>\n",
              "      <td>0</td>\n",
              "      <td>0</td>\n",
              "      <td>0</td>\n",
              "      <td>0</td>\n",
              "      <td>0</td>\n",
              "      <td>0</td>\n",
              "      <td>0</td>\n",
              "      <td>0</td>\n",
              "      <td>0</td>\n",
              "      <td>0</td>\n",
              "      <td>0</td>\n",
              "      <td>0</td>\n",
              "      <td>0</td>\n",
              "      <td>0</td>\n",
              "      <td>0</td>\n",
              "      <td>0</td>\n",
              "      <td>1</td>\n",
              "      <td>0</td>\n",
              "      <td>0</td>\n",
              "    </tr>\n",
              "    <tr>\n",
              "      <th>19976698</th>\n",
              "      <td>0.0</td>\n",
              "      <td>udp</td>\n",
              "      <td>1</td>\n",
              "      <td>476</td>\n",
              "      <td>476</td>\n",
              "      <td>0.0</td>\n",
              "      <td>0</td>\n",
              "      <td>0</td>\n",
              "      <td>0</td>\n",
              "      <td>0</td>\n",
              "      <td>0</td>\n",
              "      <td>0</td>\n",
              "      <td>0</td>\n",
              "      <td>0</td>\n",
              "      <td>0</td>\n",
              "      <td>0</td>\n",
              "      <td>0</td>\n",
              "      <td>0</td>\n",
              "      <td>0</td>\n",
              "      <td>0</td>\n",
              "      <td>0</td>\n",
              "      <td>0</td>\n",
              "      <td>1</td>\n",
              "      <td>0</td>\n",
              "      <td>0</td>\n",
              "    </tr>\n",
              "    <tr>\n",
              "      <th>19976699</th>\n",
              "      <td>8e-06</td>\n",
              "      <td>tcp</td>\n",
              "      <td>2</td>\n",
              "      <td>140</td>\n",
              "      <td>140</td>\n",
              "      <td>0.0</td>\n",
              "      <td>0</td>\n",
              "      <td>0</td>\n",
              "      <td>0</td>\n",
              "      <td>0</td>\n",
              "      <td>0</td>\n",
              "      <td>0</td>\n",
              "      <td>0</td>\n",
              "      <td>0</td>\n",
              "      <td>0</td>\n",
              "      <td>0</td>\n",
              "      <td>0</td>\n",
              "      <td>0</td>\n",
              "      <td>0</td>\n",
              "      <td>0</td>\n",
              "      <td>0</td>\n",
              "      <td>1</td>\n",
              "      <td>0</td>\n",
              "      <td>0</td>\n",
              "      <td>0</td>\n",
              "    </tr>\n",
              "  </tbody>\n",
              "</table>\n",
              "<p>19976700 rows × 25 columns</p>\n",
              "</div>"
            ],
            "text/plain": [
              "                             Dur Proto TotPkts TotBytes  ... tcp udp  udt  unas\n",
              "0             3550.1823729999996   udp      12      875  ...   0   1    0     0\n",
              "1                       0.000883   udp       2      135  ...   0   1    0     0\n",
              "2         0.00032599999999999996   tcp       2      120  ...   1   0    0     0\n",
              "3           0.056965999999999996   tcp       3      180  ...   1   0    0     0\n",
              "4             3427.7680659999996   udp      42     2856  ...   0   1    0     0\n",
              "...                          ...   ...     ...      ...  ...  ..  ..  ...   ...\n",
              "19976695                     0.0   udp       1      476  ...   0   1    0     0\n",
              "19976696  0.00042699999999999997   udp       2      135  ...   0   1    0     0\n",
              "19976697                     0.0   udp       1      476  ...   0   1    0     0\n",
              "19976698                     0.0   udp       1      476  ...   0   1    0     0\n",
              "19976699                   8e-06   tcp       2      140  ...   1   0    0     0\n",
              "\n",
              "[19976700 rows x 25 columns]"
            ]
          },
          "metadata": {
            "tags": []
          },
          "execution_count": 8
        }
      ]
    },
    {
      "cell_type": "code",
      "metadata": {
        "id": "JRBkuKliYJMX"
      },
      "source": [
        "scenarios.drop(['Proto'], axis = 1, inplace = True)"
      ],
      "execution_count": null,
      "outputs": []
    },
    {
      "cell_type": "code",
      "metadata": {
        "id": "sgZUP5LMX0dW"
      },
      "source": [
        "# Time to save the updated version\n",
        "with open('/content/drive/My Drive/scenarios_1h.csv', 'w') as f:\n",
        "  scenarios.to_csv(f, header = True, index = False)"
      ],
      "execution_count": null,
      "outputs": []
    },
    {
      "cell_type": "code",
      "metadata": {
        "id": "JxEUn_YzY6-y"
      },
      "source": [
        "# Yay, we can finally build models....hopefully\n",
        "scenarios_1h = pd.read_csv('scenarios_1h.csv', error_bad_lines=False, index_col=False, dtype='unicode')"
      ],
      "execution_count": 5,
      "outputs": []
    },
    {
      "cell_type": "code",
      "metadata": {
        "colab": {
          "base_uri": "https://localhost:8080/",
          "height": 191
        },
        "id": "AVmxfeKJblAl",
        "outputId": "61965d5a-bd7f-484d-ce25-a821cad54916"
      },
      "source": [
        "scenarios_1h.head()"
      ],
      "execution_count": 5,
      "outputs": [
        {
          "output_type": "execute_result",
          "data": {
            "text/html": [
              "<div>\n",
              "<style scoped>\n",
              "    .dataframe tbody tr th:only-of-type {\n",
              "        vertical-align: middle;\n",
              "    }\n",
              "\n",
              "    .dataframe tbody tr th {\n",
              "        vertical-align: top;\n",
              "    }\n",
              "\n",
              "    .dataframe thead th {\n",
              "        text-align: right;\n",
              "    }\n",
              "</style>\n",
              "<table border=\"1\" class=\"dataframe\">\n",
              "  <thead>\n",
              "    <tr style=\"text-align: right;\">\n",
              "      <th></th>\n",
              "      <th>Dur</th>\n",
              "      <th>TotPkts</th>\n",
              "      <th>TotBytes</th>\n",
              "      <th>SrcBytes</th>\n",
              "      <th>Malicious</th>\n",
              "      <th>arp</th>\n",
              "      <th>esp</th>\n",
              "      <th>gre</th>\n",
              "      <th>icmp</th>\n",
              "      <th>igmp</th>\n",
              "      <th>ipnip</th>\n",
              "      <th>ipv6</th>\n",
              "      <th>ipv6-icmp</th>\n",
              "      <th>ipx/spx</th>\n",
              "      <th>llc</th>\n",
              "      <th>pim</th>\n",
              "      <th>rarp</th>\n",
              "      <th>rsvp</th>\n",
              "      <th>rtcp</th>\n",
              "      <th>rtp</th>\n",
              "      <th>tcp</th>\n",
              "      <th>udp</th>\n",
              "      <th>udt</th>\n",
              "      <th>unas</th>\n",
              "    </tr>\n",
              "  </thead>\n",
              "  <tbody>\n",
              "    <tr>\n",
              "      <th>0</th>\n",
              "      <td>3550.1823729999996</td>\n",
              "      <td>12</td>\n",
              "      <td>875</td>\n",
              "      <td>413</td>\n",
              "      <td>0.0</td>\n",
              "      <td>0</td>\n",
              "      <td>0</td>\n",
              "      <td>0</td>\n",
              "      <td>0</td>\n",
              "      <td>0</td>\n",
              "      <td>0</td>\n",
              "      <td>0</td>\n",
              "      <td>0</td>\n",
              "      <td>0</td>\n",
              "      <td>0</td>\n",
              "      <td>0</td>\n",
              "      <td>0</td>\n",
              "      <td>0</td>\n",
              "      <td>0</td>\n",
              "      <td>0</td>\n",
              "      <td>0</td>\n",
              "      <td>1</td>\n",
              "      <td>0</td>\n",
              "      <td>0</td>\n",
              "    </tr>\n",
              "    <tr>\n",
              "      <th>1</th>\n",
              "      <td>0.000883</td>\n",
              "      <td>2</td>\n",
              "      <td>135</td>\n",
              "      <td>75</td>\n",
              "      <td>0.0</td>\n",
              "      <td>0</td>\n",
              "      <td>0</td>\n",
              "      <td>0</td>\n",
              "      <td>0</td>\n",
              "      <td>0</td>\n",
              "      <td>0</td>\n",
              "      <td>0</td>\n",
              "      <td>0</td>\n",
              "      <td>0</td>\n",
              "      <td>0</td>\n",
              "      <td>0</td>\n",
              "      <td>0</td>\n",
              "      <td>0</td>\n",
              "      <td>0</td>\n",
              "      <td>0</td>\n",
              "      <td>0</td>\n",
              "      <td>1</td>\n",
              "      <td>0</td>\n",
              "      <td>0</td>\n",
              "    </tr>\n",
              "    <tr>\n",
              "      <th>2</th>\n",
              "      <td>0.00032599999999999996</td>\n",
              "      <td>2</td>\n",
              "      <td>120</td>\n",
              "      <td>60</td>\n",
              "      <td>0.0</td>\n",
              "      <td>0</td>\n",
              "      <td>0</td>\n",
              "      <td>0</td>\n",
              "      <td>0</td>\n",
              "      <td>0</td>\n",
              "      <td>0</td>\n",
              "      <td>0</td>\n",
              "      <td>0</td>\n",
              "      <td>0</td>\n",
              "      <td>0</td>\n",
              "      <td>0</td>\n",
              "      <td>0</td>\n",
              "      <td>0</td>\n",
              "      <td>0</td>\n",
              "      <td>0</td>\n",
              "      <td>1</td>\n",
              "      <td>0</td>\n",
              "      <td>0</td>\n",
              "      <td>0</td>\n",
              "    </tr>\n",
              "    <tr>\n",
              "      <th>3</th>\n",
              "      <td>0.056965999999999996</td>\n",
              "      <td>3</td>\n",
              "      <td>180</td>\n",
              "      <td>120</td>\n",
              "      <td>0.0</td>\n",
              "      <td>0</td>\n",
              "      <td>0</td>\n",
              "      <td>0</td>\n",
              "      <td>0</td>\n",
              "      <td>0</td>\n",
              "      <td>0</td>\n",
              "      <td>0</td>\n",
              "      <td>0</td>\n",
              "      <td>0</td>\n",
              "      <td>0</td>\n",
              "      <td>0</td>\n",
              "      <td>0</td>\n",
              "      <td>0</td>\n",
              "      <td>0</td>\n",
              "      <td>0</td>\n",
              "      <td>1</td>\n",
              "      <td>0</td>\n",
              "      <td>0</td>\n",
              "      <td>0</td>\n",
              "    </tr>\n",
              "    <tr>\n",
              "      <th>4</th>\n",
              "      <td>3427.7680659999996</td>\n",
              "      <td>42</td>\n",
              "      <td>2856</td>\n",
              "      <td>1596</td>\n",
              "      <td>0.0</td>\n",
              "      <td>0</td>\n",
              "      <td>0</td>\n",
              "      <td>0</td>\n",
              "      <td>0</td>\n",
              "      <td>0</td>\n",
              "      <td>0</td>\n",
              "      <td>0</td>\n",
              "      <td>0</td>\n",
              "      <td>0</td>\n",
              "      <td>0</td>\n",
              "      <td>0</td>\n",
              "      <td>0</td>\n",
              "      <td>0</td>\n",
              "      <td>0</td>\n",
              "      <td>0</td>\n",
              "      <td>0</td>\n",
              "      <td>1</td>\n",
              "      <td>0</td>\n",
              "      <td>0</td>\n",
              "    </tr>\n",
              "  </tbody>\n",
              "</table>\n",
              "</div>"
            ],
            "text/plain": [
              "                      Dur TotPkts TotBytes SrcBytes  ... tcp udp udt unas\n",
              "0      3550.1823729999996      12      875      413  ...   0   1   0    0\n",
              "1                0.000883       2      135       75  ...   0   1   0    0\n",
              "2  0.00032599999999999996       2      120       60  ...   1   0   0    0\n",
              "3    0.056965999999999996       3      180      120  ...   1   0   0    0\n",
              "4      3427.7680659999996      42     2856     1596  ...   0   1   0    0\n",
              "\n",
              "[5 rows x 24 columns]"
            ]
          },
          "metadata": {
            "tags": []
          },
          "execution_count": 5
        }
      ]
    },
    {
      "cell_type": "code",
      "metadata": {
        "colab": {
          "base_uri": "https://localhost:8080/"
        },
        "id": "EawZoGoJSTGV",
        "outputId": "275846b5-5c5f-44e9-dcae-76844ac2c5f1"
      },
      "source": [
        "y = scenarios_1h.Malicious\n",
        "\n",
        "target_counts = y.value_counts()\n",
        "num_ones = target_counts[1]\n",
        "print(num_ones)"
      ],
      "execution_count": 6,
      "outputs": [
        {
          "output_type": "stream",
          "text": [
            "444636\n"
          ],
          "name": "stdout"
        }
      ]
    },
    {
      "cell_type": "code",
      "metadata": {
        "id": "TiPrG-8hgJzu"
      },
      "source": [
        "ones = scenarios_1h[scenarios_1h['Malicious'] == '1.0']\n",
        "zeroes = scenarios_1h[scenarios_1h['Malicious'] == '0.0']"
      ],
      "execution_count": 7,
      "outputs": []
    },
    {
      "cell_type": "code",
      "metadata": {
        "colab": {
          "base_uri": "https://localhost:8080/"
        },
        "id": "itVnlQjPhU4U",
        "outputId": "bbff8b49-0dfc-4a7a-8689-564686041529"
      },
      "source": [
        "zeroes_sample = zeroes.sample(n=len(ones))\n",
        "print(f'Num zeroes: {len(zeroes_sample)}')\n",
        "print(f'Num ones: {len(ones)}')"
      ],
      "execution_count": 8,
      "outputs": [
        {
          "output_type": "stream",
          "text": [
            "Num zeroes: 444636\n",
            "Num ones: 444636\n"
          ],
          "name": "stdout"
        }
      ]
    },
    {
      "cell_type": "code",
      "metadata": {
        "id": "CL_aALOghiLH"
      },
      "source": [
        "balanced_df = pd.concat([ones, zeroes.sample(n=len(ones), replace=True)])"
      ],
      "execution_count": 9,
      "outputs": []
    },
    {
      "cell_type": "code",
      "metadata": {
        "colab": {
          "base_uri": "https://localhost:8080/"
        },
        "id": "AFzX8B5Ui1v4",
        "outputId": "0c256e65-2066-41ef-d032-cb96b270f6f4"
      },
      "source": [
        "print(balanced_df['Malicious'].value_counts())"
      ],
      "execution_count": 10,
      "outputs": [
        {
          "output_type": "stream",
          "text": [
            "0.0    444636\n",
            "1.0    444636\n",
            "Name: Malicious, dtype: int64\n"
          ],
          "name": "stdout"
        }
      ]
    },
    {
      "cell_type": "code",
      "metadata": {
        "id": "C2Za0f5nhii3"
      },
      "source": [
        "with open('/content/drive/My Drive/balanced_df.csv', 'w') as f:\n",
        "  balanced_df.to_csv(f, header = True, index = False)"
      ],
      "execution_count": 12,
      "outputs": []
    },
    {
      "cell_type": "markdown",
      "metadata": {
        "id": "fuzpTIMFkByF"
      },
      "source": [
        "**Here is where the modeling actually begins**"
      ]
    },
    {
      "cell_type": "code",
      "metadata": {
        "id": "ksslD25SkJ2Z"
      },
      "source": [
        "balanced_df = pd.read_csv('balanced_df.csv', error_bad_lines=False, index_col=False, dtype='unicode')"
      ],
      "execution_count": null,
      "outputs": []
    },
    {
      "cell_type": "code",
      "metadata": {
        "colab": {
          "base_uri": "https://localhost:8080/",
          "height": 191
        },
        "id": "PgLWpXjekUTe",
        "outputId": "5e43d9f7-43f5-4c39-faeb-0cad8777f010"
      },
      "source": [
        "balanced_df.head()"
      ],
      "execution_count": 14,
      "outputs": [
        {
          "output_type": "execute_result",
          "data": {
            "text/html": [
              "<div>\n",
              "<style scoped>\n",
              "    .dataframe tbody tr th:only-of-type {\n",
              "        vertical-align: middle;\n",
              "    }\n",
              "\n",
              "    .dataframe tbody tr th {\n",
              "        vertical-align: top;\n",
              "    }\n",
              "\n",
              "    .dataframe thead th {\n",
              "        text-align: right;\n",
              "    }\n",
              "</style>\n",
              "<table border=\"1\" class=\"dataframe\">\n",
              "  <thead>\n",
              "    <tr style=\"text-align: right;\">\n",
              "      <th></th>\n",
              "      <th>Dur</th>\n",
              "      <th>TotPkts</th>\n",
              "      <th>TotBytes</th>\n",
              "      <th>SrcBytes</th>\n",
              "      <th>Malicious</th>\n",
              "      <th>arp</th>\n",
              "      <th>esp</th>\n",
              "      <th>gre</th>\n",
              "      <th>icmp</th>\n",
              "      <th>igmp</th>\n",
              "      <th>ipnip</th>\n",
              "      <th>ipv6</th>\n",
              "      <th>ipv6-icmp</th>\n",
              "      <th>ipx/spx</th>\n",
              "      <th>llc</th>\n",
              "      <th>pim</th>\n",
              "      <th>rarp</th>\n",
              "      <th>rsvp</th>\n",
              "      <th>rtcp</th>\n",
              "      <th>rtp</th>\n",
              "      <th>tcp</th>\n",
              "      <th>udp</th>\n",
              "      <th>udt</th>\n",
              "      <th>unas</th>\n",
              "    </tr>\n",
              "  </thead>\n",
              "  <tbody>\n",
              "    <tr>\n",
              "      <th>675537</th>\n",
              "      <td>0.000278</td>\n",
              "      <td>2</td>\n",
              "      <td>203</td>\n",
              "      <td>64</td>\n",
              "      <td>1.0</td>\n",
              "      <td>0</td>\n",
              "      <td>0</td>\n",
              "      <td>0</td>\n",
              "      <td>0</td>\n",
              "      <td>0</td>\n",
              "      <td>0</td>\n",
              "      <td>0</td>\n",
              "      <td>0</td>\n",
              "      <td>0</td>\n",
              "      <td>0</td>\n",
              "      <td>0</td>\n",
              "      <td>0</td>\n",
              "      <td>0</td>\n",
              "      <td>0</td>\n",
              "      <td>0</td>\n",
              "      <td>0</td>\n",
              "      <td>1</td>\n",
              "      <td>0</td>\n",
              "      <td>0</td>\n",
              "    </tr>\n",
              "    <tr>\n",
              "      <th>675872</th>\n",
              "      <td>0.020525</td>\n",
              "      <td>2</td>\n",
              "      <td>590</td>\n",
              "      <td>87</td>\n",
              "      <td>1.0</td>\n",
              "      <td>0</td>\n",
              "      <td>0</td>\n",
              "      <td>0</td>\n",
              "      <td>0</td>\n",
              "      <td>0</td>\n",
              "      <td>0</td>\n",
              "      <td>0</td>\n",
              "      <td>0</td>\n",
              "      <td>0</td>\n",
              "      <td>0</td>\n",
              "      <td>0</td>\n",
              "      <td>0</td>\n",
              "      <td>0</td>\n",
              "      <td>0</td>\n",
              "      <td>0</td>\n",
              "      <td>0</td>\n",
              "      <td>1</td>\n",
              "      <td>0</td>\n",
              "      <td>0</td>\n",
              "    </tr>\n",
              "    <tr>\n",
              "      <th>675877</th>\n",
              "      <td>0.045125</td>\n",
              "      <td>7</td>\n",
              "      <td>882</td>\n",
              "      <td>629</td>\n",
              "      <td>1.0</td>\n",
              "      <td>0</td>\n",
              "      <td>0</td>\n",
              "      <td>0</td>\n",
              "      <td>0</td>\n",
              "      <td>0</td>\n",
              "      <td>0</td>\n",
              "      <td>0</td>\n",
              "      <td>0</td>\n",
              "      <td>0</td>\n",
              "      <td>0</td>\n",
              "      <td>0</td>\n",
              "      <td>0</td>\n",
              "      <td>0</td>\n",
              "      <td>0</td>\n",
              "      <td>0</td>\n",
              "      <td>1</td>\n",
              "      <td>0</td>\n",
              "      <td>0</td>\n",
              "      <td>0</td>\n",
              "    </tr>\n",
              "    <tr>\n",
              "      <th>689920</th>\n",
              "      <td>0.33625</td>\n",
              "      <td>2</td>\n",
              "      <td>215</td>\n",
              "      <td>71</td>\n",
              "      <td>1.0</td>\n",
              "      <td>0</td>\n",
              "      <td>0</td>\n",
              "      <td>0</td>\n",
              "      <td>0</td>\n",
              "      <td>0</td>\n",
              "      <td>0</td>\n",
              "      <td>0</td>\n",
              "      <td>0</td>\n",
              "      <td>0</td>\n",
              "      <td>0</td>\n",
              "      <td>0</td>\n",
              "      <td>0</td>\n",
              "      <td>0</td>\n",
              "      <td>0</td>\n",
              "      <td>0</td>\n",
              "      <td>0</td>\n",
              "      <td>1</td>\n",
              "      <td>0</td>\n",
              "      <td>0</td>\n",
              "    </tr>\n",
              "    <tr>\n",
              "      <th>689955</th>\n",
              "      <td>3514.083496</td>\n",
              "      <td>120</td>\n",
              "      <td>7767</td>\n",
              "      <td>2690</td>\n",
              "      <td>1.0</td>\n",
              "      <td>0</td>\n",
              "      <td>0</td>\n",
              "      <td>0</td>\n",
              "      <td>0</td>\n",
              "      <td>0</td>\n",
              "      <td>0</td>\n",
              "      <td>0</td>\n",
              "      <td>0</td>\n",
              "      <td>0</td>\n",
              "      <td>0</td>\n",
              "      <td>0</td>\n",
              "      <td>0</td>\n",
              "      <td>0</td>\n",
              "      <td>0</td>\n",
              "      <td>0</td>\n",
              "      <td>1</td>\n",
              "      <td>0</td>\n",
              "      <td>0</td>\n",
              "      <td>0</td>\n",
              "    </tr>\n",
              "  </tbody>\n",
              "</table>\n",
              "</div>"
            ],
            "text/plain": [
              "                Dur TotPkts TotBytes SrcBytes Malicious  ... rtp tcp udp udt unas\n",
              "675537     0.000278       2      203       64       1.0  ...   0   0   1   0    0\n",
              "675872     0.020525       2      590       87       1.0  ...   0   0   1   0    0\n",
              "675877     0.045125       7      882      629       1.0  ...   0   1   0   0    0\n",
              "689920      0.33625       2      215       71       1.0  ...   0   0   1   0    0\n",
              "689955  3514.083496     120     7767     2690       1.0  ...   0   1   0   0    0\n",
              "\n",
              "[5 rows x 24 columns]"
            ]
          },
          "metadata": {
            "tags": []
          },
          "execution_count": 14
        }
      ]
    },
    {
      "cell_type": "code",
      "metadata": {
        "id": "ohy9KjWUbnFu"
      },
      "source": [
        "y = balanced_df.Malicious\n",
        "features = ['Dur', 'TotPkts', 'TotBytes', 'SrcBytes', 'arp', 'esp', 'gre', 'icmp', 'igmp', 'ipnip', 'ipv6', 'ipv6-icmp', 'ipx/spx', 'llc', 'pim', 'rarp', 'rsvp', 'rtcp', 'rtp', 'tcp', 'udp', 'udt', 'unas']\n",
        "X = balanced_df[features].copy()"
      ],
      "execution_count": 15,
      "outputs": []
    },
    {
      "cell_type": "code",
      "metadata": {
        "id": "tX9e5AmMgaNq"
      },
      "source": [
        "X_train, X_test, y_train, y_test = train_test_split(X,y, train_size = 0.8, test_size = 0.2, random_state = 1)"
      ],
      "execution_count": 16,
      "outputs": []
    },
    {
      "cell_type": "code",
      "metadata": {
        "id": "MegTDSfSkwQA"
      },
      "source": [
        "def get_f1(max_leaf_nodes, X_train, X_test, y_train, y_test):\n",
        "    model = RandomForestClassifier(max_leaf_nodes=max_leaf_nodes, random_state=1)\n",
        "    model.fit(X_train, y_train)\n",
        "    predictions = model.predict(X_test)\n",
        "    f1 = f1_score(y_test, predictions, pos_label = '1.0')\n",
        "    return(f1)"
      ],
      "execution_count": 27,
      "outputs": []
    },
    {
      "cell_type": "code",
      "metadata": {
        "colab": {
          "base_uri": "https://localhost:8080/"
        },
        "id": "bMXEjCirlVFl",
        "outputId": "6d57ce9e-18f2-44ce-c9c3-454778ba3476"
      },
      "source": [
        "for max_leaf_nodes in [5, 50, 500, 5000]:\n",
        "    my_f1 = get_f1(max_leaf_nodes, X_train, X_test, y_train, y_test)\n",
        "    print(max_leaf_nodes, my_f1)"
      ],
      "execution_count": 29,
      "outputs": [
        {
          "output_type": "stream",
          "text": [
            "5 0.7738615509771647\n",
            "50 0.9146942829429224\n",
            "500 0.9497373833523143\n",
            "5000 0.9647219822992967\n"
          ],
          "name": "stdout"
        }
      ]
    },
    {
      "cell_type": "code",
      "metadata": {
        "id": "0koH7nX5p74L"
      },
      "source": [
        "def get_roc_auc(max_leaf_nodes, X_train, X_test, y_train, y_test):\n",
        "    model = RandomForestClassifier(max_leaf_nodes=max_leaf_nodes, random_state=1)\n",
        "    model.fit(X_train, y_train)\n",
        "    predictions = model.predict(X_test)\n",
        "    roc_auc = roc_auc_score(y_test, predictions)\n",
        "    return(roc_auc)\n"
      ],
      "execution_count": 37,
      "outputs": []
    },
    {
      "cell_type": "code",
      "metadata": {
        "colab": {
          "base_uri": "https://localhost:8080/"
        },
        "id": "P43EQw7isZaW",
        "outputId": "47a06171-197b-4e01-9de9-9ce370c896bd"
      },
      "source": [
        "for max_leaf_nodes in [5, 50, 500, 5000]:\n",
        "    my_roc_auc = get_roc_auc(max_leaf_nodes, X_train, X_test, y_train, y_test)\n",
        "    print(max_leaf_nodes, my_roc_auc)"
      ],
      "execution_count": 38,
      "outputs": [
        {
          "output_type": "stream",
          "text": [
            "5 0.7986040692553122\n",
            "50 0.9174901655836563\n",
            "500 0.9501417486984085\n",
            "5000 0.9646330305380658\n"
          ],
          "name": "stdout"
        }
      ]
    },
    {
      "cell_type": "markdown",
      "metadata": {
        "id": "rNI-mYIlujLY"
      },
      "source": [
        "GridSearchCV was another way that I could search for the optimal parameters, but given the very solid roc_auc and f1 scores seen here, I do not believe it is necessary, but for optimal model performance you would want to take the time.\n",
        "\n",
        "https://towardsdatascience.com/optimizing-hyperparameters-in-random-forest-classification-ec7741f9d3f6"
      ]
    },
    {
      "cell_type": "code",
      "metadata": {
        "colab": {
          "base_uri": "https://localhost:8080/"
        },
        "id": "UJoPQytm6ckG",
        "outputId": "6ca423de-126a-4253-cee3-4383213c134c"
      },
      "source": [
        "classifier_1 = RandomForestClassifier(max_leaf_nodes=500, random_state = 1)\n",
        "\n",
        "classifier_1.fit(X_train, y_train)"
      ],
      "execution_count": 39,
      "outputs": [
        {
          "output_type": "execute_result",
          "data": {
            "text/plain": [
              "RandomForestClassifier(bootstrap=True, ccp_alpha=0.0, class_weight=None,\n",
              "                       criterion='gini', max_depth=None, max_features='auto',\n",
              "                       max_leaf_nodes=500, max_samples=None,\n",
              "                       min_impurity_decrease=0.0, min_impurity_split=None,\n",
              "                       min_samples_leaf=1, min_samples_split=2,\n",
              "                       min_weight_fraction_leaf=0.0, n_estimators=100,\n",
              "                       n_jobs=None, oob_score=False, random_state=1, verbose=0,\n",
              "                       warm_start=False)"
            ]
          },
          "metadata": {
            "tags": []
          },
          "execution_count": 39
        }
      ]
    },
    {
      "cell_type": "markdown",
      "metadata": {
        "id": "tX1CwhKAv48k"
      },
      "source": [
        "**Model Validation Metrics**\n"
      ]
    },
    {
      "cell_type": "code",
      "metadata": {
        "colab": {
          "base_uri": "https://localhost:8080/"
        },
        "id": "ere4XuSWwZSL",
        "outputId": "1489d005-6b2f-4e92-e129-102f08e66784"
      },
      "source": [
        "predictions = classifier_1.predict(X_test)\n",
        "\n",
        "accuracy_score(y_test, predictions)"
      ],
      "execution_count": 40,
      "outputs": [
        {
          "output_type": "execute_result",
          "data": {
            "text/plain": [
              "0.9501222906300076"
            ]
          },
          "metadata": {
            "tags": []
          },
          "execution_count": 40
        }
      ]
    },
    {
      "cell_type": "code",
      "metadata": {
        "colab": {
          "base_uri": "https://localhost:8080/"
        },
        "id": "l-3j84cZwy2B",
        "outputId": "3188f3f5-e058-4793-bb2b-56dde7607413"
      },
      "source": [
        "f1_score(y_test, predictions, pos_label = '1.0')"
      ],
      "execution_count": 41,
      "outputs": [
        {
          "output_type": "execute_result",
          "data": {
            "text/plain": [
              "0.9497373833523143"
            ]
          },
          "metadata": {
            "tags": []
          },
          "execution_count": 41
        }
      ]
    },
    {
      "cell_type": "code",
      "metadata": {
        "colab": {
          "base_uri": "https://localhost:8080/"
        },
        "id": "oVQCNYBcvdcz",
        "outputId": "63a992e6-6ea2-451a-cdf7-449ebc305baa"
      },
      "source": [
        "roc_auc_score(y_test, predictions)"
      ],
      "execution_count": 42,
      "outputs": [
        {
          "output_type": "execute_result",
          "data": {
            "text/plain": [
              "0.9501417486984085"
            ]
          },
          "metadata": {
            "tags": []
          },
          "execution_count": 42
        }
      ]
    },
    {
      "cell_type": "code",
      "metadata": {
        "colab": {
          "base_uri": "https://localhost:8080/",
          "height": 105
        },
        "id": "Hj4WmrZX2jMn",
        "outputId": "082da986-e1b8-4aec-c7df-6526bfc25208"
      },
      "source": [
        "labels = np.unique(y_test)\n",
        "cm = confusion_matrix(y_test, predictions, labels=labels)\n",
        "pd.DataFrame(cm, index=labels, columns=labels)"
      ],
      "execution_count": 43,
      "outputs": [
        {
          "output_type": "execute_result",
          "data": {
            "text/html": [
              "<div>\n",
              "<style scoped>\n",
              "    .dataframe tbody tr th:only-of-type {\n",
              "        vertical-align: middle;\n",
              "    }\n",
              "\n",
              "    .dataframe tbody tr th {\n",
              "        vertical-align: top;\n",
              "    }\n",
              "\n",
              "    .dataframe thead th {\n",
              "        text-align: right;\n",
              "    }\n",
              "</style>\n",
              "<table border=\"1\" class=\"dataframe\">\n",
              "  <thead>\n",
              "    <tr style=\"text-align: right;\">\n",
              "      <th></th>\n",
              "      <th>0.0</th>\n",
              "      <th>1.0</th>\n",
              "    </tr>\n",
              "  </thead>\n",
              "  <tbody>\n",
              "    <tr>\n",
              "      <th>0.0</th>\n",
              "      <td>85173</td>\n",
              "      <td>3574</td>\n",
              "    </tr>\n",
              "    <tr>\n",
              "      <th>1.0</th>\n",
              "      <td>5297</td>\n",
              "      <td>83811</td>\n",
              "    </tr>\n",
              "  </tbody>\n",
              "</table>\n",
              "</div>"
            ],
            "text/plain": [
              "       0.0    1.0\n",
              "0.0  85173   3574\n",
              "1.0   5297  83811"
            ]
          },
          "metadata": {
            "tags": []
          },
          "execution_count": 43
        }
      ]
    },
    {
      "cell_type": "markdown",
      "metadata": {
        "id": "8CCC_kfewHMF"
      },
      "source": [
        "**Exploring the Black Box**"
      ]
    },
    {
      "cell_type": "code",
      "metadata": {
        "colab": {
          "base_uri": "https://localhost:8080/",
          "height": 892
        },
        "id": "713u7ok52Ooh",
        "outputId": "d1465341-20fb-4fbe-817a-c5595098eb14"
      },
      "source": [
        "importances = classifier_1.feature_importances_\n",
        "indices = np.argsort(importances)\n",
        "\n",
        "plt.figure(figsize=(20,15))\n",
        "plt.title('Feature Importances')\n",
        "plt.barh(range(len(indices)), importances[indices], color='b', align='center')\n",
        "plt.yticks(range(len(indices)), [features[i] for i in indices])\n",
        "plt.xlabel('Relative Importance')\n",
        "plt.show()"
      ],
      "execution_count": 44,
      "outputs": [
        {
          "output_type": "display_data",
          "data": {
            "image/png": "[encoded data removed]",
            "text/plain": [
              "<Figure size 1440x1080 with 1 Axes>"
            ]
          },
          "metadata": {
            "tags": [],
            "needs_background": "light"
          }
        }
      ]
    }
  ]
}