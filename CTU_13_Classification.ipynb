{
  "nbformat": 4,
  "nbformat_minor": 0,
  "metadata": {
    "colab": {
      "name": "CTU-13 Classification.ipynb",
      "provenance": [],
      "authorship_tag": "ABX9TyMqtieYjGbG8yn///zYFSrm",
      "include_colab_link": true
    },
    "kernelspec": {
      "name": "python3",
      "display_name": "Python 3"
    }
  },
  "cells": [
    {
      "cell_type": "markdown",
      "metadata": {
        "id": "view-in-github",
        "colab_type": "text"
      },
      "source": [
        "<a href=\"https://colab.research.google.com/github/NeilCollinsMS/CTU-13-Classification/blob/main/CTU_13_Classification.ipynb\" target=\"_parent\"><img src=\"https://colab.research.google.com/assets/colab-badge.svg\" alt=\"Open In Colab\"/></a>"
      ]
    },
    {
      "cell_type": "markdown",
      "metadata": {
        "id": "g-v9ttM__Yhd"
      },
      "source": [
        "**CTU-13 Classification Project**"
      ]
    },
    {
      "cell_type": "code",
      "metadata": {
        "id": "LaRnxc9FNrA8"
      },
      "source": [
        "# Import Libraries \r\n",
        "import pandas as pd\r\n",
        "import numpy as np\r\n",
        "from sklearn.model_selection import train_test_split\r\n",
        "from sklearn.ensemble import RandomForestClassifier"
      ],
      "execution_count": 2,
      "outputs": []
    },
    {
      "cell_type": "code",
      "metadata": {
        "id": "kiaTeiV9Pjal"
      },
      "source": [
        "# Load publicly accessible CTU-13 bidirectional netflow files into pandas dataframes. \r\n",
        "# Initially, I ran some .head() commands to make sure the data properly imported, but to avoid clutter, I will condense all of the file reading into one singular cell.\r\n",
        "# If you want to look at the dataframes just type scenario_# (dataframe names) into a cell and you'll get a combo of heads/tails in Google Colab.\r\n",
        "\r\n",
        "# Unfortunately, Google Colab hosts notebooks on virtual machines that it recycles every time the notebook disconnects. However, since each VM has limited RAM only run the necessary files.\r\n",
        "\r\n",
        "# scenario_1 = pd.read_csv('https://mcfp.felk.cvut.cz/publicDatasets/CTU-Malware-Capture-Botnet-42/detailed-bidirectional-flow-labels/capture20110810.binetflow')\r\n",
        "# scenario_2 = pd.read_csv('https://mcfp.felk.cvut.cz/publicDatasets/CTU-Malware-Capture-Botnet-43/detailed-bidirectional-flow-labels/capture20110811.binetflow')\r\n",
        "# scenario_3 = pd.read_csv('https://mcfp.felk.cvut.cz/publicDatasets/CTU-Malware-Capture-Botnet-44/detailed-bidirectional-flow-labels/capture20110812.binetflow')\r\n",
        "# scenario_4 = pd.read_csv('https://mcfp.felk.cvut.cz/publicDatasets/CTU-Malware-Capture-Botnet-45/detailed-bidirectional-flow-labels/capture20110815.binetflow')\r\n",
        "# scenario_5 = pd.read_csv('https://mcfp.felk.cvut.cz/publicDatasets/CTU-Malware-Capture-Botnet-46/detailed-bidirectional-flow-labels/capture20110815-2.binetflow')\r\n",
        "# scenario_6 = pd.read_csv('https://mcfp.felk.cvut.cz/publicDatasets/CTU-Malware-Capture-Botnet-47/detailed-bidirectional-flow-labels/capture20110816.binetflow')\r\n",
        "# scenario_7 = pd.read_csv('https://mcfp.felk.cvut.cz/publicDatasets/CTU-Malware-Capture-Botnet-48/detailed-bidirectional-flow-labels/capture20110816-2.binetflow')\r\n",
        "# scenario_8 = pd.read_csv('https://mcfp.felk.cvut.cz/publicDatasets/CTU-Malware-Capture-Botnet-49/detailed-bidirectional-flow-labels/capture20110816-3.binetflow')\r\n",
        "# scenario_9 = pd.read_csv('https://mcfp.felk.cvut.cz/publicDatasets/CTU-Malware-Capture-Botnet-50/detailed-bidirectional-flow-labels/capture20110817.binetflow')\r\n",
        "# scenario_10 = pd.read_csv('https://mcfp.felk.cvut.cz/publicDatasets/CTU-Malware-Capture-Botnet-51/detailed-bidirectional-flow-labels/capture20110818.binetflow')\r\n",
        "# scenario_11 = pd.read_csv('https://mcfp.felk.cvut.cz/publicDatasets/CTU-Malware-Capture-Botnet-52/detailed-bidirectional-flow-labels/capture20110818-2.binetflow')\r\n",
        "# scenario_12 = pd.read_csv('https://mcfp.felk.cvut.cz/publicDatasets/CTU-Malware-Capture-Botnet-53/detailed-bidirectional-flow-labels/capture20110819.binetflow')\r\n",
        "# scenario_13 = pd.read_csv('https://mcfp.felk.cvut.cz/publicDatasets/CTU-Malware-Capture-Botnet-54/detailed-bidirectional-flow-labels/capture20110815-3.binetflow')"
      ],
      "execution_count": 46,
      "outputs": []
    },
    {
      "cell_type": "code",
      "metadata": {
        "id": "yRe0VwOoG9Sr"
      },
      "source": [
        "# Running all 13 scenarios takes a lot of RAM, so I am only using one at a time to not exceed Colab's RAM limit\r\n",
        "scenario_1 = pd.read_csv('https://mcfp.felk.cvut.cz/publicDatasets/CTU-Malware-Capture-Botnet-42/detailed-bidirectional-flow-labels/capture20110810.binetflow')"
      ],
      "execution_count": 3,
      "outputs": []
    },
    {
      "cell_type": "code",
      "metadata": {
        "id": "Vm1jKCSFsVWf"
      },
      "source": [
        "# Generate binary malicious target column\r\n",
        "scenario_1.loc[scenario_1['SrcAddr'] == '147.32.84.165', 'Malicious'] = 1\r\n",
        "scenario_1.loc[scenario_1['SrcAddr'] != '147.32.84.165', 'Malicious'] = 0"
      ],
      "execution_count": 4,
      "outputs": []
    },
    {
      "cell_type": "code",
      "metadata": {
        "colab": {
          "base_uri": "https://localhost:8080/",
          "height": 565
        },
        "id": "YCFfjWa743Pi",
        "outputId": "695b3827-f4f5-423c-b653-ebca89cdacf0"
      },
      "source": [
        "# Checking to make sure that binary assignments worked\r\n",
        "display(scenario_1.loc[scenario_1['SrcAddr'] == '147.32.84.165'])\r\n",
        "display(scenario_1.head())"
      ],
      "execution_count": 5,
      "outputs": [
        {
          "output_type": "display_data",
          "data": {
            "text/html": [
              "<div>\n",
              "<style scoped>\n",
              "    .dataframe tbody tr th:only-of-type {\n",
              "        vertical-align: middle;\n",
              "    }\n",
              "\n",
              "    .dataframe tbody tr th {\n",
              "        vertical-align: top;\n",
              "    }\n",
              "\n",
              "    .dataframe thead th {\n",
              "        text-align: right;\n",
              "    }\n",
              "</style>\n",
              "<table border=\"1\" class=\"dataframe\">\n",
              "  <thead>\n",
              "    <tr style=\"text-align: right;\">\n",
              "      <th></th>\n",
              "      <th>StartTime</th>\n",
              "      <th>Dur</th>\n",
              "      <th>Proto</th>\n",
              "      <th>SrcAddr</th>\n",
              "      <th>Sport</th>\n",
              "      <th>Dir</th>\n",
              "      <th>DstAddr</th>\n",
              "      <th>Dport</th>\n",
              "      <th>State</th>\n",
              "      <th>sTos</th>\n",
              "      <th>dTos</th>\n",
              "      <th>TotPkts</th>\n",
              "      <th>TotBytes</th>\n",
              "      <th>SrcBytes</th>\n",
              "      <th>Label</th>\n",
              "      <th>Malicious</th>\n",
              "    </tr>\n",
              "  </thead>\n",
              "  <tbody>\n",
              "    <tr>\n",
              "      <th>675537</th>\n",
              "      <td>2011/08/10 11:04:24.863449</td>\n",
              "      <td>0.000278</td>\n",
              "      <td>udp</td>\n",
              "      <td>147.32.84.165</td>\n",
              "      <td>1025</td>\n",
              "      <td>&lt;-&gt;</td>\n",
              "      <td>147.32.80.9</td>\n",
              "      <td>53</td>\n",
              "      <td>CON</td>\n",
              "      <td>0.0</td>\n",
              "      <td>0.0</td>\n",
              "      <td>2</td>\n",
              "      <td>203</td>\n",
              "      <td>64</td>\n",
              "      <td>flow=From-Botnet-V42-UDP-DNS</td>\n",
              "      <td>1.0</td>\n",
              "    </tr>\n",
              "    <tr>\n",
              "      <th>675872</th>\n",
              "      <td>2011/08/10 11:04:27.118993</td>\n",
              "      <td>0.020525</td>\n",
              "      <td>udp</td>\n",
              "      <td>147.32.84.165</td>\n",
              "      <td>1025</td>\n",
              "      <td>&lt;-&gt;</td>\n",
              "      <td>147.32.80.9</td>\n",
              "      <td>53</td>\n",
              "      <td>CON</td>\n",
              "      <td>0.0</td>\n",
              "      <td>0.0</td>\n",
              "      <td>2</td>\n",
              "      <td>590</td>\n",
              "      <td>87</td>\n",
              "      <td>flow=From-Botnet-V42-UDP-DNS</td>\n",
              "      <td>1.0</td>\n",
              "    </tr>\n",
              "    <tr>\n",
              "      <th>675877</th>\n",
              "      <td>2011/08/10 11:04:27.140727</td>\n",
              "      <td>0.045125</td>\n",
              "      <td>tcp</td>\n",
              "      <td>147.32.84.165</td>\n",
              "      <td>1027</td>\n",
              "      <td>-&gt;</td>\n",
              "      <td>74.125.232.195</td>\n",
              "      <td>80</td>\n",
              "      <td>SRPA_SPA</td>\n",
              "      <td>0.0</td>\n",
              "      <td>0.0</td>\n",
              "      <td>7</td>\n",
              "      <td>882</td>\n",
              "      <td>629</td>\n",
              "      <td>flow=From-Botnet-V42-TCP-HTTP-Google-Net-Estab...</td>\n",
              "      <td>1.0</td>\n",
              "    </tr>\n",
              "    <tr>\n",
              "      <th>689920</th>\n",
              "      <td>2011/08/10 11:06:23.268442</td>\n",
              "      <td>0.336250</td>\n",
              "      <td>udp</td>\n",
              "      <td>147.32.84.165</td>\n",
              "      <td>1025</td>\n",
              "      <td>&lt;-&gt;</td>\n",
              "      <td>147.32.80.9</td>\n",
              "      <td>53</td>\n",
              "      <td>CON</td>\n",
              "      <td>0.0</td>\n",
              "      <td>0.0</td>\n",
              "      <td>2</td>\n",
              "      <td>215</td>\n",
              "      <td>71</td>\n",
              "      <td>flow=From-Botnet-V42-UDP-DNS</td>\n",
              "      <td>1.0</td>\n",
              "    </tr>\n",
              "    <tr>\n",
              "      <th>689955</th>\n",
              "      <td>2011/08/10 11:06:23.606888</td>\n",
              "      <td>3514.083496</td>\n",
              "      <td>tcp</td>\n",
              "      <td>147.32.84.165</td>\n",
              "      <td>1039</td>\n",
              "      <td>-&gt;</td>\n",
              "      <td>60.190.222.139</td>\n",
              "      <td>65520</td>\n",
              "      <td>SPA_SPA</td>\n",
              "      <td>0.0</td>\n",
              "      <td>0.0</td>\n",
              "      <td>120</td>\n",
              "      <td>7767</td>\n",
              "      <td>2690</td>\n",
              "      <td>flow=From-Botnet-V42-TCP-Established</td>\n",
              "      <td>1.0</td>\n",
              "    </tr>\n",
              "    <tr>\n",
              "      <th>...</th>\n",
              "      <td>...</td>\n",
              "      <td>...</td>\n",
              "      <td>...</td>\n",
              "      <td>...</td>\n",
              "      <td>...</td>\n",
              "      <td>...</td>\n",
              "      <td>...</td>\n",
              "      <td>...</td>\n",
              "      <td>...</td>\n",
              "      <td>...</td>\n",
              "      <td>...</td>\n",
              "      <td>...</td>\n",
              "      <td>...</td>\n",
              "      <td>...</td>\n",
              "      <td>...</td>\n",
              "      <td>...</td>\n",
              "    </tr>\n",
              "    <tr>\n",
              "      <th>2785281</th>\n",
              "      <td>2011/08/10 15:48:48.058272</td>\n",
              "      <td>0.000000</td>\n",
              "      <td>udp</td>\n",
              "      <td>147.32.84.165</td>\n",
              "      <td>2077</td>\n",
              "      <td>-&gt;</td>\n",
              "      <td>89.149.254.87</td>\n",
              "      <td>53</td>\n",
              "      <td>INT</td>\n",
              "      <td>0.0</td>\n",
              "      <td>NaN</td>\n",
              "      <td>1</td>\n",
              "      <td>72</td>\n",
              "      <td>72</td>\n",
              "      <td>flow=From-Botnet-V42-UDP-Attempt-DNS</td>\n",
              "      <td>1.0</td>\n",
              "    </tr>\n",
              "    <tr>\n",
              "      <th>2785303</th>\n",
              "      <td>2011/08/10 15:48:48.338346</td>\n",
              "      <td>0.000000</td>\n",
              "      <td>tcp</td>\n",
              "      <td>147.32.84.165</td>\n",
              "      <td>1081</td>\n",
              "      <td>-&gt;</td>\n",
              "      <td>202.59.166.29</td>\n",
              "      <td>25</td>\n",
              "      <td>S_</td>\n",
              "      <td>0.0</td>\n",
              "      <td>NaN</td>\n",
              "      <td>1</td>\n",
              "      <td>62</td>\n",
              "      <td>62</td>\n",
              "      <td>flow=From-Botnet-V42-TCP-Attempt-SPAM</td>\n",
              "      <td>1.0</td>\n",
              "    </tr>\n",
              "    <tr>\n",
              "      <th>2785326</th>\n",
              "      <td>2011/08/10 15:48:48.448462</td>\n",
              "      <td>0.000405</td>\n",
              "      <td>udp</td>\n",
              "      <td>147.32.84.165</td>\n",
              "      <td>2079</td>\n",
              "      <td>&lt;-&gt;</td>\n",
              "      <td>147.32.80.9</td>\n",
              "      <td>53</td>\n",
              "      <td>CON</td>\n",
              "      <td>0.0</td>\n",
              "      <td>0.0</td>\n",
              "      <td>2</td>\n",
              "      <td>138</td>\n",
              "      <td>69</td>\n",
              "      <td>flow=From-Botnet-V42-UDP-DNS</td>\n",
              "      <td>1.0</td>\n",
              "    </tr>\n",
              "    <tr>\n",
              "      <th>2785382</th>\n",
              "      <td>2011/08/10 15:48:49.059334</td>\n",
              "      <td>0.056870</td>\n",
              "      <td>udp</td>\n",
              "      <td>147.32.84.165</td>\n",
              "      <td>2077</td>\n",
              "      <td>&lt;-&gt;</td>\n",
              "      <td>188.65.208.29</td>\n",
              "      <td>53</td>\n",
              "      <td>CON</td>\n",
              "      <td>0.0</td>\n",
              "      <td>0.0</td>\n",
              "      <td>2</td>\n",
              "      <td>144</td>\n",
              "      <td>72</td>\n",
              "      <td>flow=From-Botnet-V42-UDP-DNS</td>\n",
              "      <td>1.0</td>\n",
              "    </tr>\n",
              "    <tr>\n",
              "      <th>2785433</th>\n",
              "      <td>2011/08/10 15:48:49.449944</td>\n",
              "      <td>0.055294</td>\n",
              "      <td>udp</td>\n",
              "      <td>147.32.84.165</td>\n",
              "      <td>2079</td>\n",
              "      <td>&lt;-&gt;</td>\n",
              "      <td>217.16.16.30</td>\n",
              "      <td>53</td>\n",
              "      <td>CON</td>\n",
              "      <td>0.0</td>\n",
              "      <td>0.0</td>\n",
              "      <td>2</td>\n",
              "      <td>204</td>\n",
              "      <td>71</td>\n",
              "      <td>flow=From-Botnet-V42-UDP-DNS</td>\n",
              "      <td>1.0</td>\n",
              "    </tr>\n",
              "  </tbody>\n",
              "</table>\n",
              "<p>40961 rows × 16 columns</p>\n",
              "</div>"
            ],
            "text/plain": [
              "                          StartTime  ...  Malicious\n",
              "675537   2011/08/10 11:04:24.863449  ...        1.0\n",
              "675872   2011/08/10 11:04:27.118993  ...        1.0\n",
              "675877   2011/08/10 11:04:27.140727  ...        1.0\n",
              "689920   2011/08/10 11:06:23.268442  ...        1.0\n",
              "689955   2011/08/10 11:06:23.606888  ...        1.0\n",
              "...                             ...  ...        ...\n",
              "2785281  2011/08/10 15:48:48.058272  ...        1.0\n",
              "2785303  2011/08/10 15:48:48.338346  ...        1.0\n",
              "2785326  2011/08/10 15:48:48.448462  ...        1.0\n",
              "2785382  2011/08/10 15:48:49.059334  ...        1.0\n",
              "2785433  2011/08/10 15:48:49.449944  ...        1.0\n",
              "\n",
              "[40961 rows x 16 columns]"
            ]
          },
          "metadata": {
            "tags": []
          }
        },
        {
          "output_type": "display_data",
          "data": {
            "text/html": [
              "<div>\n",
              "<style scoped>\n",
              "    .dataframe tbody tr th:only-of-type {\n",
              "        vertical-align: middle;\n",
              "    }\n",
              "\n",
              "    .dataframe tbody tr th {\n",
              "        vertical-align: top;\n",
              "    }\n",
              "\n",
              "    .dataframe thead th {\n",
              "        text-align: right;\n",
              "    }\n",
              "</style>\n",
              "<table border=\"1\" class=\"dataframe\">\n",
              "  <thead>\n",
              "    <tr style=\"text-align: right;\">\n",
              "      <th></th>\n",
              "      <th>StartTime</th>\n",
              "      <th>Dur</th>\n",
              "      <th>Proto</th>\n",
              "      <th>SrcAddr</th>\n",
              "      <th>Sport</th>\n",
              "      <th>Dir</th>\n",
              "      <th>DstAddr</th>\n",
              "      <th>Dport</th>\n",
              "      <th>State</th>\n",
              "      <th>sTos</th>\n",
              "      <th>dTos</th>\n",
              "      <th>TotPkts</th>\n",
              "      <th>TotBytes</th>\n",
              "      <th>SrcBytes</th>\n",
              "      <th>Label</th>\n",
              "      <th>Malicious</th>\n",
              "    </tr>\n",
              "  </thead>\n",
              "  <tbody>\n",
              "    <tr>\n",
              "      <th>0</th>\n",
              "      <td>2011/08/10 09:46:53.047277</td>\n",
              "      <td>3550.182373</td>\n",
              "      <td>udp</td>\n",
              "      <td>212.50.71.179</td>\n",
              "      <td>39678</td>\n",
              "      <td>&lt;-&gt;</td>\n",
              "      <td>147.32.84.229</td>\n",
              "      <td>13363</td>\n",
              "      <td>CON</td>\n",
              "      <td>0.0</td>\n",
              "      <td>0.0</td>\n",
              "      <td>12</td>\n",
              "      <td>875</td>\n",
              "      <td>413</td>\n",
              "      <td>flow=Background-UDP-Established</td>\n",
              "      <td>0.0</td>\n",
              "    </tr>\n",
              "    <tr>\n",
              "      <th>1</th>\n",
              "      <td>2011/08/10 09:46:53.048843</td>\n",
              "      <td>0.000883</td>\n",
              "      <td>udp</td>\n",
              "      <td>84.13.246.132</td>\n",
              "      <td>28431</td>\n",
              "      <td>&lt;-&gt;</td>\n",
              "      <td>147.32.84.229</td>\n",
              "      <td>13363</td>\n",
              "      <td>CON</td>\n",
              "      <td>0.0</td>\n",
              "      <td>0.0</td>\n",
              "      <td>2</td>\n",
              "      <td>135</td>\n",
              "      <td>75</td>\n",
              "      <td>flow=Background-UDP-Established</td>\n",
              "      <td>0.0</td>\n",
              "    </tr>\n",
              "    <tr>\n",
              "      <th>2</th>\n",
              "      <td>2011/08/10 09:46:53.049895</td>\n",
              "      <td>0.000326</td>\n",
              "      <td>tcp</td>\n",
              "      <td>217.163.21.35</td>\n",
              "      <td>80</td>\n",
              "      <td>&lt;?&gt;</td>\n",
              "      <td>147.32.86.194</td>\n",
              "      <td>2063</td>\n",
              "      <td>FA_A</td>\n",
              "      <td>0.0</td>\n",
              "      <td>0.0</td>\n",
              "      <td>2</td>\n",
              "      <td>120</td>\n",
              "      <td>60</td>\n",
              "      <td>flow=Background</td>\n",
              "      <td>0.0</td>\n",
              "    </tr>\n",
              "    <tr>\n",
              "      <th>3</th>\n",
              "      <td>2011/08/10 09:46:53.053771</td>\n",
              "      <td>0.056966</td>\n",
              "      <td>tcp</td>\n",
              "      <td>83.3.77.74</td>\n",
              "      <td>32882</td>\n",
              "      <td>&lt;?&gt;</td>\n",
              "      <td>147.32.85.5</td>\n",
              "      <td>21857</td>\n",
              "      <td>FA_FA</td>\n",
              "      <td>0.0</td>\n",
              "      <td>0.0</td>\n",
              "      <td>3</td>\n",
              "      <td>180</td>\n",
              "      <td>120</td>\n",
              "      <td>flow=Background</td>\n",
              "      <td>0.0</td>\n",
              "    </tr>\n",
              "    <tr>\n",
              "      <th>4</th>\n",
              "      <td>2011/08/10 09:46:53.053937</td>\n",
              "      <td>3427.768066</td>\n",
              "      <td>udp</td>\n",
              "      <td>74.89.223.204</td>\n",
              "      <td>21278</td>\n",
              "      <td>&lt;-&gt;</td>\n",
              "      <td>147.32.84.229</td>\n",
              "      <td>13363</td>\n",
              "      <td>CON</td>\n",
              "      <td>0.0</td>\n",
              "      <td>0.0</td>\n",
              "      <td>42</td>\n",
              "      <td>2856</td>\n",
              "      <td>1596</td>\n",
              "      <td>flow=Background-UDP-Established</td>\n",
              "      <td>0.0</td>\n",
              "    </tr>\n",
              "  </tbody>\n",
              "</table>\n",
              "</div>"
            ],
            "text/plain": [
              "                    StartTime  ...  Malicious\n",
              "0  2011/08/10 09:46:53.047277  ...        0.0\n",
              "1  2011/08/10 09:46:53.048843  ...        0.0\n",
              "2  2011/08/10 09:46:53.049895  ...        0.0\n",
              "3  2011/08/10 09:46:53.053771  ...        0.0\n",
              "4  2011/08/10 09:46:53.053937  ...        0.0\n",
              "\n",
              "[5 rows x 16 columns]"
            ]
          },
          "metadata": {
            "tags": []
          }
        }
      ]
    },
    {
      "cell_type": "code",
      "metadata": {
        "id": "94ZCFgSh_Uhs"
      },
      "source": [
        "y1 = scenario_1.Malicious\r\n",
        "features = ['Dur', 'TotPkts', 'TotBytes', 'SrcBytes']\r\n",
        "X1 = scenario_1[features].copy()\r\n",
        "\r\n",
        "X1_train, X1_test, y1_train, y1_test, = train_test_split(X1,y1, train_size = 0.8, test_size = 0.2, random_state = 1)"
      ],
      "execution_count": 6,
      "outputs": []
    },
    {
      "cell_type": "code",
      "metadata": {
        "colab": {
          "base_uri": "https://localhost:8080/"
        },
        "id": "kQulvTHnCxCE",
        "outputId": "e3528dfd-9a35-45e6-ae5a-ce11da0e8849"
      },
      "source": [
        "classifier_1 = RandomForestClassifier(max_leaf_nodes = 100, random_state = 1)\r\n",
        "\r\n",
        "classifier_1.fit(X1_train,y1_train)"
      ],
      "execution_count": 7,
      "outputs": [
        {
          "output_type": "execute_result",
          "data": {
            "text/plain": [
              "RandomForestClassifier(bootstrap=True, ccp_alpha=0.0, class_weight=None,\n",
              "                       criterion='gini', max_depth=None, max_features='auto',\n",
              "                       max_leaf_nodes=100, max_samples=None,\n",
              "                       min_impurity_decrease=0.0, min_impurity_split=None,\n",
              "                       min_samples_leaf=1, min_samples_split=2,\n",
              "                       min_weight_fraction_leaf=0.0, n_estimators=100,\n",
              "                       n_jobs=None, oob_score=False, random_state=1, verbose=0,\n",
              "                       warm_start=False)"
            ]
          },
          "metadata": {
            "tags": []
          },
          "execution_count": 7
        }
      ]
    },
    {
      "cell_type": "code",
      "metadata": {
        "colab": {
          "base_uri": "https://localhost:8080/"
        },
        "id": "os44pNdKI7TE",
        "outputId": "8ac2f27c-c44c-449f-d9b7-ef8dbe340abc"
      },
      "source": [
        "from sklearn.metrics import accuracy_score # Very high accuracy score...potential overfitting? Considering lowering leaf nodes or using 5 fold validation. \r\n",
        "predictions1 = classifier_1.predict(X1_test)\r\n",
        "\r\n",
        "accuracy_score(y1_test, predictions1)"
      ],
      "execution_count": 8,
      "outputs": [
        {
          "output_type": "execute_result",
          "data": {
            "text/plain": [
              "0.9919334853291039"
            ]
          },
          "metadata": {
            "tags": []
          },
          "execution_count": 8
        }
      ]
    },
    {
      "cell_type": "code",
      "metadata": {
        "colab": {
          "base_uri": "https://localhost:8080/"
        },
        "id": "WHsI-KlqKctO",
        "outputId": "7282cb7e-8331-4f3f-a5c3-e77835560390"
      },
      "source": [
        "pd.Series(y1_test).value_counts()"
      ],
      "execution_count": 20,
      "outputs": [
        {
          "output_type": "execute_result",
          "data": {
            "text/plain": [
              "0.0    556617\n",
              "1.0      8311\n",
              "Name: Malicious, dtype: int64"
            ]
          },
          "metadata": {
            "tags": []
          },
          "execution_count": 20
        }
      ]
    },
    {
      "cell_type": "code",
      "metadata": {
        "colab": {
          "base_uri": "https://localhost:8080/"
        },
        "id": "PyJPIj_KJMAa",
        "outputId": "d95ee3b5-e383-4658-b4bf-e6cbcc31fd07"
      },
      "source": [
        "pd.Series(predictions1).value_counts()"
      ],
      "execution_count": 9,
      "outputs": [
        {
          "output_type": "execute_result",
          "data": {
            "text/plain": [
              "0.0    560056\n",
              "1.0      4872\n",
              "dtype: int64"
            ]
          },
          "metadata": {
            "tags": []
          },
          "execution_count": 9
        }
      ]
    },
    {
      "cell_type": "code",
      "metadata": {
        "colab": {
          "base_uri": "https://localhost:8080/"
        },
        "id": "Y1QpXnphJMLG",
        "outputId": "5fa4a2e9-20cb-4fe1-cc44-0a8f8dcb1f7d"
      },
      "source": [
        "from sklearn.metrics import f1_score # Decently solid F1 score, but could cause issues\r\n",
        "f1_score(y1_test, predictions1)"
      ],
      "execution_count": 14,
      "outputs": [
        {
          "output_type": "execute_result",
          "data": {
            "text/plain": [
              "0.6543275430478647"
            ]
          },
          "metadata": {
            "tags": []
          },
          "execution_count": 14
        }
      ]
    },
    {
      "cell_type": "code",
      "metadata": {
        "colab": {
          "base_uri": "https://localhost:8080/"
        },
        "id": "1ta-KSz5Jz-E",
        "outputId": "e121629f-88c8-4a2d-af42-1075a09bcb1a"
      },
      "source": [
        "from sklearn.metrics import confusion_matrix # Model skewed towards false positives\r\n",
        "\r\n",
        "confusion_matrix(y1_test, predictions1)"
      ],
      "execution_count": 23,
      "outputs": [
        {
          "output_type": "execute_result",
          "data": {
            "text/plain": [
              "array([[556058,    559],\n",
              "       [  3998,   4313]])"
            ]
          },
          "metadata": {
            "tags": []
          },
          "execution_count": 23
        }
      ]
    }
  ]
}