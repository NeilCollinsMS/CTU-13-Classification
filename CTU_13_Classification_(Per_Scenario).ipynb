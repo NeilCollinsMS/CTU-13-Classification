{
  "nbformat": 4,
  "nbformat_minor": 0,
  "metadata": {
    "colab": {
      "name": "CTU-13 Classification (Per Scenario).ipynb",
      "provenance": [],
      "authorship_tag": "ABX9TyNrd9WE9MjBg6H4BDkgfub+",
      "include_colab_link": true
    },
    "kernelspec": {
      "name": "python3",
      "display_name": "Python 3"
    }
  },
  "cells": [
    {
      "cell_type": "markdown",
      "metadata": {
        "id": "view-in-github",
        "colab_type": "text"
      },
      "source": [
        "<a href=\"https://colab.research.google.com/github/NeilCollinsMS/CTU-13-Classification/blob/main/CTU_13_Classification_(Per_Scenario).ipynb\" target=\"_parent\"><img src=\"https://colab.research.google.com/assets/colab-badge.svg\" alt=\"Open In Colab\"/></a>"
      ]
    },
    {
      "cell_type": "markdown",
      "metadata": {
        "id": "g-v9ttM__Yhd"
      },
      "source": [
        "**CTU-13 Classification Project**\r\n",
        "\r\n",
        "Per-Scenario Notbook (Each scenario is its own training and testing data)\r\n",
        "\r\n",
        "Alternate notebook will be generated for aggregate models utilizing master data.\r\n",
        "\r\n",
        "These models are general models built with 80/20 train/test splits. They are not tuned at all, and are for general insights and information when I begin tuning aggregate data models. "
      ]
    },
    {
      "cell_type": "code",
      "metadata": {
        "id": "LaRnxc9FNrA8"
      },
      "source": [
        "# Import Libraries \r\n",
        "import pandas as pd\r\n",
        "import numpy as np\r\n",
        "from sklearn.model_selection import train_test_split\r\n",
        "from sklearn.ensemble import RandomForestClassifier\r\n",
        "from sklearn.metrics import confusion_matrix\r\n",
        "from sklearn.metrics import f1_score \r\n",
        "from sklearn.metrics import accuracy_score \r\n",
        "from matplotlib import pyplot as plt"
      ],
      "execution_count": null,
      "outputs": []
    },
    {
      "cell_type": "code",
      "metadata": {
        "id": "kiaTeiV9Pjal"
      },
      "source": [
        "# Load publicly accessible CTU-13 bidirectional netflow files into pandas dataframes. \r\n",
        "# Initially, I ran some .head() commands to make sure the data properly imported, but to avoid clutter, I will condense all of the file reading into one singular cell.\r\n",
        "# If you want to look at the dataframes just type scenario_# (dataframe names) into a cell and you'll get a combo of heads/tails in Google Colab.\r\n",
        "\r\n",
        "# Unfortunately, Google Colab hosts notebooks on virtual machines that it recycles every time the notebook disconnects. However, since each VM has limited RAM only run the necessary files.\r\n",
        "\r\n",
        "# scenario_1 = pd.read_csv('https://mcfp.felk.cvut.cz/publicDatasets/CTU-Malware-Capture-Botnet-42/detailed-bidirectional-flow-labels/capture20110810.binetflow')\r\n",
        "# scenario_2 = pd.read_csv('https://mcfp.felk.cvut.cz/publicDatasets/CTU-Malware-Capture-Botnet-43/detailed-bidirectional-flow-labels/capture20110811.binetflow')\r\n",
        "# scenario_3 = pd.read_csv('https://mcfp.felk.cvut.cz/publicDatasets/CTU-Malware-Capture-Botnet-44/detailed-bidirectional-flow-labels/capture20110812.binetflow')\r\n",
        "# scenario_4 = pd.read_csv('https://mcfp.felk.cvut.cz/publicDatasets/CTU-Malware-Capture-Botnet-45/detailed-bidirectional-flow-labels/capture20110815.binetflow')\r\n",
        "# scenario_5 = pd.read_csv('https://mcfp.felk.cvut.cz/publicDatasets/CTU-Malware-Capture-Botnet-46/detailed-bidirectional-flow-labels/capture20110815-2.binetflow')\r\n",
        "# scenario_6 = pd.read_csv('https://mcfp.felk.cvut.cz/publicDatasets/CTU-Malware-Capture-Botnet-47/detailed-bidirectional-flow-labels/capture20110816.binetflow')\r\n",
        "# scenario_7 = pd.read_csv('https://mcfp.felk.cvut.cz/publicDatasets/CTU-Malware-Capture-Botnet-48/detailed-bidirectional-flow-labels/capture20110816-2.binetflow')\r\n",
        "# scenario_8 = pd.read_csv('https://mcfp.felk.cvut.cz/publicDatasets/CTU-Malware-Capture-Botnet-49/detailed-bidirectional-flow-labels/capture20110816-3.binetflow')\r\n",
        "# scenario_9 = pd.read_csv('https://mcfp.felk.cvut.cz/publicDatasets/CTU-Malware-Capture-Botnet-50/detailed-bidirectional-flow-labels/capture20110817.binetflow')\r\n",
        "# scenario_10 = pd.read_csv('https://mcfp.felk.cvut.cz/publicDatasets/CTU-Malware-Capture-Botnet-51/detailed-bidirectional-flow-labels/capture20110818.binetflow')\r\n",
        "# scenario_11 = pd.read_csv('https://mcfp.felk.cvut.cz/publicDatasets/CTU-Malware-Capture-Botnet-52/detailed-bidirectional-flow-labels/capture20110818-2.binetflow')\r\n",
        "# scenario_12 = pd.read_csv('https://mcfp.felk.cvut.cz/publicDatasets/CTU-Malware-Capture-Botnet-53/detailed-bidirectional-flow-labels/capture20110819.binetflow')\r\n",
        "# scenario_13 = pd.read_csv('https://mcfp.felk.cvut.cz/publicDatasets/CTU-Malware-Capture-Botnet-54/detailed-bidirectional-flow-labels/capture20110815-3.binetflow')"
      ],
      "execution_count": null,
      "outputs": []
    },
    {
      "cell_type": "markdown",
      "metadata": {
        "id": "lIb9fXzJ_hDM"
      },
      "source": [
        "**Scenario 1 Model 1**"
      ]
    },
    {
      "cell_type": "code",
      "metadata": {
        "id": "yRe0VwOoG9Sr"
      },
      "source": [
        "# Running all 13 scenarios takes a lot of RAM, so I am only using one at a time to not exceed Colab's RAM limit\r\n",
        "scenario_1 = pd.read_csv('https://mcfp.felk.cvut.cz/publicDatasets/CTU-Malware-Capture-Botnet-42/detailed-bidirectional-flow-labels/capture20110810.binetflow')"
      ],
      "execution_count": null,
      "outputs": []
    },
    {
      "cell_type": "code",
      "metadata": {
        "id": "Vm1jKCSFsVWf"
      },
      "source": [
        "# Generate binary malicious target column\r\n",
        "scenario_1.loc[scenario_1['SrcAddr'] == '147.32.84.165', 'Malicious'] = 1\r\n",
        "scenario_1.loc[scenario_1['SrcAddr'] != '147.32.84.165', 'Malicious'] = 0"
      ],
      "execution_count": null,
      "outputs": []
    },
    {
      "cell_type": "code",
      "metadata": {
        "colab": {
          "base_uri": "https://localhost:8080/",
          "height": 565
        },
        "id": "YCFfjWa743Pi",
        "outputId": "e2d606f8-fd47-4e59-91b4-e83c3b77c4d5"
      },
      "source": [
        "# Checking to make sure that binary assignments worked\r\n",
        "display(scenario_1.loc[scenario_1['SrcAddr'] == '147.32.84.165'])\r\n",
        "display(scenario_1.head())"
      ],
      "execution_count": null,
      "outputs": [
        {
          "output_type": "display_data",
          "data": {
            "text/html": [
              "<div>\n",
              "<style scoped>\n",
              "    .dataframe tbody tr th:only-of-type {\n",
              "        vertical-align: middle;\n",
              "    }\n",
              "\n",
              "    .dataframe tbody tr th {\n",
              "        vertical-align: top;\n",
              "    }\n",
              "\n",
              "    .dataframe thead th {\n",
              "        text-align: right;\n",
              "    }\n",
              "</style>\n",
              "<table border=\"1\" class=\"dataframe\">\n",
              "  <thead>\n",
              "    <tr style=\"text-align: right;\">\n",
              "      <th></th>\n",
              "      <th>StartTime</th>\n",
              "      <th>Dur</th>\n",
              "      <th>Proto</th>\n",
              "      <th>SrcAddr</th>\n",
              "      <th>Sport</th>\n",
              "      <th>Dir</th>\n",
              "      <th>DstAddr</th>\n",
              "      <th>Dport</th>\n",
              "      <th>State</th>\n",
              "      <th>sTos</th>\n",
              "      <th>dTos</th>\n",
              "      <th>TotPkts</th>\n",
              "      <th>TotBytes</th>\n",
              "      <th>SrcBytes</th>\n",
              "      <th>Label</th>\n",
              "      <th>Malicious</th>\n",
              "    </tr>\n",
              "  </thead>\n",
              "  <tbody>\n",
              "    <tr>\n",
              "      <th>675537</th>\n",
              "      <td>2011/08/10 11:04:24.863449</td>\n",
              "      <td>0.000278</td>\n",
              "      <td>udp</td>\n",
              "      <td>147.32.84.165</td>\n",
              "      <td>1025</td>\n",
              "      <td>&lt;-&gt;</td>\n",
              "      <td>147.32.80.9</td>\n",
              "      <td>53</td>\n",
              "      <td>CON</td>\n",
              "      <td>0.0</td>\n",
              "      <td>0.0</td>\n",
              "      <td>2</td>\n",
              "      <td>203</td>\n",
              "      <td>64</td>\n",
              "      <td>flow=From-Botnet-V42-UDP-DNS</td>\n",
              "      <td>1.0</td>\n",
              "    </tr>\n",
              "    <tr>\n",
              "      <th>675872</th>\n",
              "      <td>2011/08/10 11:04:27.118993</td>\n",
              "      <td>0.020525</td>\n",
              "      <td>udp</td>\n",
              "      <td>147.32.84.165</td>\n",
              "      <td>1025</td>\n",
              "      <td>&lt;-&gt;</td>\n",
              "      <td>147.32.80.9</td>\n",
              "      <td>53</td>\n",
              "      <td>CON</td>\n",
              "      <td>0.0</td>\n",
              "      <td>0.0</td>\n",
              "      <td>2</td>\n",
              "      <td>590</td>\n",
              "      <td>87</td>\n",
              "      <td>flow=From-Botnet-V42-UDP-DNS</td>\n",
              "      <td>1.0</td>\n",
              "    </tr>\n",
              "    <tr>\n",
              "      <th>675877</th>\n",
              "      <td>2011/08/10 11:04:27.140727</td>\n",
              "      <td>0.045125</td>\n",
              "      <td>tcp</td>\n",
              "      <td>147.32.84.165</td>\n",
              "      <td>1027</td>\n",
              "      <td>-&gt;</td>\n",
              "      <td>74.125.232.195</td>\n",
              "      <td>80</td>\n",
              "      <td>SRPA_SPA</td>\n",
              "      <td>0.0</td>\n",
              "      <td>0.0</td>\n",
              "      <td>7</td>\n",
              "      <td>882</td>\n",
              "      <td>629</td>\n",
              "      <td>flow=From-Botnet-V42-TCP-HTTP-Google-Net-Estab...</td>\n",
              "      <td>1.0</td>\n",
              "    </tr>\n",
              "    <tr>\n",
              "      <th>689920</th>\n",
              "      <td>2011/08/10 11:06:23.268442</td>\n",
              "      <td>0.336250</td>\n",
              "      <td>udp</td>\n",
              "      <td>147.32.84.165</td>\n",
              "      <td>1025</td>\n",
              "      <td>&lt;-&gt;</td>\n",
              "      <td>147.32.80.9</td>\n",
              "      <td>53</td>\n",
              "      <td>CON</td>\n",
              "      <td>0.0</td>\n",
              "      <td>0.0</td>\n",
              "      <td>2</td>\n",
              "      <td>215</td>\n",
              "      <td>71</td>\n",
              "      <td>flow=From-Botnet-V42-UDP-DNS</td>\n",
              "      <td>1.0</td>\n",
              "    </tr>\n",
              "    <tr>\n",
              "      <th>689955</th>\n",
              "      <td>2011/08/10 11:06:23.606888</td>\n",
              "      <td>3514.083496</td>\n",
              "      <td>tcp</td>\n",
              "      <td>147.32.84.165</td>\n",
              "      <td>1039</td>\n",
              "      <td>-&gt;</td>\n",
              "      <td>60.190.222.139</td>\n",
              "      <td>65520</td>\n",
              "      <td>SPA_SPA</td>\n",
              "      <td>0.0</td>\n",
              "      <td>0.0</td>\n",
              "      <td>120</td>\n",
              "      <td>7767</td>\n",
              "      <td>2690</td>\n",
              "      <td>flow=From-Botnet-V42-TCP-Established</td>\n",
              "      <td>1.0</td>\n",
              "    </tr>\n",
              "    <tr>\n",
              "      <th>...</th>\n",
              "      <td>...</td>\n",
              "      <td>...</td>\n",
              "      <td>...</td>\n",
              "      <td>...</td>\n",
              "      <td>...</td>\n",
              "      <td>...</td>\n",
              "      <td>...</td>\n",
              "      <td>...</td>\n",
              "      <td>...</td>\n",
              "      <td>...</td>\n",
              "      <td>...</td>\n",
              "      <td>...</td>\n",
              "      <td>...</td>\n",
              "      <td>...</td>\n",
              "      <td>...</td>\n",
              "      <td>...</td>\n",
              "    </tr>\n",
              "    <tr>\n",
              "      <th>2785281</th>\n",
              "      <td>2011/08/10 15:48:48.058272</td>\n",
              "      <td>0.000000</td>\n",
              "      <td>udp</td>\n",
              "      <td>147.32.84.165</td>\n",
              "      <td>2077</td>\n",
              "      <td>-&gt;</td>\n",
              "      <td>89.149.254.87</td>\n",
              "      <td>53</td>\n",
              "      <td>INT</td>\n",
              "      <td>0.0</td>\n",
              "      <td>NaN</td>\n",
              "      <td>1</td>\n",
              "      <td>72</td>\n",
              "      <td>72</td>\n",
              "      <td>flow=From-Botnet-V42-UDP-Attempt-DNS</td>\n",
              "      <td>1.0</td>\n",
              "    </tr>\n",
              "    <tr>\n",
              "      <th>2785303</th>\n",
              "      <td>2011/08/10 15:48:48.338346</td>\n",
              "      <td>0.000000</td>\n",
              "      <td>tcp</td>\n",
              "      <td>147.32.84.165</td>\n",
              "      <td>1081</td>\n",
              "      <td>-&gt;</td>\n",
              "      <td>202.59.166.29</td>\n",
              "      <td>25</td>\n",
              "      <td>S_</td>\n",
              "      <td>0.0</td>\n",
              "      <td>NaN</td>\n",
              "      <td>1</td>\n",
              "      <td>62</td>\n",
              "      <td>62</td>\n",
              "      <td>flow=From-Botnet-V42-TCP-Attempt-SPAM</td>\n",
              "      <td>1.0</td>\n",
              "    </tr>\n",
              "    <tr>\n",
              "      <th>2785326</th>\n",
              "      <td>2011/08/10 15:48:48.448462</td>\n",
              "      <td>0.000405</td>\n",
              "      <td>udp</td>\n",
              "      <td>147.32.84.165</td>\n",
              "      <td>2079</td>\n",
              "      <td>&lt;-&gt;</td>\n",
              "      <td>147.32.80.9</td>\n",
              "      <td>53</td>\n",
              "      <td>CON</td>\n",
              "      <td>0.0</td>\n",
              "      <td>0.0</td>\n",
              "      <td>2</td>\n",
              "      <td>138</td>\n",
              "      <td>69</td>\n",
              "      <td>flow=From-Botnet-V42-UDP-DNS</td>\n",
              "      <td>1.0</td>\n",
              "    </tr>\n",
              "    <tr>\n",
              "      <th>2785382</th>\n",
              "      <td>2011/08/10 15:48:49.059334</td>\n",
              "      <td>0.056870</td>\n",
              "      <td>udp</td>\n",
              "      <td>147.32.84.165</td>\n",
              "      <td>2077</td>\n",
              "      <td>&lt;-&gt;</td>\n",
              "      <td>188.65.208.29</td>\n",
              "      <td>53</td>\n",
              "      <td>CON</td>\n",
              "      <td>0.0</td>\n",
              "      <td>0.0</td>\n",
              "      <td>2</td>\n",
              "      <td>144</td>\n",
              "      <td>72</td>\n",
              "      <td>flow=From-Botnet-V42-UDP-DNS</td>\n",
              "      <td>1.0</td>\n",
              "    </tr>\n",
              "    <tr>\n",
              "      <th>2785433</th>\n",
              "      <td>2011/08/10 15:48:49.449944</td>\n",
              "      <td>0.055294</td>\n",
              "      <td>udp</td>\n",
              "      <td>147.32.84.165</td>\n",
              "      <td>2079</td>\n",
              "      <td>&lt;-&gt;</td>\n",
              "      <td>217.16.16.30</td>\n",
              "      <td>53</td>\n",
              "      <td>CON</td>\n",
              "      <td>0.0</td>\n",
              "      <td>0.0</td>\n",
              "      <td>2</td>\n",
              "      <td>204</td>\n",
              "      <td>71</td>\n",
              "      <td>flow=From-Botnet-V42-UDP-DNS</td>\n",
              "      <td>1.0</td>\n",
              "    </tr>\n",
              "  </tbody>\n",
              "</table>\n",
              "<p>40961 rows × 16 columns</p>\n",
              "</div>"
            ],
            "text/plain": [
              "                          StartTime  ...  Malicious\n",
              "675537   2011/08/10 11:04:24.863449  ...        1.0\n",
              "675872   2011/08/10 11:04:27.118993  ...        1.0\n",
              "675877   2011/08/10 11:04:27.140727  ...        1.0\n",
              "689920   2011/08/10 11:06:23.268442  ...        1.0\n",
              "689955   2011/08/10 11:06:23.606888  ...        1.0\n",
              "...                             ...  ...        ...\n",
              "2785281  2011/08/10 15:48:48.058272  ...        1.0\n",
              "2785303  2011/08/10 15:48:48.338346  ...        1.0\n",
              "2785326  2011/08/10 15:48:48.448462  ...        1.0\n",
              "2785382  2011/08/10 15:48:49.059334  ...        1.0\n",
              "2785433  2011/08/10 15:48:49.449944  ...        1.0\n",
              "\n",
              "[40961 rows x 16 columns]"
            ]
          },
          "metadata": {
            "tags": []
          }
        },
        {
          "output_type": "display_data",
          "data": {
            "text/html": [
              "<div>\n",
              "<style scoped>\n",
              "    .dataframe tbody tr th:only-of-type {\n",
              "        vertical-align: middle;\n",
              "    }\n",
              "\n",
              "    .dataframe tbody tr th {\n",
              "        vertical-align: top;\n",
              "    }\n",
              "\n",
              "    .dataframe thead th {\n",
              "        text-align: right;\n",
              "    }\n",
              "</style>\n",
              "<table border=\"1\" class=\"dataframe\">\n",
              "  <thead>\n",
              "    <tr style=\"text-align: right;\">\n",
              "      <th></th>\n",
              "      <th>StartTime</th>\n",
              "      <th>Dur</th>\n",
              "      <th>Proto</th>\n",
              "      <th>SrcAddr</th>\n",
              "      <th>Sport</th>\n",
              "      <th>Dir</th>\n",
              "      <th>DstAddr</th>\n",
              "      <th>Dport</th>\n",
              "      <th>State</th>\n",
              "      <th>sTos</th>\n",
              "      <th>dTos</th>\n",
              "      <th>TotPkts</th>\n",
              "      <th>TotBytes</th>\n",
              "      <th>SrcBytes</th>\n",
              "      <th>Label</th>\n",
              "      <th>Malicious</th>\n",
              "    </tr>\n",
              "  </thead>\n",
              "  <tbody>\n",
              "    <tr>\n",
              "      <th>0</th>\n",
              "      <td>2011/08/10 09:46:53.047277</td>\n",
              "      <td>3550.182373</td>\n",
              "      <td>udp</td>\n",
              "      <td>212.50.71.179</td>\n",
              "      <td>39678</td>\n",
              "      <td>&lt;-&gt;</td>\n",
              "      <td>147.32.84.229</td>\n",
              "      <td>13363</td>\n",
              "      <td>CON</td>\n",
              "      <td>0.0</td>\n",
              "      <td>0.0</td>\n",
              "      <td>12</td>\n",
              "      <td>875</td>\n",
              "      <td>413</td>\n",
              "      <td>flow=Background-UDP-Established</td>\n",
              "      <td>0.0</td>\n",
              "    </tr>\n",
              "    <tr>\n",
              "      <th>1</th>\n",
              "      <td>2011/08/10 09:46:53.048843</td>\n",
              "      <td>0.000883</td>\n",
              "      <td>udp</td>\n",
              "      <td>84.13.246.132</td>\n",
              "      <td>28431</td>\n",
              "      <td>&lt;-&gt;</td>\n",
              "      <td>147.32.84.229</td>\n",
              "      <td>13363</td>\n",
              "      <td>CON</td>\n",
              "      <td>0.0</td>\n",
              "      <td>0.0</td>\n",
              "      <td>2</td>\n",
              "      <td>135</td>\n",
              "      <td>75</td>\n",
              "      <td>flow=Background-UDP-Established</td>\n",
              "      <td>0.0</td>\n",
              "    </tr>\n",
              "    <tr>\n",
              "      <th>2</th>\n",
              "      <td>2011/08/10 09:46:53.049895</td>\n",
              "      <td>0.000326</td>\n",
              "      <td>tcp</td>\n",
              "      <td>217.163.21.35</td>\n",
              "      <td>80</td>\n",
              "      <td>&lt;?&gt;</td>\n",
              "      <td>147.32.86.194</td>\n",
              "      <td>2063</td>\n",
              "      <td>FA_A</td>\n",
              "      <td>0.0</td>\n",
              "      <td>0.0</td>\n",
              "      <td>2</td>\n",
              "      <td>120</td>\n",
              "      <td>60</td>\n",
              "      <td>flow=Background</td>\n",
              "      <td>0.0</td>\n",
              "    </tr>\n",
              "    <tr>\n",
              "      <th>3</th>\n",
              "      <td>2011/08/10 09:46:53.053771</td>\n",
              "      <td>0.056966</td>\n",
              "      <td>tcp</td>\n",
              "      <td>83.3.77.74</td>\n",
              "      <td>32882</td>\n",
              "      <td>&lt;?&gt;</td>\n",
              "      <td>147.32.85.5</td>\n",
              "      <td>21857</td>\n",
              "      <td>FA_FA</td>\n",
              "      <td>0.0</td>\n",
              "      <td>0.0</td>\n",
              "      <td>3</td>\n",
              "      <td>180</td>\n",
              "      <td>120</td>\n",
              "      <td>flow=Background</td>\n",
              "      <td>0.0</td>\n",
              "    </tr>\n",
              "    <tr>\n",
              "      <th>4</th>\n",
              "      <td>2011/08/10 09:46:53.053937</td>\n",
              "      <td>3427.768066</td>\n",
              "      <td>udp</td>\n",
              "      <td>74.89.223.204</td>\n",
              "      <td>21278</td>\n",
              "      <td>&lt;-&gt;</td>\n",
              "      <td>147.32.84.229</td>\n",
              "      <td>13363</td>\n",
              "      <td>CON</td>\n",
              "      <td>0.0</td>\n",
              "      <td>0.0</td>\n",
              "      <td>42</td>\n",
              "      <td>2856</td>\n",
              "      <td>1596</td>\n",
              "      <td>flow=Background-UDP-Established</td>\n",
              "      <td>0.0</td>\n",
              "    </tr>\n",
              "  </tbody>\n",
              "</table>\n",
              "</div>"
            ],
            "text/plain": [
              "                    StartTime  ...  Malicious\n",
              "0  2011/08/10 09:46:53.047277  ...        0.0\n",
              "1  2011/08/10 09:46:53.048843  ...        0.0\n",
              "2  2011/08/10 09:46:53.049895  ...        0.0\n",
              "3  2011/08/10 09:46:53.053771  ...        0.0\n",
              "4  2011/08/10 09:46:53.053937  ...        0.0\n",
              "\n",
              "[5 rows x 16 columns]"
            ]
          },
          "metadata": {
            "tags": []
          }
        }
      ]
    },
    {
      "cell_type": "code",
      "metadata": {
        "id": "94ZCFgSh_Uhs"
      },
      "source": [
        "# Break data into target and features\r\n",
        "y1 = scenario_1.Malicious\r\n",
        "features = ['Dur', 'TotPkts', 'TotBytes', 'SrcBytes']\r\n",
        "X1 = scenario_1[features].copy()\r\n",
        "\r\n",
        "# Break data into training and testing data (80/20 split)\r\n",
        "X1_train, X1_test, y1_train, y1_test, = train_test_split(X1,y1, train_size = 0.8, test_size = 0.2, random_state = 1)"
      ],
      "execution_count": null,
      "outputs": []
    },
    {
      "cell_type": "code",
      "metadata": {
        "colab": {
          "base_uri": "https://localhost:8080/"
        },
        "id": "kQulvTHnCxCE",
        "outputId": "a7463eaf-2f67-4ed4-8dde-c89d5e430cae"
      },
      "source": [
        "# Generate base model\r\n",
        "classifier_1 = RandomForestClassifier(max_leaf_nodes = 100, random_state = 1)\r\n",
        "\r\n",
        "# Fit model to training data\r\n",
        "classifier_1.fit(X1_train,y1_train)"
      ],
      "execution_count": null,
      "outputs": [
        {
          "output_type": "execute_result",
          "data": {
            "text/plain": [
              "RandomForestClassifier(bootstrap=True, ccp_alpha=0.0, class_weight=None,\n",
              "                       criterion='gini', max_depth=None, max_features='auto',\n",
              "                       max_leaf_nodes=100, max_samples=None,\n",
              "                       min_impurity_decrease=0.0, min_impurity_split=None,\n",
              "                       min_samples_leaf=1, min_samples_split=2,\n",
              "                       min_weight_fraction_leaf=0.0, n_estimators=100,\n",
              "                       n_jobs=None, oob_score=False, random_state=1, verbose=0,\n",
              "                       warm_start=False)"
            ]
          },
          "metadata": {
            "tags": []
          },
          "execution_count": 7
        }
      ]
    },
    {
      "cell_type": "code",
      "metadata": {
        "colab": {
          "base_uri": "https://localhost:8080/"
        },
        "id": "os44pNdKI7TE",
        "outputId": "8f03224c-f371-4040-bd6a-7b84398067e6"
      },
      "source": [
        "# Very high accuracy score...potential overfitting? Considering lowering leaf nodes or using 5 fold validation. \r\n",
        "predictions1 = classifier_1.predict(X1_test)\r\n",
        "\r\n",
        "accuracy_score(y1_test, predictions1)"
      ],
      "execution_count": null,
      "outputs": [
        {
          "output_type": "execute_result",
          "data": {
            "text/plain": [
              "0.9919334853291039"
            ]
          },
          "metadata": {
            "tags": []
          },
          "execution_count": 8
        }
      ]
    },
    {
      "cell_type": "code",
      "metadata": {
        "colab": {
          "base_uri": "https://localhost:8080/"
        },
        "id": "WHsI-KlqKctO",
        "outputId": "b71aa09f-6092-453c-eb15-136e4d9e8f55"
      },
      "source": [
        "pd.Series(y1_test).value_counts()"
      ],
      "execution_count": null,
      "outputs": [
        {
          "output_type": "execute_result",
          "data": {
            "text/plain": [
              "0.0    556617\n",
              "1.0      8311\n",
              "Name: Malicious, dtype: int64"
            ]
          },
          "metadata": {
            "tags": []
          },
          "execution_count": 9
        }
      ]
    },
    {
      "cell_type": "code",
      "metadata": {
        "colab": {
          "base_uri": "https://localhost:8080/"
        },
        "id": "PyJPIj_KJMAa",
        "outputId": "73c3849a-8e5f-404f-d411-b73a3dbb94c7"
      },
      "source": [
        "pd.Series(predictions1).value_counts()"
      ],
      "execution_count": null,
      "outputs": [
        {
          "output_type": "execute_result",
          "data": {
            "text/plain": [
              "0.0    560056\n",
              "1.0      4872\n",
              "dtype: int64"
            ]
          },
          "metadata": {
            "tags": []
          },
          "execution_count": 10
        }
      ]
    },
    {
      "cell_type": "code",
      "metadata": {
        "colab": {
          "base_uri": "https://localhost:8080/"
        },
        "id": "Y1QpXnphJMLG",
        "outputId": "9980eb1e-2158-4700-eb0c-2ea4ee44f059"
      },
      "source": [
        "# Decently solid F1 score, but could cause issues\r\n",
        "f1_score(y1_test, predictions1)"
      ],
      "execution_count": null,
      "outputs": [
        {
          "output_type": "execute_result",
          "data": {
            "text/plain": [
              "0.6543275430478647"
            ]
          },
          "metadata": {
            "tags": []
          },
          "execution_count": 11
        }
      ]
    },
    {
      "cell_type": "code",
      "metadata": {
        "colab": {
          "base_uri": "https://localhost:8080/",
          "height": 105
        },
        "id": "1ta-KSz5Jz-E",
        "outputId": "789e93cb-5226-479b-852f-80b18640d18e"
      },
      "source": [
        "# Model skewed towards false negatives. High number of True Negatives likely creating high accuracy score. Lean F1 here.\r\n",
        "\r\n",
        "labels1 = np.unique(y1_test)\r\n",
        "cm1 = confusion_matrix(y1_test, predictions1, labels=labels1)\r\n",
        "pd.DataFrame(cm1, index=labels1, columns=labels1)"
      ],
      "execution_count": null,
      "outputs": [
        {
          "output_type": "execute_result",
          "data": {
            "text/html": [
              "<div>\n",
              "<style scoped>\n",
              "    .dataframe tbody tr th:only-of-type {\n",
              "        vertical-align: middle;\n",
              "    }\n",
              "\n",
              "    .dataframe tbody tr th {\n",
              "        vertical-align: top;\n",
              "    }\n",
              "\n",
              "    .dataframe thead th {\n",
              "        text-align: right;\n",
              "    }\n",
              "</style>\n",
              "<table border=\"1\" class=\"dataframe\">\n",
              "  <thead>\n",
              "    <tr style=\"text-align: right;\">\n",
              "      <th></th>\n",
              "      <th>0.0</th>\n",
              "      <th>1.0</th>\n",
              "    </tr>\n",
              "  </thead>\n",
              "  <tbody>\n",
              "    <tr>\n",
              "      <th>0.0</th>\n",
              "      <td>556058</td>\n",
              "      <td>559</td>\n",
              "    </tr>\n",
              "    <tr>\n",
              "      <th>1.0</th>\n",
              "      <td>3998</td>\n",
              "      <td>4313</td>\n",
              "    </tr>\n",
              "  </tbody>\n",
              "</table>\n",
              "</div>"
            ],
            "text/plain": [
              "        0.0   1.0\n",
              "0.0  556058   559\n",
              "1.0    3998  4313"
            ]
          },
          "metadata": {
            "tags": []
          },
          "execution_count": 19
        }
      ]
    },
    {
      "cell_type": "code",
      "metadata": {
        "colab": {
          "base_uri": "https://localhost:8080/",
          "height": 295
        },
        "id": "vEq70MXOz1Fi",
        "outputId": "2143efdc-e02c-47ed-abfa-eb8d35ef9201"
      },
      "source": [
        "importances1 = classifier_1.feature_importances_\r\n",
        "indices1 = np.argsort(importances1)\r\n",
        "\r\n",
        "plt.title('Feature Importances')\r\n",
        "plt.barh(range(len(indices1)), importances1[indices1], color='b', align='center')\r\n",
        "plt.yticks(range(len(indices1)), [features[i] for i in indices1])\r\n",
        "plt.xlabel('Relative Importance')\r\n",
        "plt.show()"
      ],
      "execution_count": null,
      "outputs": [
        {
          "output_type": "display_data",
          "data": {
            "image/png": "[encoded data removed]",
            "text/plain": [
              "<Figure size 432x288 with 1 Axes>"
            ]
          },
          "metadata": {
            "tags": [],
            "needs_background": "light"
          }
        }
      ]
    },
    {
      "cell_type": "markdown",
      "metadata": {
        "id": "iUUjdVmmBF1D"
      },
      "source": [
        "**Scenario 2 Model 1**"
      ]
    },
    {
      "cell_type": "code",
      "metadata": {
        "id": "62KCy0sGBHf5"
      },
      "source": [
        "scenario_2 = pd.read_csv('https://mcfp.felk.cvut.cz/publicDatasets/CTU-Malware-Capture-Botnet-43/detailed-bidirectional-flow-labels/capture20110811.binetflow')"
      ],
      "execution_count": null,
      "outputs": []
    },
    {
      "cell_type": "code",
      "metadata": {
        "id": "tW9b1vpcB7o9"
      },
      "source": [
        "# Generate binary malicious target column\r\n",
        "scenario_2.loc[scenario_2['SrcAddr'] == '147.32.84.165', 'Malicious'] = 1\r\n",
        "scenario_2.loc[scenario_2['SrcAddr'] != '147.32.84.165', 'Malicious'] = 0"
      ],
      "execution_count": null,
      "outputs": []
    },
    {
      "cell_type": "code",
      "metadata": {
        "colab": {
          "base_uri": "https://localhost:8080/",
          "height": 565
        },
        "id": "Qb5_sMSMCe7v",
        "outputId": "711f7a00-0287-4370-a112-3d4e1978561e"
      },
      "source": [
        "# Checking to make sure that binary assignments worked\r\n",
        "display(scenario_2.loc[scenario_2['SrcAddr'] == '147.32.84.165'])\r\n",
        "display(scenario_2.head())"
      ],
      "execution_count": null,
      "outputs": [
        {
          "output_type": "display_data",
          "data": {
            "text/html": [
              "<div>\n",
              "<style scoped>\n",
              "    .dataframe tbody tr th:only-of-type {\n",
              "        vertical-align: middle;\n",
              "    }\n",
              "\n",
              "    .dataframe tbody tr th {\n",
              "        vertical-align: top;\n",
              "    }\n",
              "\n",
              "    .dataframe thead th {\n",
              "        text-align: right;\n",
              "    }\n",
              "</style>\n",
              "<table border=\"1\" class=\"dataframe\">\n",
              "  <thead>\n",
              "    <tr style=\"text-align: right;\">\n",
              "      <th></th>\n",
              "      <th>StartTime</th>\n",
              "      <th>Dur</th>\n",
              "      <th>Proto</th>\n",
              "      <th>SrcAddr</th>\n",
              "      <th>Sport</th>\n",
              "      <th>Dir</th>\n",
              "      <th>DstAddr</th>\n",
              "      <th>Dport</th>\n",
              "      <th>State</th>\n",
              "      <th>sTos</th>\n",
              "      <th>dTos</th>\n",
              "      <th>TotPkts</th>\n",
              "      <th>TotBytes</th>\n",
              "      <th>SrcBytes</th>\n",
              "      <th>Label</th>\n",
              "      <th>Malicious</th>\n",
              "    </tr>\n",
              "  </thead>\n",
              "  <tbody>\n",
              "    <tr>\n",
              "      <th>353034</th>\n",
              "      <td>2011/08/11 10:27:20.087827</td>\n",
              "      <td>0.000151</td>\n",
              "      <td>udp</td>\n",
              "      <td>147.32.84.165</td>\n",
              "      <td>1025</td>\n",
              "      <td>&lt;-&gt;</td>\n",
              "      <td>147.32.80.9</td>\n",
              "      <td>53</td>\n",
              "      <td>CON</td>\n",
              "      <td>0.0</td>\n",
              "      <td>0.0</td>\n",
              "      <td>2</td>\n",
              "      <td>203</td>\n",
              "      <td>64</td>\n",
              "      <td>flow=From-Botnet-V43-UDP-DNS</td>\n",
              "      <td>1.0</td>\n",
              "    </tr>\n",
              "    <tr>\n",
              "      <th>353266</th>\n",
              "      <td>2011/08/11 10:27:22.334730</td>\n",
              "      <td>0.019477</td>\n",
              "      <td>udp</td>\n",
              "      <td>147.32.84.165</td>\n",
              "      <td>1025</td>\n",
              "      <td>&lt;-&gt;</td>\n",
              "      <td>147.32.80.9</td>\n",
              "      <td>53</td>\n",
              "      <td>CON</td>\n",
              "      <td>0.0</td>\n",
              "      <td>0.0</td>\n",
              "      <td>2</td>\n",
              "      <td>590</td>\n",
              "      <td>87</td>\n",
              "      <td>flow=From-Botnet-V43-UDP-DNS</td>\n",
              "      <td>1.0</td>\n",
              "    </tr>\n",
              "    <tr>\n",
              "      <th>353271</th>\n",
              "      <td>2011/08/11 10:27:22.355042</td>\n",
              "      <td>0.045459</td>\n",
              "      <td>tcp</td>\n",
              "      <td>147.32.84.165</td>\n",
              "      <td>1027</td>\n",
              "      <td>-&gt;</td>\n",
              "      <td>74.125.232.198</td>\n",
              "      <td>80</td>\n",
              "      <td>SRPA_SPA</td>\n",
              "      <td>0.0</td>\n",
              "      <td>0.0</td>\n",
              "      <td>7</td>\n",
              "      <td>882</td>\n",
              "      <td>629</td>\n",
              "      <td>flow=From-Botnet-V43-TCP-HTTP-Google-Net-Estab...</td>\n",
              "      <td>1.0</td>\n",
              "    </tr>\n",
              "    <tr>\n",
              "      <th>389373</th>\n",
              "      <td>2011/08/11 10:32:25.092354</td>\n",
              "      <td>0.200739</td>\n",
              "      <td>udp</td>\n",
              "      <td>147.32.84.165</td>\n",
              "      <td>1025</td>\n",
              "      <td>&lt;-&gt;</td>\n",
              "      <td>147.32.80.9</td>\n",
              "      <td>53</td>\n",
              "      <td>CON</td>\n",
              "      <td>0.0</td>\n",
              "      <td>0.0</td>\n",
              "      <td>2</td>\n",
              "      <td>553</td>\n",
              "      <td>78</td>\n",
              "      <td>flow=From-Botnet-V43-UDP-DNS</td>\n",
              "      <td>1.0</td>\n",
              "    </tr>\n",
              "    <tr>\n",
              "      <th>389398</th>\n",
              "      <td>2011/08/11 10:32:25.294505</td>\n",
              "      <td>500.002960</td>\n",
              "      <td>tcp</td>\n",
              "      <td>147.32.84.165</td>\n",
              "      <td>1039</td>\n",
              "      <td>-&gt;</td>\n",
              "      <td>195.113.232.98</td>\n",
              "      <td>80</td>\n",
              "      <td>SPA_FSPA</td>\n",
              "      <td>0.0</td>\n",
              "      <td>0.0</td>\n",
              "      <td>14</td>\n",
              "      <td>5498</td>\n",
              "      <td>531</td>\n",
              "      <td>flow=From-Botnet-V43-TCP-Established-HTTP-Ad-40</td>\n",
              "      <td>1.0</td>\n",
              "    </tr>\n",
              "    <tr>\n",
              "      <th>...</th>\n",
              "      <td>...</td>\n",
              "      <td>...</td>\n",
              "      <td>...</td>\n",
              "      <td>...</td>\n",
              "      <td>...</td>\n",
              "      <td>...</td>\n",
              "      <td>...</td>\n",
              "      <td>...</td>\n",
              "      <td>...</td>\n",
              "      <td>...</td>\n",
              "      <td>...</td>\n",
              "      <td>...</td>\n",
              "      <td>...</td>\n",
              "      <td>...</td>\n",
              "      <td>...</td>\n",
              "      <td>...</td>\n",
              "    </tr>\n",
              "    <tr>\n",
              "      <th>1780033</th>\n",
              "      <td>2011/08/11 13:55:27.981810</td>\n",
              "      <td>2.982934</td>\n",
              "      <td>tcp</td>\n",
              "      <td>147.32.84.165</td>\n",
              "      <td>1123</td>\n",
              "      <td>-&gt;</td>\n",
              "      <td>67.195.168.230</td>\n",
              "      <td>25</td>\n",
              "      <td>S_</td>\n",
              "      <td>0.0</td>\n",
              "      <td>NaN</td>\n",
              "      <td>2</td>\n",
              "      <td>124</td>\n",
              "      <td>124</td>\n",
              "      <td>flow=From-Botnet-V43-TCP-Attempt-SPAM</td>\n",
              "      <td>1.0</td>\n",
              "    </tr>\n",
              "    <tr>\n",
              "      <th>1780035</th>\n",
              "      <td>2011/08/11 13:55:28.000203</td>\n",
              "      <td>0.139268</td>\n",
              "      <td>tcp</td>\n",
              "      <td>147.32.84.165</td>\n",
              "      <td>4383</td>\n",
              "      <td>-&gt;</td>\n",
              "      <td>217.163.21.39</td>\n",
              "      <td>80</td>\n",
              "      <td>FSPA_FSPA</td>\n",
              "      <td>0.0</td>\n",
              "      <td>0.0</td>\n",
              "      <td>10</td>\n",
              "      <td>1451</td>\n",
              "      <td>701</td>\n",
              "      <td>flow=From-Botnet-V43-TCP-WEB-Established</td>\n",
              "      <td>1.0</td>\n",
              "    </tr>\n",
              "    <tr>\n",
              "      <th>1780036</th>\n",
              "      <td>2011/08/11 13:55:28.000218</td>\n",
              "      <td>2.964543</td>\n",
              "      <td>tcp</td>\n",
              "      <td>147.32.84.165</td>\n",
              "      <td>1124</td>\n",
              "      <td>-&gt;</td>\n",
              "      <td>64.12.138.161</td>\n",
              "      <td>25</td>\n",
              "      <td>S_</td>\n",
              "      <td>0.0</td>\n",
              "      <td>NaN</td>\n",
              "      <td>2</td>\n",
              "      <td>124</td>\n",
              "      <td>124</td>\n",
              "      <td>flow=From-Botnet-V43-TCP-Attempt-SPAM</td>\n",
              "      <td>1.0</td>\n",
              "    </tr>\n",
              "    <tr>\n",
              "      <th>1780572</th>\n",
              "      <td>2011/08/11 13:55:34.577108</td>\n",
              "      <td>0.027338</td>\n",
              "      <td>tcp</td>\n",
              "      <td>147.32.84.165</td>\n",
              "      <td>4541</td>\n",
              "      <td>-&gt;</td>\n",
              "      <td>46.4.36.120</td>\n",
              "      <td>443</td>\n",
              "      <td>S_RA</td>\n",
              "      <td>0.0</td>\n",
              "      <td>0.0</td>\n",
              "      <td>2</td>\n",
              "      <td>122</td>\n",
              "      <td>62</td>\n",
              "      <td>flow=From-Botnet-V43-TCP-Attempt</td>\n",
              "      <td>1.0</td>\n",
              "    </tr>\n",
              "    <tr>\n",
              "      <th>1780593</th>\n",
              "      <td>2011/08/11 13:55:34.778838</td>\n",
              "      <td>0.000000</td>\n",
              "      <td>tcp</td>\n",
              "      <td>147.32.84.165</td>\n",
              "      <td>1200</td>\n",
              "      <td>-&gt;</td>\n",
              "      <td>66.94.237.64</td>\n",
              "      <td>25</td>\n",
              "      <td>S_</td>\n",
              "      <td>0.0</td>\n",
              "      <td>NaN</td>\n",
              "      <td>1</td>\n",
              "      <td>62</td>\n",
              "      <td>62</td>\n",
              "      <td>flow=From-Botnet-V43-TCP-Attempt-SPAM</td>\n",
              "      <td>1.0</td>\n",
              "    </tr>\n",
              "  </tbody>\n",
              "</table>\n",
              "<p>20941 rows × 16 columns</p>\n",
              "</div>"
            ],
            "text/plain": [
              "                          StartTime  ...  Malicious\n",
              "353034   2011/08/11 10:27:20.087827  ...        1.0\n",
              "353266   2011/08/11 10:27:22.334730  ...        1.0\n",
              "353271   2011/08/11 10:27:22.355042  ...        1.0\n",
              "389373   2011/08/11 10:32:25.092354  ...        1.0\n",
              "389398   2011/08/11 10:32:25.294505  ...        1.0\n",
              "...                             ...  ...        ...\n",
              "1780033  2011/08/11 13:55:27.981810  ...        1.0\n",
              "1780035  2011/08/11 13:55:28.000203  ...        1.0\n",
              "1780036  2011/08/11 13:55:28.000218  ...        1.0\n",
              "1780572  2011/08/11 13:55:34.577108  ...        1.0\n",
              "1780593  2011/08/11 13:55:34.778838  ...        1.0\n",
              "\n",
              "[20941 rows x 16 columns]"
            ]
          },
          "metadata": {
            "tags": []
          }
        },
        {
          "output_type": "display_data",
          "data": {
            "text/html": [
              "<div>\n",
              "<style scoped>\n",
              "    .dataframe tbody tr th:only-of-type {\n",
              "        vertical-align: middle;\n",
              "    }\n",
              "\n",
              "    .dataframe tbody tr th {\n",
              "        vertical-align: top;\n",
              "    }\n",
              "\n",
              "    .dataframe thead th {\n",
              "        text-align: right;\n",
              "    }\n",
              "</style>\n",
              "<table border=\"1\" class=\"dataframe\">\n",
              "  <thead>\n",
              "    <tr style=\"text-align: right;\">\n",
              "      <th></th>\n",
              "      <th>StartTime</th>\n",
              "      <th>Dur</th>\n",
              "      <th>Proto</th>\n",
              "      <th>SrcAddr</th>\n",
              "      <th>Sport</th>\n",
              "      <th>Dir</th>\n",
              "      <th>DstAddr</th>\n",
              "      <th>Dport</th>\n",
              "      <th>State</th>\n",
              "      <th>sTos</th>\n",
              "      <th>dTos</th>\n",
              "      <th>TotPkts</th>\n",
              "      <th>TotBytes</th>\n",
              "      <th>SrcBytes</th>\n",
              "      <th>Label</th>\n",
              "      <th>Malicious</th>\n",
              "    </tr>\n",
              "  </thead>\n",
              "  <tbody>\n",
              "    <tr>\n",
              "      <th>0</th>\n",
              "      <td>2011/08/11 09:49:35.721274</td>\n",
              "      <td>2069.973145</td>\n",
              "      <td>udp</td>\n",
              "      <td>203.253.8.233</td>\n",
              "      <td>30533</td>\n",
              "      <td>&lt;-&gt;</td>\n",
              "      <td>147.32.84.229</td>\n",
              "      <td>13363</td>\n",
              "      <td>CON</td>\n",
              "      <td>0.0</td>\n",
              "      <td>0.0</td>\n",
              "      <td>3</td>\n",
              "      <td>197</td>\n",
              "      <td>123</td>\n",
              "      <td>flow=Background-UDP-Established</td>\n",
              "      <td>0.0</td>\n",
              "    </tr>\n",
              "    <tr>\n",
              "      <th>1</th>\n",
              "      <td>2011/08/11 09:49:35.721530</td>\n",
              "      <td>895.989258</td>\n",
              "      <td>tcp</td>\n",
              "      <td>81.47.154.13</td>\n",
              "      <td>49200</td>\n",
              "      <td>&lt;?&gt;</td>\n",
              "      <td>147.32.84.229</td>\n",
              "      <td>13363</td>\n",
              "      <td>RPA_PA</td>\n",
              "      <td>0.0</td>\n",
              "      <td>0.0</td>\n",
              "      <td>70</td>\n",
              "      <td>7032</td>\n",
              "      <td>4501</td>\n",
              "      <td>flow=Background</td>\n",
              "      <td>0.0</td>\n",
              "    </tr>\n",
              "    <tr>\n",
              "      <th>2</th>\n",
              "      <td>2011/08/11 09:49:35.721918</td>\n",
              "      <td>0.000120</td>\n",
              "      <td>udp</td>\n",
              "      <td>147.32.84.229</td>\n",
              "      <td>13363</td>\n",
              "      <td>-&gt;</td>\n",
              "      <td>78.42.25.171</td>\n",
              "      <td>42988</td>\n",
              "      <td>INT</td>\n",
              "      <td>0.0</td>\n",
              "      <td>NaN</td>\n",
              "      <td>3</td>\n",
              "      <td>2858</td>\n",
              "      <td>2858</td>\n",
              "      <td>flow=Background-UDP-Attempt</td>\n",
              "      <td>0.0</td>\n",
              "    </tr>\n",
              "    <tr>\n",
              "      <th>3</th>\n",
              "      <td>2011/08/11 09:49:35.722518</td>\n",
              "      <td>3561.927246</td>\n",
              "      <td>udp</td>\n",
              "      <td>147.32.84.229</td>\n",
              "      <td>13363</td>\n",
              "      <td>&lt;-&gt;</td>\n",
              "      <td>113.128.219.130</td>\n",
              "      <td>59790</td>\n",
              "      <td>CON</td>\n",
              "      <td>0.0</td>\n",
              "      <td>0.0</td>\n",
              "      <td>63</td>\n",
              "      <td>15770</td>\n",
              "      <td>13419</td>\n",
              "      <td>flow=Background-UDP-Established</td>\n",
              "      <td>0.0</td>\n",
              "    </tr>\n",
              "    <tr>\n",
              "      <th>4</th>\n",
              "      <td>2011/08/11 09:49:35.723816</td>\n",
              "      <td>0.000000</td>\n",
              "      <td>udp</td>\n",
              "      <td>147.32.84.229</td>\n",
              "      <td>13363</td>\n",
              "      <td>-&gt;</td>\n",
              "      <td>60.50.167.24</td>\n",
              "      <td>40253</td>\n",
              "      <td>INT</td>\n",
              "      <td>0.0</td>\n",
              "      <td>NaN</td>\n",
              "      <td>1</td>\n",
              "      <td>60</td>\n",
              "      <td>60</td>\n",
              "      <td>flow=Background-UDP-Attempt</td>\n",
              "      <td>0.0</td>\n",
              "    </tr>\n",
              "  </tbody>\n",
              "</table>\n",
              "</div>"
            ],
            "text/plain": [
              "                    StartTime  ...  Malicious\n",
              "0  2011/08/11 09:49:35.721274  ...        0.0\n",
              "1  2011/08/11 09:49:35.721530  ...        0.0\n",
              "2  2011/08/11 09:49:35.721918  ...        0.0\n",
              "3  2011/08/11 09:49:35.722518  ...        0.0\n",
              "4  2011/08/11 09:49:35.723816  ...        0.0\n",
              "\n",
              "[5 rows x 16 columns]"
            ]
          },
          "metadata": {
            "tags": []
          }
        }
      ]
    },
    {
      "cell_type": "code",
      "metadata": {
        "id": "1xf-s742DGFW"
      },
      "source": [
        "# Break data into target and features\r\n",
        "y2 = scenario_2.Malicious\r\n",
        "features = ['Dur', 'TotPkts', 'TotBytes', 'SrcBytes']\r\n",
        "X2 = scenario_2[features].copy()\r\n",
        "\r\n",
        "# Break data into training and testing data (80/20 split)\r\n",
        "X2_train, X2_test, y2_train, y2_test, = train_test_split(X2,y2, train_size = 0.8, test_size = 0.2, random_state = 1)"
      ],
      "execution_count": null,
      "outputs": []
    },
    {
      "cell_type": "code",
      "metadata": {
        "colab": {
          "base_uri": "https://localhost:8080/"
        },
        "id": "SimXNyAaEvDp",
        "outputId": "f4b4a06a-4045-4825-dfec-55b90bf6aae8"
      },
      "source": [
        "# Generate base model\r\n",
        "classifier_2 = RandomForestClassifier(max_leaf_nodes = 100, random_state = 1)\r\n",
        "\r\n",
        "# Fit model to training data\r\n",
        "classifier_2.fit(X2_train,y2_train)"
      ],
      "execution_count": null,
      "outputs": [
        {
          "output_type": "execute_result",
          "data": {
            "text/plain": [
              "RandomForestClassifier(bootstrap=True, ccp_alpha=0.0, class_weight=None,\n",
              "                       criterion='gini', max_depth=None, max_features='auto',\n",
              "                       max_leaf_nodes=100, max_samples=None,\n",
              "                       min_impurity_decrease=0.0, min_impurity_split=None,\n",
              "                       min_samples_leaf=1, min_samples_split=2,\n",
              "                       min_weight_fraction_leaf=0.0, n_estimators=100,\n",
              "                       n_jobs=None, oob_score=False, random_state=1, verbose=0,\n",
              "                       warm_start=False)"
            ]
          },
          "metadata": {
            "tags": []
          },
          "execution_count": 27
        }
      ]
    },
    {
      "cell_type": "code",
      "metadata": {
        "colab": {
          "base_uri": "https://localhost:8080/"
        },
        "id": "VAOxubPLGqR4",
        "outputId": "0f6e4999-80f8-4887-fee3-ed1ee1a254e3"
      },
      "source": [
        "# Another very high accuracy score...potentially useless metric, very high TNs\r\n",
        "predictions2 = classifier_2.predict(X2_test)\r\n",
        "\r\n",
        "accuracy_score(y2_test, predictions2)"
      ],
      "execution_count": null,
      "outputs": [
        {
          "output_type": "execute_result",
          "data": {
            "text/plain": [
              "0.9956916695471828"
            ]
          },
          "metadata": {
            "tags": []
          },
          "execution_count": 28
        }
      ]
    },
    {
      "cell_type": "code",
      "metadata": {
        "colab": {
          "base_uri": "https://localhost:8080/"
        },
        "id": "ErB3vPBIG7je",
        "outputId": "a5b36679-d8fb-4c72-a11a-e35dcfb0f1b0"
      },
      "source": [
        "# Much better F1 score than prior model... This reinvigorates my idea that insights can be derived from per-scenario models. \r\n",
        "f1_score(y2_test, predictions2)"
      ],
      "execution_count": null,
      "outputs": [
        {
          "output_type": "execute_result",
          "data": {
            "text/plain": [
              "0.8002564102564103"
            ]
          },
          "metadata": {
            "tags": []
          },
          "execution_count": 30
        }
      ]
    },
    {
      "cell_type": "code",
      "metadata": {
        "colab": {
          "base_uri": "https://localhost:8080/",
          "height": 105
        },
        "id": "AnE_FJSHHXEW",
        "outputId": "88f76e19-85fa-46ca-f1f4-2a1136b712b6"
      },
      "source": [
        "# Similar issue with model being skewed towards false negatives, but to a much less extent than before, hence the improved F1\r\n",
        "labels2 = np.unique(y2_test)\r\n",
        "cm2 = confusion_matrix(y2_test, predictions2, labels=labels2)\r\n",
        "pd.DataFrame(cm2, index=labels2, columns=labels2)"
      ],
      "execution_count": null,
      "outputs": [
        {
          "output_type": "execute_result",
          "data": {
            "text/html": [
              "<div>\n",
              "<style scoped>\n",
              "    .dataframe tbody tr th:only-of-type {\n",
              "        vertical-align: middle;\n",
              "    }\n",
              "\n",
              "    .dataframe tbody tr th {\n",
              "        vertical-align: top;\n",
              "    }\n",
              "\n",
              "    .dataframe thead th {\n",
              "        text-align: right;\n",
              "    }\n",
              "</style>\n",
              "<table border=\"1\" class=\"dataframe\">\n",
              "  <thead>\n",
              "    <tr style=\"text-align: right;\">\n",
              "      <th></th>\n",
              "      <th>0.0</th>\n",
              "      <th>1.0</th>\n",
              "    </tr>\n",
              "  </thead>\n",
              "  <tbody>\n",
              "    <tr>\n",
              "      <th>0.0</th>\n",
              "      <td>356946</td>\n",
              "      <td>487</td>\n",
              "    </tr>\n",
              "    <tr>\n",
              "      <th>1.0</th>\n",
              "      <td>1071</td>\n",
              "      <td>3121</td>\n",
              "    </tr>\n",
              "  </tbody>\n",
              "</table>\n",
              "</div>"
            ],
            "text/plain": [
              "        0.0   1.0\n",
              "0.0  356946   487\n",
              "1.0    1071  3121"
            ]
          },
          "metadata": {
            "tags": []
          },
          "execution_count": 32
        }
      ]
    },
    {
      "cell_type": "code",
      "metadata": {
        "colab": {
          "base_uri": "https://localhost:8080/",
          "height": 295
        },
        "id": "60pK5dTeHv8y",
        "outputId": "cd19ba7c-7d30-4004-84d1-a4d69a32fd90"
      },
      "source": [
        "# Very interesting that importance differed here. Aggregate model generation should provide us with some fun insights.\r\n",
        "\r\n",
        "importances2 = classifier_2.feature_importances_\r\n",
        "indices2 = np.argsort(importances2)\r\n",
        "\r\n",
        "plt.title('Feature Importances')\r\n",
        "plt.barh(range(len(indices2)), importances2[indices2], color='b', align='center')\r\n",
        "plt.yticks(range(len(indices2)), [features[i] for i in indices2])\r\n",
        "plt.xlabel('Relative Importance')\r\n",
        "plt.show()"
      ],
      "execution_count": null,
      "outputs": [
        {
          "output_type": "display_data",
          "data": {
            "image/png": "[encoded data removed]",
            "text/plain": [
              "<Figure size 432x288 with 1 Axes>"
            ]
          },
          "metadata": {
            "tags": [],
            "needs_background": "light"
          }
        }
      ]
    },
    {
      "cell_type": "markdown",
      "metadata": {
        "id": "icUqe626IdQ9"
      },
      "source": [
        "**Scenario 3 Model 1**"
      ]
    },
    {
      "cell_type": "code",
      "metadata": {
        "id": "yESmHPY6IfXL"
      },
      "source": [
        "scenario_3 = pd.read_csv('https://mcfp.felk.cvut.cz/publicDatasets/CTU-Malware-Capture-Botnet-44/detailed-bidirectional-flow-labels/capture20110812.binetflow')"
      ],
      "execution_count": null,
      "outputs": []
    },
    {
      "cell_type": "code",
      "metadata": {
        "id": "Bs5QcrBQJQHl"
      },
      "source": [
        "# Generate binary malicious target column\r\n",
        "scenario_3.loc[scenario_3['SrcAddr'] == '147.32.84.165', 'Malicious'] = 1\r\n",
        "scenario_3.loc[scenario_3['SrcAddr'] != '147.32.84.165', 'Malicious'] = 0"
      ],
      "execution_count": null,
      "outputs": []
    },
    {
      "cell_type": "code",
      "metadata": {
        "colab": {
          "base_uri": "https://localhost:8080/",
          "height": 565
        },
        "id": "BfcEZxWPKEVr",
        "outputId": "7fab89a2-6bad-4bec-d076-92b2cf21a2ef"
      },
      "source": [
        "# Checking to make sure that binary assignments worked\r\n",
        "display(scenario_3.loc[scenario_3['SrcAddr'] == '147.32.84.165'])\r\n",
        "display(scenario_3.head())"
      ],
      "execution_count": null,
      "outputs": [
        {
          "output_type": "display_data",
          "data": {
            "text/html": [
              "<div>\n",
              "<style scoped>\n",
              "    .dataframe tbody tr th:only-of-type {\n",
              "        vertical-align: middle;\n",
              "    }\n",
              "\n",
              "    .dataframe tbody tr th {\n",
              "        vertical-align: top;\n",
              "    }\n",
              "\n",
              "    .dataframe thead th {\n",
              "        text-align: right;\n",
              "    }\n",
              "</style>\n",
              "<table border=\"1\" class=\"dataframe\">\n",
              "  <thead>\n",
              "    <tr style=\"text-align: right;\">\n",
              "      <th></th>\n",
              "      <th>StartTime</th>\n",
              "      <th>Dur</th>\n",
              "      <th>Proto</th>\n",
              "      <th>SrcAddr</th>\n",
              "      <th>Sport</th>\n",
              "      <th>Dir</th>\n",
              "      <th>DstAddr</th>\n",
              "      <th>Dport</th>\n",
              "      <th>State</th>\n",
              "      <th>sTos</th>\n",
              "      <th>dTos</th>\n",
              "      <th>TotPkts</th>\n",
              "      <th>TotBytes</th>\n",
              "      <th>SrcBytes</th>\n",
              "      <th>Label</th>\n",
              "      <th>Malicious</th>\n",
              "    </tr>\n",
              "  </thead>\n",
              "  <tbody>\n",
              "    <tr>\n",
              "      <th>61467</th>\n",
              "      <td>2011/08/12 15:53:17.142311</td>\n",
              "      <td>1966.745239</td>\n",
              "      <td>icmp</td>\n",
              "      <td>147.32.84.165</td>\n",
              "      <td>0x0303</td>\n",
              "      <td>-&gt;</td>\n",
              "      <td>81.166.246.198</td>\n",
              "      <td>0x8769</td>\n",
              "      <td>URP</td>\n",
              "      <td>0.0</td>\n",
              "      <td>NaN</td>\n",
              "      <td>3</td>\n",
              "      <td>285</td>\n",
              "      <td>285</td>\n",
              "      <td>flow=From-Botnet-V44-ICMP</td>\n",
              "      <td>1.0</td>\n",
              "    </tr>\n",
              "    <tr>\n",
              "      <th>178229</th>\n",
              "      <td>2011/08/12 16:56:52.873156</td>\n",
              "      <td>0.000456</td>\n",
              "      <td>udp</td>\n",
              "      <td>147.32.84.165</td>\n",
              "      <td>1026</td>\n",
              "      <td>&lt;-&gt;</td>\n",
              "      <td>147.32.80.9</td>\n",
              "      <td>53</td>\n",
              "      <td>CON</td>\n",
              "      <td>0.0</td>\n",
              "      <td>0.0</td>\n",
              "      <td>2</td>\n",
              "      <td>400</td>\n",
              "      <td>74</td>\n",
              "      <td>flow=From-Botnet-V44-UDP-DNS</td>\n",
              "      <td>1.0</td>\n",
              "    </tr>\n",
              "    <tr>\n",
              "      <th>181700</th>\n",
              "      <td>2011/08/12 16:59:13.459181</td>\n",
              "      <td>0.121586</td>\n",
              "      <td>udp</td>\n",
              "      <td>147.32.84.165</td>\n",
              "      <td>1026</td>\n",
              "      <td>&lt;-&gt;</td>\n",
              "      <td>147.32.80.9</td>\n",
              "      <td>53</td>\n",
              "      <td>CON</td>\n",
              "      <td>0.0</td>\n",
              "      <td>0.0</td>\n",
              "      <td>2</td>\n",
              "      <td>292</td>\n",
              "      <td>72</td>\n",
              "      <td>flow=From-Botnet-V44-UDP-DNS</td>\n",
              "      <td>1.0</td>\n",
              "    </tr>\n",
              "    <tr>\n",
              "      <th>181705</th>\n",
              "      <td>2011/08/12 16:59:13.581498</td>\n",
              "      <td>10.362481</td>\n",
              "      <td>tcp</td>\n",
              "      <td>147.32.84.165</td>\n",
              "      <td>1046</td>\n",
              "      <td>-&gt;</td>\n",
              "      <td>74.207.254.18</td>\n",
              "      <td>80</td>\n",
              "      <td>SPA_FSPA</td>\n",
              "      <td>0.0</td>\n",
              "      <td>0.0</td>\n",
              "      <td>9</td>\n",
              "      <td>1118</td>\n",
              "      <td>385</td>\n",
              "      <td>flow=From-Botnet-V44-TCP-WEB-Established</td>\n",
              "      <td>1.0</td>\n",
              "    </tr>\n",
              "    <tr>\n",
              "      <th>181711</th>\n",
              "      <td>2011/08/12 16:59:13.934712</td>\n",
              "      <td>0.101143</td>\n",
              "      <td>udp</td>\n",
              "      <td>147.32.84.165</td>\n",
              "      <td>1026</td>\n",
              "      <td>&lt;-&gt;</td>\n",
              "      <td>147.32.80.9</td>\n",
              "      <td>53</td>\n",
              "      <td>CON</td>\n",
              "      <td>0.0</td>\n",
              "      <td>0.0</td>\n",
              "      <td>2</td>\n",
              "      <td>284</td>\n",
              "      <td>68</td>\n",
              "      <td>flow=From-Botnet-V44-UDP-DNS</td>\n",
              "      <td>1.0</td>\n",
              "    </tr>\n",
              "    <tr>\n",
              "      <th>...</th>\n",
              "      <td>...</td>\n",
              "      <td>...</td>\n",
              "      <td>...</td>\n",
              "      <td>...</td>\n",
              "      <td>...</td>\n",
              "      <td>...</td>\n",
              "      <td>...</td>\n",
              "      <td>...</td>\n",
              "      <td>...</td>\n",
              "      <td>...</td>\n",
              "      <td>...</td>\n",
              "      <td>...</td>\n",
              "      <td>...</td>\n",
              "      <td>...</td>\n",
              "      <td>...</td>\n",
              "      <td>...</td>\n",
              "    </tr>\n",
              "    <tr>\n",
              "      <th>4520227</th>\n",
              "      <td>2011/08/15 09:25:26.819651</td>\n",
              "      <td>9.014144</td>\n",
              "      <td>tcp</td>\n",
              "      <td>147.32.84.165</td>\n",
              "      <td>2909</td>\n",
              "      <td>-&gt;</td>\n",
              "      <td>223.255.170.91</td>\n",
              "      <td>22</td>\n",
              "      <td>S_</td>\n",
              "      <td>0.0</td>\n",
              "      <td>NaN</td>\n",
              "      <td>3</td>\n",
              "      <td>186</td>\n",
              "      <td>186</td>\n",
              "      <td>flow=From-Botnet-V44-TCP-Attempt</td>\n",
              "      <td>1.0</td>\n",
              "    </tr>\n",
              "    <tr>\n",
              "      <th>4520295</th>\n",
              "      <td>2011/08/15 09:25:28.020389</td>\n",
              "      <td>9.013652</td>\n",
              "      <td>tcp</td>\n",
              "      <td>147.32.84.165</td>\n",
              "      <td>2910</td>\n",
              "      <td>-&gt;</td>\n",
              "      <td>223.255.178.83</td>\n",
              "      <td>22</td>\n",
              "      <td>S_</td>\n",
              "      <td>0.0</td>\n",
              "      <td>NaN</td>\n",
              "      <td>3</td>\n",
              "      <td>186</td>\n",
              "      <td>186</td>\n",
              "      <td>flow=From-Botnet-V44-TCP-Attempt</td>\n",
              "      <td>1.0</td>\n",
              "    </tr>\n",
              "    <tr>\n",
              "      <th>4532883</th>\n",
              "      <td>2011/08/15 09:29:18.079118</td>\n",
              "      <td>0.000000</td>\n",
              "      <td>udp</td>\n",
              "      <td>147.32.84.165</td>\n",
              "      <td>137</td>\n",
              "      <td>-&gt;</td>\n",
              "      <td>192.168.88.121</td>\n",
              "      <td>45366</td>\n",
              "      <td>INT</td>\n",
              "      <td>0.0</td>\n",
              "      <td>NaN</td>\n",
              "      <td>1</td>\n",
              "      <td>104</td>\n",
              "      <td>104</td>\n",
              "      <td>flow=From-Botnet-V44-UDP-Attempt</td>\n",
              "      <td>1.0</td>\n",
              "    </tr>\n",
              "    <tr>\n",
              "      <th>4576820</th>\n",
              "      <td>2011/08/15 09:42:00.883399</td>\n",
              "      <td>0.000000</td>\n",
              "      <td>udp</td>\n",
              "      <td>147.32.84.165</td>\n",
              "      <td>137</td>\n",
              "      <td>-&gt;</td>\n",
              "      <td>192.168.88.121</td>\n",
              "      <td>43886</td>\n",
              "      <td>INT</td>\n",
              "      <td>0.0</td>\n",
              "      <td>NaN</td>\n",
              "      <td>1</td>\n",
              "      <td>104</td>\n",
              "      <td>104</td>\n",
              "      <td>flow=From-Botnet-V44-UDP-Attempt</td>\n",
              "      <td>1.0</td>\n",
              "    </tr>\n",
              "    <tr>\n",
              "      <th>4630452</th>\n",
              "      <td>2011/08/15 09:54:43.695571</td>\n",
              "      <td>0.000000</td>\n",
              "      <td>udp</td>\n",
              "      <td>147.32.84.165</td>\n",
              "      <td>137</td>\n",
              "      <td>-&gt;</td>\n",
              "      <td>192.168.88.121</td>\n",
              "      <td>46400</td>\n",
              "      <td>INT</td>\n",
              "      <td>0.0</td>\n",
              "      <td>NaN</td>\n",
              "      <td>1</td>\n",
              "      <td>104</td>\n",
              "      <td>104</td>\n",
              "      <td>flow=From-Botnet-V44-UDP-Attempt</td>\n",
              "      <td>1.0</td>\n",
              "    </tr>\n",
              "  </tbody>\n",
              "</table>\n",
              "<p>26761 rows × 16 columns</p>\n",
              "</div>"
            ],
            "text/plain": [
              "                          StartTime  ...  Malicious\n",
              "61467    2011/08/12 15:53:17.142311  ...        1.0\n",
              "178229   2011/08/12 16:56:52.873156  ...        1.0\n",
              "181700   2011/08/12 16:59:13.459181  ...        1.0\n",
              "181705   2011/08/12 16:59:13.581498  ...        1.0\n",
              "181711   2011/08/12 16:59:13.934712  ...        1.0\n",
              "...                             ...  ...        ...\n",
              "4520227  2011/08/15 09:25:26.819651  ...        1.0\n",
              "4520295  2011/08/15 09:25:28.020389  ...        1.0\n",
              "4532883  2011/08/15 09:29:18.079118  ...        1.0\n",
              "4576820  2011/08/15 09:42:00.883399  ...        1.0\n",
              "4630452  2011/08/15 09:54:43.695571  ...        1.0\n",
              "\n",
              "[26761 rows x 16 columns]"
            ]
          },
          "metadata": {
            "tags": []
          }
        },
        {
          "output_type": "display_data",
          "data": {
            "text/html": [
              "<div>\n",
              "<style scoped>\n",
              "    .dataframe tbody tr th:only-of-type {\n",
              "        vertical-align: middle;\n",
              "    }\n",
              "\n",
              "    .dataframe tbody tr th {\n",
              "        vertical-align: top;\n",
              "    }\n",
              "\n",
              "    .dataframe thead th {\n",
              "        text-align: right;\n",
              "    }\n",
              "</style>\n",
              "<table border=\"1\" class=\"dataframe\">\n",
              "  <thead>\n",
              "    <tr style=\"text-align: right;\">\n",
              "      <th></th>\n",
              "      <th>StartTime</th>\n",
              "      <th>Dur</th>\n",
              "      <th>Proto</th>\n",
              "      <th>SrcAddr</th>\n",
              "      <th>Sport</th>\n",
              "      <th>Dir</th>\n",
              "      <th>DstAddr</th>\n",
              "      <th>Dport</th>\n",
              "      <th>State</th>\n",
              "      <th>sTos</th>\n",
              "      <th>dTos</th>\n",
              "      <th>TotPkts</th>\n",
              "      <th>TotBytes</th>\n",
              "      <th>SrcBytes</th>\n",
              "      <th>Label</th>\n",
              "      <th>Malicious</th>\n",
              "    </tr>\n",
              "  </thead>\n",
              "  <tbody>\n",
              "    <tr>\n",
              "      <th>0</th>\n",
              "      <td>2011/08/12 15:24:01.105063</td>\n",
              "      <td>75.532112</td>\n",
              "      <td>tcp</td>\n",
              "      <td>74.125.108.243</td>\n",
              "      <td>80</td>\n",
              "      <td>&lt;?&gt;</td>\n",
              "      <td>147.32.86.187</td>\n",
              "      <td>55707</td>\n",
              "      <td>FPA_FA</td>\n",
              "      <td>0.0</td>\n",
              "      <td>0.0</td>\n",
              "      <td>8107</td>\n",
              "      <td>10096400</td>\n",
              "      <td>10005608</td>\n",
              "      <td>flow=Background</td>\n",
              "      <td>0.0</td>\n",
              "    </tr>\n",
              "    <tr>\n",
              "      <th>1</th>\n",
              "      <td>2011/08/12 15:24:01.105402</td>\n",
              "      <td>6.650236</td>\n",
              "      <td>tcp</td>\n",
              "      <td>147.32.84.164</td>\n",
              "      <td>22</td>\n",
              "      <td>&lt;?&gt;</td>\n",
              "      <td>83.208.193.123</td>\n",
              "      <td>15173</td>\n",
              "      <td>FPA_FPA</td>\n",
              "      <td>0.0</td>\n",
              "      <td>0.0</td>\n",
              "      <td>33</td>\n",
              "      <td>3218</td>\n",
              "      <td>1532</td>\n",
              "      <td>flow=From-Normal-V44-Grill</td>\n",
              "      <td>0.0</td>\n",
              "    </tr>\n",
              "    <tr>\n",
              "      <th>2</th>\n",
              "      <td>2011/08/12 15:24:01.106568</td>\n",
              "      <td>3599.641602</td>\n",
              "      <td>tcp</td>\n",
              "      <td>217.168.211.184</td>\n",
              "      <td>3953</td>\n",
              "      <td>&lt;?&gt;</td>\n",
              "      <td>147.32.84.14</td>\n",
              "      <td>22</td>\n",
              "      <td>PA_PA</td>\n",
              "      <td>0.0</td>\n",
              "      <td>0.0</td>\n",
              "      <td>1604343</td>\n",
              "      <td>1585303458</td>\n",
              "      <td>38328160</td>\n",
              "      <td>flow=Background</td>\n",
              "      <td>0.0</td>\n",
              "    </tr>\n",
              "    <tr>\n",
              "      <th>3</th>\n",
              "      <td>2011/08/12 15:24:01.113763</td>\n",
              "      <td>1341.314453</td>\n",
              "      <td>udp</td>\n",
              "      <td>173.9.132.155</td>\n",
              "      <td>54369</td>\n",
              "      <td>&lt;-&gt;</td>\n",
              "      <td>147.32.84.59</td>\n",
              "      <td>15046</td>\n",
              "      <td>CON</td>\n",
              "      <td>0.0</td>\n",
              "      <td>0.0</td>\n",
              "      <td>284072</td>\n",
              "      <td>243446592</td>\n",
              "      <td>120384296</td>\n",
              "      <td>flow=Background-Established-cmpgw-CVUT</td>\n",
              "      <td>0.0</td>\n",
              "    </tr>\n",
              "    <tr>\n",
              "      <th>4</th>\n",
              "      <td>2011/08/12 15:24:01.119062</td>\n",
              "      <td>3599.992920</td>\n",
              "      <td>tcp</td>\n",
              "      <td>88.103.40.117</td>\n",
              "      <td>37378</td>\n",
              "      <td>&lt;?&gt;</td>\n",
              "      <td>147.32.84.59</td>\n",
              "      <td>56306</td>\n",
              "      <td>PA_PA</td>\n",
              "      <td>0.0</td>\n",
              "      <td>0.0</td>\n",
              "      <td>229138</td>\n",
              "      <td>213637628</td>\n",
              "      <td>206786146</td>\n",
              "      <td>flow=Background-Established-cmpgw-CVUT</td>\n",
              "      <td>0.0</td>\n",
              "    </tr>\n",
              "  </tbody>\n",
              "</table>\n",
              "</div>"
            ],
            "text/plain": [
              "                    StartTime  ...  Malicious\n",
              "0  2011/08/12 15:24:01.105063  ...        0.0\n",
              "1  2011/08/12 15:24:01.105402  ...        0.0\n",
              "2  2011/08/12 15:24:01.106568  ...        0.0\n",
              "3  2011/08/12 15:24:01.113763  ...        0.0\n",
              "4  2011/08/12 15:24:01.119062  ...        0.0\n",
              "\n",
              "[5 rows x 16 columns]"
            ]
          },
          "metadata": {
            "tags": []
          }
        }
      ]
    },
    {
      "cell_type": "code",
      "metadata": {
        "id": "jeOaORQbKI12"
      },
      "source": [
        "# Break data into target and features\r\n",
        "y3 = scenario_3.Malicious\r\n",
        "features = ['Dur', 'TotPkts', 'TotBytes', 'SrcBytes']\r\n",
        "X3 = scenario_3[features].copy()\r\n",
        "\r\n",
        "# Break data into training and testing data (80/20 split)\r\n",
        "X3_train, X3_test, y3_train, y3_test, = train_test_split(X3,y3, train_size = 0.8, test_size = 0.2, random_state = 1)"
      ],
      "execution_count": null,
      "outputs": []
    },
    {
      "cell_type": "code",
      "metadata": {
        "colab": {
          "base_uri": "https://localhost:8080/"
        },
        "id": "CeUlD4yuKWQD",
        "outputId": "fcd0cf76-33c2-4ec2-9bd4-2ec41e4f3875"
      },
      "source": [
        "# Generate base model\r\n",
        "classifier_3 = RandomForestClassifier(max_leaf_nodes = 100, random_state = 1)\r\n",
        "\r\n",
        "# Fit model to training data\r\n",
        "classifier_3.fit(X3_train,y3_train)"
      ],
      "execution_count": null,
      "outputs": [
        {
          "output_type": "execute_result",
          "data": {
            "text/plain": [
              "RandomForestClassifier(bootstrap=True, ccp_alpha=0.0, class_weight=None,\n",
              "                       criterion='gini', max_depth=None, max_features='auto',\n",
              "                       max_leaf_nodes=100, max_samples=None,\n",
              "                       min_impurity_decrease=0.0, min_impurity_split=None,\n",
              "                       min_samples_leaf=1, min_samples_split=2,\n",
              "                       min_weight_fraction_leaf=0.0, n_estimators=100,\n",
              "                       n_jobs=None, oob_score=False, random_state=1, verbose=0,\n",
              "                       warm_start=False)"
            ]
          },
          "metadata": {
            "tags": []
          },
          "execution_count": 16
        }
      ]
    },
    {
      "cell_type": "code",
      "metadata": {
        "colab": {
          "base_uri": "https://localhost:8080/"
        },
        "id": "QEuNhe4GLtE2",
        "outputId": "1b701dc2-f75e-4983-873a-18dd683444f7"
      },
      "source": [
        "# Accuracy is useless here. I'll keep running it to check for major errors, but it is largely useless.\r\n",
        "predictions3 = classifier_3.predict(X3_test)\r\n",
        "\r\n",
        "accuracy_score(y3_test, predictions3)"
      ],
      "execution_count": null,
      "outputs": [
        {
          "output_type": "execute_result",
          "data": {
            "text/plain": [
              "0.9989077917225685"
            ]
          },
          "metadata": {
            "tags": []
          },
          "execution_count": 17
        }
      ]
    },
    {
      "cell_type": "code",
      "metadata": {
        "colab": {
          "base_uri": "https://localhost:8080/"
        },
        "id": "8BnqpMgeL_uh",
        "outputId": "d3be9c1a-e255-4705-bdf7-311dc53ba2bf"
      },
      "source": [
        "# Incredibly high f1 score\r\n",
        "f1_score(y3_test, predictions3)"
      ],
      "execution_count": null,
      "outputs": [
        {
          "output_type": "execute_result",
          "data": {
            "text/plain": [
              "0.9041988641653477"
            ]
          },
          "metadata": {
            "tags": []
          },
          "execution_count": 18
        }
      ]
    },
    {
      "cell_type": "code",
      "metadata": {
        "colab": {
          "base_uri": "https://localhost:8080/",
          "height": 105
        },
        "id": "ICsrKAHUMMZV",
        "outputId": "fe2b327e-996a-4efd-f594-6fe7fcee1d01"
      },
      "source": [
        "# Best model so far\r\n",
        "labels3 = np.unique(y3_test)\r\n",
        "cm3 = confusion_matrix(y3_test, predictions3, labels=labels3)\r\n",
        "pd.DataFrame(cm3, index=labels3, columns=labels3)"
      ],
      "execution_count": null,
      "outputs": [
        {
          "output_type": "execute_result",
          "data": {
            "text/html": [
              "<div>\n",
              "<style scoped>\n",
              "    .dataframe tbody tr th:only-of-type {\n",
              "        vertical-align: middle;\n",
              "    }\n",
              "\n",
              "    .dataframe tbody tr th {\n",
              "        vertical-align: top;\n",
              "    }\n",
              "\n",
              "    .dataframe thead th {\n",
              "        text-align: right;\n",
              "    }\n",
              "</style>\n",
              "<table border=\"1\" class=\"dataframe\">\n",
              "  <thead>\n",
              "    <tr style=\"text-align: right;\">\n",
              "      <th></th>\n",
              "      <th>0.0</th>\n",
              "      <th>1.0</th>\n",
              "    </tr>\n",
              "  </thead>\n",
              "  <tbody>\n",
              "    <tr>\n",
              "      <th>0.0</th>\n",
              "      <td>936243</td>\n",
              "      <td>446</td>\n",
              "    </tr>\n",
              "    <tr>\n",
              "      <th>1.0</th>\n",
              "      <td>583</td>\n",
              "      <td>4856</td>\n",
              "    </tr>\n",
              "  </tbody>\n",
              "</table>\n",
              "</div>"
            ],
            "text/plain": [
              "        0.0   1.0\n",
              "0.0  936243   446\n",
              "1.0     583  4856"
            ]
          },
          "metadata": {
            "tags": []
          },
          "execution_count": 19
        }
      ]
    },
    {
      "cell_type": "code",
      "metadata": {
        "colab": {
          "base_uri": "https://localhost:8080/",
          "height": 295
        },
        "id": "JH5mLC9LMX5L",
        "outputId": "85c55438-c879-4422-ee35-9b3dd30d8f40"
      },
      "source": [
        "# The two models that have TotBytes as the most important (with Dur and SrcBytes following) have performed the best thusfar\r\n",
        "\r\n",
        "importances3 = classifier_3.feature_importances_\r\n",
        "indices3 = np.argsort(importances3)\r\n",
        "\r\n",
        "plt.title('Feature Importances')\r\n",
        "plt.barh(range(len(indices3)), importances3[indices3], color='b', align='center')\r\n",
        "plt.yticks(range(len(indices3)), [features[i] for i in indices3])\r\n",
        "plt.xlabel('Relative Importance')\r\n",
        "plt.show()"
      ],
      "execution_count": null,
      "outputs": [
        {
          "output_type": "display_data",
          "data": {
            "image/png": "[encoded data removed]",
            "text/plain": [
              "<Figure size 432x288 with 1 Axes>"
            ]
          },
          "metadata": {
            "tags": [],
            "needs_background": "light"
          }
        }
      ]
    },
    {
      "cell_type": "markdown",
      "metadata": {
        "id": "v6ZMO0rkMuYs"
      },
      "source": [
        "**Scenario 4 Model 1**"
      ]
    },
    {
      "cell_type": "code",
      "metadata": {
        "id": "-EFEf3NB_fym"
      },
      "source": [
        "scenario_4 = pd.read_csv('https://mcfp.felk.cvut.cz/publicDatasets/CTU-Malware-Capture-Botnet-45/detailed-bidirectional-flow-labels/capture20110815.binetflow')"
      ],
      "execution_count": null,
      "outputs": []
    },
    {
      "cell_type": "code",
      "metadata": {
        "id": "EVeb3H0p_vMY"
      },
      "source": [
        "# Generate binary malicious target column\r\n",
        "scenario_4.loc[scenario_4['SrcAddr'] == '147.32.84.165', 'Malicious'] = 1\r\n",
        "scenario_4.loc[scenario_4['SrcAddr'] != '147.32.84.165', 'Malicious'] = 0"
      ],
      "execution_count": null,
      "outputs": []
    },
    {
      "cell_type": "code",
      "metadata": {
        "colab": {
          "base_uri": "https://localhost:8080/",
          "height": 565
        },
        "id": "kbnRWZedAGqF",
        "outputId": "f2203610-3d61-4dcd-c0c1-6bdf6ceef1b5"
      },
      "source": [
        "# Checking to make sure that binary assignments worked\r\n",
        "display(scenario_4.loc[scenario_4['SrcAddr'] == '147.32.84.165'])\r\n",
        "display(scenario_4.head())"
      ],
      "execution_count": null,
      "outputs": [
        {
          "output_type": "display_data",
          "data": {
            "text/html": [
              "<div>\n",
              "<style scoped>\n",
              "    .dataframe tbody tr th:only-of-type {\n",
              "        vertical-align: middle;\n",
              "    }\n",
              "\n",
              "    .dataframe tbody tr th {\n",
              "        vertical-align: top;\n",
              "    }\n",
              "\n",
              "    .dataframe thead th {\n",
              "        text-align: right;\n",
              "    }\n",
              "</style>\n",
              "<table border=\"1\" class=\"dataframe\">\n",
              "  <thead>\n",
              "    <tr style=\"text-align: right;\">\n",
              "      <th></th>\n",
              "      <th>StartTime</th>\n",
              "      <th>Dur</th>\n",
              "      <th>Proto</th>\n",
              "      <th>SrcAddr</th>\n",
              "      <th>Sport</th>\n",
              "      <th>Dir</th>\n",
              "      <th>DstAddr</th>\n",
              "      <th>Dport</th>\n",
              "      <th>State</th>\n",
              "      <th>sTos</th>\n",
              "      <th>dTos</th>\n",
              "      <th>TotPkts</th>\n",
              "      <th>TotBytes</th>\n",
              "      <th>SrcBytes</th>\n",
              "      <th>Label</th>\n",
              "      <th>Malicious</th>\n",
              "    </tr>\n",
              "  </thead>\n",
              "  <tbody>\n",
              "    <tr>\n",
              "      <th>996</th>\n",
              "      <td>2011/08/15 11:00:12.932584</td>\n",
              "      <td>30.359243</td>\n",
              "      <td>tcp</td>\n",
              "      <td>147.32.84.165</td>\n",
              "      <td>1089</td>\n",
              "      <td>-&gt;</td>\n",
              "      <td>208.73.210.29</td>\n",
              "      <td>80</td>\n",
              "      <td>SPA_FSRPA</td>\n",
              "      <td>0.0</td>\n",
              "      <td>0.0</td>\n",
              "      <td>11</td>\n",
              "      <td>2355</td>\n",
              "      <td>412</td>\n",
              "      <td>flow=From-Botnet-V45-TCP-Established-HTTP-Ad-15</td>\n",
              "      <td>1.0</td>\n",
              "    </tr>\n",
              "    <tr>\n",
              "      <th>247827</th>\n",
              "      <td>2011/08/15 11:57:16.094347</td>\n",
              "      <td>0.000427</td>\n",
              "      <td>udp</td>\n",
              "      <td>147.32.84.165</td>\n",
              "      <td>1025</td>\n",
              "      <td>&lt;-&gt;</td>\n",
              "      <td>147.32.80.9</td>\n",
              "      <td>53</td>\n",
              "      <td>CON</td>\n",
              "      <td>0.0</td>\n",
              "      <td>0.0</td>\n",
              "      <td>2</td>\n",
              "      <td>203</td>\n",
              "      <td>64</td>\n",
              "      <td>flow=From-Botnet-V45-UDP-DNS</td>\n",
              "      <td>1.0</td>\n",
              "    </tr>\n",
              "    <tr>\n",
              "      <th>247946</th>\n",
              "      <td>2011/08/15 11:57:18.344004</td>\n",
              "      <td>0.019812</td>\n",
              "      <td>udp</td>\n",
              "      <td>147.32.84.165</td>\n",
              "      <td>1025</td>\n",
              "      <td>&lt;-&gt;</td>\n",
              "      <td>147.32.80.9</td>\n",
              "      <td>53</td>\n",
              "      <td>CON</td>\n",
              "      <td>0.0</td>\n",
              "      <td>0.0</td>\n",
              "      <td>2</td>\n",
              "      <td>590</td>\n",
              "      <td>87</td>\n",
              "      <td>flow=From-Botnet-V45-UDP-DNS</td>\n",
              "      <td>1.0</td>\n",
              "    </tr>\n",
              "    <tr>\n",
              "      <th>247947</th>\n",
              "      <td>2011/08/15 11:57:18.365188</td>\n",
              "      <td>0.046706</td>\n",
              "      <td>tcp</td>\n",
              "      <td>147.32.84.165</td>\n",
              "      <td>1027</td>\n",
              "      <td>-&gt;</td>\n",
              "      <td>74.125.232.204</td>\n",
              "      <td>80</td>\n",
              "      <td>SRPA_SPA</td>\n",
              "      <td>0.0</td>\n",
              "      <td>0.0</td>\n",
              "      <td>7</td>\n",
              "      <td>882</td>\n",
              "      <td>629</td>\n",
              "      <td>flow=From-Botnet-V45-TCP-HTTP-Google-Net-Estab...</td>\n",
              "      <td>1.0</td>\n",
              "    </tr>\n",
              "    <tr>\n",
              "      <th>266111</th>\n",
              "      <td>2011/08/15 12:01:51.751806</td>\n",
              "      <td>0.000000</td>\n",
              "      <td>udp</td>\n",
              "      <td>147.32.84.165</td>\n",
              "      <td>137</td>\n",
              "      <td>-&gt;</td>\n",
              "      <td>192.168.88.121</td>\n",
              "      <td>33464</td>\n",
              "      <td>INT</td>\n",
              "      <td>0.0</td>\n",
              "      <td>NaN</td>\n",
              "      <td>1</td>\n",
              "      <td>104</td>\n",
              "      <td>104</td>\n",
              "      <td>flow=From-Botnet-V45-UDP-Attempt</td>\n",
              "      <td>1.0</td>\n",
              "    </tr>\n",
              "    <tr>\n",
              "      <th>...</th>\n",
              "      <td>...</td>\n",
              "      <td>...</td>\n",
              "      <td>...</td>\n",
              "      <td>...</td>\n",
              "      <td>...</td>\n",
              "      <td>...</td>\n",
              "      <td>...</td>\n",
              "      <td>...</td>\n",
              "      <td>...</td>\n",
              "      <td>...</td>\n",
              "      <td>...</td>\n",
              "      <td>...</td>\n",
              "      <td>...</td>\n",
              "      <td>...</td>\n",
              "      <td>...</td>\n",
              "      <td>...</td>\n",
              "    </tr>\n",
              "    <tr>\n",
              "      <th>1119452</th>\n",
              "      <td>2011/08/15 15:10:59.399724</td>\n",
              "      <td>9.012891</td>\n",
              "      <td>tcp</td>\n",
              "      <td>147.32.84.165</td>\n",
              "      <td>1329</td>\n",
              "      <td>-&gt;</td>\n",
              "      <td>218.223.68.52</td>\n",
              "      <td>25</td>\n",
              "      <td>S_</td>\n",
              "      <td>0.0</td>\n",
              "      <td>NaN</td>\n",
              "      <td>3</td>\n",
              "      <td>186</td>\n",
              "      <td>186</td>\n",
              "      <td>flow=From-Botnet-V45-TCP-Attempt-SPAM</td>\n",
              "      <td>1.0</td>\n",
              "    </tr>\n",
              "    <tr>\n",
              "      <th>1119453</th>\n",
              "      <td>2011/08/15 15:10:59.399778</td>\n",
              "      <td>9.012855</td>\n",
              "      <td>tcp</td>\n",
              "      <td>147.32.84.165</td>\n",
              "      <td>1335</td>\n",
              "      <td>-&gt;</td>\n",
              "      <td>24.71.223.11</td>\n",
              "      <td>25</td>\n",
              "      <td>S_</td>\n",
              "      <td>0.0</td>\n",
              "      <td>NaN</td>\n",
              "      <td>3</td>\n",
              "      <td>186</td>\n",
              "      <td>186</td>\n",
              "      <td>flow=From-Botnet-V45-TCP-Attempt-SPAM</td>\n",
              "      <td>1.0</td>\n",
              "    </tr>\n",
              "    <tr>\n",
              "      <th>1119454</th>\n",
              "      <td>2011/08/15 15:10:59.399832</td>\n",
              "      <td>9.012806</td>\n",
              "      <td>tcp</td>\n",
              "      <td>147.32.84.165</td>\n",
              "      <td>1346</td>\n",
              "      <td>-&gt;</td>\n",
              "      <td>210.138.174.72</td>\n",
              "      <td>25</td>\n",
              "      <td>S_</td>\n",
              "      <td>0.0</td>\n",
              "      <td>NaN</td>\n",
              "      <td>3</td>\n",
              "      <td>186</td>\n",
              "      <td>186</td>\n",
              "      <td>flow=From-Botnet-V45-TCP-Attempt-SPAM</td>\n",
              "      <td>1.0</td>\n",
              "    </tr>\n",
              "    <tr>\n",
              "      <th>1119455</th>\n",
              "      <td>2011/08/15 15:10:59.399886</td>\n",
              "      <td>9.012778</td>\n",
              "      <td>tcp</td>\n",
              "      <td>147.32.84.165</td>\n",
              "      <td>1348</td>\n",
              "      <td>-&gt;</td>\n",
              "      <td>74.125.39.27</td>\n",
              "      <td>25</td>\n",
              "      <td>S_</td>\n",
              "      <td>0.0</td>\n",
              "      <td>NaN</td>\n",
              "      <td>3</td>\n",
              "      <td>186</td>\n",
              "      <td>186</td>\n",
              "      <td>flow=From-Botnet-V45-TCP-Attempt-SPAM</td>\n",
              "      <td>1.0</td>\n",
              "    </tr>\n",
              "    <tr>\n",
              "      <th>1119456</th>\n",
              "      <td>2011/08/15 15:10:59.399939</td>\n",
              "      <td>9.012851</td>\n",
              "      <td>tcp</td>\n",
              "      <td>147.32.84.165</td>\n",
              "      <td>1349</td>\n",
              "      <td>-&gt;</td>\n",
              "      <td>74.125.113.27</td>\n",
              "      <td>25</td>\n",
              "      <td>S_</td>\n",
              "      <td>0.0</td>\n",
              "      <td>NaN</td>\n",
              "      <td>3</td>\n",
              "      <td>186</td>\n",
              "      <td>186</td>\n",
              "      <td>flow=From-Botnet-V45-TCP-Attempt-SPAM</td>\n",
              "      <td>1.0</td>\n",
              "    </tr>\n",
              "  </tbody>\n",
              "</table>\n",
              "<p>2580 rows × 16 columns</p>\n",
              "</div>"
            ],
            "text/plain": [
              "                          StartTime  ...  Malicious\n",
              "996      2011/08/15 11:00:12.932584  ...        1.0\n",
              "247827   2011/08/15 11:57:16.094347  ...        1.0\n",
              "247946   2011/08/15 11:57:18.344004  ...        1.0\n",
              "247947   2011/08/15 11:57:18.365188  ...        1.0\n",
              "266111   2011/08/15 12:01:51.751806  ...        1.0\n",
              "...                             ...  ...        ...\n",
              "1119452  2011/08/15 15:10:59.399724  ...        1.0\n",
              "1119453  2011/08/15 15:10:59.399778  ...        1.0\n",
              "1119454  2011/08/15 15:10:59.399832  ...        1.0\n",
              "1119455  2011/08/15 15:10:59.399886  ...        1.0\n",
              "1119456  2011/08/15 15:10:59.399939  ...        1.0\n",
              "\n",
              "[2580 rows x 16 columns]"
            ]
          },
          "metadata": {
            "tags": []
          }
        },
        {
          "output_type": "display_data",
          "data": {
            "text/html": [
              "<div>\n",
              "<style scoped>\n",
              "    .dataframe tbody tr th:only-of-type {\n",
              "        vertical-align: middle;\n",
              "    }\n",
              "\n",
              "    .dataframe tbody tr th {\n",
              "        vertical-align: top;\n",
              "    }\n",
              "\n",
              "    .dataframe thead th {\n",
              "        text-align: right;\n",
              "    }\n",
              "</style>\n",
              "<table border=\"1\" class=\"dataframe\">\n",
              "  <thead>\n",
              "    <tr style=\"text-align: right;\">\n",
              "      <th></th>\n",
              "      <th>StartTime</th>\n",
              "      <th>Dur</th>\n",
              "      <th>Proto</th>\n",
              "      <th>SrcAddr</th>\n",
              "      <th>Sport</th>\n",
              "      <th>Dir</th>\n",
              "      <th>DstAddr</th>\n",
              "      <th>Dport</th>\n",
              "      <th>State</th>\n",
              "      <th>sTos</th>\n",
              "      <th>dTos</th>\n",
              "      <th>TotPkts</th>\n",
              "      <th>TotBytes</th>\n",
              "      <th>SrcBytes</th>\n",
              "      <th>Label</th>\n",
              "      <th>Malicious</th>\n",
              "    </tr>\n",
              "  </thead>\n",
              "  <tbody>\n",
              "    <tr>\n",
              "      <th>0</th>\n",
              "      <td>2011/08/15 10:42:52.613616</td>\n",
              "      <td>1065.731934</td>\n",
              "      <td>udp</td>\n",
              "      <td>188.114.23.248</td>\n",
              "      <td>14268</td>\n",
              "      <td>&lt;-&gt;</td>\n",
              "      <td>147.32.84.118</td>\n",
              "      <td>1150</td>\n",
              "      <td>CON</td>\n",
              "      <td>0.0</td>\n",
              "      <td>0.0</td>\n",
              "      <td>2</td>\n",
              "      <td>252</td>\n",
              "      <td>145</td>\n",
              "      <td>flow=Background-UDP-Established</td>\n",
              "      <td>0.0</td>\n",
              "    </tr>\n",
              "    <tr>\n",
              "      <th>1</th>\n",
              "      <td>2011/08/15 10:42:52.676517</td>\n",
              "      <td>1471.787109</td>\n",
              "      <td>udp</td>\n",
              "      <td>2.224.28.134</td>\n",
              "      <td>48279</td>\n",
              "      <td>&lt;-&gt;</td>\n",
              "      <td>147.32.84.118</td>\n",
              "      <td>1150</td>\n",
              "      <td>CON</td>\n",
              "      <td>0.0</td>\n",
              "      <td>0.0</td>\n",
              "      <td>2</td>\n",
              "      <td>252</td>\n",
              "      <td>145</td>\n",
              "      <td>flow=Background-UDP-Established</td>\n",
              "      <td>0.0</td>\n",
              "    </tr>\n",
              "    <tr>\n",
              "      <th>2</th>\n",
              "      <td>2011/08/15 10:43:34.544316</td>\n",
              "      <td>1095.947266</td>\n",
              "      <td>udp</td>\n",
              "      <td>41.145.83.148</td>\n",
              "      <td>40812</td>\n",
              "      <td>&lt;-&gt;</td>\n",
              "      <td>147.32.84.118</td>\n",
              "      <td>1150</td>\n",
              "      <td>CON</td>\n",
              "      <td>0.0</td>\n",
              "      <td>0.0</td>\n",
              "      <td>2</td>\n",
              "      <td>288</td>\n",
              "      <td>145</td>\n",
              "      <td>flow=Background-UDP-Established</td>\n",
              "      <td>0.0</td>\n",
              "    </tr>\n",
              "    <tr>\n",
              "      <th>3</th>\n",
              "      <td>2011/08/15 10:58:26.370803</td>\n",
              "      <td>2896.377197</td>\n",
              "      <td>udp</td>\n",
              "      <td>217.42.33.104</td>\n",
              "      <td>55066</td>\n",
              "      <td>&lt;-&gt;</td>\n",
              "      <td>147.32.84.118</td>\n",
              "      <td>1150</td>\n",
              "      <td>CON</td>\n",
              "      <td>0.0</td>\n",
              "      <td>0.0</td>\n",
              "      <td>3</td>\n",
              "      <td>433</td>\n",
              "      <td>290</td>\n",
              "      <td>flow=Background-UDP-Established</td>\n",
              "      <td>0.0</td>\n",
              "    </tr>\n",
              "    <tr>\n",
              "      <th>4</th>\n",
              "      <td>2011/08/15 10:58:27.208147</td>\n",
              "      <td>1384.708008</td>\n",
              "      <td>udp</td>\n",
              "      <td>41.107.0.220</td>\n",
              "      <td>11066</td>\n",
              "      <td>&lt;-&gt;</td>\n",
              "      <td>147.32.84.118</td>\n",
              "      <td>1150</td>\n",
              "      <td>CON</td>\n",
              "      <td>0.0</td>\n",
              "      <td>0.0</td>\n",
              "      <td>2</td>\n",
              "      <td>288</td>\n",
              "      <td>145</td>\n",
              "      <td>flow=Background-UDP-Established</td>\n",
              "      <td>0.0</td>\n",
              "    </tr>\n",
              "  </tbody>\n",
              "</table>\n",
              "</div>"
            ],
            "text/plain": [
              "                    StartTime  ...  Malicious\n",
              "0  2011/08/15 10:42:52.613616  ...        0.0\n",
              "1  2011/08/15 10:42:52.676517  ...        0.0\n",
              "2  2011/08/15 10:43:34.544316  ...        0.0\n",
              "3  2011/08/15 10:58:26.370803  ...        0.0\n",
              "4  2011/08/15 10:58:27.208147  ...        0.0\n",
              "\n",
              "[5 rows x 16 columns]"
            ]
          },
          "metadata": {
            "tags": []
          }
        }
      ]
    },
    {
      "cell_type": "code",
      "metadata": {
        "id": "tGRCQZJJB1an"
      },
      "source": [
        "# Break data into target and features\r\n",
        "y4 = scenario_4.Malicious\r\n",
        "features = ['Dur', 'TotPkts', 'TotBytes', 'SrcBytes']\r\n",
        "X4 = scenario_4[features].copy()\r\n",
        "\r\n",
        "# Break data into training and testing data (80/20 split)\r\n",
        "X4_train, X4_test, y4_train, y4_test, = train_test_split(X4,y4, train_size = 0.8, test_size = 0.2, random_state = 1)"
      ],
      "execution_count": null,
      "outputs": []
    },
    {
      "cell_type": "code",
      "metadata": {
        "colab": {
          "base_uri": "https://localhost:8080/"
        },
        "id": "Y33A2PTQKb_c",
        "outputId": "47551d98-9c5d-47f8-c03e-fb1ad105f53d"
      },
      "source": [
        "# Generate base model\r\n",
        "classifier_4 = RandomForestClassifier(max_leaf_nodes = 100, random_state = 1)\r\n",
        "\r\n",
        "# Fit model to training data\r\n",
        "classifier_4.fit(X4_train,y4_train)"
      ],
      "execution_count": null,
      "outputs": [
        {
          "output_type": "execute_result",
          "data": {
            "text/plain": [
              "RandomForestClassifier(bootstrap=True, ccp_alpha=0.0, class_weight=None,\n",
              "                       criterion='gini', max_depth=None, max_features='auto',\n",
              "                       max_leaf_nodes=100, max_samples=None,\n",
              "                       min_impurity_decrease=0.0, min_impurity_split=None,\n",
              "                       min_samples_leaf=1, min_samples_split=2,\n",
              "                       min_weight_fraction_leaf=0.0, n_estimators=100,\n",
              "                       n_jobs=None, oob_score=False, random_state=1, verbose=0,\n",
              "                       warm_start=False)"
            ]
          },
          "metadata": {
            "tags": []
          },
          "execution_count": 6
        }
      ]
    },
    {
      "cell_type": "code",
      "metadata": {
        "colab": {
          "base_uri": "https://localhost:8080/"
        },
        "id": "pSsv3gNdKg52",
        "outputId": "f472f6a4-a66d-4bd5-935c-23a63937251f"
      },
      "source": [
        "# Very high, still useless\r\n",
        "predictions4 = classifier_4.predict(X4_test)\r\n",
        "\r\n",
        "accuracy_score(y4_test, predictions4)"
      ],
      "execution_count": null,
      "outputs": [
        {
          "output_type": "execute_result",
          "data": {
            "text/plain": [
              "0.9984122453348557"
            ]
          },
          "metadata": {
            "tags": []
          },
          "execution_count": 7
        }
      ]
    },
    {
      "cell_type": "code",
      "metadata": {
        "colab": {
          "base_uri": "https://localhost:8080/"
        },
        "id": "7eLdbgcDKmIH",
        "outputId": "076f9dce-7601-4971-e9fb-a460a2787a78"
      },
      "source": [
        "# Weakest f1 so far\r\n",
        "f1_score(y4_test, predictions4)"
      ],
      "execution_count": null,
      "outputs": [
        {
          "output_type": "execute_result",
          "data": {
            "text/plain": [
              "0.4899713467048711"
            ]
          },
          "metadata": {
            "tags": []
          },
          "execution_count": 8
        }
      ]
    },
    {
      "cell_type": "code",
      "metadata": {
        "colab": {
          "base_uri": "https://localhost:8080/",
          "height": 105
        },
        "id": "5qqNyov2Kt30",
        "outputId": "32bea08a-a4c4-493a-80a0-94657fc45095"
      },
      "source": [
        "# Relatively low number of true negatives, so the false negatives trend really hurts the f1 score here\r\n",
        "labels4 = np.unique(y4_test)\r\n",
        "cm4 = confusion_matrix(y4_test, predictions4, labels=labels4)\r\n",
        "pd.DataFrame(cm4, index=labels4, columns=labels4)"
      ],
      "execution_count": null,
      "outputs": [
        {
          "output_type": "execute_result",
          "data": {
            "text/html": [
              "<div>\n",
              "<style scoped>\n",
              "    .dataframe tbody tr th:only-of-type {\n",
              "        vertical-align: middle;\n",
              "    }\n",
              "\n",
              "    .dataframe tbody tr th {\n",
              "        vertical-align: top;\n",
              "    }\n",
              "\n",
              "    .dataframe thead th {\n",
              "        text-align: right;\n",
              "    }\n",
              "</style>\n",
              "<table border=\"1\" class=\"dataframe\">\n",
              "  <thead>\n",
              "    <tr style=\"text-align: right;\">\n",
              "      <th></th>\n",
              "      <th>0.0</th>\n",
              "      <th>1.0</th>\n",
              "    </tr>\n",
              "  </thead>\n",
              "  <tbody>\n",
              "    <tr>\n",
              "      <th>0.0</th>\n",
              "      <td>223689</td>\n",
              "      <td>27</td>\n",
              "    </tr>\n",
              "    <tr>\n",
              "      <th>1.0</th>\n",
              "      <td>329</td>\n",
              "      <td>171</td>\n",
              "    </tr>\n",
              "  </tbody>\n",
              "</table>\n",
              "</div>"
            ],
            "text/plain": [
              "        0.0  1.0\n",
              "0.0  223689   27\n",
              "1.0     329  171"
            ]
          },
          "metadata": {
            "tags": []
          },
          "execution_count": 9
        }
      ]
    },
    {
      "cell_type": "code",
      "metadata": {
        "colab": {
          "base_uri": "https://localhost:8080/",
          "height": 295
        },
        "id": "vG_tNMv_LYAc",
        "outputId": "b13d39fe-5495-4266-ad79-c3e92d1c01f8"
      },
      "source": [
        "# TotPkts consistently on bottom. Lower F1 score & TotBytes isn't the top predictor\r\n",
        "importances4 = classifier_4.feature_importances_\r\n",
        "indices4 = np.argsort(importances4)\r\n",
        "\r\n",
        "plt.title('Feature Importances')\r\n",
        "plt.barh(range(len(indices4)), importances4[indices4], color='b', align='center')\r\n",
        "plt.yticks(range(len(indices4)), [features[i] for i in indices4])\r\n",
        "plt.xlabel('Relative Importance')\r\n",
        "plt.show()"
      ],
      "execution_count": null,
      "outputs": [
        {
          "output_type": "display_data",
          "data": {
            "image/png": "[encoded data removed]",
            "text/plain": [
              "<Figure size 432x288 with 1 Axes>"
            ]
          },
          "metadata": {
            "tags": [],
            "needs_background": "light"
          }
        }
      ]
    },
    {
      "cell_type": "markdown",
      "metadata": {
        "id": "1o1P2IaiNti2"
      },
      "source": [
        "**Scenario 5 Model 1**"
      ]
    },
    {
      "cell_type": "code",
      "metadata": {
        "id": "OAv-klMtNvTG"
      },
      "source": [
        "scenario_5 = pd.read_csv('https://mcfp.felk.cvut.cz/publicDatasets/CTU-Malware-Capture-Botnet-46/detailed-bidirectional-flow-labels/capture20110815-2.binetflow')"
      ],
      "execution_count": null,
      "outputs": []
    },
    {
      "cell_type": "code",
      "metadata": {
        "id": "eIU8TUfuOIvm"
      },
      "source": [
        "# Generate binary malicious target column\r\n",
        "scenario_5.loc[scenario_5['SrcAddr'] == '147.32.84.165', 'Malicious'] = 1\r\n",
        "scenario_5.loc[scenario_5['SrcAddr'] != '147.32.84.165', 'Malicious'] = 0"
      ],
      "execution_count": null,
      "outputs": []
    },
    {
      "cell_type": "code",
      "metadata": {
        "colab": {
          "base_uri": "https://localhost:8080/",
          "height": 565
        },
        "id": "iunXmKTbOepU",
        "outputId": "54dc10d6-d9f5-4c0e-f25b-3d8c74319256"
      },
      "source": [
        "display(scenario_5.loc[scenario_5['SrcAddr'] == '147.32.84.165'])\r\n",
        "display(scenario_5.head())"
      ],
      "execution_count": null,
      "outputs": [
        {
          "output_type": "display_data",
          "data": {
            "text/html": [
              "<div>\n",
              "<style scoped>\n",
              "    .dataframe tbody tr th:only-of-type {\n",
              "        vertical-align: middle;\n",
              "    }\n",
              "\n",
              "    .dataframe tbody tr th {\n",
              "        vertical-align: top;\n",
              "    }\n",
              "\n",
              "    .dataframe thead th {\n",
              "        text-align: right;\n",
              "    }\n",
              "</style>\n",
              "<table border=\"1\" class=\"dataframe\">\n",
              "  <thead>\n",
              "    <tr style=\"text-align: right;\">\n",
              "      <th></th>\n",
              "      <th>StartTime</th>\n",
              "      <th>Dur</th>\n",
              "      <th>Proto</th>\n",
              "      <th>SrcAddr</th>\n",
              "      <th>Sport</th>\n",
              "      <th>Dir</th>\n",
              "      <th>DstAddr</th>\n",
              "      <th>Dport</th>\n",
              "      <th>State</th>\n",
              "      <th>sTos</th>\n",
              "      <th>dTos</th>\n",
              "      <th>TotPkts</th>\n",
              "      <th>TotBytes</th>\n",
              "      <th>SrcBytes</th>\n",
              "      <th>Label</th>\n",
              "      <th>Malicious</th>\n",
              "    </tr>\n",
              "  </thead>\n",
              "  <tbody>\n",
              "    <tr>\n",
              "      <th>45637</th>\n",
              "      <td>2011/08/15 16:52:50.947767</td>\n",
              "      <td>0.000130</td>\n",
              "      <td>udp</td>\n",
              "      <td>147.32.84.165</td>\n",
              "      <td>1025</td>\n",
              "      <td>&lt;-&gt;</td>\n",
              "      <td>147.32.80.9</td>\n",
              "      <td>53</td>\n",
              "      <td>CON</td>\n",
              "      <td>0.0</td>\n",
              "      <td>0.0</td>\n",
              "      <td>2</td>\n",
              "      <td>203</td>\n",
              "      <td>64</td>\n",
              "      <td>flow=From-Botnet-V46-UDP-DNS</td>\n",
              "      <td>1.0</td>\n",
              "    </tr>\n",
              "    <tr>\n",
              "      <th>45741</th>\n",
              "      <td>2011/08/15 16:52:53.201828</td>\n",
              "      <td>0.000452</td>\n",
              "      <td>udp</td>\n",
              "      <td>147.32.84.165</td>\n",
              "      <td>1025</td>\n",
              "      <td>&lt;-&gt;</td>\n",
              "      <td>147.32.80.9</td>\n",
              "      <td>53</td>\n",
              "      <td>CON</td>\n",
              "      <td>0.0</td>\n",
              "      <td>0.0</td>\n",
              "      <td>2</td>\n",
              "      <td>590</td>\n",
              "      <td>87</td>\n",
              "      <td>flow=From-Botnet-V46-UDP-DNS</td>\n",
              "      <td>1.0</td>\n",
              "    </tr>\n",
              "    <tr>\n",
              "      <th>45742</th>\n",
              "      <td>2011/08/15 16:52:53.203182</td>\n",
              "      <td>0.037394</td>\n",
              "      <td>tcp</td>\n",
              "      <td>147.32.84.165</td>\n",
              "      <td>1027</td>\n",
              "      <td>-&gt;</td>\n",
              "      <td>74.125.232.195</td>\n",
              "      <td>80</td>\n",
              "      <td>SRPA_SPA</td>\n",
              "      <td>0.0</td>\n",
              "      <td>0.0</td>\n",
              "      <td>7</td>\n",
              "      <td>882</td>\n",
              "      <td>629</td>\n",
              "      <td>flow=From-Botnet-V46-TCP-HTTP-Google-Net-Estab...</td>\n",
              "      <td>1.0</td>\n",
              "    </tr>\n",
              "    <tr>\n",
              "      <th>48870</th>\n",
              "      <td>2011/08/15 16:53:42.316319</td>\n",
              "      <td>0.054648</td>\n",
              "      <td>udp</td>\n",
              "      <td>147.32.84.165</td>\n",
              "      <td>1025</td>\n",
              "      <td>&lt;-&gt;</td>\n",
              "      <td>147.32.80.9</td>\n",
              "      <td>53</td>\n",
              "      <td>CON</td>\n",
              "      <td>0.0</td>\n",
              "      <td>0.0</td>\n",
              "      <td>2</td>\n",
              "      <td>226</td>\n",
              "      <td>71</td>\n",
              "      <td>flow=From-Botnet-V46-UDP-DNS</td>\n",
              "      <td>1.0</td>\n",
              "    </tr>\n",
              "    <tr>\n",
              "      <th>48879</th>\n",
              "      <td>2011/08/15 16:53:42.371928</td>\n",
              "      <td>1139.728638</td>\n",
              "      <td>tcp</td>\n",
              "      <td>147.32.84.165</td>\n",
              "      <td>1038</td>\n",
              "      <td>-&gt;</td>\n",
              "      <td>94.63.149.150</td>\n",
              "      <td>80</td>\n",
              "      <td>SPA_SPA</td>\n",
              "      <td>0.0</td>\n",
              "      <td>0.0</td>\n",
              "      <td>48</td>\n",
              "      <td>3584</td>\n",
              "      <td>1169</td>\n",
              "      <td>flow=From-Botnet-V46-TCP-WEB-Established</td>\n",
              "      <td>1.0</td>\n",
              "    </tr>\n",
              "    <tr>\n",
              "      <th>...</th>\n",
              "      <td>...</td>\n",
              "      <td>...</td>\n",
              "      <td>...</td>\n",
              "      <td>...</td>\n",
              "      <td>...</td>\n",
              "      <td>...</td>\n",
              "      <td>...</td>\n",
              "      <td>...</td>\n",
              "      <td>...</td>\n",
              "      <td>...</td>\n",
              "      <td>...</td>\n",
              "      <td>...</td>\n",
              "      <td>...</td>\n",
              "      <td>...</td>\n",
              "      <td>...</td>\n",
              "      <td>...</td>\n",
              "    </tr>\n",
              "    <tr>\n",
              "      <th>127960</th>\n",
              "      <td>2011/08/15 17:12:52.581592</td>\n",
              "      <td>1.008225</td>\n",
              "      <td>tcp</td>\n",
              "      <td>147.32.84.165</td>\n",
              "      <td>2240</td>\n",
              "      <td>-&gt;</td>\n",
              "      <td>46.4.36.120</td>\n",
              "      <td>443</td>\n",
              "      <td>S_RA</td>\n",
              "      <td>0.0</td>\n",
              "      <td>0.0</td>\n",
              "      <td>6</td>\n",
              "      <td>366</td>\n",
              "      <td>186</td>\n",
              "      <td>flow=From-Botnet-V46-TCP-Attempt</td>\n",
              "      <td>1.0</td>\n",
              "    </tr>\n",
              "    <tr>\n",
              "      <th>128021</th>\n",
              "      <td>2011/08/15 17:12:53.673162</td>\n",
              "      <td>0.022795</td>\n",
              "      <td>tcp</td>\n",
              "      <td>147.32.84.165</td>\n",
              "      <td>2242</td>\n",
              "      <td>-&gt;</td>\n",
              "      <td>212.117.171.138</td>\n",
              "      <td>65500</td>\n",
              "      <td>SA_SA</td>\n",
              "      <td>0.0</td>\n",
              "      <td>0.0</td>\n",
              "      <td>3</td>\n",
              "      <td>184</td>\n",
              "      <td>122</td>\n",
              "      <td>flow=From-Botnet-V46-TCP-Not-Encrypted-SMTP-Pr...</td>\n",
              "      <td>1.0</td>\n",
              "    </tr>\n",
              "    <tr>\n",
              "      <th>128029</th>\n",
              "      <td>2011/08/15 17:12:53.817294</td>\n",
              "      <td>0.184262</td>\n",
              "      <td>udp</td>\n",
              "      <td>147.32.84.165</td>\n",
              "      <td>1025</td>\n",
              "      <td>&lt;-&gt;</td>\n",
              "      <td>147.32.80.9</td>\n",
              "      <td>53</td>\n",
              "      <td>CON</td>\n",
              "      <td>0.0</td>\n",
              "      <td>0.0</td>\n",
              "      <td>2</td>\n",
              "      <td>294</td>\n",
              "      <td>72</td>\n",
              "      <td>flow=From-Botnet-V46-UDP-DNS</td>\n",
              "      <td>1.0</td>\n",
              "    </tr>\n",
              "    <tr>\n",
              "      <th>128037</th>\n",
              "      <td>2011/08/15 17:12:54.002371</td>\n",
              "      <td>31.425388</td>\n",
              "      <td>tcp</td>\n",
              "      <td>147.32.84.165</td>\n",
              "      <td>2243</td>\n",
              "      <td>-&gt;</td>\n",
              "      <td>64.12.175.136</td>\n",
              "      <td>587</td>\n",
              "      <td>SPA_FSPA</td>\n",
              "      <td>0.0</td>\n",
              "      <td>0.0</td>\n",
              "      <td>14</td>\n",
              "      <td>2752</td>\n",
              "      <td>195</td>\n",
              "      <td>flow=From-Botnet-V46-TCP-Established-SPAM</td>\n",
              "      <td>1.0</td>\n",
              "    </tr>\n",
              "    <tr>\n",
              "      <th>128066</th>\n",
              "      <td>2011/08/15 17:12:54.584374</td>\n",
              "      <td>0.027378</td>\n",
              "      <td>tcp</td>\n",
              "      <td>147.32.84.165</td>\n",
              "      <td>2244</td>\n",
              "      <td>-&gt;</td>\n",
              "      <td>46.4.36.120</td>\n",
              "      <td>443</td>\n",
              "      <td>S_RA</td>\n",
              "      <td>0.0</td>\n",
              "      <td>0.0</td>\n",
              "      <td>2</td>\n",
              "      <td>122</td>\n",
              "      <td>62</td>\n",
              "      <td>flow=From-Botnet-V46-TCP-Attempt</td>\n",
              "      <td>1.0</td>\n",
              "    </tr>\n",
              "  </tbody>\n",
              "</table>\n",
              "<p>901 rows × 16 columns</p>\n",
              "</div>"
            ],
            "text/plain": [
              "                         StartTime  ...  Malicious\n",
              "45637   2011/08/15 16:52:50.947767  ...        1.0\n",
              "45741   2011/08/15 16:52:53.201828  ...        1.0\n",
              "45742   2011/08/15 16:52:53.203182  ...        1.0\n",
              "48870   2011/08/15 16:53:42.316319  ...        1.0\n",
              "48879   2011/08/15 16:53:42.371928  ...        1.0\n",
              "...                            ...  ...        ...\n",
              "127960  2011/08/15 17:12:52.581592  ...        1.0\n",
              "128021  2011/08/15 17:12:53.673162  ...        1.0\n",
              "128029  2011/08/15 17:12:53.817294  ...        1.0\n",
              "128037  2011/08/15 17:12:54.002371  ...        1.0\n",
              "128066  2011/08/15 17:12:54.584374  ...        1.0\n",
              "\n",
              "[901 rows x 16 columns]"
            ]
          },
          "metadata": {
            "tags": []
          }
        },
        {
          "output_type": "display_data",
          "data": {
            "text/html": [
              "<div>\n",
              "<style scoped>\n",
              "    .dataframe tbody tr th:only-of-type {\n",
              "        vertical-align: middle;\n",
              "    }\n",
              "\n",
              "    .dataframe tbody tr th {\n",
              "        vertical-align: top;\n",
              "    }\n",
              "\n",
              "    .dataframe thead th {\n",
              "        text-align: right;\n",
              "    }\n",
              "</style>\n",
              "<table border=\"1\" class=\"dataframe\">\n",
              "  <thead>\n",
              "    <tr style=\"text-align: right;\">\n",
              "      <th></th>\n",
              "      <th>StartTime</th>\n",
              "      <th>Dur</th>\n",
              "      <th>Proto</th>\n",
              "      <th>SrcAddr</th>\n",
              "      <th>Sport</th>\n",
              "      <th>Dir</th>\n",
              "      <th>DstAddr</th>\n",
              "      <th>Dport</th>\n",
              "      <th>State</th>\n",
              "      <th>sTos</th>\n",
              "      <th>dTos</th>\n",
              "      <th>TotPkts</th>\n",
              "      <th>TotBytes</th>\n",
              "      <th>SrcBytes</th>\n",
              "      <th>Label</th>\n",
              "      <th>Malicious</th>\n",
              "    </tr>\n",
              "  </thead>\n",
              "  <tbody>\n",
              "    <tr>\n",
              "      <th>0</th>\n",
              "      <td>2011/08/15 16:43:20.931208</td>\n",
              "      <td>1783.916870</td>\n",
              "      <td>tcp</td>\n",
              "      <td>147.32.84.59</td>\n",
              "      <td>64131</td>\n",
              "      <td>&lt;?&gt;</td>\n",
              "      <td>164.8.32.159</td>\n",
              "      <td>54992</td>\n",
              "      <td>PA_PA</td>\n",
              "      <td>0.0</td>\n",
              "      <td>0.0</td>\n",
              "      <td>293</td>\n",
              "      <td>32160</td>\n",
              "      <td>20485</td>\n",
              "      <td>flow=Background-Established-cmpgw-CVUT</td>\n",
              "      <td>0.0</td>\n",
              "    </tr>\n",
              "    <tr>\n",
              "      <th>1</th>\n",
              "      <td>2011/08/15 16:43:20.933428</td>\n",
              "      <td>0.444453</td>\n",
              "      <td>tcp</td>\n",
              "      <td>147.32.87.252</td>\n",
              "      <td>49218</td>\n",
              "      <td>&lt;?&gt;</td>\n",
              "      <td>147.32.80.13</td>\n",
              "      <td>3128</td>\n",
              "      <td>FPA_FPA</td>\n",
              "      <td>0.0</td>\n",
              "      <td>0.0</td>\n",
              "      <td>879</td>\n",
              "      <td>747909</td>\n",
              "      <td>19566</td>\n",
              "      <td>flow=To-Background-CVUT-Proxy</td>\n",
              "      <td>0.0</td>\n",
              "    </tr>\n",
              "    <tr>\n",
              "      <th>2</th>\n",
              "      <td>2011/08/15 16:43:20.933441</td>\n",
              "      <td>1804.837158</td>\n",
              "      <td>tcp</td>\n",
              "      <td>41.143.58.184</td>\n",
              "      <td>1328</td>\n",
              "      <td>&lt;?&gt;</td>\n",
              "      <td>147.32.86.179</td>\n",
              "      <td>58675</td>\n",
              "      <td>PA_PA</td>\n",
              "      <td>0.0</td>\n",
              "      <td>0.0</td>\n",
              "      <td>9547</td>\n",
              "      <td>942226</td>\n",
              "      <td>580940</td>\n",
              "      <td>flow=Background</td>\n",
              "      <td>0.0</td>\n",
              "    </tr>\n",
              "    <tr>\n",
              "      <th>3</th>\n",
              "      <td>2011/08/15 16:43:20.933541</td>\n",
              "      <td>0.187604</td>\n",
              "      <td>tcp</td>\n",
              "      <td>147.32.86.155</td>\n",
              "      <td>51273</td>\n",
              "      <td>&lt;?&gt;</td>\n",
              "      <td>204.154.94.81</td>\n",
              "      <td>80</td>\n",
              "      <td>FA_FA</td>\n",
              "      <td>0.0</td>\n",
              "      <td>0.0</td>\n",
              "      <td>3</td>\n",
              "      <td>198</td>\n",
              "      <td>132</td>\n",
              "      <td>flow=Background</td>\n",
              "      <td>0.0</td>\n",
              "    </tr>\n",
              "    <tr>\n",
              "      <th>4</th>\n",
              "      <td>2011/08/15 16:43:20.933942</td>\n",
              "      <td>1804.610718</td>\n",
              "      <td>tcp</td>\n",
              "      <td>147.32.86.179</td>\n",
              "      <td>58675</td>\n",
              "      <td>&lt;?&gt;</td>\n",
              "      <td>151.42.234.124</td>\n",
              "      <td>50001</td>\n",
              "      <td>PA_PA</td>\n",
              "      <td>0.0</td>\n",
              "      <td>0.0</td>\n",
              "      <td>29890</td>\n",
              "      <td>3689108</td>\n",
              "      <td>917036</td>\n",
              "      <td>flow=Background</td>\n",
              "      <td>0.0</td>\n",
              "    </tr>\n",
              "  </tbody>\n",
              "</table>\n",
              "</div>"
            ],
            "text/plain": [
              "                    StartTime  ...  Malicious\n",
              "0  2011/08/15 16:43:20.931208  ...        0.0\n",
              "1  2011/08/15 16:43:20.933428  ...        0.0\n",
              "2  2011/08/15 16:43:20.933441  ...        0.0\n",
              "3  2011/08/15 16:43:20.933541  ...        0.0\n",
              "4  2011/08/15 16:43:20.933942  ...        0.0\n",
              "\n",
              "[5 rows x 16 columns]"
            ]
          },
          "metadata": {
            "tags": []
          }
        }
      ]
    },
    {
      "cell_type": "code",
      "metadata": {
        "id": "pZgaqHwuOjlJ"
      },
      "source": [
        "# Break data into target and features\r\n",
        "y5 = scenario_5.Malicious\r\n",
        "features = ['Dur', 'TotPkts', 'TotBytes', 'SrcBytes']\r\n",
        "X5 = scenario_5[features].copy()\r\n",
        "\r\n",
        "# Break data into training and testing data (80/20 split)\r\n",
        "X5_train, X5_test, y5_train, y5_test, = train_test_split(X5,y5, train_size = 0.8, test_size = 0.2, random_state = 1)"
      ],
      "execution_count": null,
      "outputs": []
    },
    {
      "cell_type": "code",
      "metadata": {
        "colab": {
          "base_uri": "https://localhost:8080/"
        },
        "id": "jGNXL-wKOsYP",
        "outputId": "46233d11-0178-4984-c43b-8c911a2b1d9d"
      },
      "source": [
        "# Generate base model\r\n",
        "classifier_5 = RandomForestClassifier(max_leaf_nodes = 100, random_state = 1)\r\n",
        "\r\n",
        "# Fit model to training data\r\n",
        "classifier_5.fit(X5_train,y5_train)"
      ],
      "execution_count": null,
      "outputs": [
        {
          "output_type": "execute_result",
          "data": {
            "text/plain": [
              "RandomForestClassifier(bootstrap=True, ccp_alpha=0.0, class_weight=None,\n",
              "                       criterion='gini', max_depth=None, max_features='auto',\n",
              "                       max_leaf_nodes=100, max_samples=None,\n",
              "                       min_impurity_decrease=0.0, min_impurity_split=None,\n",
              "                       min_samples_leaf=1, min_samples_split=2,\n",
              "                       min_weight_fraction_leaf=0.0, n_estimators=100,\n",
              "                       n_jobs=None, oob_score=False, random_state=1, verbose=0,\n",
              "                       warm_start=False)"
            ]
          },
          "metadata": {
            "tags": []
          },
          "execution_count": 27
        }
      ]
    },
    {
      "cell_type": "code",
      "metadata": {
        "colab": {
          "base_uri": "https://localhost:8080/"
        },
        "id": "UFVS1jpSOsdv",
        "outputId": "940c8487-dd67-4f27-e37c-e8c0f96f2d89"
      },
      "source": [
        "# Very high\r\n",
        "predictions5 = classifier_5.predict(X5_test)\r\n",
        "\r\n",
        "accuracy_score(y5_test, predictions5)"
      ],
      "execution_count": null,
      "outputs": [
        {
          "output_type": "execute_result",
          "data": {
            "text/plain": [
              "0.9963029999614896"
            ]
          },
          "metadata": {
            "tags": []
          },
          "execution_count": 28
        }
      ]
    },
    {
      "cell_type": "code",
      "metadata": {
        "colab": {
          "base_uri": "https://localhost:8080/"
        },
        "id": "oZv1Nt0rO1w3",
        "outputId": "45643947-18a1-4f09-b3c6-3680475e97d6"
      },
      "source": [
        "# About the same as scenario 1\r\n",
        "f1_score(y5_test, predictions5)"
      ],
      "execution_count": null,
      "outputs": [
        {
          "output_type": "execute_result",
          "data": {
            "text/plain": [
              "0.616"
            ]
          },
          "metadata": {
            "tags": []
          },
          "execution_count": 29
        }
      ]
    },
    {
      "cell_type": "code",
      "metadata": {
        "colab": {
          "base_uri": "https://localhost:8080/",
          "height": 105
        },
        "id": "9jr9Yo6BO15o",
        "outputId": "58dd245e-3a67-4397-e829-44755850ee92"
      },
      "source": [
        "# Very few malicious IPs in this set\r\n",
        "labels5 = np.unique(y5_test)\r\n",
        "cm5 = confusion_matrix(y5_test, predictions5, labels=labels5)\r\n",
        "pd.DataFrame(cm5, index=labels5, columns=labels5)"
      ],
      "execution_count": null,
      "outputs": [
        {
          "output_type": "execute_result",
          "data": {
            "text/html": [
              "<div>\n",
              "<style scoped>\n",
              "    .dataframe tbody tr th:only-of-type {\n",
              "        vertical-align: middle;\n",
              "    }\n",
              "\n",
              "    .dataframe tbody tr th {\n",
              "        vertical-align: top;\n",
              "    }\n",
              "\n",
              "    .dataframe thead th {\n",
              "        text-align: right;\n",
              "    }\n",
              "</style>\n",
              "<table border=\"1\" class=\"dataframe\">\n",
              "  <thead>\n",
              "    <tr style=\"text-align: right;\">\n",
              "      <th></th>\n",
              "      <th>0.0</th>\n",
              "      <th>1.0</th>\n",
              "    </tr>\n",
              "  </thead>\n",
              "  <tbody>\n",
              "    <tr>\n",
              "      <th>0.0</th>\n",
              "      <td>25794</td>\n",
              "      <td>14</td>\n",
              "    </tr>\n",
              "    <tr>\n",
              "      <th>1.0</th>\n",
              "      <td>82</td>\n",
              "      <td>77</td>\n",
              "    </tr>\n",
              "  </tbody>\n",
              "</table>\n",
              "</div>"
            ],
            "text/plain": [
              "       0.0  1.0\n",
              "0.0  25794   14\n",
              "1.0     82   77"
            ]
          },
          "metadata": {
            "tags": []
          },
          "execution_count": 32
        }
      ]
    },
    {
      "cell_type": "code",
      "metadata": {
        "colab": {
          "base_uri": "https://localhost:8080/",
          "height": 295
        },
        "id": "kCqvL6F8O176",
        "outputId": "5b401b29-8f1e-4ab4-dec8-988fe82e785f"
      },
      "source": [
        "importances5 = classifier_5.feature_importances_\r\n",
        "indices5 = np.argsort(importances5)\r\n",
        "\r\n",
        "plt.title('Feature Importances')\r\n",
        "plt.barh(range(len(indices5)), importances5[indices5], color='b', align='center')\r\n",
        "plt.yticks(range(len(indices5)), [features[i] for i in indices5])\r\n",
        "plt.xlabel('Relative Importance')\r\n",
        "plt.show()"
      ],
      "execution_count": null,
      "outputs": [
        {
          "output_type": "display_data",
          "data": {
            "image/png": "[encoded data removed]",
            "text/plain": [
              "<Figure size 432x288 with 1 Axes>"
            ]
          },
          "metadata": {
            "tags": [],
            "needs_background": "light"
          }
        }
      ]
    },
    {
      "cell_type": "markdown",
      "metadata": {
        "id": "O2KzuhmJP5I2"
      },
      "source": [
        "**Scenario 6 Model 1**"
      ]
    },
    {
      "cell_type": "code",
      "metadata": {
        "id": "KAv_wt9kO1-W"
      },
      "source": [
        "scenario_6 = pd.read_csv('https://mcfp.felk.cvut.cz/publicDatasets/CTU-Malware-Capture-Botnet-47/detailed-bidirectional-flow-labels/capture20110816.binetflow')"
      ],
      "execution_count": null,
      "outputs": []
    },
    {
      "cell_type": "code",
      "metadata": {
        "id": "c6GrmFfEQHRg"
      },
      "source": [
        "# Generate binary malicious target column\r\n",
        "scenario_6.loc[scenario_6['SrcAddr'] == '147.32.84.165', 'Malicious'] = 1\r\n",
        "scenario_6.loc[scenario_6['SrcAddr'] != '147.32.84.165', 'Malicious'] = 0"
      ],
      "execution_count": null,
      "outputs": []
    },
    {
      "cell_type": "code",
      "metadata": {
        "colab": {
          "base_uri": "https://localhost:8080/",
          "height": 565
        },
        "id": "sU5sgs6eQJ6i",
        "outputId": "6961058b-1f90-40ee-b4b2-34b1abba09b4"
      },
      "source": [
        "display(scenario_6.loc[scenario_6['SrcAddr'] == '147.32.84.165'])\r\n",
        "display(scenario_6.head())"
      ],
      "execution_count": null,
      "outputs": [
        {
          "output_type": "display_data",
          "data": {
            "text/html": [
              "<div>\n",
              "<style scoped>\n",
              "    .dataframe tbody tr th:only-of-type {\n",
              "        vertical-align: middle;\n",
              "    }\n",
              "\n",
              "    .dataframe tbody tr th {\n",
              "        vertical-align: top;\n",
              "    }\n",
              "\n",
              "    .dataframe thead th {\n",
              "        text-align: right;\n",
              "    }\n",
              "</style>\n",
              "<table border=\"1\" class=\"dataframe\">\n",
              "  <thead>\n",
              "    <tr style=\"text-align: right;\">\n",
              "      <th></th>\n",
              "      <th>StartTime</th>\n",
              "      <th>Dur</th>\n",
              "      <th>Proto</th>\n",
              "      <th>SrcAddr</th>\n",
              "      <th>Sport</th>\n",
              "      <th>Dir</th>\n",
              "      <th>DstAddr</th>\n",
              "      <th>Dport</th>\n",
              "      <th>State</th>\n",
              "      <th>sTos</th>\n",
              "      <th>dTos</th>\n",
              "      <th>TotPkts</th>\n",
              "      <th>TotBytes</th>\n",
              "      <th>SrcBytes</th>\n",
              "      <th>Label</th>\n",
              "      <th>Malicious</th>\n",
              "    </tr>\n",
              "  </thead>\n",
              "  <tbody>\n",
              "    <tr>\n",
              "      <th>2884</th>\n",
              "      <td>2011/08/16 10:02:08.703460</td>\n",
              "      <td>0.167688</td>\n",
              "      <td>udp</td>\n",
              "      <td>147.32.84.165</td>\n",
              "      <td>1025</td>\n",
              "      <td>&lt;-&gt;</td>\n",
              "      <td>147.32.80.9</td>\n",
              "      <td>53</td>\n",
              "      <td>CON</td>\n",
              "      <td>0.0</td>\n",
              "      <td>0.0</td>\n",
              "      <td>2</td>\n",
              "      <td>505</td>\n",
              "      <td>78</td>\n",
              "      <td>flow=From-Botnet-V47-UDP-DNS</td>\n",
              "      <td>1.0</td>\n",
              "    </tr>\n",
              "    <tr>\n",
              "      <th>2910</th>\n",
              "      <td>2011/08/16 10:02:08.872739</td>\n",
              "      <td>500.003357</td>\n",
              "      <td>tcp</td>\n",
              "      <td>147.32.84.165</td>\n",
              "      <td>1039</td>\n",
              "      <td>-&gt;</td>\n",
              "      <td>195.113.232.73</td>\n",
              "      <td>80</td>\n",
              "      <td>SPA_FSPA</td>\n",
              "      <td>0.0</td>\n",
              "      <td>0.0</td>\n",
              "      <td>14</td>\n",
              "      <td>5498</td>\n",
              "      <td>531</td>\n",
              "      <td>flow=From-Botnet-V47-TCP-Established-HTTP-Ad-4</td>\n",
              "      <td>1.0</td>\n",
              "    </tr>\n",
              "    <tr>\n",
              "      <th>39057</th>\n",
              "      <td>2011/08/16 10:09:58.055700</td>\n",
              "      <td>1.896288</td>\n",
              "      <td>tcp</td>\n",
              "      <td>147.32.84.165</td>\n",
              "      <td>1040</td>\n",
              "      <td>-&gt;</td>\n",
              "      <td>91.212.135.158</td>\n",
              "      <td>5678</td>\n",
              "      <td>FSPA_FSPA</td>\n",
              "      <td>0.0</td>\n",
              "      <td>0.0</td>\n",
              "      <td>1417</td>\n",
              "      <td>1255401</td>\n",
              "      <td>32823</td>\n",
              "      <td>flow=From-Botnet-V47-TCP-CC73-Not-Encrypted</td>\n",
              "      <td>1.0</td>\n",
              "    </tr>\n",
              "    <tr>\n",
              "      <th>39180</th>\n",
              "      <td>2011/08/16 10:09:59.890489</td>\n",
              "      <td>0.147772</td>\n",
              "      <td>udp</td>\n",
              "      <td>147.32.84.165</td>\n",
              "      <td>1041</td>\n",
              "      <td>&lt;-&gt;</td>\n",
              "      <td>147.32.80.9</td>\n",
              "      <td>53</td>\n",
              "      <td>CON</td>\n",
              "      <td>0.0</td>\n",
              "      <td>0.0</td>\n",
              "      <td>2</td>\n",
              "      <td>229</td>\n",
              "      <td>88</td>\n",
              "      <td>flow=From-Botnet-V47-UDP-DNS</td>\n",
              "      <td>1.0</td>\n",
              "    </tr>\n",
              "    <tr>\n",
              "      <th>39195</th>\n",
              "      <td>2011/08/16 10:10:00.039348</td>\n",
              "      <td>0.000391</td>\n",
              "      <td>udp</td>\n",
              "      <td>147.32.84.165</td>\n",
              "      <td>1042</td>\n",
              "      <td>&lt;-&gt;</td>\n",
              "      <td>147.32.80.9</td>\n",
              "      <td>53</td>\n",
              "      <td>CON</td>\n",
              "      <td>0.0</td>\n",
              "      <td>0.0</td>\n",
              "      <td>2</td>\n",
              "      <td>326</td>\n",
              "      <td>86</td>\n",
              "      <td>flow=From-Botnet-V47-UDP-DNS</td>\n",
              "      <td>1.0</td>\n",
              "    </tr>\n",
              "    <tr>\n",
              "      <th>...</th>\n",
              "      <td>...</td>\n",
              "      <td>...</td>\n",
              "      <td>...</td>\n",
              "      <td>...</td>\n",
              "      <td>...</td>\n",
              "      <td>...</td>\n",
              "      <td>...</td>\n",
              "      <td>...</td>\n",
              "      <td>...</td>\n",
              "      <td>...</td>\n",
              "      <td>...</td>\n",
              "      <td>...</td>\n",
              "      <td>...</td>\n",
              "      <td>...</td>\n",
              "      <td>...</td>\n",
              "      <td>...</td>\n",
              "    </tr>\n",
              "    <tr>\n",
              "      <th>554753</th>\n",
              "      <td>2011/08/16 12:10:08.795607</td>\n",
              "      <td>2.942743</td>\n",
              "      <td>tcp</td>\n",
              "      <td>147.32.84.165</td>\n",
              "      <td>4856</td>\n",
              "      <td>-&gt;</td>\n",
              "      <td>220.225.80.179</td>\n",
              "      <td>25</td>\n",
              "      <td>S_</td>\n",
              "      <td>0.0</td>\n",
              "      <td>NaN</td>\n",
              "      <td>2</td>\n",
              "      <td>124</td>\n",
              "      <td>124</td>\n",
              "      <td>flow=From-Botnet-V47-TCP-Attempt-SPAM</td>\n",
              "      <td>1.0</td>\n",
              "    </tr>\n",
              "    <tr>\n",
              "      <th>554754</th>\n",
              "      <td>2011/08/16 12:10:08.795910</td>\n",
              "      <td>2.942500</td>\n",
              "      <td>tcp</td>\n",
              "      <td>147.32.84.165</td>\n",
              "      <td>4857</td>\n",
              "      <td>-&gt;</td>\n",
              "      <td>67.231.152.94</td>\n",
              "      <td>25</td>\n",
              "      <td>S_</td>\n",
              "      <td>0.0</td>\n",
              "      <td>NaN</td>\n",
              "      <td>2</td>\n",
              "      <td>124</td>\n",
              "      <td>124</td>\n",
              "      <td>flow=From-Botnet-V47-TCP-Attempt-SPAM</td>\n",
              "      <td>1.0</td>\n",
              "    </tr>\n",
              "    <tr>\n",
              "      <th>554755</th>\n",
              "      <td>2011/08/16 12:10:08.796217</td>\n",
              "      <td>2.942256</td>\n",
              "      <td>tcp</td>\n",
              "      <td>147.32.84.165</td>\n",
              "      <td>4858</td>\n",
              "      <td>-&gt;</td>\n",
              "      <td>24.71.223.11</td>\n",
              "      <td>25</td>\n",
              "      <td>S_</td>\n",
              "      <td>0.0</td>\n",
              "      <td>NaN</td>\n",
              "      <td>2</td>\n",
              "      <td>124</td>\n",
              "      <td>124</td>\n",
              "      <td>flow=From-Botnet-V47-TCP-Attempt-SPAM</td>\n",
              "      <td>1.0</td>\n",
              "    </tr>\n",
              "    <tr>\n",
              "      <th>554756</th>\n",
              "      <td>2011/08/16 12:10:08.796508</td>\n",
              "      <td>2.942027</td>\n",
              "      <td>tcp</td>\n",
              "      <td>147.32.84.165</td>\n",
              "      <td>4859</td>\n",
              "      <td>-&gt;</td>\n",
              "      <td>89.6.186.79</td>\n",
              "      <td>25</td>\n",
              "      <td>S_</td>\n",
              "      <td>0.0</td>\n",
              "      <td>NaN</td>\n",
              "      <td>2</td>\n",
              "      <td>124</td>\n",
              "      <td>124</td>\n",
              "      <td>flow=From-Botnet-V47-TCP-Attempt-SPAM</td>\n",
              "      <td>1.0</td>\n",
              "    </tr>\n",
              "    <tr>\n",
              "      <th>555223</th>\n",
              "      <td>2011/08/16 12:10:15.643807</td>\n",
              "      <td>0.000000</td>\n",
              "      <td>tcp</td>\n",
              "      <td>147.32.84.165</td>\n",
              "      <td>4860</td>\n",
              "      <td>-&gt;</td>\n",
              "      <td>198.134.143.228</td>\n",
              "      <td>25</td>\n",
              "      <td>S_</td>\n",
              "      <td>0.0</td>\n",
              "      <td>NaN</td>\n",
              "      <td>1</td>\n",
              "      <td>62</td>\n",
              "      <td>62</td>\n",
              "      <td>flow=From-Botnet-V47-TCP-Attempt-SPAM</td>\n",
              "      <td>1.0</td>\n",
              "    </tr>\n",
              "  </tbody>\n",
              "</table>\n",
              "<p>4630 rows × 16 columns</p>\n",
              "</div>"
            ],
            "text/plain": [
              "                         StartTime  ...  Malicious\n",
              "2884    2011/08/16 10:02:08.703460  ...        1.0\n",
              "2910    2011/08/16 10:02:08.872739  ...        1.0\n",
              "39057   2011/08/16 10:09:58.055700  ...        1.0\n",
              "39180   2011/08/16 10:09:59.890489  ...        1.0\n",
              "39195   2011/08/16 10:10:00.039348  ...        1.0\n",
              "...                            ...  ...        ...\n",
              "554753  2011/08/16 12:10:08.795607  ...        1.0\n",
              "554754  2011/08/16 12:10:08.795910  ...        1.0\n",
              "554755  2011/08/16 12:10:08.796217  ...        1.0\n",
              "554756  2011/08/16 12:10:08.796508  ...        1.0\n",
              "555223  2011/08/16 12:10:15.643807  ...        1.0\n",
              "\n",
              "[4630 rows x 16 columns]"
            ]
          },
          "metadata": {
            "tags": []
          }
        },
        {
          "output_type": "display_data",
          "data": {
            "text/html": [
              "<div>\n",
              "<style scoped>\n",
              "    .dataframe tbody tr th:only-of-type {\n",
              "        vertical-align: middle;\n",
              "    }\n",
              "\n",
              "    .dataframe tbody tr th {\n",
              "        vertical-align: top;\n",
              "    }\n",
              "\n",
              "    .dataframe thead th {\n",
              "        text-align: right;\n",
              "    }\n",
              "</style>\n",
              "<table border=\"1\" class=\"dataframe\">\n",
              "  <thead>\n",
              "    <tr style=\"text-align: right;\">\n",
              "      <th></th>\n",
              "      <th>StartTime</th>\n",
              "      <th>Dur</th>\n",
              "      <th>Proto</th>\n",
              "      <th>SrcAddr</th>\n",
              "      <th>Sport</th>\n",
              "      <th>Dir</th>\n",
              "      <th>DstAddr</th>\n",
              "      <th>Dport</th>\n",
              "      <th>State</th>\n",
              "      <th>sTos</th>\n",
              "      <th>dTos</th>\n",
              "      <th>TotPkts</th>\n",
              "      <th>TotBytes</th>\n",
              "      <th>SrcBytes</th>\n",
              "      <th>Label</th>\n",
              "      <th>Malicious</th>\n",
              "    </tr>\n",
              "  </thead>\n",
              "  <tbody>\n",
              "    <tr>\n",
              "      <th>0</th>\n",
              "      <td>2011/08/16 10:01:46.972101</td>\n",
              "      <td>3599.986572</td>\n",
              "      <td>tcp</td>\n",
              "      <td>88.176.79.163</td>\n",
              "      <td>49213</td>\n",
              "      <td>&lt;?&gt;</td>\n",
              "      <td>147.32.84.172</td>\n",
              "      <td>18250</td>\n",
              "      <td>A_PA</td>\n",
              "      <td>0.0</td>\n",
              "      <td>0.0</td>\n",
              "      <td>414671</td>\n",
              "      <td>415389446</td>\n",
              "      <td>10150692</td>\n",
              "      <td>flow=Background</td>\n",
              "      <td>0.0</td>\n",
              "    </tr>\n",
              "    <tr>\n",
              "      <th>1</th>\n",
              "      <td>2011/08/16 10:01:46.974947</td>\n",
              "      <td>320.268677</td>\n",
              "      <td>tcp</td>\n",
              "      <td>147.32.85.112</td>\n",
              "      <td>22</td>\n",
              "      <td>&lt;?&gt;</td>\n",
              "      <td>85.70.14.207</td>\n",
              "      <td>10005</td>\n",
              "      <td>FPA_FPA</td>\n",
              "      <td>0.0</td>\n",
              "      <td>0.0</td>\n",
              "      <td>31989</td>\n",
              "      <td>7744510</td>\n",
              "      <td>6056438</td>\n",
              "      <td>flow=Background</td>\n",
              "      <td>0.0</td>\n",
              "    </tr>\n",
              "    <tr>\n",
              "      <th>2</th>\n",
              "      <td>2011/08/16 10:01:46.976831</td>\n",
              "      <td>0.000467</td>\n",
              "      <td>udp</td>\n",
              "      <td>90.178.10.8</td>\n",
              "      <td>61997</td>\n",
              "      <td>&lt;-&gt;</td>\n",
              "      <td>147.32.84.229</td>\n",
              "      <td>13363</td>\n",
              "      <td>CON</td>\n",
              "      <td>0.0</td>\n",
              "      <td>0.0</td>\n",
              "      <td>2</td>\n",
              "      <td>236</td>\n",
              "      <td>174</td>\n",
              "      <td>flow=Background-UDP-Established</td>\n",
              "      <td>0.0</td>\n",
              "    </tr>\n",
              "    <tr>\n",
              "      <th>3</th>\n",
              "      <td>2011/08/16 10:01:46.977232</td>\n",
              "      <td>0.009599</td>\n",
              "      <td>tcp</td>\n",
              "      <td>117.211.100.130</td>\n",
              "      <td>43458</td>\n",
              "      <td>?&gt;</td>\n",
              "      <td>147.32.86.92</td>\n",
              "      <td>80</td>\n",
              "      <td>RA_</td>\n",
              "      <td>0.0</td>\n",
              "      <td>NaN</td>\n",
              "      <td>4</td>\n",
              "      <td>264</td>\n",
              "      <td>264</td>\n",
              "      <td>flow=Background</td>\n",
              "      <td>0.0</td>\n",
              "    </tr>\n",
              "    <tr>\n",
              "      <th>4</th>\n",
              "      <td>2011/08/16 10:01:46.979356</td>\n",
              "      <td>3599.942383</td>\n",
              "      <td>tcp</td>\n",
              "      <td>88.176.79.163</td>\n",
              "      <td>49375</td>\n",
              "      <td>&lt;?&gt;</td>\n",
              "      <td>147.32.84.172</td>\n",
              "      <td>46696</td>\n",
              "      <td>A_PA</td>\n",
              "      <td>0.0</td>\n",
              "      <td>0.0</td>\n",
              "      <td>471746</td>\n",
              "      <td>473057124</td>\n",
              "      <td>11502112</td>\n",
              "      <td>flow=Background</td>\n",
              "      <td>0.0</td>\n",
              "    </tr>\n",
              "  </tbody>\n",
              "</table>\n",
              "</div>"
            ],
            "text/plain": [
              "                    StartTime  ...  Malicious\n",
              "0  2011/08/16 10:01:46.972101  ...        0.0\n",
              "1  2011/08/16 10:01:46.974947  ...        0.0\n",
              "2  2011/08/16 10:01:46.976831  ...        0.0\n",
              "3  2011/08/16 10:01:46.977232  ...        0.0\n",
              "4  2011/08/16 10:01:46.979356  ...        0.0\n",
              "\n",
              "[5 rows x 16 columns]"
            ]
          },
          "metadata": {
            "tags": []
          }
        }
      ]
    },
    {
      "cell_type": "code",
      "metadata": {
        "id": "rerPmyGdQKAI"
      },
      "source": [
        "# Break data into target and features\r\n",
        "y6 = scenario_6.Malicious\r\n",
        "features = ['Dur', 'TotPkts', 'TotBytes', 'SrcBytes']\r\n",
        "X6 = scenario_6[features].copy()\r\n",
        "\r\n",
        "# Break data into training and testing data (80/20 split)\r\n",
        "X6_train, X6_test, y6_train, y6_test, = train_test_split(X6,y6, train_size = 0.8, test_size = 0.2, random_state = 1)"
      ],
      "execution_count": null,
      "outputs": []
    },
    {
      "cell_type": "code",
      "metadata": {
        "colab": {
          "base_uri": "https://localhost:8080/"
        },
        "id": "2yMFDXD4QKCP",
        "outputId": "4971eb7a-b8d6-4be0-f543-f12b70b7b191"
      },
      "source": [
        "# Generate base model\r\n",
        "classifier_6 = RandomForestClassifier(max_leaf_nodes = 100, random_state = 1)\r\n",
        "\r\n",
        "# Fit model to training data\r\n",
        "classifier_6.fit(X6_train,y6_train)"
      ],
      "execution_count": null,
      "outputs": [
        {
          "output_type": "execute_result",
          "data": {
            "text/plain": [
              "RandomForestClassifier(bootstrap=True, ccp_alpha=0.0, class_weight=None,\n",
              "                       criterion='gini', max_depth=None, max_features='auto',\n",
              "                       max_leaf_nodes=100, max_samples=None,\n",
              "                       min_impurity_decrease=0.0, min_impurity_split=None,\n",
              "                       min_samples_leaf=1, min_samples_split=2,\n",
              "                       min_weight_fraction_leaf=0.0, n_estimators=100,\n",
              "                       n_jobs=None, oob_score=False, random_state=1, verbose=0,\n",
              "                       warm_start=False)"
            ]
          },
          "metadata": {
            "tags": []
          },
          "execution_count": 38
        }
      ]
    },
    {
      "cell_type": "code",
      "metadata": {
        "colab": {
          "base_uri": "https://localhost:8080/"
        },
        "id": "p_VH5hoFQKEP",
        "outputId": "9d5da3f1-ba57-4d7f-e52a-b0e8f8e0d690"
      },
      "source": [
        "predictions6 = classifier_6.predict(X6_test)\r\n",
        "\r\n",
        "accuracy_score(y6_test, predictions6)"
      ],
      "execution_count": null,
      "outputs": [
        {
          "output_type": "execute_result",
          "data": {
            "text/plain": [
              "0.999150146711515"
            ]
          },
          "metadata": {
            "tags": []
          },
          "execution_count": 40
        }
      ]
    },
    {
      "cell_type": "code",
      "metadata": {
        "colab": {
          "base_uri": "https://localhost:8080/"
        },
        "id": "jaanMHO7QfjB",
        "outputId": "9e7d16c3-8689-4a11-8697-0ea7d06573f7"
      },
      "source": [
        "# Very high\r\n",
        "f1_score(y6_test, predictions6)"
      ],
      "execution_count": null,
      "outputs": [
        {
          "output_type": "execute_result",
          "data": {
            "text/plain": [
              "0.9467787114845938"
            ]
          },
          "metadata": {
            "tags": []
          },
          "execution_count": 41
        }
      ]
    },
    {
      "cell_type": "code",
      "metadata": {
        "colab": {
          "base_uri": "https://localhost:8080/",
          "height": 105
        },
        "id": "21Qkm6bYQonh",
        "outputId": "590e26c8-0cdd-4161-e6e0-2f41816aca2b"
      },
      "source": [
        "labels6 = np.unique(y6_test)\r\n",
        "cm6 = confusion_matrix(y6_test, predictions6, labels=labels6)\r\n",
        "pd.DataFrame(cm6, index=labels6, columns=labels6)"
      ],
      "execution_count": null,
      "outputs": [
        {
          "output_type": "execute_result",
          "data": {
            "text/html": [
              "<div>\n",
              "<style scoped>\n",
              "    .dataframe tbody tr th:only-of-type {\n",
              "        vertical-align: middle;\n",
              "    }\n",
              "\n",
              "    .dataframe tbody tr th {\n",
              "        vertical-align: top;\n",
              "    }\n",
              "\n",
              "    .dataframe thead th {\n",
              "        text-align: right;\n",
              "    }\n",
              "</style>\n",
              "<table border=\"1\" class=\"dataframe\">\n",
              "  <thead>\n",
              "    <tr style=\"text-align: right;\">\n",
              "      <th></th>\n",
              "      <th>0.0</th>\n",
              "      <th>1.0</th>\n",
              "    </tr>\n",
              "  </thead>\n",
              "  <tbody>\n",
              "    <tr>\n",
              "      <th>0.0</th>\n",
              "      <td>110844</td>\n",
              "      <td>76</td>\n",
              "    </tr>\n",
              "    <tr>\n",
              "      <th>1.0</th>\n",
              "      <td>19</td>\n",
              "      <td>845</td>\n",
              "    </tr>\n",
              "  </tbody>\n",
              "</table>\n",
              "</div>"
            ],
            "text/plain": [
              "        0.0  1.0\n",
              "0.0  110844   76\n",
              "1.0      19  845"
            ]
          },
          "metadata": {
            "tags": []
          },
          "execution_count": 42
        }
      ]
    },
    {
      "cell_type": "code",
      "metadata": {
        "colab": {
          "base_uri": "https://localhost:8080/",
          "height": 295
        },
        "id": "h5xH5YleQwqw",
        "outputId": "cba7d492-6c14-409a-8976-587d95b24e8d"
      },
      "source": [
        "importances6 = classifier_6.feature_importances_\r\n",
        "indices6 = np.argsort(importances6)\r\n",
        "\r\n",
        "plt.title('Feature Importances')\r\n",
        "plt.barh(range(len(indices6)), importances6[indices6], color='b', align='center')\r\n",
        "plt.yticks(range(len(indices6)), [features[i] for i in indices6])\r\n",
        "plt.xlabel('Relative Importance')\r\n",
        "plt.show()"
      ],
      "execution_count": null,
      "outputs": [
        {
          "output_type": "display_data",
          "data": {
            "image/png": "[encoded data removed]",
            "text/plain": [
              "<Figure size 432x288 with 1 Axes>"
            ]
          },
          "metadata": {
            "tags": [],
            "needs_background": "light"
          }
        }
      ]
    },
    {
      "cell_type": "markdown",
      "metadata": {
        "id": "VAXA2lAIQ4Bx"
      },
      "source": [
        "**Scenario 7 Model 1**"
      ]
    },
    {
      "cell_type": "code",
      "metadata": {
        "id": "1w2oFxLAQ61X"
      },
      "source": [
        "scenario_7 = pd.read_csv('https://mcfp.felk.cvut.cz/publicDatasets/CTU-Malware-Capture-Botnet-48/detailed-bidirectional-flow-labels/capture20110816-2.binetflow')"
      ],
      "execution_count": null,
      "outputs": []
    },
    {
      "cell_type": "code",
      "metadata": {
        "id": "0EqnjkUKRGlX"
      },
      "source": [
        "# Generate binary malicious target column\r\n",
        "scenario_7.loc[scenario_7['SrcAddr'] == '147.32.84.165', 'Malicious'] = 1\r\n",
        "scenario_7.loc[scenario_7['SrcAddr'] != '147.32.84.165', 'Malicious'] = 0"
      ],
      "execution_count": null,
      "outputs": []
    },
    {
      "cell_type": "code",
      "metadata": {
        "colab": {
          "base_uri": "https://localhost:8080/",
          "height": 565
        },
        "id": "uYkdv-oARLL9",
        "outputId": "6f31656d-66a4-42a7-a7b5-29f06bf62123"
      },
      "source": [
        "display(scenario_7.loc[scenario_7['SrcAddr'] == '147.32.84.165'])\r\n",
        "display(scenario_7.head())"
      ],
      "execution_count": null,
      "outputs": [
        {
          "output_type": "display_data",
          "data": {
            "text/html": [
              "<div>\n",
              "<style scoped>\n",
              "    .dataframe tbody tr th:only-of-type {\n",
              "        vertical-align: middle;\n",
              "    }\n",
              "\n",
              "    .dataframe tbody tr th {\n",
              "        vertical-align: top;\n",
              "    }\n",
              "\n",
              "    .dataframe thead th {\n",
              "        text-align: right;\n",
              "    }\n",
              "</style>\n",
              "<table border=\"1\" class=\"dataframe\">\n",
              "  <thead>\n",
              "    <tr style=\"text-align: right;\">\n",
              "      <th></th>\n",
              "      <th>StartTime</th>\n",
              "      <th>Dur</th>\n",
              "      <th>Proto</th>\n",
              "      <th>SrcAddr</th>\n",
              "      <th>Sport</th>\n",
              "      <th>Dir</th>\n",
              "      <th>DstAddr</th>\n",
              "      <th>Dport</th>\n",
              "      <th>State</th>\n",
              "      <th>sTos</th>\n",
              "      <th>dTos</th>\n",
              "      <th>TotPkts</th>\n",
              "      <th>TotBytes</th>\n",
              "      <th>SrcBytes</th>\n",
              "      <th>Label</th>\n",
              "      <th>Malicious</th>\n",
              "    </tr>\n",
              "  </thead>\n",
              "  <tbody>\n",
              "    <tr>\n",
              "      <th>14659</th>\n",
              "      <td>2011/08/16 13:53:16.575831</td>\n",
              "      <td>0.000274</td>\n",
              "      <td>udp</td>\n",
              "      <td>147.32.84.165</td>\n",
              "      <td>1025</td>\n",
              "      <td>&lt;-&gt;</td>\n",
              "      <td>147.32.80.9</td>\n",
              "      <td>53</td>\n",
              "      <td>CON</td>\n",
              "      <td>0.0</td>\n",
              "      <td>0.0</td>\n",
              "      <td>2</td>\n",
              "      <td>203</td>\n",
              "      <td>64</td>\n",
              "      <td>flow=From-Botnet-V48-UDP-DNS</td>\n",
              "      <td>1.0</td>\n",
              "    </tr>\n",
              "    <tr>\n",
              "      <th>14888</th>\n",
              "      <td>2011/08/16 13:53:18.829314</td>\n",
              "      <td>0.010509</td>\n",
              "      <td>udp</td>\n",
              "      <td>147.32.84.165</td>\n",
              "      <td>1025</td>\n",
              "      <td>&lt;-&gt;</td>\n",
              "      <td>147.32.80.9</td>\n",
              "      <td>53</td>\n",
              "      <td>CON</td>\n",
              "      <td>0.0</td>\n",
              "      <td>0.0</td>\n",
              "      <td>2</td>\n",
              "      <td>590</td>\n",
              "      <td>87</td>\n",
              "      <td>flow=From-Botnet-V48-UDP-DNS</td>\n",
              "      <td>1.0</td>\n",
              "    </tr>\n",
              "    <tr>\n",
              "      <th>14892</th>\n",
              "      <td>2011/08/16 13:53:18.840760</td>\n",
              "      <td>0.054527</td>\n",
              "      <td>tcp</td>\n",
              "      <td>147.32.84.165</td>\n",
              "      <td>1027</td>\n",
              "      <td>-&gt;</td>\n",
              "      <td>74.125.232.201</td>\n",
              "      <td>80</td>\n",
              "      <td>SRPA_SPA</td>\n",
              "      <td>0.0</td>\n",
              "      <td>0.0</td>\n",
              "      <td>7</td>\n",
              "      <td>882</td>\n",
              "      <td>629</td>\n",
              "      <td>flow=From-Botnet-V48-TCP-HTTP-Google-Net-Estab...</td>\n",
              "      <td>1.0</td>\n",
              "    </tr>\n",
              "    <tr>\n",
              "      <th>15090</th>\n",
              "      <td>2011/08/16 13:53:21.628190</td>\n",
              "      <td>0.000502</td>\n",
              "      <td>udp</td>\n",
              "      <td>147.32.84.165</td>\n",
              "      <td>1025</td>\n",
              "      <td>&lt;-&gt;</td>\n",
              "      <td>147.32.80.9</td>\n",
              "      <td>53</td>\n",
              "      <td>CON</td>\n",
              "      <td>0.0</td>\n",
              "      <td>0.0</td>\n",
              "      <td>2</td>\n",
              "      <td>479</td>\n",
              "      <td>76</td>\n",
              "      <td>flow=From-Botnet-V48-UDP-DNS</td>\n",
              "      <td>1.0</td>\n",
              "    </tr>\n",
              "    <tr>\n",
              "      <th>15092</th>\n",
              "      <td>2011/08/16 13:53:21.631994</td>\n",
              "      <td>2.995112</td>\n",
              "      <td>udp</td>\n",
              "      <td>147.32.84.165</td>\n",
              "      <td>123</td>\n",
              "      <td>-&gt;</td>\n",
              "      <td>65.55.56.40</td>\n",
              "      <td>123</td>\n",
              "      <td>INT</td>\n",
              "      <td>0.0</td>\n",
              "      <td>NaN</td>\n",
              "      <td>2</td>\n",
              "      <td>180</td>\n",
              "      <td>180</td>\n",
              "      <td>flow=From-Botnet-V48-UDP-Attempt</td>\n",
              "      <td>1.0</td>\n",
              "    </tr>\n",
              "    <tr>\n",
              "      <th>...</th>\n",
              "      <td>...</td>\n",
              "      <td>...</td>\n",
              "      <td>...</td>\n",
              "      <td>...</td>\n",
              "      <td>...</td>\n",
              "      <td>...</td>\n",
              "      <td>...</td>\n",
              "      <td>...</td>\n",
              "      <td>...</td>\n",
              "      <td>...</td>\n",
              "      <td>...</td>\n",
              "      <td>...</td>\n",
              "      <td>...</td>\n",
              "      <td>...</td>\n",
              "      <td>...</td>\n",
              "      <td>...</td>\n",
              "    </tr>\n",
              "    <tr>\n",
              "      <th>49653</th>\n",
              "      <td>2011/08/16 13:59:55.964681</td>\n",
              "      <td>63.990128</td>\n",
              "      <td>tcp</td>\n",
              "      <td>147.32.84.165</td>\n",
              "      <td>1077</td>\n",
              "      <td>-&gt;</td>\n",
              "      <td>123.126.51.33</td>\n",
              "      <td>80</td>\n",
              "      <td>SRPA_SPA</td>\n",
              "      <td>0.0</td>\n",
              "      <td>0.0</td>\n",
              "      <td>9</td>\n",
              "      <td>3505</td>\n",
              "      <td>857</td>\n",
              "      <td>flow=From-Botnet-V48-TCP-CC108-Plain-HTTP</td>\n",
              "      <td>1.0</td>\n",
              "    </tr>\n",
              "    <tr>\n",
              "      <th>49654</th>\n",
              "      <td>2011/08/16 13:59:55.964936</td>\n",
              "      <td>63.990356</td>\n",
              "      <td>tcp</td>\n",
              "      <td>147.32.84.165</td>\n",
              "      <td>1078</td>\n",
              "      <td>-&gt;</td>\n",
              "      <td>123.126.51.33</td>\n",
              "      <td>80</td>\n",
              "      <td>SRPA_SPA</td>\n",
              "      <td>0.0</td>\n",
              "      <td>0.0</td>\n",
              "      <td>11</td>\n",
              "      <td>4280</td>\n",
              "      <td>920</td>\n",
              "      <td>flow=From-Botnet-V48-TCP-CC108-Plain-HTTP</td>\n",
              "      <td>1.0</td>\n",
              "    </tr>\n",
              "    <tr>\n",
              "      <th>49655</th>\n",
              "      <td>2011/08/16 13:59:55.965166</td>\n",
              "      <td>63.989796</td>\n",
              "      <td>tcp</td>\n",
              "      <td>147.32.84.165</td>\n",
              "      <td>1079</td>\n",
              "      <td>-&gt;</td>\n",
              "      <td>123.126.51.33</td>\n",
              "      <td>80</td>\n",
              "      <td>SRPA_SPA</td>\n",
              "      <td>0.0</td>\n",
              "      <td>0.0</td>\n",
              "      <td>9</td>\n",
              "      <td>3896</td>\n",
              "      <td>852</td>\n",
              "      <td>flow=From-Botnet-V48-TCP-CC108-Plain-HTTP</td>\n",
              "      <td>1.0</td>\n",
              "    </tr>\n",
              "    <tr>\n",
              "      <th>49656</th>\n",
              "      <td>2011/08/16 13:59:55.965402</td>\n",
              "      <td>63.990089</td>\n",
              "      <td>tcp</td>\n",
              "      <td>147.32.84.165</td>\n",
              "      <td>1080</td>\n",
              "      <td>-&gt;</td>\n",
              "      <td>123.126.51.33</td>\n",
              "      <td>80</td>\n",
              "      <td>SRPA_SPA</td>\n",
              "      <td>0.0</td>\n",
              "      <td>0.0</td>\n",
              "      <td>8</td>\n",
              "      <td>1469</td>\n",
              "      <td>863</td>\n",
              "      <td>flow=From-Botnet-V48-TCP-CC108-Plain-HTTP</td>\n",
              "      <td>1.0</td>\n",
              "    </tr>\n",
              "    <tr>\n",
              "      <th>52255</th>\n",
              "      <td>2011/08/16 14:00:22.621874</td>\n",
              "      <td>1.200581</td>\n",
              "      <td>tcp</td>\n",
              "      <td>147.32.84.165</td>\n",
              "      <td>1081</td>\n",
              "      <td>-&gt;</td>\n",
              "      <td>61.135.188.210</td>\n",
              "      <td>80</td>\n",
              "      <td>FSPA_FSPA</td>\n",
              "      <td>0.0</td>\n",
              "      <td>0.0</td>\n",
              "      <td>10</td>\n",
              "      <td>1009</td>\n",
              "      <td>567</td>\n",
              "      <td>flow=From-Botnet-V48-TCP-CC77-HTTP-Not-Encrypted</td>\n",
              "      <td>1.0</td>\n",
              "    </tr>\n",
              "  </tbody>\n",
              "</table>\n",
              "<p>63 rows × 16 columns</p>\n",
              "</div>"
            ],
            "text/plain": [
              "                        StartTime  ...  Malicious\n",
              "14659  2011/08/16 13:53:16.575831  ...        1.0\n",
              "14888  2011/08/16 13:53:18.829314  ...        1.0\n",
              "14892  2011/08/16 13:53:18.840760  ...        1.0\n",
              "15090  2011/08/16 13:53:21.628190  ...        1.0\n",
              "15092  2011/08/16 13:53:21.631994  ...        1.0\n",
              "...                           ...  ...        ...\n",
              "49653  2011/08/16 13:59:55.964681  ...        1.0\n",
              "49654  2011/08/16 13:59:55.964936  ...        1.0\n",
              "49655  2011/08/16 13:59:55.965166  ...        1.0\n",
              "49656  2011/08/16 13:59:55.965402  ...        1.0\n",
              "52255  2011/08/16 14:00:22.621874  ...        1.0\n",
              "\n",
              "[63 rows x 16 columns]"
            ]
          },
          "metadata": {
            "tags": []
          }
        },
        {
          "output_type": "display_data",
          "data": {
            "text/html": [
              "<div>\n",
              "<style scoped>\n",
              "    .dataframe tbody tr th:only-of-type {\n",
              "        vertical-align: middle;\n",
              "    }\n",
              "\n",
              "    .dataframe tbody tr th {\n",
              "        vertical-align: top;\n",
              "    }\n",
              "\n",
              "    .dataframe thead th {\n",
              "        text-align: right;\n",
              "    }\n",
              "</style>\n",
              "<table border=\"1\" class=\"dataframe\">\n",
              "  <thead>\n",
              "    <tr style=\"text-align: right;\">\n",
              "      <th></th>\n",
              "      <th>StartTime</th>\n",
              "      <th>Dur</th>\n",
              "      <th>Proto</th>\n",
              "      <th>SrcAddr</th>\n",
              "      <th>Sport</th>\n",
              "      <th>Dir</th>\n",
              "      <th>DstAddr</th>\n",
              "      <th>Dport</th>\n",
              "      <th>State</th>\n",
              "      <th>sTos</th>\n",
              "      <th>dTos</th>\n",
              "      <th>TotPkts</th>\n",
              "      <th>TotBytes</th>\n",
              "      <th>SrcBytes</th>\n",
              "      <th>Label</th>\n",
              "      <th>Malicious</th>\n",
              "    </tr>\n",
              "  </thead>\n",
              "  <tbody>\n",
              "    <tr>\n",
              "      <th>0</th>\n",
              "      <td>2011/08/16 13:51:24.049047</td>\n",
              "      <td>1277.465088</td>\n",
              "      <td>udp</td>\n",
              "      <td>147.32.84.59</td>\n",
              "      <td>7525</td>\n",
              "      <td>&lt;-&gt;</td>\n",
              "      <td>213.239.192.34</td>\n",
              "      <td>50012</td>\n",
              "      <td>CON</td>\n",
              "      <td>0.0</td>\n",
              "      <td>0.0</td>\n",
              "      <td>1606</td>\n",
              "      <td>1508937</td>\n",
              "      <td>1245441</td>\n",
              "      <td>flow=Background-Established-cmpgw-CVUT</td>\n",
              "      <td>0.0</td>\n",
              "    </tr>\n",
              "    <tr>\n",
              "      <th>1</th>\n",
              "      <td>2011/08/16 13:51:24.049051</td>\n",
              "      <td>1200.943726</td>\n",
              "      <td>udp</td>\n",
              "      <td>147.32.84.59</td>\n",
              "      <td>7525</td>\n",
              "      <td>&lt;-&gt;</td>\n",
              "      <td>188.40.100.105</td>\n",
              "      <td>50012</td>\n",
              "      <td>CON</td>\n",
              "      <td>0.0</td>\n",
              "      <td>0.0</td>\n",
              "      <td>1240</td>\n",
              "      <td>992275</td>\n",
              "      <td>425194</td>\n",
              "      <td>flow=Background-Established-cmpgw-CVUT</td>\n",
              "      <td>0.0</td>\n",
              "    </tr>\n",
              "    <tr>\n",
              "      <th>2</th>\n",
              "      <td>2011/08/16 13:51:24.049832</td>\n",
              "      <td>1276.750610</td>\n",
              "      <td>tcp</td>\n",
              "      <td>80.98.130.52</td>\n",
              "      <td>51686</td>\n",
              "      <td>&lt;?&gt;</td>\n",
              "      <td>147.32.84.229</td>\n",
              "      <td>13363</td>\n",
              "      <td>PA_PA</td>\n",
              "      <td>0.0</td>\n",
              "      <td>0.0</td>\n",
              "      <td>112</td>\n",
              "      <td>12484</td>\n",
              "      <td>8482</td>\n",
              "      <td>flow=Background</td>\n",
              "      <td>0.0</td>\n",
              "    </tr>\n",
              "    <tr>\n",
              "      <th>3</th>\n",
              "      <td>2011/08/16 13:51:24.049954</td>\n",
              "      <td>1190.095215</td>\n",
              "      <td>udp</td>\n",
              "      <td>147.32.84.59</td>\n",
              "      <td>7525</td>\n",
              "      <td>&lt;-&gt;</td>\n",
              "      <td>78.46.38.219</td>\n",
              "      <td>55012</td>\n",
              "      <td>CON</td>\n",
              "      <td>0.0</td>\n",
              "      <td>0.0</td>\n",
              "      <td>1841</td>\n",
              "      <td>1692037</td>\n",
              "      <td>1429143</td>\n",
              "      <td>flow=Background-Established-cmpgw-CVUT</td>\n",
              "      <td>0.0</td>\n",
              "    </tr>\n",
              "    <tr>\n",
              "      <th>4</th>\n",
              "      <td>2011/08/16 13:51:24.050042</td>\n",
              "      <td>1257.621094</td>\n",
              "      <td>udp</td>\n",
              "      <td>147.32.84.59</td>\n",
              "      <td>7525</td>\n",
              "      <td>&lt;-&gt;</td>\n",
              "      <td>213.239.199.195</td>\n",
              "      <td>51012</td>\n",
              "      <td>CON</td>\n",
              "      <td>0.0</td>\n",
              "      <td>0.0</td>\n",
              "      <td>1890</td>\n",
              "      <td>1782878</td>\n",
              "      <td>1324527</td>\n",
              "      <td>flow=Background-Established-cmpgw-CVUT</td>\n",
              "      <td>0.0</td>\n",
              "    </tr>\n",
              "  </tbody>\n",
              "</table>\n",
              "</div>"
            ],
            "text/plain": [
              "                    StartTime  ...  Malicious\n",
              "0  2011/08/16 13:51:24.049047  ...        0.0\n",
              "1  2011/08/16 13:51:24.049051  ...        0.0\n",
              "2  2011/08/16 13:51:24.049832  ...        0.0\n",
              "3  2011/08/16 13:51:24.049954  ...        0.0\n",
              "4  2011/08/16 13:51:24.050042  ...        0.0\n",
              "\n",
              "[5 rows x 16 columns]"
            ]
          },
          "metadata": {
            "tags": []
          }
        }
      ]
    },
    {
      "cell_type": "code",
      "metadata": {
        "id": "Ga7ZGlyNRPO4"
      },
      "source": [
        "# Break data into target and features\r\n",
        "y7 = scenario_7.Malicious\r\n",
        "features = ['Dur', 'TotPkts', 'TotBytes', 'SrcBytes']\r\n",
        "X7 = scenario_7[features].copy()\r\n",
        "\r\n",
        "# Break data into training and testing data (80/20 split)\r\n",
        "X7_train, X7_test, y7_train, y7_test, = train_test_split(X7,y7, train_size = 0.8, test_size = 0.2, random_state = 1)"
      ],
      "execution_count": null,
      "outputs": []
    },
    {
      "cell_type": "code",
      "metadata": {
        "colab": {
          "base_uri": "https://localhost:8080/"
        },
        "id": "eNmhQT9gRPRe",
        "outputId": "b4008ca7-e9c5-4d37-d267-77be8834a22b"
      },
      "source": [
        "# Generate base model\r\n",
        "classifier_7 = RandomForestClassifier(max_leaf_nodes = 100, random_state = 1)\r\n",
        "\r\n",
        "# Fit model to training data\r\n",
        "classifier_7.fit(X7_train,y7_train)"
      ],
      "execution_count": null,
      "outputs": [
        {
          "output_type": "execute_result",
          "data": {
            "text/plain": [
              "RandomForestClassifier(bootstrap=True, ccp_alpha=0.0, class_weight=None,\n",
              "                       criterion='gini', max_depth=None, max_features='auto',\n",
              "                       max_leaf_nodes=100, max_samples=None,\n",
              "                       min_impurity_decrease=0.0, min_impurity_split=None,\n",
              "                       min_samples_leaf=1, min_samples_split=2,\n",
              "                       min_weight_fraction_leaf=0.0, n_estimators=100,\n",
              "                       n_jobs=None, oob_score=False, random_state=1, verbose=0,\n",
              "                       warm_start=False)"
            ]
          },
          "metadata": {
            "tags": []
          },
          "execution_count": 60
        }
      ]
    },
    {
      "cell_type": "code",
      "metadata": {
        "colab": {
          "base_uri": "https://localhost:8080/"
        },
        "id": "25A2xxmTRPT6",
        "outputId": "34bfc135-4384-4429-d26f-b617bbc3f68e"
      },
      "source": [
        "predictions7 = classifier_7.predict(X7_test)\r\n",
        "\r\n",
        "accuracy_score(y7_test, predictions7)"
      ],
      "execution_count": null,
      "outputs": [
        {
          "output_type": "execute_result",
          "data": {
            "text/plain": [
              "0.999430224403927"
            ]
          },
          "metadata": {
            "tags": []
          },
          "execution_count": 61
        }
      ]
    },
    {
      "cell_type": "code",
      "metadata": {
        "colab": {
          "base_uri": "https://localhost:8080/"
        },
        "id": "rmqOWHk4Rk0X",
        "outputId": "319fe884-4063-40cd-c535-e2ff3488905f"
      },
      "source": [
        "# Very low\r\n",
        "f1_score(y7_test, predictions7)"
      ],
      "execution_count": null,
      "outputs": [
        {
          "output_type": "execute_result",
          "data": {
            "text/plain": [
              "0.13333333333333336"
            ]
          },
          "metadata": {
            "tags": []
          },
          "execution_count": 62
        }
      ]
    },
    {
      "cell_type": "code",
      "metadata": {
        "colab": {
          "base_uri": "https://localhost:8080/",
          "height": 105
        },
        "id": "_ZBCEt5WRk8f",
        "outputId": "cc030fb5-66c9-46c1-a652-91bef63fef86"
      },
      "source": [
        "# There were only 126 bidirectional maliciouss flows in scenario 7, meaning there were 63 sourced from the malicious IP, and somehow only 2 appeared in the test set. \r\n",
        "# I re-ran this model using a 60/40 train/test split, but it actually hurts the F1 performance. This is a candidate for five fold cross validation.\r\n",
        "labels7 = np.unique(y7_test)\r\n",
        "cm7 = confusion_matrix(y7_test, predictions7, labels=labels7)\r\n",
        "pd.DataFrame(cm7, index=labels7, columns=labels7)"
      ],
      "execution_count": null,
      "outputs": [
        {
          "output_type": "execute_result",
          "data": {
            "text/html": [
              "<div>\n",
              "<style scoped>\n",
              "    .dataframe tbody tr th:only-of-type {\n",
              "        vertical-align: middle;\n",
              "    }\n",
              "\n",
              "    .dataframe tbody tr th {\n",
              "        vertical-align: top;\n",
              "    }\n",
              "\n",
              "    .dataframe thead th {\n",
              "        text-align: right;\n",
              "    }\n",
              "</style>\n",
              "<table border=\"1\" class=\"dataframe\">\n",
              "  <thead>\n",
              "    <tr style=\"text-align: right;\">\n",
              "      <th></th>\n",
              "      <th>0.0</th>\n",
              "      <th>1.0</th>\n",
              "    </tr>\n",
              "  </thead>\n",
              "  <tbody>\n",
              "    <tr>\n",
              "      <th>0.0</th>\n",
              "      <td>22802</td>\n",
              "      <td>1</td>\n",
              "    </tr>\n",
              "    <tr>\n",
              "      <th>1.0</th>\n",
              "      <td>12</td>\n",
              "      <td>1</td>\n",
              "    </tr>\n",
              "  </tbody>\n",
              "</table>\n",
              "</div>"
            ],
            "text/plain": [
              "       0.0  1.0\n",
              "0.0  22802    1\n",
              "1.0     12    1"
            ]
          },
          "metadata": {
            "tags": []
          },
          "execution_count": 63
        }
      ]
    },
    {
      "cell_type": "code",
      "metadata": {
        "colab": {
          "base_uri": "https://localhost:8080/",
          "height": 295
        },
        "id": "mZtGL9yCTnNy",
        "outputId": "befcd42f-1ae6-42d1-e9ed-d816e79d4f91"
      },
      "source": [
        "importances7 = classifier_7.feature_importances_\r\n",
        "indices7 = np.argsort(importances7)\r\n",
        "\r\n",
        "plt.title('Feature Importances')\r\n",
        "plt.barh(range(len(indices7)), importances7[indices7], color='b', align='center')\r\n",
        "plt.yticks(range(len(indices7)), [features[i] for i in indices7])\r\n",
        "plt.xlabel('Relative Importance')\r\n",
        "plt.show()"
      ],
      "execution_count": null,
      "outputs": [
        {
          "output_type": "display_data",
          "data": {
            "image/png": "[encoded data removed]",
            "text/plain": [
              "<Figure size 432x288 with 1 Axes>"
            ]
          },
          "metadata": {
            "tags": [],
            "needs_background": "light"
          }
        }
      ]
    },
    {
      "cell_type": "markdown",
      "metadata": {
        "id": "GSNBElzCTuQK"
      },
      "source": [
        "**Scenario 8 Model 1**"
      ]
    },
    {
      "cell_type": "code",
      "metadata": {
        "id": "8o92Pn4eTueB"
      },
      "source": [
        "scenario_8 = pd.read_csv('https://mcfp.felk.cvut.cz/publicDatasets/CTU-Malware-Capture-Botnet-49/detailed-bidirectional-flow-labels/capture20110816-3.binetflow')"
      ],
      "execution_count": null,
      "outputs": []
    },
    {
      "cell_type": "code",
      "metadata": {
        "id": "h3mGE42bTuge"
      },
      "source": [
        "# Generate binary malicious target column\r\n",
        "scenario_8.loc[scenario_8['SrcAddr'] == '147.32.84.165', 'Malicious'] = 1\r\n",
        "scenario_8.loc[scenario_8['SrcAddr'] != '147.32.84.165', 'Malicious'] = 0"
      ],
      "execution_count": null,
      "outputs": []
    },
    {
      "cell_type": "code",
      "metadata": {
        "colab": {
          "base_uri": "https://localhost:8080/",
          "height": 565
        },
        "id": "DGlTMns6Tuia",
        "outputId": "0b963a63-0aed-45ec-ac97-1ca6ad5c8a89"
      },
      "source": [
        "display(scenario_8.loc[scenario_8['SrcAddr'] == '147.32.84.165'])\r\n",
        "display(scenario_8.head())"
      ],
      "execution_count": null,
      "outputs": [
        {
          "output_type": "display_data",
          "data": {
            "text/html": [
              "<div>\n",
              "<style scoped>\n",
              "    .dataframe tbody tr th:only-of-type {\n",
              "        vertical-align: middle;\n",
              "    }\n",
              "\n",
              "    .dataframe tbody tr th {\n",
              "        vertical-align: top;\n",
              "    }\n",
              "\n",
              "    .dataframe thead th {\n",
              "        text-align: right;\n",
              "    }\n",
              "</style>\n",
              "<table border=\"1\" class=\"dataframe\">\n",
              "  <thead>\n",
              "    <tr style=\"text-align: right;\">\n",
              "      <th></th>\n",
              "      <th>StartTime</th>\n",
              "      <th>Dur</th>\n",
              "      <th>Proto</th>\n",
              "      <th>SrcAddr</th>\n",
              "      <th>Sport</th>\n",
              "      <th>Dir</th>\n",
              "      <th>DstAddr</th>\n",
              "      <th>Dport</th>\n",
              "      <th>State</th>\n",
              "      <th>sTos</th>\n",
              "      <th>dTos</th>\n",
              "      <th>TotPkts</th>\n",
              "      <th>TotBytes</th>\n",
              "      <th>SrcBytes</th>\n",
              "      <th>Label</th>\n",
              "      <th>Malicious</th>\n",
              "    </tr>\n",
              "  </thead>\n",
              "  <tbody>\n",
              "    <tr>\n",
              "      <th>923</th>\n",
              "      <td>2011/08/16 14:19:01.438016</td>\n",
              "      <td>1.000221</td>\n",
              "      <td>udp</td>\n",
              "      <td>147.32.84.165</td>\n",
              "      <td>1025</td>\n",
              "      <td>&lt;-&gt;</td>\n",
              "      <td>147.32.80.9</td>\n",
              "      <td>53</td>\n",
              "      <td>CON</td>\n",
              "      <td>0.0</td>\n",
              "      <td>0.0</td>\n",
              "      <td>4</td>\n",
              "      <td>1010</td>\n",
              "      <td>156</td>\n",
              "      <td>flow=From-Botnet-V49-UDP-DNS</td>\n",
              "      <td>1.0</td>\n",
              "    </tr>\n",
              "    <tr>\n",
              "      <th>1103</th>\n",
              "      <td>2011/08/16 14:19:02.439762</td>\n",
              "      <td>500.002869</td>\n",
              "      <td>tcp</td>\n",
              "      <td>147.32.84.165</td>\n",
              "      <td>1039</td>\n",
              "      <td>-&gt;</td>\n",
              "      <td>195.113.232.98</td>\n",
              "      <td>80</td>\n",
              "      <td>SRPA_FSPA</td>\n",
              "      <td>0.0</td>\n",
              "      <td>0.0</td>\n",
              "      <td>14</td>\n",
              "      <td>5498</td>\n",
              "      <td>531</td>\n",
              "      <td>flow=From-Botnet-V49-TCP-Established-HTTP-Ad-40</td>\n",
              "      <td>1.0</td>\n",
              "    </tr>\n",
              "    <tr>\n",
              "      <th>8354</th>\n",
              "      <td>2011/08/16 14:20:00.257453</td>\n",
              "      <td>0.000218</td>\n",
              "      <td>udp</td>\n",
              "      <td>147.32.84.165</td>\n",
              "      <td>1025</td>\n",
              "      <td>&lt;-&gt;</td>\n",
              "      <td>147.32.80.9</td>\n",
              "      <td>53</td>\n",
              "      <td>CON</td>\n",
              "      <td>0.0</td>\n",
              "      <td>0.0</td>\n",
              "      <td>2</td>\n",
              "      <td>203</td>\n",
              "      <td>64</td>\n",
              "      <td>flow=From-Botnet-V49-UDP-DNS</td>\n",
              "      <td>1.0</td>\n",
              "    </tr>\n",
              "    <tr>\n",
              "      <th>8611</th>\n",
              "      <td>2011/08/16 14:20:02.506566</td>\n",
              "      <td>0.000513</td>\n",
              "      <td>udp</td>\n",
              "      <td>147.32.84.165</td>\n",
              "      <td>1025</td>\n",
              "      <td>&lt;-&gt;</td>\n",
              "      <td>147.32.80.9</td>\n",
              "      <td>53</td>\n",
              "      <td>CON</td>\n",
              "      <td>0.0</td>\n",
              "      <td>0.0</td>\n",
              "      <td>2</td>\n",
              "      <td>590</td>\n",
              "      <td>87</td>\n",
              "      <td>flow=From-Botnet-V49-UDP-DNS</td>\n",
              "      <td>1.0</td>\n",
              "    </tr>\n",
              "    <tr>\n",
              "      <th>8612</th>\n",
              "      <td>2011/08/16 14:20:02.508142</td>\n",
              "      <td>0.037986</td>\n",
              "      <td>tcp</td>\n",
              "      <td>147.32.84.165</td>\n",
              "      <td>1027</td>\n",
              "      <td>-&gt;</td>\n",
              "      <td>74.125.232.193</td>\n",
              "      <td>80</td>\n",
              "      <td>SRPA_SPA</td>\n",
              "      <td>0.0</td>\n",
              "      <td>0.0</td>\n",
              "      <td>7</td>\n",
              "      <td>882</td>\n",
              "      <td>629</td>\n",
              "      <td>flow=From-Botnet-V49-TCP-HTTP-Google-Net-Estab...</td>\n",
              "      <td>1.0</td>\n",
              "    </tr>\n",
              "    <tr>\n",
              "      <th>...</th>\n",
              "      <td>...</td>\n",
              "      <td>...</td>\n",
              "      <td>...</td>\n",
              "      <td>...</td>\n",
              "      <td>...</td>\n",
              "      <td>...</td>\n",
              "      <td>...</td>\n",
              "      <td>...</td>\n",
              "      <td>...</td>\n",
              "      <td>...</td>\n",
              "      <td>...</td>\n",
              "      <td>...</td>\n",
              "      <td>...</td>\n",
              "      <td>...</td>\n",
              "      <td>...</td>\n",
              "      <td>...</td>\n",
              "    </tr>\n",
              "    <tr>\n",
              "      <th>2939820</th>\n",
              "      <td>2011/08/17 09:42:39.426884</td>\n",
              "      <td>60.938206</td>\n",
              "      <td>tcp</td>\n",
              "      <td>147.32.84.165</td>\n",
              "      <td>3926</td>\n",
              "      <td>-&gt;</td>\n",
              "      <td>222.189.228.111</td>\n",
              "      <td>3389</td>\n",
              "      <td>FSPA_FSPA</td>\n",
              "      <td>0.0</td>\n",
              "      <td>0.0</td>\n",
              "      <td>10</td>\n",
              "      <td>1076</td>\n",
              "      <td>437</td>\n",
              "      <td>flow=From-Botnet-V49-TCP-CC74-HTTP-Custom-Port...</td>\n",
              "      <td>1.0</td>\n",
              "    </tr>\n",
              "    <tr>\n",
              "      <th>2943656</th>\n",
              "      <td>2011/08/17 09:43:40.053643</td>\n",
              "      <td>60.953976</td>\n",
              "      <td>tcp</td>\n",
              "      <td>147.32.84.165</td>\n",
              "      <td>3927</td>\n",
              "      <td>-&gt;</td>\n",
              "      <td>222.189.228.111</td>\n",
              "      <td>3389</td>\n",
              "      <td>FSPA_FSPA</td>\n",
              "      <td>0.0</td>\n",
              "      <td>0.0</td>\n",
              "      <td>10</td>\n",
              "      <td>1076</td>\n",
              "      <td>437</td>\n",
              "      <td>flow=From-Botnet-V49-TCP-CC74-HTTP-Custom-Port...</td>\n",
              "      <td>1.0</td>\n",
              "    </tr>\n",
              "    <tr>\n",
              "      <th>2946760</th>\n",
              "      <td>2011/08/17 09:44:40.690657</td>\n",
              "      <td>60.939800</td>\n",
              "      <td>tcp</td>\n",
              "      <td>147.32.84.165</td>\n",
              "      <td>3928</td>\n",
              "      <td>-&gt;</td>\n",
              "      <td>222.189.228.111</td>\n",
              "      <td>3389</td>\n",
              "      <td>FSPA_FSPA</td>\n",
              "      <td>0.0</td>\n",
              "      <td>0.0</td>\n",
              "      <td>10</td>\n",
              "      <td>1076</td>\n",
              "      <td>437</td>\n",
              "      <td>flow=From-Botnet-V49-TCP-CC74-HTTP-Custom-Port...</td>\n",
              "      <td>1.0</td>\n",
              "    </tr>\n",
              "    <tr>\n",
              "      <th>2949639</th>\n",
              "      <td>2011/08/17 09:45:41.318934</td>\n",
              "      <td>60.939594</td>\n",
              "      <td>tcp</td>\n",
              "      <td>147.32.84.165</td>\n",
              "      <td>3929</td>\n",
              "      <td>-&gt;</td>\n",
              "      <td>222.189.228.111</td>\n",
              "      <td>3389</td>\n",
              "      <td>FSPA_FSPA</td>\n",
              "      <td>0.0</td>\n",
              "      <td>0.0</td>\n",
              "      <td>10</td>\n",
              "      <td>1076</td>\n",
              "      <td>437</td>\n",
              "      <td>flow=From-Botnet-V49-TCP-CC74-HTTP-Custom-Port...</td>\n",
              "      <td>1.0</td>\n",
              "    </tr>\n",
              "    <tr>\n",
              "      <th>2952945</th>\n",
              "      <td>2011/08/17 09:46:41.947106</td>\n",
              "      <td>0.799031</td>\n",
              "      <td>tcp</td>\n",
              "      <td>147.32.84.165</td>\n",
              "      <td>3930</td>\n",
              "      <td>-&gt;</td>\n",
              "      <td>222.189.228.111</td>\n",
              "      <td>3389</td>\n",
              "      <td>SPA_SPA</td>\n",
              "      <td>0.0</td>\n",
              "      <td>0.0</td>\n",
              "      <td>6</td>\n",
              "      <td>836</td>\n",
              "      <td>317</td>\n",
              "      <td>flow=From-Botnet-V49-TCP-CC74-HTTP-Custom-Port...</td>\n",
              "      <td>1.0</td>\n",
              "    </tr>\n",
              "  </tbody>\n",
              "</table>\n",
              "<p>6128 rows × 16 columns</p>\n",
              "</div>"
            ],
            "text/plain": [
              "                          StartTime  ...  Malicious\n",
              "923      2011/08/16 14:19:01.438016  ...        1.0\n",
              "1103     2011/08/16 14:19:02.439762  ...        1.0\n",
              "8354     2011/08/16 14:20:00.257453  ...        1.0\n",
              "8611     2011/08/16 14:20:02.506566  ...        1.0\n",
              "8612     2011/08/16 14:20:02.508142  ...        1.0\n",
              "...                             ...  ...        ...\n",
              "2939820  2011/08/17 09:42:39.426884  ...        1.0\n",
              "2943656  2011/08/17 09:43:40.053643  ...        1.0\n",
              "2946760  2011/08/17 09:44:40.690657  ...        1.0\n",
              "2949639  2011/08/17 09:45:41.318934  ...        1.0\n",
              "2952945  2011/08/17 09:46:41.947106  ...        1.0\n",
              "\n",
              "[6128 rows x 16 columns]"
            ]
          },
          "metadata": {
            "tags": []
          }
        },
        {
          "output_type": "display_data",
          "data": {
            "text/html": [
              "<div>\n",
              "<style scoped>\n",
              "    .dataframe tbody tr th:only-of-type {\n",
              "        vertical-align: middle;\n",
              "    }\n",
              "\n",
              "    .dataframe tbody tr th {\n",
              "        vertical-align: top;\n",
              "    }\n",
              "\n",
              "    .dataframe thead th {\n",
              "        text-align: right;\n",
              "    }\n",
              "</style>\n",
              "<table border=\"1\" class=\"dataframe\">\n",
              "  <thead>\n",
              "    <tr style=\"text-align: right;\">\n",
              "      <th></th>\n",
              "      <th>StartTime</th>\n",
              "      <th>Dur</th>\n",
              "      <th>Proto</th>\n",
              "      <th>SrcAddr</th>\n",
              "      <th>Sport</th>\n",
              "      <th>Dir</th>\n",
              "      <th>DstAddr</th>\n",
              "      <th>Dport</th>\n",
              "      <th>State</th>\n",
              "      <th>sTos</th>\n",
              "      <th>dTos</th>\n",
              "      <th>TotPkts</th>\n",
              "      <th>TotBytes</th>\n",
              "      <th>SrcBytes</th>\n",
              "      <th>Label</th>\n",
              "      <th>Malicious</th>\n",
              "    </tr>\n",
              "  </thead>\n",
              "  <tbody>\n",
              "    <tr>\n",
              "      <th>0</th>\n",
              "      <td>2011/08/16 14:18:55.889839</td>\n",
              "      <td>3599.725830</td>\n",
              "      <td>tcp</td>\n",
              "      <td>88.176.79.163</td>\n",
              "      <td>49375</td>\n",
              "      <td>&lt;?&gt;</td>\n",
              "      <td>147.32.84.172</td>\n",
              "      <td>46696</td>\n",
              "      <td>A_PA</td>\n",
              "      <td>0.0</td>\n",
              "      <td>0.0</td>\n",
              "      <td>274708</td>\n",
              "      <td>271837036</td>\n",
              "      <td>6887036</td>\n",
              "      <td>flow=Background</td>\n",
              "      <td>0.0</td>\n",
              "    </tr>\n",
              "    <tr>\n",
              "      <th>1</th>\n",
              "      <td>2011/08/16 14:18:55.890497</td>\n",
              "      <td>3532.512939</td>\n",
              "      <td>tcp</td>\n",
              "      <td>134.2.99.108</td>\n",
              "      <td>12106</td>\n",
              "      <td>&lt;?&gt;</td>\n",
              "      <td>147.32.84.59</td>\n",
              "      <td>51472</td>\n",
              "      <td>PA_PA</td>\n",
              "      <td>0.0</td>\n",
              "      <td>0.0</td>\n",
              "      <td>513</td>\n",
              "      <td>42640</td>\n",
              "      <td>21205</td>\n",
              "      <td>flow=Background-Established-cmpgw-CVUT</td>\n",
              "      <td>0.0</td>\n",
              "    </tr>\n",
              "    <tr>\n",
              "      <th>2</th>\n",
              "      <td>2011/08/16 14:18:55.892530</td>\n",
              "      <td>3599.922852</td>\n",
              "      <td>udp</td>\n",
              "      <td>109.80.124.147</td>\n",
              "      <td>10227</td>\n",
              "      <td>&lt;-&gt;</td>\n",
              "      <td>147.32.86.77</td>\n",
              "      <td>43332</td>\n",
              "      <td>CON</td>\n",
              "      <td>0.0</td>\n",
              "      <td>0.0</td>\n",
              "      <td>69490</td>\n",
              "      <td>14362350</td>\n",
              "      <td>11870607</td>\n",
              "      <td>flow=Background-UDP-Established</td>\n",
              "      <td>0.0</td>\n",
              "    </tr>\n",
              "    <tr>\n",
              "      <th>3</th>\n",
              "      <td>2011/08/16 14:18:55.892624</td>\n",
              "      <td>82.457962</td>\n",
              "      <td>tcp</td>\n",
              "      <td>147.32.84.59</td>\n",
              "      <td>34394</td>\n",
              "      <td>&lt;?&gt;</td>\n",
              "      <td>74.125.39.117</td>\n",
              "      <td>80</td>\n",
              "      <td>FPA_FPA</td>\n",
              "      <td>0.0</td>\n",
              "      <td>0.0</td>\n",
              "      <td>12526</td>\n",
              "      <td>8472421</td>\n",
              "      <td>8118714</td>\n",
              "      <td>flow=Background-Established-cmpgw-CVUT</td>\n",
              "      <td>0.0</td>\n",
              "    </tr>\n",
              "    <tr>\n",
              "      <th>4</th>\n",
              "      <td>2011/08/16 14:18:55.894121</td>\n",
              "      <td>3599.954346</td>\n",
              "      <td>tcp</td>\n",
              "      <td>88.176.79.163</td>\n",
              "      <td>49410</td>\n",
              "      <td>&lt;?&gt;</td>\n",
              "      <td>147.32.84.172</td>\n",
              "      <td>52935</td>\n",
              "      <td>A_PA</td>\n",
              "      <td>0.0</td>\n",
              "      <td>0.0</td>\n",
              "      <td>285606</td>\n",
              "      <td>281932488</td>\n",
              "      <td>7230814</td>\n",
              "      <td>flow=Background</td>\n",
              "      <td>0.0</td>\n",
              "    </tr>\n",
              "  </tbody>\n",
              "</table>\n",
              "</div>"
            ],
            "text/plain": [
              "                    StartTime  ...  Malicious\n",
              "0  2011/08/16 14:18:55.889839  ...        0.0\n",
              "1  2011/08/16 14:18:55.890497  ...        0.0\n",
              "2  2011/08/16 14:18:55.892530  ...        0.0\n",
              "3  2011/08/16 14:18:55.892624  ...        0.0\n",
              "4  2011/08/16 14:18:55.894121  ...        0.0\n",
              "\n",
              "[5 rows x 16 columns]"
            ]
          },
          "metadata": {
            "tags": []
          }
        }
      ]
    },
    {
      "cell_type": "code",
      "metadata": {
        "id": "l1sm90RjTuka"
      },
      "source": [
        "# Break data into target and features\r\n",
        "y8 = scenario_8.Malicious\r\n",
        "features = ['Dur', 'TotPkts', 'TotBytes', 'SrcBytes']\r\n",
        "X8 = scenario_8[features].copy()\r\n",
        "\r\n",
        "# Break data into training and testing data (80/20 split)\r\n",
        "X8_train, X8_test, y8_train, y8_test, = train_test_split(X8,y8, train_size = 0.8, test_size = 0.2, random_state = 1)"
      ],
      "execution_count": null,
      "outputs": []
    },
    {
      "cell_type": "code",
      "metadata": {
        "colab": {
          "base_uri": "https://localhost:8080/"
        },
        "id": "o7oJwA45Tu0r",
        "outputId": "1bc62d25-f55e-494a-83dc-6c606170c5c4"
      },
      "source": [
        "# Generate base model\r\n",
        "classifier_8 = RandomForestClassifier(max_leaf_nodes = 100, random_state = 1)\r\n",
        "\r\n",
        "# Fit model to training data\r\n",
        "classifier_8.fit(X8_train,y8_train)"
      ],
      "execution_count": null,
      "outputs": [
        {
          "output_type": "execute_result",
          "data": {
            "text/plain": [
              "RandomForestClassifier(bootstrap=True, ccp_alpha=0.0, class_weight=None,\n",
              "                       criterion='gini', max_depth=None, max_features='auto',\n",
              "                       max_leaf_nodes=100, max_samples=None,\n",
              "                       min_impurity_decrease=0.0, min_impurity_split=None,\n",
              "                       min_samples_leaf=1, min_samples_split=2,\n",
              "                       min_weight_fraction_leaf=0.0, n_estimators=100,\n",
              "                       n_jobs=None, oob_score=False, random_state=1, verbose=0,\n",
              "                       warm_start=False)"
            ]
          },
          "metadata": {
            "tags": []
          },
          "execution_count": 69
        }
      ]
    },
    {
      "cell_type": "code",
      "metadata": {
        "colab": {
          "base_uri": "https://localhost:8080/"
        },
        "id": "VQgTdWKTbT-U",
        "outputId": "0690b747-b1c5-4973-b53b-bde7bf502626"
      },
      "source": [
        "predictions8 = classifier_8.predict(X8_test)\r\n",
        "\r\n",
        "accuracy_score(y8_test, predictions8)"
      ],
      "execution_count": null,
      "outputs": [
        {
          "output_type": "execute_result",
          "data": {
            "text/plain": [
              "0.9983362839047738"
            ]
          },
          "metadata": {
            "tags": []
          },
          "execution_count": 70
        }
      ]
    },
    {
      "cell_type": "code",
      "metadata": {
        "colab": {
          "base_uri": "https://localhost:8080/"
        },
        "id": "oWP2iYySenQ3",
        "outputId": "3cdf1c23-243a-40f4-b33a-88955117958b"
      },
      "source": [
        "f1_score(y8_test, predictions8)"
      ],
      "execution_count": null,
      "outputs": [
        {
          "output_type": "execute_result",
          "data": {
            "text/plain": [
              "0.2953405017921147"
            ]
          },
          "metadata": {
            "tags": []
          },
          "execution_count": 71
        }
      ]
    },
    {
      "cell_type": "code",
      "metadata": {
        "colab": {
          "base_uri": "https://localhost:8080/",
          "height": 105
        },
        "id": "TQ13Gqv6gtYn",
        "outputId": "3d48b55d-3043-4ec8-ae9c-5a51e1ba9f9c"
      },
      "source": [
        "# This really underscores the false negatives issue that this particular model has, but 0 false negatives is relatively impressive. \r\n",
        "labels8 = np.unique(y8_test)\r\n",
        "cm8 = confusion_matrix(y8_test, predictions8, labels=labels8)\r\n",
        "pd.DataFrame(cm8, index=labels8, columns=labels8)"
      ],
      "execution_count": null,
      "outputs": [
        {
          "output_type": "execute_result",
          "data": {
            "text/html": [
              "<div>\n",
              "<style scoped>\n",
              "    .dataframe tbody tr th:only-of-type {\n",
              "        vertical-align: middle;\n",
              "    }\n",
              "\n",
              "    .dataframe tbody tr th {\n",
              "        vertical-align: top;\n",
              "    }\n",
              "\n",
              "    .dataframe thead th {\n",
              "        text-align: right;\n",
              "    }\n",
              "</style>\n",
              "<table border=\"1\" class=\"dataframe\">\n",
              "  <thead>\n",
              "    <tr style=\"text-align: right;\">\n",
              "      <th></th>\n",
              "      <th>0.0</th>\n",
              "      <th>1.0</th>\n",
              "    </tr>\n",
              "  </thead>\n",
              "  <tbody>\n",
              "    <tr>\n",
              "      <th>0.0</th>\n",
              "      <td>589657</td>\n",
              "      <td>0</td>\n",
              "    </tr>\n",
              "    <tr>\n",
              "      <th>1.0</th>\n",
              "      <td>983</td>\n",
              "      <td>206</td>\n",
              "    </tr>\n",
              "  </tbody>\n",
              "</table>\n",
              "</div>"
            ],
            "text/plain": [
              "        0.0  1.0\n",
              "0.0  589657    0\n",
              "1.0     983  206"
            ]
          },
          "metadata": {
            "tags": []
          },
          "execution_count": 72
        }
      ]
    },
    {
      "cell_type": "code",
      "metadata": {
        "colab": {
          "base_uri": "https://localhost:8080/",
          "height": 295
        },
        "id": "P6XUB4Fngtc0",
        "outputId": "d9abb093-f2ce-46da-bc17-138573003cac"
      },
      "source": [
        "importances8 = classifier_8.feature_importances_\r\n",
        "indices8 = np.argsort(importances8)\r\n",
        "\r\n",
        "plt.title('Feature Importances')\r\n",
        "plt.barh(range(len(indices8)), importances8[indices8], color='b', align='center')\r\n",
        "plt.yticks(range(len(indices8)), [features[i] for i in indices8])\r\n",
        "plt.xlabel('Relative Importance')\r\n",
        "plt.show()"
      ],
      "execution_count": null,
      "outputs": [
        {
          "output_type": "display_data",
          "data": {
            "image/png": "[encoded data removed]",
            "text/plain": [
              "<Figure size 432x288 with 1 Axes>"
            ]
          },
          "metadata": {
            "tags": [],
            "needs_background": "light"
          }
        }
      ]
    },
    {
      "cell_type": "markdown",
      "metadata": {
        "id": "iNBElh7OjNgD"
      },
      "source": [
        "**Scenario 9 Model 1**"
      ]
    },
    {
      "cell_type": "code",
      "metadata": {
        "id": "gFjS228Nkss8"
      },
      "source": [
        "scenario_9 = pd.read_csv('https://mcfp.felk.cvut.cz/publicDatasets/CTU-Malware-Capture-Botnet-50/detailed-bidirectional-flow-labels/capture20110817.binetflow')"
      ],
      "execution_count": null,
      "outputs": []
    },
    {
      "cell_type": "code",
      "metadata": {
        "id": "coT4FGl7ksx_"
      },
      "source": [
        "# Generate binary malicious target column\r\n",
        "scenario_9.loc[scenario_9['SrcAddr'] == '147.32.84.165', 'Malicious'] = 1\r\n",
        "scenario_9.loc[scenario_9['SrcAddr'] == '147.32.84.191', 'Malicious'] = 1\r\n",
        "scenario_9.loc[scenario_9['SrcAddr'] == '147.32.84.192', 'Malicious'] = 1\r\n",
        "scenario_9.loc[scenario_9['SrcAddr'] == '147.32.84.193', 'Malicious'] = 1\r\n",
        "scenario_9.loc[scenario_9['SrcAddr'] == '147.32.84.204', 'Malicious'] = 1\r\n",
        "scenario_9.loc[scenario_9['SrcAddr'] == '147.32.84.205', 'Malicious'] = 1\r\n",
        "scenario_9.loc[scenario_9['SrcAddr'] == '147.32.84.206', 'Malicious'] = 1\r\n",
        "scenario_9.loc[scenario_9['SrcAddr'] == '147.32.84.207', 'Malicious'] = 1\r\n",
        "scenario_9.loc[scenario_9['SrcAddr'] == '147.32.84.208', 'Malicious'] = 1\r\n",
        "scenario_9.loc[scenario_9['SrcAddr'] == '147.32.84.209', 'Malicious'] = 1\r\n",
        "scenario_9.loc[scenario_9['Malicious'] != 1, 'Malicious'] = 0"
      ],
      "execution_count": null,
      "outputs": []
    },
    {
      "cell_type": "code",
      "metadata": {
        "colab": {
          "base_uri": "https://localhost:8080/",
          "height": 565
        },
        "id": "sVHlswiCkszs",
        "outputId": "ab6a051a-8633-4ae5-e806-34b25678d071"
      },
      "source": [
        "display(scenario_9.loc[scenario_9['SrcAddr'] == '147.32.84.165'])\r\n",
        "display(scenario_9.head())"
      ],
      "execution_count": null,
      "outputs": [
        {
          "output_type": "display_data",
          "data": {
            "text/html": [
              "<div>\n",
              "<style scoped>\n",
              "    .dataframe tbody tr th:only-of-type {\n",
              "        vertical-align: middle;\n",
              "    }\n",
              "\n",
              "    .dataframe tbody tr th {\n",
              "        vertical-align: top;\n",
              "    }\n",
              "\n",
              "    .dataframe thead th {\n",
              "        text-align: right;\n",
              "    }\n",
              "</style>\n",
              "<table border=\"1\" class=\"dataframe\">\n",
              "  <thead>\n",
              "    <tr style=\"text-align: right;\">\n",
              "      <th></th>\n",
              "      <th>StartTime</th>\n",
              "      <th>Dur</th>\n",
              "      <th>Proto</th>\n",
              "      <th>SrcAddr</th>\n",
              "      <th>Sport</th>\n",
              "      <th>Dir</th>\n",
              "      <th>DstAddr</th>\n",
              "      <th>Dport</th>\n",
              "      <th>State</th>\n",
              "      <th>sTos</th>\n",
              "      <th>dTos</th>\n",
              "      <th>TotPkts</th>\n",
              "      <th>TotBytes</th>\n",
              "      <th>SrcBytes</th>\n",
              "      <th>Label</th>\n",
              "      <th>Malicious</th>\n",
              "    </tr>\n",
              "  </thead>\n",
              "  <tbody>\n",
              "    <tr>\n",
              "      <th>153064</th>\n",
              "      <td>2011/08/17 12:28:41.718300</td>\n",
              "      <td>0.000304</td>\n",
              "      <td>udp</td>\n",
              "      <td>147.32.84.165</td>\n",
              "      <td>1025</td>\n",
              "      <td>&lt;-&gt;</td>\n",
              "      <td>147.32.80.9</td>\n",
              "      <td>53</td>\n",
              "      <td>CON</td>\n",
              "      <td>0.0</td>\n",
              "      <td>0.0</td>\n",
              "      <td>2</td>\n",
              "      <td>203</td>\n",
              "      <td>64</td>\n",
              "      <td>flow=From-Botnet-V50-1-UDP-DNS</td>\n",
              "      <td>1.0</td>\n",
              "    </tr>\n",
              "    <tr>\n",
              "      <th>153205</th>\n",
              "      <td>2011/08/17 12:28:43.968847</td>\n",
              "      <td>0.000442</td>\n",
              "      <td>udp</td>\n",
              "      <td>147.32.84.165</td>\n",
              "      <td>1025</td>\n",
              "      <td>&lt;-&gt;</td>\n",
              "      <td>147.32.80.9</td>\n",
              "      <td>53</td>\n",
              "      <td>CON</td>\n",
              "      <td>0.0</td>\n",
              "      <td>0.0</td>\n",
              "      <td>2</td>\n",
              "      <td>590</td>\n",
              "      <td>87</td>\n",
              "      <td>flow=From-Botnet-V50-1-UDP-DNS</td>\n",
              "      <td>1.0</td>\n",
              "    </tr>\n",
              "    <tr>\n",
              "      <th>153206</th>\n",
              "      <td>2011/08/17 12:28:43.970043</td>\n",
              "      <td>0.038260</td>\n",
              "      <td>tcp</td>\n",
              "      <td>147.32.84.165</td>\n",
              "      <td>1027</td>\n",
              "      <td>-&gt;</td>\n",
              "      <td>74.125.232.194</td>\n",
              "      <td>80</td>\n",
              "      <td>SRPA_SPA</td>\n",
              "      <td>0.0</td>\n",
              "      <td>0.0</td>\n",
              "      <td>7</td>\n",
              "      <td>882</td>\n",
              "      <td>629</td>\n",
              "      <td>flow=From-Botnet-V50-1-TCP-HTTP-Google-Net-Est...</td>\n",
              "      <td>1.0</td>\n",
              "    </tr>\n",
              "    <tr>\n",
              "      <th>153428</th>\n",
              "      <td>2011/08/17 12:28:46.979674</td>\n",
              "      <td>0.000527</td>\n",
              "      <td>udp</td>\n",
              "      <td>147.32.84.165</td>\n",
              "      <td>1025</td>\n",
              "      <td>&lt;-&gt;</td>\n",
              "      <td>147.32.80.9</td>\n",
              "      <td>53</td>\n",
              "      <td>CON</td>\n",
              "      <td>0.0</td>\n",
              "      <td>0.0</td>\n",
              "      <td>2</td>\n",
              "      <td>479</td>\n",
              "      <td>76</td>\n",
              "      <td>flow=From-Botnet-V50-1-UDP-DNS</td>\n",
              "      <td>1.0</td>\n",
              "    </tr>\n",
              "    <tr>\n",
              "      <th>153429</th>\n",
              "      <td>2011/08/17 12:28:46.982548</td>\n",
              "      <td>3.009216</td>\n",
              "      <td>udp</td>\n",
              "      <td>147.32.84.165</td>\n",
              "      <td>123</td>\n",
              "      <td>-&gt;</td>\n",
              "      <td>65.55.56.40</td>\n",
              "      <td>123</td>\n",
              "      <td>INT</td>\n",
              "      <td>0.0</td>\n",
              "      <td>NaN</td>\n",
              "      <td>2</td>\n",
              "      <td>180</td>\n",
              "      <td>180</td>\n",
              "      <td>flow=From-Botnet-V50-1-UDP-Attempt</td>\n",
              "      <td>1.0</td>\n",
              "    </tr>\n",
              "    <tr>\n",
              "      <th>...</th>\n",
              "      <td>...</td>\n",
              "      <td>...</td>\n",
              "      <td>...</td>\n",
              "      <td>...</td>\n",
              "      <td>...</td>\n",
              "      <td>...</td>\n",
              "      <td>...</td>\n",
              "      <td>...</td>\n",
              "      <td>...</td>\n",
              "      <td>...</td>\n",
              "      <td>...</td>\n",
              "      <td>...</td>\n",
              "      <td>...</td>\n",
              "      <td>...</td>\n",
              "      <td>...</td>\n",
              "      <td>...</td>\n",
              "    </tr>\n",
              "    <tr>\n",
              "      <th>2062362</th>\n",
              "      <td>2011/08/17 17:07:12.103937</td>\n",
              "      <td>0.148172</td>\n",
              "      <td>udp</td>\n",
              "      <td>147.32.84.165</td>\n",
              "      <td>1536</td>\n",
              "      <td>&lt;-&gt;</td>\n",
              "      <td>147.32.80.9</td>\n",
              "      <td>53</td>\n",
              "      <td>CON</td>\n",
              "      <td>0.0</td>\n",
              "      <td>0.0</td>\n",
              "      <td>2</td>\n",
              "      <td>342</td>\n",
              "      <td>68</td>\n",
              "      <td>flow=From-Botnet-V50-1-UDP-DNS</td>\n",
              "      <td>1.0</td>\n",
              "    </tr>\n",
              "    <tr>\n",
              "      <th>2062382</th>\n",
              "      <td>2011/08/17 17:07:12.252758</td>\n",
              "      <td>0.020216</td>\n",
              "      <td>udp</td>\n",
              "      <td>147.32.84.165</td>\n",
              "      <td>1536</td>\n",
              "      <td>&lt;-&gt;</td>\n",
              "      <td>147.32.80.9</td>\n",
              "      <td>53</td>\n",
              "      <td>CON</td>\n",
              "      <td>0.0</td>\n",
              "      <td>0.0</td>\n",
              "      <td>2</td>\n",
              "      <td>337</td>\n",
              "      <td>83</td>\n",
              "      <td>flow=From-Botnet-V50-1-UDP-DNS</td>\n",
              "      <td>1.0</td>\n",
              "    </tr>\n",
              "    <tr>\n",
              "      <th>2062443</th>\n",
              "      <td>2011/08/17 17:07:12.644399</td>\n",
              "      <td>0.186972</td>\n",
              "      <td>tcp</td>\n",
              "      <td>147.32.84.165</td>\n",
              "      <td>2319</td>\n",
              "      <td>-&gt;</td>\n",
              "      <td>217.163.21.35</td>\n",
              "      <td>80</td>\n",
              "      <td>FSPA_FSPA</td>\n",
              "      <td>0.0</td>\n",
              "      <td>0.0</td>\n",
              "      <td>14</td>\n",
              "      <td>5874</td>\n",
              "      <td>785</td>\n",
              "      <td>flow=From-Botnet-V50-1-TCP-Established-HTTP-Ad...</td>\n",
              "      <td>1.0</td>\n",
              "    </tr>\n",
              "    <tr>\n",
              "      <th>2062458</th>\n",
              "      <td>2011/08/17 17:07:12.690204</td>\n",
              "      <td>0.000000</td>\n",
              "      <td>tcp</td>\n",
              "      <td>147.32.84.165</td>\n",
              "      <td>2318</td>\n",
              "      <td>-&gt;</td>\n",
              "      <td>208.87.234.190</td>\n",
              "      <td>25</td>\n",
              "      <td>S_</td>\n",
              "      <td>0.0</td>\n",
              "      <td>NaN</td>\n",
              "      <td>1</td>\n",
              "      <td>62</td>\n",
              "      <td>62</td>\n",
              "      <td>flow=From-Botnet-V50-1-TCP-Attempt-SPAM</td>\n",
              "      <td>1.0</td>\n",
              "    </tr>\n",
              "    <tr>\n",
              "      <th>2062482</th>\n",
              "      <td>2011/08/17 17:07:12.801296</td>\n",
              "      <td>0.000391</td>\n",
              "      <td>udp</td>\n",
              "      <td>147.32.84.165</td>\n",
              "      <td>1536</td>\n",
              "      <td>&lt;-&gt;</td>\n",
              "      <td>147.32.80.9</td>\n",
              "      <td>53</td>\n",
              "      <td>CON</td>\n",
              "      <td>0.0</td>\n",
              "      <td>0.0</td>\n",
              "      <td>2</td>\n",
              "      <td>487</td>\n",
              "      <td>84</td>\n",
              "      <td>flow=From-Botnet-V50-1-UDP-DNS</td>\n",
              "      <td>1.0</td>\n",
              "    </tr>\n",
              "  </tbody>\n",
              "</table>\n",
              "<p>22792 rows × 16 columns</p>\n",
              "</div>"
            ],
            "text/plain": [
              "                          StartTime  ...  Malicious\n",
              "153064   2011/08/17 12:28:41.718300  ...        1.0\n",
              "153205   2011/08/17 12:28:43.968847  ...        1.0\n",
              "153206   2011/08/17 12:28:43.970043  ...        1.0\n",
              "153428   2011/08/17 12:28:46.979674  ...        1.0\n",
              "153429   2011/08/17 12:28:46.982548  ...        1.0\n",
              "...                             ...  ...        ...\n",
              "2062362  2011/08/17 17:07:12.103937  ...        1.0\n",
              "2062382  2011/08/17 17:07:12.252758  ...        1.0\n",
              "2062443  2011/08/17 17:07:12.644399  ...        1.0\n",
              "2062458  2011/08/17 17:07:12.690204  ...        1.0\n",
              "2062482  2011/08/17 17:07:12.801296  ...        1.0\n",
              "\n",
              "[22792 rows x 16 columns]"
            ]
          },
          "metadata": {
            "tags": []
          }
        },
        {
          "output_type": "display_data",
          "data": {
            "text/html": [
              "<div>\n",
              "<style scoped>\n",
              "    .dataframe tbody tr th:only-of-type {\n",
              "        vertical-align: middle;\n",
              "    }\n",
              "\n",
              "    .dataframe tbody tr th {\n",
              "        vertical-align: top;\n",
              "    }\n",
              "\n",
              "    .dataframe thead th {\n",
              "        text-align: right;\n",
              "    }\n",
              "</style>\n",
              "<table border=\"1\" class=\"dataframe\">\n",
              "  <thead>\n",
              "    <tr style=\"text-align: right;\">\n",
              "      <th></th>\n",
              "      <th>StartTime</th>\n",
              "      <th>Dur</th>\n",
              "      <th>Proto</th>\n",
              "      <th>SrcAddr</th>\n",
              "      <th>Sport</th>\n",
              "      <th>Dir</th>\n",
              "      <th>DstAddr</th>\n",
              "      <th>Dport</th>\n",
              "      <th>State</th>\n",
              "      <th>sTos</th>\n",
              "      <th>dTos</th>\n",
              "      <th>TotPkts</th>\n",
              "      <th>TotBytes</th>\n",
              "      <th>SrcBytes</th>\n",
              "      <th>Label</th>\n",
              "      <th>Malicious</th>\n",
              "    </tr>\n",
              "  </thead>\n",
              "  <tbody>\n",
              "    <tr>\n",
              "      <th>0</th>\n",
              "      <td>2011/08/17 11:34:49.436881</td>\n",
              "      <td>1823.088379</td>\n",
              "      <td>udp</td>\n",
              "      <td>46.196.43.16</td>\n",
              "      <td>6881</td>\n",
              "      <td>&lt;-&gt;</td>\n",
              "      <td>147.32.84.118</td>\n",
              "      <td>6881</td>\n",
              "      <td>CON</td>\n",
              "      <td>0.0</td>\n",
              "      <td>0.0</td>\n",
              "      <td>2</td>\n",
              "      <td>214</td>\n",
              "      <td>107</td>\n",
              "      <td>flow=Background-UDP-Established</td>\n",
              "      <td>0.0</td>\n",
              "    </tr>\n",
              "    <tr>\n",
              "      <th>1</th>\n",
              "      <td>2011/08/17 11:39:01.485380</td>\n",
              "      <td>2005.431641</td>\n",
              "      <td>udp</td>\n",
              "      <td>82.1.195.156</td>\n",
              "      <td>6881</td>\n",
              "      <td>&lt;-&gt;</td>\n",
              "      <td>147.32.84.118</td>\n",
              "      <td>6881</td>\n",
              "      <td>CON</td>\n",
              "      <td>0.0</td>\n",
              "      <td>0.0</td>\n",
              "      <td>2</td>\n",
              "      <td>214</td>\n",
              "      <td>107</td>\n",
              "      <td>flow=Background-UDP-Established</td>\n",
              "      <td>0.0</td>\n",
              "    </tr>\n",
              "    <tr>\n",
              "      <th>2</th>\n",
              "      <td>2011/08/17 11:40:19.495285</td>\n",
              "      <td>1973.646729</td>\n",
              "      <td>udp</td>\n",
              "      <td>151.28.221.122</td>\n",
              "      <td>6881</td>\n",
              "      <td>&lt;-&gt;</td>\n",
              "      <td>147.32.84.118</td>\n",
              "      <td>6881</td>\n",
              "      <td>CON</td>\n",
              "      <td>0.0</td>\n",
              "      <td>0.0</td>\n",
              "      <td>2</td>\n",
              "      <td>214</td>\n",
              "      <td>107</td>\n",
              "      <td>flow=Background-UDP-Established</td>\n",
              "      <td>0.0</td>\n",
              "    </tr>\n",
              "    <tr>\n",
              "      <th>3</th>\n",
              "      <td>2011/08/17 12:01:01.780520</td>\n",
              "      <td>3599.997803</td>\n",
              "      <td>udp</td>\n",
              "      <td>188.75.133.98</td>\n",
              "      <td>16200</td>\n",
              "      <td>&lt;-&gt;</td>\n",
              "      <td>147.32.86.125</td>\n",
              "      <td>35248</td>\n",
              "      <td>CON</td>\n",
              "      <td>0.0</td>\n",
              "      <td>0.0</td>\n",
              "      <td>409227</td>\n",
              "      <td>207547419</td>\n",
              "      <td>182657149</td>\n",
              "      <td>flow=Background-UDP-Established</td>\n",
              "      <td>0.0</td>\n",
              "    </tr>\n",
              "    <tr>\n",
              "      <th>4</th>\n",
              "      <td>2011/08/17 12:01:01.782109</td>\n",
              "      <td>2059.387451</td>\n",
              "      <td>tcp</td>\n",
              "      <td>119.252.172.92</td>\n",
              "      <td>59067</td>\n",
              "      <td>&lt;?&gt;</td>\n",
              "      <td>147.32.84.14</td>\n",
              "      <td>80</td>\n",
              "      <td>RA_PA</td>\n",
              "      <td>0.0</td>\n",
              "      <td>0.0</td>\n",
              "      <td>224275</td>\n",
              "      <td>266462578</td>\n",
              "      <td>3199174</td>\n",
              "      <td>flow=Background</td>\n",
              "      <td>0.0</td>\n",
              "    </tr>\n",
              "  </tbody>\n",
              "</table>\n",
              "</div>"
            ],
            "text/plain": [
              "                    StartTime  ...  Malicious\n",
              "0  2011/08/17 11:34:49.436881  ...        0.0\n",
              "1  2011/08/17 11:39:01.485380  ...        0.0\n",
              "2  2011/08/17 11:40:19.495285  ...        0.0\n",
              "3  2011/08/17 12:01:01.780520  ...        0.0\n",
              "4  2011/08/17 12:01:01.782109  ...        0.0\n",
              "\n",
              "[5 rows x 16 columns]"
            ]
          },
          "metadata": {
            "tags": []
          }
        }
      ]
    },
    {
      "cell_type": "code",
      "metadata": {
        "id": "_ckCjaeiks18"
      },
      "source": [
        "# Break data into target and features\r\n",
        "y9 = scenario_9.Malicious\r\n",
        "features = ['Dur', 'TotPkts', 'TotBytes', 'SrcBytes']\r\n",
        "X9 = scenario_9[features].copy()\r\n",
        "\r\n",
        "# Break data into training and testing data (80/20 split)\r\n",
        "X9_train, X9_test, y9_train, y9_test, = train_test_split(X9,y9, train_size = 0.8, test_size = 0.2, random_state = 1)"
      ],
      "execution_count": null,
      "outputs": []
    },
    {
      "cell_type": "code",
      "metadata": {
        "colab": {
          "base_uri": "https://localhost:8080/"
        },
        "id": "hHkbA9H7ks3u",
        "outputId": "c1cdb9f7-21cb-4a4f-e624-98f3914ad293"
      },
      "source": [
        "# Generate base model\r\n",
        "classifier_9 = RandomForestClassifier(max_leaf_nodes = 100, random_state = 1)\r\n",
        "\r\n",
        "# Fit model to training data\r\n",
        "classifier_9.fit(X9_train,y9_train)"
      ],
      "execution_count": null,
      "outputs": [
        {
          "output_type": "execute_result",
          "data": {
            "text/plain": [
              "RandomForestClassifier(bootstrap=True, ccp_alpha=0.0, class_weight=None,\n",
              "                       criterion='gini', max_depth=None, max_features='auto',\n",
              "                       max_leaf_nodes=100, max_samples=None,\n",
              "                       min_impurity_decrease=0.0, min_impurity_split=None,\n",
              "                       min_samples_leaf=1, min_samples_split=2,\n",
              "                       min_weight_fraction_leaf=0.0, n_estimators=100,\n",
              "                       n_jobs=None, oob_score=False, random_state=1, verbose=0,\n",
              "                       warm_start=False)"
            ]
          },
          "metadata": {
            "tags": []
          },
          "execution_count": 85
        }
      ]
    },
    {
      "cell_type": "code",
      "metadata": {
        "colab": {
          "base_uri": "https://localhost:8080/"
        },
        "id": "4C8J3jesks5j",
        "outputId": "7f6990c5-ce56-48b1-c4ce-a7148c8bb640"
      },
      "source": [
        "# Slightly lower..larger data set?\r\n",
        "predictions9 = classifier_9.predict(X9_test)\r\n",
        "\r\n",
        "accuracy_score(y9_test, predictions9)"
      ],
      "execution_count": null,
      "outputs": [
        {
          "output_type": "execute_result",
          "data": {
            "text/plain": [
              "0.9580313387720298"
            ]
          },
          "metadata": {
            "tags": []
          },
          "execution_count": 87
        }
      ]
    },
    {
      "cell_type": "code",
      "metadata": {
        "colab": {
          "base_uri": "https://localhost:8080/"
        },
        "id": "FPvV8mJYktGI",
        "outputId": "c5c2289e-5512-43e1-98df-6b06bb13c401"
      },
      "source": [
        "f1_score(y9_test, predictions9)"
      ],
      "execution_count": null,
      "outputs": [
        {
          "output_type": "execute_result",
          "data": {
            "text/plain": [
              "0.7465868332754829"
            ]
          },
          "metadata": {
            "tags": []
          },
          "execution_count": 88
        }
      ]
    },
    {
      "cell_type": "code",
      "metadata": {
        "colab": {
          "base_uri": "https://localhost:8080/",
          "height": 105
        },
        "id": "WbaPaF8JoICo",
        "outputId": "c0e12bfd-0454-4b8b-cc02-ea1cd52ea826"
      },
      "source": [
        "labels9 = np.unique(y9_test)\r\n",
        "cm9 = confusion_matrix(y9_test, predictions9, labels=labels9)\r\n",
        "pd.DataFrame(cm9, index=labels9, columns=labels9)"
      ],
      "execution_count": null,
      "outputs": [
        {
          "output_type": "execute_result",
          "data": {
            "text/html": [
              "<div>\n",
              "<style scoped>\n",
              "    .dataframe tbody tr th:only-of-type {\n",
              "        vertical-align: middle;\n",
              "    }\n",
              "\n",
              "    .dataframe tbody tr th {\n",
              "        vertical-align: top;\n",
              "    }\n",
              "\n",
              "    .dataframe thead th {\n",
              "        text-align: right;\n",
              "    }\n",
              "</style>\n",
              "<table border=\"1\" class=\"dataframe\">\n",
              "  <thead>\n",
              "    <tr style=\"text-align: right;\">\n",
              "      <th></th>\n",
              "      <th>0.0</th>\n",
              "      <th>1.0</th>\n",
              "    </tr>\n",
              "  </thead>\n",
              "  <tbody>\n",
              "    <tr>\n",
              "      <th>0.0</th>\n",
              "      <td>374169</td>\n",
              "      <td>6469</td>\n",
              "    </tr>\n",
              "    <tr>\n",
              "      <th>1.0</th>\n",
              "      <td>11053</td>\n",
              "      <td>25811</td>\n",
              "    </tr>\n",
              "  </tbody>\n",
              "</table>\n",
              "</div>"
            ],
            "text/plain": [
              "        0.0    1.0\n",
              "0.0  374169   6469\n",
              "1.0   11053  25811"
            ]
          },
          "metadata": {
            "tags": []
          },
          "execution_count": 89
        }
      ]
    },
    {
      "cell_type": "code",
      "metadata": {
        "colab": {
          "base_uri": "https://localhost:8080/",
          "height": 295
        },
        "id": "xzFuQlRToIFY",
        "outputId": "aa9de860-0b6e-4563-d1a1-3e131fc21cb3"
      },
      "source": [
        "importances9 = classifier_9.feature_importances_\r\n",
        "indices9 = np.argsort(importances9)\r\n",
        "\r\n",
        "plt.title('Feature Importances')\r\n",
        "plt.barh(range(len(indices9)), importances9[indices9], color='b', align='center')\r\n",
        "plt.yticks(range(len(indices9)), [features[i] for i in indices9])\r\n",
        "plt.xlabel('Relative Importance')\r\n",
        "plt.show()"
      ],
      "execution_count": null,
      "outputs": [
        {
          "output_type": "display_data",
          "data": {
            "image/png": "[encoded data removed]",
            "text/plain": [
              "<Figure size 432x288 with 1 Axes>"
            ]
          },
          "metadata": {
            "tags": [],
            "needs_background": "light"
          }
        }
      ]
    },
    {
      "cell_type": "markdown",
      "metadata": {
        "id": "r0K7iOTfoxy5"
      },
      "source": [
        "**Scenario 10 Model 1**"
      ]
    },
    {
      "cell_type": "code",
      "metadata": {
        "id": "MKMATk9lozOM"
      },
      "source": [
        "scenario_10 = pd.read_csv('https://mcfp.felk.cvut.cz/publicDatasets/CTU-Malware-Capture-Botnet-51/detailed-bidirectional-flow-labels/capture20110818.binetflow')"
      ],
      "execution_count": null,
      "outputs": []
    },
    {
      "cell_type": "code",
      "metadata": {
        "id": "dAkR2EYWozSy"
      },
      "source": [
        "# Generate binary malicious target column\r\n",
        "scenario_10.loc[scenario_10['SrcAddr'] == '147.32.84.165', 'Malicious'] = 1\r\n",
        "scenario_10.loc[scenario_10['SrcAddr'] == '147.32.84.191', 'Malicious'] = 1\r\n",
        "scenario_10.loc[scenario_10['SrcAddr'] == '147.32.84.192', 'Malicious'] = 1\r\n",
        "scenario_10.loc[scenario_10['SrcAddr'] == '147.32.84.193', 'Malicious'] = 1\r\n",
        "scenario_10.loc[scenario_10['SrcAddr'] == '147.32.84.204', 'Malicious'] = 1\r\n",
        "scenario_10.loc[scenario_10['SrcAddr'] == '147.32.84.205', 'Malicious'] = 1\r\n",
        "scenario_10.loc[scenario_10['SrcAddr'] == '147.32.84.206', 'Malicious'] = 1\r\n",
        "scenario_10.loc[scenario_10['SrcAddr'] == '147.32.84.207', 'Malicious'] = 1\r\n",
        "scenario_10.loc[scenario_10['SrcAddr'] == '147.32.84.208', 'Malicious'] = 1\r\n",
        "scenario_10.loc[scenario_10['SrcAddr'] == '147.32.84.209', 'Malicious'] = 1\r\n",
        "scenario_10.loc[scenario_10['Malicious'] != 1, 'Malicious'] = 0"
      ],
      "execution_count": null,
      "outputs": []
    },
    {
      "cell_type": "code",
      "metadata": {
        "colab": {
          "base_uri": "https://localhost:8080/",
          "height": 565
        },
        "id": "1MQoDCfqozU3",
        "outputId": "d77302a2-dce6-48e3-f99d-8181ff20d421"
      },
      "source": [
        "display(scenario_10.loc[scenario_10['SrcAddr'] == '147.32.84.165'])\r\n",
        "display(scenario_10.head())"
      ],
      "execution_count": null,
      "outputs": [
        {
          "output_type": "display_data",
          "data": {
            "text/html": [
              "<div>\n",
              "<style scoped>\n",
              "    .dataframe tbody tr th:only-of-type {\n",
              "        vertical-align: middle;\n",
              "    }\n",
              "\n",
              "    .dataframe tbody tr th {\n",
              "        vertical-align: top;\n",
              "    }\n",
              "\n",
              "    .dataframe thead th {\n",
              "        text-align: right;\n",
              "    }\n",
              "</style>\n",
              "<table border=\"1\" class=\"dataframe\">\n",
              "  <thead>\n",
              "    <tr style=\"text-align: right;\">\n",
              "      <th></th>\n",
              "      <th>StartTime</th>\n",
              "      <th>Dur</th>\n",
              "      <th>Proto</th>\n",
              "      <th>SrcAddr</th>\n",
              "      <th>Sport</th>\n",
              "      <th>Dir</th>\n",
              "      <th>DstAddr</th>\n",
              "      <th>Dport</th>\n",
              "      <th>State</th>\n",
              "      <th>sTos</th>\n",
              "      <th>dTos</th>\n",
              "      <th>TotPkts</th>\n",
              "      <th>TotBytes</th>\n",
              "      <th>SrcBytes</th>\n",
              "      <th>Label</th>\n",
              "      <th>Malicious</th>\n",
              "    </tr>\n",
              "  </thead>\n",
              "  <tbody>\n",
              "    <tr>\n",
              "      <th>90529</th>\n",
              "      <td>2011/08/18 10:37:58.448307</td>\n",
              "      <td>0.000342</td>\n",
              "      <td>udp</td>\n",
              "      <td>147.32.84.165</td>\n",
              "      <td>1025</td>\n",
              "      <td>&lt;-&gt;</td>\n",
              "      <td>147.32.80.9</td>\n",
              "      <td>53</td>\n",
              "      <td>CON</td>\n",
              "      <td>0.0</td>\n",
              "      <td>0.0</td>\n",
              "      <td>2</td>\n",
              "      <td>203</td>\n",
              "      <td>64</td>\n",
              "      <td>flow=From-Botnet-V51-1-UDP-DNS</td>\n",
              "      <td>1.0</td>\n",
              "    </tr>\n",
              "    <tr>\n",
              "      <th>90715</th>\n",
              "      <td>2011/08/18 10:38:00.695278</td>\n",
              "      <td>0.010278</td>\n",
              "      <td>udp</td>\n",
              "      <td>147.32.84.165</td>\n",
              "      <td>1025</td>\n",
              "      <td>&lt;-&gt;</td>\n",
              "      <td>147.32.80.9</td>\n",
              "      <td>53</td>\n",
              "      <td>CON</td>\n",
              "      <td>0.0</td>\n",
              "      <td>0.0</td>\n",
              "      <td>2</td>\n",
              "      <td>590</td>\n",
              "      <td>87</td>\n",
              "      <td>flow=From-Botnet-V51-1-UDP-DNS</td>\n",
              "      <td>1.0</td>\n",
              "    </tr>\n",
              "    <tr>\n",
              "      <th>90716</th>\n",
              "      <td>2011/08/18 10:38:00.706560</td>\n",
              "      <td>0.043726</td>\n",
              "      <td>tcp</td>\n",
              "      <td>147.32.84.165</td>\n",
              "      <td>1027</td>\n",
              "      <td>-&gt;</td>\n",
              "      <td>74.125.232.206</td>\n",
              "      <td>80</td>\n",
              "      <td>SRPA_SPA</td>\n",
              "      <td>0.0</td>\n",
              "      <td>0.0</td>\n",
              "      <td>7</td>\n",
              "      <td>882</td>\n",
              "      <td>629</td>\n",
              "      <td>flow=From-Botnet-V51-1-TCP-HTTP-Google-Net-Est...</td>\n",
              "      <td>1.0</td>\n",
              "    </tr>\n",
              "    <tr>\n",
              "      <th>90872</th>\n",
              "      <td>2011/08/18 10:38:03.255934</td>\n",
              "      <td>0.010256</td>\n",
              "      <td>udp</td>\n",
              "      <td>147.32.84.165</td>\n",
              "      <td>1025</td>\n",
              "      <td>&lt;-&gt;</td>\n",
              "      <td>147.32.80.9</td>\n",
              "      <td>53</td>\n",
              "      <td>CON</td>\n",
              "      <td>0.0</td>\n",
              "      <td>0.0</td>\n",
              "      <td>2</td>\n",
              "      <td>479</td>\n",
              "      <td>76</td>\n",
              "      <td>flow=From-Botnet-V51-1-UDP-DNS</td>\n",
              "      <td>1.0</td>\n",
              "    </tr>\n",
              "    <tr>\n",
              "      <th>90875</th>\n",
              "      <td>2011/08/18 10:38:03.267222</td>\n",
              "      <td>581.516663</td>\n",
              "      <td>udp</td>\n",
              "      <td>147.32.84.165</td>\n",
              "      <td>123</td>\n",
              "      <td>-&gt;</td>\n",
              "      <td>65.55.56.40</td>\n",
              "      <td>123</td>\n",
              "      <td>INT</td>\n",
              "      <td>0.0</td>\n",
              "      <td>NaN</td>\n",
              "      <td>4</td>\n",
              "      <td>360</td>\n",
              "      <td>360</td>\n",
              "      <td>flow=From-Botnet-V51-1-UDP-Attempt</td>\n",
              "      <td>1.0</td>\n",
              "    </tr>\n",
              "    <tr>\n",
              "      <th>...</th>\n",
              "      <td>...</td>\n",
              "      <td>...</td>\n",
              "      <td>...</td>\n",
              "      <td>...</td>\n",
              "      <td>...</td>\n",
              "      <td>...</td>\n",
              "      <td>...</td>\n",
              "      <td>...</td>\n",
              "      <td>...</td>\n",
              "      <td>...</td>\n",
              "      <td>...</td>\n",
              "      <td>...</td>\n",
              "      <td>...</td>\n",
              "      <td>...</td>\n",
              "      <td>...</td>\n",
              "      <td>...</td>\n",
              "    </tr>\n",
              "    <tr>\n",
              "      <th>1307058</th>\n",
              "      <td>2011/08/18 15:04:54.330378</td>\n",
              "      <td>0.000000</td>\n",
              "      <td>icmp</td>\n",
              "      <td>147.32.84.165</td>\n",
              "      <td>0x3c70</td>\n",
              "      <td>-&gt;</td>\n",
              "      <td>147.32.96.69</td>\n",
              "      <td>NaN</td>\n",
              "      <td>UNK</td>\n",
              "      <td>0.0</td>\n",
              "      <td>NaN</td>\n",
              "      <td>1</td>\n",
              "      <td>1066</td>\n",
              "      <td>1066</td>\n",
              "      <td>flow=From-Botnet-V51-1-ICMP</td>\n",
              "      <td>1.0</td>\n",
              "    </tr>\n",
              "    <tr>\n",
              "      <th>1307061</th>\n",
              "      <td>2011/08/18 15:04:54.337226</td>\n",
              "      <td>0.000000</td>\n",
              "      <td>icmp</td>\n",
              "      <td>147.32.84.165</td>\n",
              "      <td>0xb4de</td>\n",
              "      <td>-&gt;</td>\n",
              "      <td>147.32.96.69</td>\n",
              "      <td>NaN</td>\n",
              "      <td>UNK</td>\n",
              "      <td>0.0</td>\n",
              "      <td>NaN</td>\n",
              "      <td>1</td>\n",
              "      <td>1066</td>\n",
              "      <td>1066</td>\n",
              "      <td>flow=From-Botnet-V51-1-ICMP</td>\n",
              "      <td>1.0</td>\n",
              "    </tr>\n",
              "    <tr>\n",
              "      <th>1307062</th>\n",
              "      <td>2011/08/18 15:04:54.338097</td>\n",
              "      <td>0.000000</td>\n",
              "      <td>icmp</td>\n",
              "      <td>147.32.84.165</td>\n",
              "      <td>0x6d8d</td>\n",
              "      <td>-&gt;</td>\n",
              "      <td>147.32.96.69</td>\n",
              "      <td>NaN</td>\n",
              "      <td>UNK</td>\n",
              "      <td>0.0</td>\n",
              "      <td>NaN</td>\n",
              "      <td>1</td>\n",
              "      <td>1066</td>\n",
              "      <td>1066</td>\n",
              "      <td>flow=From-Botnet-V51-1-ICMP</td>\n",
              "      <td>1.0</td>\n",
              "    </tr>\n",
              "    <tr>\n",
              "      <th>1307071</th>\n",
              "      <td>2011/08/18 15:04:54.349368</td>\n",
              "      <td>0.037603</td>\n",
              "      <td>udp</td>\n",
              "      <td>147.32.84.165</td>\n",
              "      <td>1025</td>\n",
              "      <td>&lt;-&gt;</td>\n",
              "      <td>147.32.80.9</td>\n",
              "      <td>53</td>\n",
              "      <td>CON</td>\n",
              "      <td>0.0</td>\n",
              "      <td>0.0</td>\n",
              "      <td>2</td>\n",
              "      <td>555</td>\n",
              "      <td>76</td>\n",
              "      <td>flow=From-Botnet-V51-1-UDP-DNS</td>\n",
              "      <td>1.0</td>\n",
              "    </tr>\n",
              "    <tr>\n",
              "      <th>1307143</th>\n",
              "      <td>2011/08/18 15:04:54.494449</td>\n",
              "      <td>3.955126</td>\n",
              "      <td>tcp</td>\n",
              "      <td>147.32.84.165</td>\n",
              "      <td>1040</td>\n",
              "      <td>-&gt;</td>\n",
              "      <td>140.211.167.98</td>\n",
              "      <td>6667</td>\n",
              "      <td>SPA_SPA</td>\n",
              "      <td>0.0</td>\n",
              "      <td>0.0</td>\n",
              "      <td>7</td>\n",
              "      <td>567</td>\n",
              "      <td>224</td>\n",
              "      <td>flow=From-Botnet-V51-1-TCP-Established</td>\n",
              "      <td>1.0</td>\n",
              "    </tr>\n",
              "  </tbody>\n",
              "</table>\n",
              "<p>9580 rows × 16 columns</p>\n",
              "</div>"
            ],
            "text/plain": [
              "                          StartTime  ...  Malicious\n",
              "90529    2011/08/18 10:37:58.448307  ...        1.0\n",
              "90715    2011/08/18 10:38:00.695278  ...        1.0\n",
              "90716    2011/08/18 10:38:00.706560  ...        1.0\n",
              "90872    2011/08/18 10:38:03.255934  ...        1.0\n",
              "90875    2011/08/18 10:38:03.267222  ...        1.0\n",
              "...                             ...  ...        ...\n",
              "1307058  2011/08/18 15:04:54.330378  ...        1.0\n",
              "1307061  2011/08/18 15:04:54.337226  ...        1.0\n",
              "1307062  2011/08/18 15:04:54.338097  ...        1.0\n",
              "1307071  2011/08/18 15:04:54.349368  ...        1.0\n",
              "1307143  2011/08/18 15:04:54.494449  ...        1.0\n",
              "\n",
              "[9580 rows x 16 columns]"
            ]
          },
          "metadata": {
            "tags": []
          }
        },
        {
          "output_type": "display_data",
          "data": {
            "text/html": [
              "<div>\n",
              "<style scoped>\n",
              "    .dataframe tbody tr th:only-of-type {\n",
              "        vertical-align: middle;\n",
              "    }\n",
              "\n",
              "    .dataframe tbody tr th {\n",
              "        vertical-align: top;\n",
              "    }\n",
              "\n",
              "    .dataframe thead th {\n",
              "        text-align: right;\n",
              "    }\n",
              "</style>\n",
              "<table border=\"1\" class=\"dataframe\">\n",
              "  <thead>\n",
              "    <tr style=\"text-align: right;\">\n",
              "      <th></th>\n",
              "      <th>StartTime</th>\n",
              "      <th>Dur</th>\n",
              "      <th>Proto</th>\n",
              "      <th>SrcAddr</th>\n",
              "      <th>Sport</th>\n",
              "      <th>Dir</th>\n",
              "      <th>DstAddr</th>\n",
              "      <th>Dport</th>\n",
              "      <th>State</th>\n",
              "      <th>sTos</th>\n",
              "      <th>dTos</th>\n",
              "      <th>TotPkts</th>\n",
              "      <th>TotBytes</th>\n",
              "      <th>SrcBytes</th>\n",
              "      <th>Label</th>\n",
              "      <th>Malicious</th>\n",
              "    </tr>\n",
              "  </thead>\n",
              "  <tbody>\n",
              "    <tr>\n",
              "      <th>0</th>\n",
              "      <td>2011/08/18 09:56:29.146156</td>\n",
              "      <td>2752.656250</td>\n",
              "      <td>udp</td>\n",
              "      <td>71.222.124.71</td>\n",
              "      <td>60621</td>\n",
              "      <td>&lt;-&gt;</td>\n",
              "      <td>147.32.84.59</td>\n",
              "      <td>63550</td>\n",
              "      <td>CON</td>\n",
              "      <td>0.0</td>\n",
              "      <td>0.0</td>\n",
              "      <td>3</td>\n",
              "      <td>435</td>\n",
              "      <td>290</td>\n",
              "      <td>flow=Background-Established-cmpgw-CVUT</td>\n",
              "      <td>0.0</td>\n",
              "    </tr>\n",
              "    <tr>\n",
              "      <th>1</th>\n",
              "      <td>2011/08/18 09:56:42.630892</td>\n",
              "      <td>1849.315552</td>\n",
              "      <td>udp</td>\n",
              "      <td>78.234.54.245</td>\n",
              "      <td>51413</td>\n",
              "      <td>&lt;-&gt;</td>\n",
              "      <td>147.32.84.59</td>\n",
              "      <td>63550</td>\n",
              "      <td>CON</td>\n",
              "      <td>0.0</td>\n",
              "      <td>0.0</td>\n",
              "      <td>3</td>\n",
              "      <td>417</td>\n",
              "      <td>272</td>\n",
              "      <td>flow=Background-Established-cmpgw-CVUT</td>\n",
              "      <td>0.0</td>\n",
              "    </tr>\n",
              "    <tr>\n",
              "      <th>2</th>\n",
              "      <td>2011/08/18 09:56:44.640650</td>\n",
              "      <td>2091.747314</td>\n",
              "      <td>udp</td>\n",
              "      <td>31.147.120.139</td>\n",
              "      <td>63195</td>\n",
              "      <td>&lt;-&gt;</td>\n",
              "      <td>147.32.84.59</td>\n",
              "      <td>63550</td>\n",
              "      <td>CON</td>\n",
              "      <td>0.0</td>\n",
              "      <td>0.0</td>\n",
              "      <td>2</td>\n",
              "      <td>290</td>\n",
              "      <td>145</td>\n",
              "      <td>flow=Background-Established-cmpgw-CVUT</td>\n",
              "      <td>0.0</td>\n",
              "    </tr>\n",
              "    <tr>\n",
              "      <th>3</th>\n",
              "      <td>2011/08/18 10:10:52.782230</td>\n",
              "      <td>1535.769409</td>\n",
              "      <td>udp</td>\n",
              "      <td>118.5.35.64</td>\n",
              "      <td>39110</td>\n",
              "      <td>&lt;-&gt;</td>\n",
              "      <td>147.32.84.59</td>\n",
              "      <td>63550</td>\n",
              "      <td>CON</td>\n",
              "      <td>0.0</td>\n",
              "      <td>0.0</td>\n",
              "      <td>2</td>\n",
              "      <td>290</td>\n",
              "      <td>145</td>\n",
              "      <td>flow=Background-Established-cmpgw-CVUT</td>\n",
              "      <td>0.0</td>\n",
              "    </tr>\n",
              "    <tr>\n",
              "      <th>4</th>\n",
              "      <td>2011/08/18 10:19:13.328372</td>\n",
              "      <td>0.002636</td>\n",
              "      <td>tcp</td>\n",
              "      <td>147.32.86.166</td>\n",
              "      <td>33426</td>\n",
              "      <td>&lt;?&gt;</td>\n",
              "      <td>212.24.150.110</td>\n",
              "      <td>25443</td>\n",
              "      <td>FRPA_FPA</td>\n",
              "      <td>0.0</td>\n",
              "      <td>0.0</td>\n",
              "      <td>6</td>\n",
              "      <td>490</td>\n",
              "      <td>321</td>\n",
              "      <td>flow=Background</td>\n",
              "      <td>0.0</td>\n",
              "    </tr>\n",
              "  </tbody>\n",
              "</table>\n",
              "</div>"
            ],
            "text/plain": [
              "                    StartTime  ...  Malicious\n",
              "0  2011/08/18 09:56:29.146156  ...        0.0\n",
              "1  2011/08/18 09:56:42.630892  ...        0.0\n",
              "2  2011/08/18 09:56:44.640650  ...        0.0\n",
              "3  2011/08/18 10:10:52.782230  ...        0.0\n",
              "4  2011/08/18 10:19:13.328372  ...        0.0\n",
              "\n",
              "[5 rows x 16 columns]"
            ]
          },
          "metadata": {
            "tags": []
          }
        }
      ]
    },
    {
      "cell_type": "code",
      "metadata": {
        "id": "d0wKdhwWozWx"
      },
      "source": [
        "# Break data into target and features\r\n",
        "y10 = scenario_10.Malicious\r\n",
        "features = ['Dur', 'TotPkts', 'TotBytes', 'SrcBytes']\r\n",
        "X10 = scenario_10[features].copy()\r\n",
        "\r\n",
        "# Break data into training and testing data (80/20 split)\r\n",
        "X10_train, X10_test, y10_train, y10_test, = train_test_split(X10,y10, train_size = 0.8, test_size = 0.2, random_state = 1)"
      ],
      "execution_count": null,
      "outputs": []
    },
    {
      "cell_type": "code",
      "metadata": {
        "colab": {
          "base_uri": "https://localhost:8080/"
        },
        "id": "vFCPc6bsskQX",
        "outputId": "36f725fb-0860-4fe9-d206-98bf267a4c1c"
      },
      "source": [
        "# Generate base model\r\n",
        "classifier_10 = RandomForestClassifier(max_leaf_nodes = 100, random_state = 1)\r\n",
        "\r\n",
        "# Fit model to training data\r\n",
        "classifier_10.fit(X10_train,y10_train)"
      ],
      "execution_count": null,
      "outputs": [
        {
          "output_type": "execute_result",
          "data": {
            "text/plain": [
              "RandomForestClassifier(bootstrap=True, ccp_alpha=0.0, class_weight=None,\n",
              "                       criterion='gini', max_depth=None, max_features='auto',\n",
              "                       max_leaf_nodes=100, max_samples=None,\n",
              "                       min_impurity_decrease=0.0, min_impurity_split=None,\n",
              "                       min_samples_leaf=1, min_samples_split=2,\n",
              "                       min_weight_fraction_leaf=0.0, n_estimators=100,\n",
              "                       n_jobs=None, oob_score=False, random_state=1, verbose=0,\n",
              "                       warm_start=False)"
            ]
          },
          "metadata": {
            "tags": []
          },
          "execution_count": 96
        }
      ]
    },
    {
      "cell_type": "code",
      "metadata": {
        "colab": {
          "base_uri": "https://localhost:8080/"
        },
        "id": "CX2cZAWvs9v4",
        "outputId": "8f228101-7abf-426c-af60-831ce2bba43b"
      },
      "source": [
        "predictions10 = classifier_10.predict(X10_test)\r\n",
        "\r\n",
        "accuracy_score(y10_test, predictions10)"
      ],
      "execution_count": null,
      "outputs": [
        {
          "output_type": "execute_result",
          "data": {
            "text/plain": [
              "0.999751869567375"
            ]
          },
          "metadata": {
            "tags": []
          },
          "execution_count": 98
        }
      ]
    },
    {
      "cell_type": "code",
      "metadata": {
        "colab": {
          "base_uri": "https://localhost:8080/"
        },
        "id": "Nkmr-Ji_s9ye",
        "outputId": "29d73e57-1236-4d6a-ed70-bc9b0fa7bbbd"
      },
      "source": [
        "# Incredibly high...suspiciously high\r\n",
        "f1_score(y10_test, predictions10)"
      ],
      "execution_count": null,
      "outputs": [
        {
          "output_type": "execute_result",
          "data": {
            "text/plain": [
              "0.9984872111155072"
            ]
          },
          "metadata": {
            "tags": []
          },
          "execution_count": 99
        }
      ]
    },
    {
      "cell_type": "code",
      "metadata": {
        "colab": {
          "base_uri": "https://localhost:8080/",
          "height": 105
        },
        "id": "4SO4VtPQui5v",
        "outputId": "5ac778ef-ede3-41e8-8c7e-25eb0824683b"
      },
      "source": [
        "labels10 = np.unique(y10_test)\r\n",
        "cm10 = confusion_matrix(y10_test, predictions10, labels=labels10)\r\n",
        "pd.DataFrame(cm10, index=labels10, columns=labels10)"
      ],
      "execution_count": null,
      "outputs": [
        {
          "output_type": "execute_result",
          "data": {
            "text/html": [
              "<div>\n",
              "<style scoped>\n",
              "    .dataframe tbody tr th:only-of-type {\n",
              "        vertical-align: middle;\n",
              "    }\n",
              "\n",
              "    .dataframe tbody tr th {\n",
              "        vertical-align: top;\n",
              "    }\n",
              "\n",
              "    .dataframe thead th {\n",
              "        text-align: right;\n",
              "    }\n",
              "</style>\n",
              "<table border=\"1\" class=\"dataframe\">\n",
              "  <thead>\n",
              "    <tr style=\"text-align: right;\">\n",
              "      <th></th>\n",
              "      <th>0.0</th>\n",
              "      <th>1.0</th>\n",
              "    </tr>\n",
              "  </thead>\n",
              "  <tbody>\n",
              "    <tr>\n",
              "      <th>0.0</th>\n",
              "      <td>240443</td>\n",
              "      <td>4</td>\n",
              "    </tr>\n",
              "    <tr>\n",
              "      <th>1.0</th>\n",
              "      <td>61</td>\n",
              "      <td>21451</td>\n",
              "    </tr>\n",
              "  </tbody>\n",
              "</table>\n",
              "</div>"
            ],
            "text/plain": [
              "        0.0    1.0\n",
              "0.0  240443      4\n",
              "1.0      61  21451"
            ]
          },
          "metadata": {
            "tags": []
          },
          "execution_count": 100
        }
      ]
    },
    {
      "cell_type": "code",
      "metadata": {
        "colab": {
          "base_uri": "https://localhost:8080/",
          "height": 295
        },
        "id": "eIMy7fsmui8R",
        "outputId": "4011658a-cb0e-4fe8-b591-bed1e84edbc7"
      },
      "source": [
        "importances10 = classifier_10.feature_importances_\r\n",
        "indices10 = np.argsort(importances10)\r\n",
        "\r\n",
        "plt.title('Feature Importances')\r\n",
        "plt.barh(range(len(indices10)), importances10[indices10], color='b', align='center')\r\n",
        "plt.yticks(range(len(indices10)), [features[i] for i in indices10])\r\n",
        "plt.xlabel('Relative Importance')\r\n",
        "plt.show()"
      ],
      "execution_count": null,
      "outputs": [
        {
          "output_type": "display_data",
          "data": {
            "image/png": "[encoded data removed]",
            "text/plain": [
              "<Figure size 432x288 with 1 Axes>"
            ]
          },
          "metadata": {
            "tags": [],
            "needs_background": "light"
          }
        }
      ]
    },
    {
      "cell_type": "markdown",
      "metadata": {
        "id": "0tWAlkrbvn2y"
      },
      "source": [
        "**Scenario 11 Model 1**"
      ]
    },
    {
      "cell_type": "code",
      "metadata": {
        "id": "3aVm5of0wTrG"
      },
      "source": [
        "scenario_11 = pd.read_csv('https://mcfp.felk.cvut.cz/publicDatasets/CTU-Malware-Capture-Botnet-52/detailed-bidirectional-flow-labels/capture20110818-2.binetflow')"
      ],
      "execution_count": null,
      "outputs": []
    },
    {
      "cell_type": "code",
      "metadata": {
        "id": "ydxSTbpXwTzl"
      },
      "source": [
        "# Generate binary malicious target column\r\n",
        "scenario_11.loc[scenario_11['SrcAddr'] == '147.32.84.165', 'Malicious'] = 1\r\n",
        "scenario_11.loc[scenario_11['SrcAddr'] == '147.32.84.191', 'Malicious'] = 1\r\n",
        "scenario_11.loc[scenario_11['SrcAddr'] == '147.32.84.192', 'Malicious'] = 1\r\n",
        "scenario_11.loc[scenario_11['Malicious'] != 1, 'Malicious'] = 0"
      ],
      "execution_count": null,
      "outputs": []
    },
    {
      "cell_type": "code",
      "metadata": {
        "colab": {
          "base_uri": "https://localhost:8080/",
          "height": 565
        },
        "id": "ZlrLfEBywUB2",
        "outputId": "3f28aaed-061f-4acd-a73e-3e94c50cb8b5"
      },
      "source": [
        "display(scenario_11.loc[scenario_11['SrcAddr'] == '147.32.84.165'])\r\n",
        "display(scenario_11.head())"
      ],
      "execution_count": null,
      "outputs": [
        {
          "output_type": "display_data",
          "data": {
            "text/html": [
              "<div>\n",
              "<style scoped>\n",
              "    .dataframe tbody tr th:only-of-type {\n",
              "        vertical-align: middle;\n",
              "    }\n",
              "\n",
              "    .dataframe tbody tr th {\n",
              "        vertical-align: top;\n",
              "    }\n",
              "\n",
              "    .dataframe thead th {\n",
              "        text-align: right;\n",
              "    }\n",
              "</style>\n",
              "<table border=\"1\" class=\"dataframe\">\n",
              "  <thead>\n",
              "    <tr style=\"text-align: right;\">\n",
              "      <th></th>\n",
              "      <th>StartTime</th>\n",
              "      <th>Dur</th>\n",
              "      <th>Proto</th>\n",
              "      <th>SrcAddr</th>\n",
              "      <th>Sport</th>\n",
              "      <th>Dir</th>\n",
              "      <th>DstAddr</th>\n",
              "      <th>Dport</th>\n",
              "      <th>State</th>\n",
              "      <th>sTos</th>\n",
              "      <th>dTos</th>\n",
              "      <th>TotPkts</th>\n",
              "      <th>TotBytes</th>\n",
              "      <th>SrcBytes</th>\n",
              "      <th>Label</th>\n",
              "      <th>Malicious</th>\n",
              "    </tr>\n",
              "  </thead>\n",
              "  <tbody>\n",
              "    <tr>\n",
              "      <th>53987</th>\n",
              "      <td>2011/08/18 15:47:57.983212</td>\n",
              "      <td>0.000197</td>\n",
              "      <td>udp</td>\n",
              "      <td>147.32.84.165</td>\n",
              "      <td>1025</td>\n",
              "      <td>&lt;-&gt;</td>\n",
              "      <td>147.32.80.9</td>\n",
              "      <td>53</td>\n",
              "      <td>CON</td>\n",
              "      <td>0.0</td>\n",
              "      <td>0.0</td>\n",
              "      <td>2</td>\n",
              "      <td>203</td>\n",
              "      <td>64</td>\n",
              "      <td>flow=From-Botnet-V52-1-UDP-DNS</td>\n",
              "      <td>1.0</td>\n",
              "    </tr>\n",
              "    <tr>\n",
              "      <th>54222</th>\n",
              "      <td>2011/08/18 15:48:00.231242</td>\n",
              "      <td>0.020501</td>\n",
              "      <td>udp</td>\n",
              "      <td>147.32.84.165</td>\n",
              "      <td>1025</td>\n",
              "      <td>&lt;-&gt;</td>\n",
              "      <td>147.32.80.9</td>\n",
              "      <td>53</td>\n",
              "      <td>CON</td>\n",
              "      <td>0.0</td>\n",
              "      <td>0.0</td>\n",
              "      <td>2</td>\n",
              "      <td>590</td>\n",
              "      <td>87</td>\n",
              "      <td>flow=From-Botnet-V52-1-UDP-DNS</td>\n",
              "      <td>1.0</td>\n",
              "    </tr>\n",
              "    <tr>\n",
              "      <th>54225</th>\n",
              "      <td>2011/08/18 15:48:00.252763</td>\n",
              "      <td>0.036866</td>\n",
              "      <td>tcp</td>\n",
              "      <td>147.32.84.165</td>\n",
              "      <td>1027</td>\n",
              "      <td>-&gt;</td>\n",
              "      <td>74.125.232.201</td>\n",
              "      <td>80</td>\n",
              "      <td>SRPA_SPA</td>\n",
              "      <td>0.0</td>\n",
              "      <td>0.0</td>\n",
              "      <td>7</td>\n",
              "      <td>882</td>\n",
              "      <td>629</td>\n",
              "      <td>flow=From-Botnet-V52-1-TCP-HTTP-Google-Net-Est...</td>\n",
              "      <td>1.0</td>\n",
              "    </tr>\n",
              "    <tr>\n",
              "      <th>54485</th>\n",
              "      <td>2011/08/18 15:48:02.467929</td>\n",
              "      <td>0.000668</td>\n",
              "      <td>udp</td>\n",
              "      <td>147.32.84.165</td>\n",
              "      <td>1025</td>\n",
              "      <td>&lt;-&gt;</td>\n",
              "      <td>147.32.80.9</td>\n",
              "      <td>53</td>\n",
              "      <td>CON</td>\n",
              "      <td>0.0</td>\n",
              "      <td>0.0</td>\n",
              "      <td>2</td>\n",
              "      <td>479</td>\n",
              "      <td>76</td>\n",
              "      <td>flow=From-Botnet-V52-1-UDP-DNS</td>\n",
              "      <td>1.0</td>\n",
              "    </tr>\n",
              "    <tr>\n",
              "      <th>54486</th>\n",
              "      <td>2011/08/18 15:48:02.477619</td>\n",
              "      <td>3.012514</td>\n",
              "      <td>udp</td>\n",
              "      <td>147.32.84.165</td>\n",
              "      <td>123</td>\n",
              "      <td>-&gt;</td>\n",
              "      <td>65.55.56.40</td>\n",
              "      <td>123</td>\n",
              "      <td>INT</td>\n",
              "      <td>0.0</td>\n",
              "      <td>NaN</td>\n",
              "      <td>2</td>\n",
              "      <td>180</td>\n",
              "      <td>180</td>\n",
              "      <td>flow=From-Botnet-V52-1-UDP-Attempt</td>\n",
              "      <td>1.0</td>\n",
              "    </tr>\n",
              "    <tr>\n",
              "      <th>...</th>\n",
              "      <td>...</td>\n",
              "      <td>...</td>\n",
              "      <td>...</td>\n",
              "      <td>...</td>\n",
              "      <td>...</td>\n",
              "      <td>...</td>\n",
              "      <td>...</td>\n",
              "      <td>...</td>\n",
              "      <td>...</td>\n",
              "      <td>...</td>\n",
              "      <td>...</td>\n",
              "      <td>...</td>\n",
              "      <td>...</td>\n",
              "      <td>...</td>\n",
              "      <td>...</td>\n",
              "      <td>...</td>\n",
              "    </tr>\n",
              "    <tr>\n",
              "      <th>102053</th>\n",
              "      <td>2011/08/18 15:54:55.589358</td>\n",
              "      <td>0.000000</td>\n",
              "      <td>icmp</td>\n",
              "      <td>147.32.84.165</td>\n",
              "      <td>0x75a4</td>\n",
              "      <td>-&gt;</td>\n",
              "      <td>147.32.96.69</td>\n",
              "      <td>NaN</td>\n",
              "      <td>UNK</td>\n",
              "      <td>0.0</td>\n",
              "      <td>NaN</td>\n",
              "      <td>1</td>\n",
              "      <td>1066</td>\n",
              "      <td>1066</td>\n",
              "      <td>flow=From-Botnet-V52-1-ICMP</td>\n",
              "      <td>1.0</td>\n",
              "    </tr>\n",
              "    <tr>\n",
              "      <th>102054</th>\n",
              "      <td>2011/08/18 15:54:55.589534</td>\n",
              "      <td>0.000000</td>\n",
              "      <td>icmp</td>\n",
              "      <td>147.32.84.165</td>\n",
              "      <td>0xf88e</td>\n",
              "      <td>-&gt;</td>\n",
              "      <td>147.32.96.69</td>\n",
              "      <td>NaN</td>\n",
              "      <td>UNK</td>\n",
              "      <td>0.0</td>\n",
              "      <td>NaN</td>\n",
              "      <td>1</td>\n",
              "      <td>1066</td>\n",
              "      <td>1066</td>\n",
              "      <td>flow=From-Botnet-V52-1-ICMP</td>\n",
              "      <td>1.0</td>\n",
              "    </tr>\n",
              "    <tr>\n",
              "      <th>102055</th>\n",
              "      <td>2011/08/18 15:54:55.591005</td>\n",
              "      <td>0.000000</td>\n",
              "      <td>icmp</td>\n",
              "      <td>147.32.84.165</td>\n",
              "      <td>0x903f</td>\n",
              "      <td>-&gt;</td>\n",
              "      <td>147.32.96.69</td>\n",
              "      <td>NaN</td>\n",
              "      <td>UNK</td>\n",
              "      <td>0.0</td>\n",
              "      <td>NaN</td>\n",
              "      <td>1</td>\n",
              "      <td>1066</td>\n",
              "      <td>1066</td>\n",
              "      <td>flow=From-Botnet-V52-1-ICMP</td>\n",
              "      <td>1.0</td>\n",
              "    </tr>\n",
              "    <tr>\n",
              "      <th>102057</th>\n",
              "      <td>2011/08/18 15:54:55.591947</td>\n",
              "      <td>0.000000</td>\n",
              "      <td>icmp</td>\n",
              "      <td>147.32.84.165</td>\n",
              "      <td>0x0744</td>\n",
              "      <td>-&gt;</td>\n",
              "      <td>147.32.96.69</td>\n",
              "      <td>NaN</td>\n",
              "      <td>UNK</td>\n",
              "      <td>0.0</td>\n",
              "      <td>NaN</td>\n",
              "      <td>1</td>\n",
              "      <td>1066</td>\n",
              "      <td>1066</td>\n",
              "      <td>flow=From-Botnet-V52-1-ICMP</td>\n",
              "      <td>1.0</td>\n",
              "    </tr>\n",
              "    <tr>\n",
              "      <th>102058</th>\n",
              "      <td>2011/08/18 15:54:55.600191</td>\n",
              "      <td>0.000000</td>\n",
              "      <td>icmp</td>\n",
              "      <td>147.32.84.165</td>\n",
              "      <td>0x08e4</td>\n",
              "      <td>-&gt;</td>\n",
              "      <td>147.32.96.69</td>\n",
              "      <td>NaN</td>\n",
              "      <td>UNK</td>\n",
              "      <td>0.0</td>\n",
              "      <td>NaN</td>\n",
              "      <td>1</td>\n",
              "      <td>1066</td>\n",
              "      <td>1066</td>\n",
              "      <td>flow=From-Botnet-V52-1-ICMP</td>\n",
              "      <td>1.0</td>\n",
              "    </tr>\n",
              "  </tbody>\n",
              "</table>\n",
              "<p>4151 rows × 16 columns</p>\n",
              "</div>"
            ],
            "text/plain": [
              "                         StartTime  ...  Malicious\n",
              "53987   2011/08/18 15:47:57.983212  ...        1.0\n",
              "54222   2011/08/18 15:48:00.231242  ...        1.0\n",
              "54225   2011/08/18 15:48:00.252763  ...        1.0\n",
              "54485   2011/08/18 15:48:02.467929  ...        1.0\n",
              "54486   2011/08/18 15:48:02.477619  ...        1.0\n",
              "...                            ...  ...        ...\n",
              "102053  2011/08/18 15:54:55.589358  ...        1.0\n",
              "102054  2011/08/18 15:54:55.589534  ...        1.0\n",
              "102055  2011/08/18 15:54:55.591005  ...        1.0\n",
              "102057  2011/08/18 15:54:55.591947  ...        1.0\n",
              "102058  2011/08/18 15:54:55.600191  ...        1.0\n",
              "\n",
              "[4151 rows x 16 columns]"
            ]
          },
          "metadata": {
            "tags": []
          }
        },
        {
          "output_type": "display_data",
          "data": {
            "text/html": [
              "<div>\n",
              "<style scoped>\n",
              "    .dataframe tbody tr th:only-of-type {\n",
              "        vertical-align: middle;\n",
              "    }\n",
              "\n",
              "    .dataframe tbody tr th {\n",
              "        vertical-align: top;\n",
              "    }\n",
              "\n",
              "    .dataframe thead th {\n",
              "        text-align: right;\n",
              "    }\n",
              "</style>\n",
              "<table border=\"1\" class=\"dataframe\">\n",
              "  <thead>\n",
              "    <tr style=\"text-align: right;\">\n",
              "      <th></th>\n",
              "      <th>StartTime</th>\n",
              "      <th>Dur</th>\n",
              "      <th>Proto</th>\n",
              "      <th>SrcAddr</th>\n",
              "      <th>Sport</th>\n",
              "      <th>Dir</th>\n",
              "      <th>DstAddr</th>\n",
              "      <th>Dport</th>\n",
              "      <th>State</th>\n",
              "      <th>sTos</th>\n",
              "      <th>dTos</th>\n",
              "      <th>TotPkts</th>\n",
              "      <th>TotBytes</th>\n",
              "      <th>SrcBytes</th>\n",
              "      <th>Label</th>\n",
              "      <th>Malicious</th>\n",
              "    </tr>\n",
              "  </thead>\n",
              "  <tbody>\n",
              "    <tr>\n",
              "      <th>0</th>\n",
              "      <td>2011/08/18 15:39:35.087798</td>\n",
              "      <td>83.062141</td>\n",
              "      <td>tcp</td>\n",
              "      <td>147.32.84.202</td>\n",
              "      <td>1078</td>\n",
              "      <td>&lt;?&gt;</td>\n",
              "      <td>65.54.89.106</td>\n",
              "      <td>80</td>\n",
              "      <td>RPA_FPA</td>\n",
              "      <td>0.0</td>\n",
              "      <td>0.0</td>\n",
              "      <td>43065</td>\n",
              "      <td>40974671</td>\n",
              "      <td>1033777</td>\n",
              "      <td>flow=Background</td>\n",
              "      <td>0.0</td>\n",
              "    </tr>\n",
              "    <tr>\n",
              "      <th>1</th>\n",
              "      <td>2011/08/18 15:39:35.087915</td>\n",
              "      <td>497.720459</td>\n",
              "      <td>tcp</td>\n",
              "      <td>88.100.184.137</td>\n",
              "      <td>13121</td>\n",
              "      <td>&lt;?&gt;</td>\n",
              "      <td>147.32.85.26</td>\n",
              "      <td>62860</td>\n",
              "      <td>RPA_PA</td>\n",
              "      <td>0.0</td>\n",
              "      <td>0.0</td>\n",
              "      <td>326962</td>\n",
              "      <td>132430976</td>\n",
              "      <td>7076046</td>\n",
              "      <td>flow=Background</td>\n",
              "      <td>0.0</td>\n",
              "    </tr>\n",
              "    <tr>\n",
              "      <th>2</th>\n",
              "      <td>2011/08/18 15:39:35.091007</td>\n",
              "      <td>971.288147</td>\n",
              "      <td>tcp</td>\n",
              "      <td>147.32.84.2</td>\n",
              "      <td>80</td>\n",
              "      <td>&lt;?&gt;</td>\n",
              "      <td>218.75.208.58</td>\n",
              "      <td>3088</td>\n",
              "      <td>PA_A</td>\n",
              "      <td>0.0</td>\n",
              "      <td>0.0</td>\n",
              "      <td>7912</td>\n",
              "      <td>7356876</td>\n",
              "      <td>7153650</td>\n",
              "      <td>flow=Background</td>\n",
              "      <td>0.0</td>\n",
              "    </tr>\n",
              "    <tr>\n",
              "      <th>3</th>\n",
              "      <td>2011/08/18 15:39:35.091585</td>\n",
              "      <td>899.996399</td>\n",
              "      <td>tcp</td>\n",
              "      <td>90.181.84.58</td>\n",
              "      <td>54518</td>\n",
              "      <td>&lt;?&gt;</td>\n",
              "      <td>147.32.84.19</td>\n",
              "      <td>993</td>\n",
              "      <td>PA_PA</td>\n",
              "      <td>0.0</td>\n",
              "      <td>0.0</td>\n",
              "      <td>48</td>\n",
              "      <td>5728</td>\n",
              "      <td>3008</td>\n",
              "      <td>flow=Background</td>\n",
              "      <td>0.0</td>\n",
              "    </tr>\n",
              "    <tr>\n",
              "      <th>4</th>\n",
              "      <td>2011/08/18 15:39:35.093493</td>\n",
              "      <td>38.753445</td>\n",
              "      <td>tcp</td>\n",
              "      <td>147.32.86.116</td>\n",
              "      <td>19083</td>\n",
              "      <td>?&gt;</td>\n",
              "      <td>151.82.9.107</td>\n",
              "      <td>2185</td>\n",
              "      <td>RPA_</td>\n",
              "      <td>0.0</td>\n",
              "      <td>NaN</td>\n",
              "      <td>7</td>\n",
              "      <td>456</td>\n",
              "      <td>456</td>\n",
              "      <td>flow=Background</td>\n",
              "      <td>0.0</td>\n",
              "    </tr>\n",
              "  </tbody>\n",
              "</table>\n",
              "</div>"
            ],
            "text/plain": [
              "                    StartTime         Dur  ...            Label Malicious\n",
              "0  2011/08/18 15:39:35.087798   83.062141  ...  flow=Background       0.0\n",
              "1  2011/08/18 15:39:35.087915  497.720459  ...  flow=Background       0.0\n",
              "2  2011/08/18 15:39:35.091007  971.288147  ...  flow=Background       0.0\n",
              "3  2011/08/18 15:39:35.091585  899.996399  ...  flow=Background       0.0\n",
              "4  2011/08/18 15:39:35.093493   38.753445  ...  flow=Background       0.0\n",
              "\n",
              "[5 rows x 16 columns]"
            ]
          },
          "metadata": {
            "tags": []
          }
        }
      ]
    },
    {
      "cell_type": "code",
      "metadata": {
        "id": "KJTkFq6Mx61u"
      },
      "source": [
        "# Break data into target and features\r\n",
        "y11 = scenario_11.Malicious\r\n",
        "features = ['Dur', 'TotPkts', 'TotBytes', 'SrcBytes']\r\n",
        "X11 = scenario_11[features].copy()\r\n",
        "\r\n",
        "# Break data into training and testing data (80/20 split)\r\n",
        "X11_train, X11_test, y11_train, y11_test, = train_test_split(X11,y11, train_size = 0.8, test_size = 0.2, random_state = 1)"
      ],
      "execution_count": null,
      "outputs": []
    },
    {
      "cell_type": "code",
      "metadata": {
        "colab": {
          "base_uri": "https://localhost:8080/"
        },
        "id": "Qk_MkzHDx64K",
        "outputId": "76f4aad4-8c15-4b00-859f-0313dfe7c35b"
      },
      "source": [
        "# Generate base model\r\n",
        "classifier_11 = RandomForestClassifier(max_leaf_nodes = 100, random_state = 1)\r\n",
        "\r\n",
        "# Fit model to training data\r\n",
        "classifier_11.fit(X11_train,y11_train)"
      ],
      "execution_count": null,
      "outputs": [
        {
          "output_type": "execute_result",
          "data": {
            "text/plain": [
              "RandomForestClassifier(bootstrap=True, ccp_alpha=0.0, class_weight=None,\n",
              "                       criterion='gini', max_depth=None, max_features='auto',\n",
              "                       max_leaf_nodes=100, max_samples=None,\n",
              "                       min_impurity_decrease=0.0, min_impurity_split=None,\n",
              "                       min_samples_leaf=1, min_samples_split=2,\n",
              "                       min_weight_fraction_leaf=0.0, n_estimators=100,\n",
              "                       n_jobs=None, oob_score=False, random_state=1, verbose=0,\n",
              "                       warm_start=False)"
            ]
          },
          "metadata": {
            "tags": []
          },
          "execution_count": 112
        }
      ]
    },
    {
      "cell_type": "code",
      "metadata": {
        "colab": {
          "base_uri": "https://localhost:8080/"
        },
        "id": "TGKo30efy6aE",
        "outputId": "b01c855a-d8af-440c-c673-52dca2746844"
      },
      "source": [
        "predictions11 = classifier_11.predict(X11_test)\r\n",
        "\r\n",
        "accuracy_score(y11_test, predictions11)"
      ],
      "execution_count": null,
      "outputs": [
        {
          "output_type": "execute_result",
          "data": {
            "text/plain": [
              "0.9998135285068295"
            ]
          },
          "metadata": {
            "tags": []
          },
          "execution_count": 113
        }
      ]
    },
    {
      "cell_type": "code",
      "metadata": {
        "colab": {
          "base_uri": "https://localhost:8080/"
        },
        "id": "gMQd4k44zaqr",
        "outputId": "0d3789a0-ee02-4771-a00a-2e9af99e7713"
      },
      "source": [
        "# Incredibly high...suspiciously high\r\n",
        "f1_score(y11_test, predictions11)"
      ],
      "execution_count": null,
      "outputs": [
        {
          "output_type": "execute_result",
          "data": {
            "text/plain": [
              "0.9987460815047023"
            ]
          },
          "metadata": {
            "tags": []
          },
          "execution_count": 114
        }
      ]
    },
    {
      "cell_type": "code",
      "metadata": {
        "colab": {
          "base_uri": "https://localhost:8080/",
          "height": 105
        },
        "id": "xFpN8f4Xzas7",
        "outputId": "61dfbdd1-9051-4ed7-fc82-3e6a9e37fc50"
      },
      "source": [
        "labels11 = np.unique(y11_test)\r\n",
        "cm11 = confusion_matrix(y11_test, predictions11, labels=labels11)\r\n",
        "pd.DataFrame(cm11, index=labels11, columns=labels11)"
      ],
      "execution_count": null,
      "outputs": [
        {
          "output_type": "execute_result",
          "data": {
            "text/html": [
              "<div>\n",
              "<style scoped>\n",
              "    .dataframe tbody tr th:only-of-type {\n",
              "        vertical-align: middle;\n",
              "    }\n",
              "\n",
              "    .dataframe tbody tr th {\n",
              "        vertical-align: top;\n",
              "    }\n",
              "\n",
              "    .dataframe thead th {\n",
              "        text-align: right;\n",
              "    }\n",
              "</style>\n",
              "<table border=\"1\" class=\"dataframe\">\n",
              "  <thead>\n",
              "    <tr style=\"text-align: right;\">\n",
              "      <th></th>\n",
              "      <th>0.0</th>\n",
              "      <th>1.0</th>\n",
              "    </tr>\n",
              "  </thead>\n",
              "  <tbody>\n",
              "    <tr>\n",
              "      <th>0.0</th>\n",
              "      <td>19854</td>\n",
              "      <td>1</td>\n",
              "    </tr>\n",
              "    <tr>\n",
              "      <th>1.0</th>\n",
              "      <td>3</td>\n",
              "      <td>1593</td>\n",
              "    </tr>\n",
              "  </tbody>\n",
              "</table>\n",
              "</div>"
            ],
            "text/plain": [
              "       0.0   1.0\n",
              "0.0  19854     1\n",
              "1.0      3  1593"
            ]
          },
          "metadata": {
            "tags": []
          },
          "execution_count": 115
        }
      ]
    },
    {
      "cell_type": "code",
      "metadata": {
        "colab": {
          "base_uri": "https://localhost:8080/",
          "height": 295
        },
        "id": "fFExW0Fpz7qP",
        "outputId": "91bfad8a-20ff-423b-aa05-78a935697d54"
      },
      "source": [
        "importances11 = classifier_11.feature_importances_\r\n",
        "indices11 = np.argsort(importances11)\r\n",
        "\r\n",
        "plt.title('Feature Importances')\r\n",
        "plt.barh(range(len(indices11)), importances11[indices11], color='b', align='center')\r\n",
        "plt.yticks(range(len(indices11)), [features[i] for i in indices11])\r\n",
        "plt.xlabel('Relative Importance')\r\n",
        "plt.show()"
      ],
      "execution_count": null,
      "outputs": [
        {
          "output_type": "display_data",
          "data": {
            "image/png": "[encoded data removed]",
            "text/plain": [
              "<Figure size 432x288 with 1 Axes>"
            ]
          },
          "metadata": {
            "tags": [],
            "needs_background": "light"
          }
        }
      ]
    },
    {
      "cell_type": "markdown",
      "metadata": {
        "id": "3N6TzzZz097j"
      },
      "source": [
        "**Scenario 12 Model 1**"
      ]
    },
    {
      "cell_type": "code",
      "metadata": {
        "id": "O5ZmoZoA0-Nu"
      },
      "source": [
        "scenario_12 = pd.read_csv('https://mcfp.felk.cvut.cz/publicDatasets/CTU-Malware-Capture-Botnet-53/detailed-bidirectional-flow-labels/capture20110819.binetflow')"
      ],
      "execution_count": null,
      "outputs": []
    },
    {
      "cell_type": "code",
      "metadata": {
        "id": "J2KYb_Pv0-Pw"
      },
      "source": [
        "# Generate binary malicious target column\r\n",
        "scenario_12.loc[scenario_12['SrcAddr'] == '147.32.84.165', 'Malicious'] = 1\r\n",
        "scenario_12.loc[scenario_12['SrcAddr'] == '147.32.84.191', 'Malicious'] = 1\r\n",
        "scenario_12.loc[scenario_12['SrcAddr'] == '147.32.84.192', 'Malicious'] = 1\r\n",
        "scenario_12.loc[scenario_12['Malicious'] != 1, 'Malicious'] = 0"
      ],
      "execution_count": null,
      "outputs": []
    },
    {
      "cell_type": "code",
      "metadata": {
        "colab": {
          "base_uri": "https://localhost:8080/",
          "height": 565
        },
        "id": "qR-E73j00-Tu",
        "outputId": "dd985c17-51d6-4cd9-e62d-e4b8d8dc1bf2"
      },
      "source": [
        "display(scenario_12.loc[scenario_12['SrcAddr'] == '147.32.84.165'])\r\n",
        "display(scenario_12.head())"
      ],
      "execution_count": null,
      "outputs": [
        {
          "output_type": "display_data",
          "data": {
            "text/html": [
              "<div>\n",
              "<style scoped>\n",
              "    .dataframe tbody tr th:only-of-type {\n",
              "        vertical-align: middle;\n",
              "    }\n",
              "\n",
              "    .dataframe tbody tr th {\n",
              "        vertical-align: top;\n",
              "    }\n",
              "\n",
              "    .dataframe thead th {\n",
              "        text-align: right;\n",
              "    }\n",
              "</style>\n",
              "<table border=\"1\" class=\"dataframe\">\n",
              "  <thead>\n",
              "    <tr style=\"text-align: right;\">\n",
              "      <th></th>\n",
              "      <th>StartTime</th>\n",
              "      <th>Dur</th>\n",
              "      <th>Proto</th>\n",
              "      <th>SrcAddr</th>\n",
              "      <th>Sport</th>\n",
              "      <th>Dir</th>\n",
              "      <th>DstAddr</th>\n",
              "      <th>Dport</th>\n",
              "      <th>State</th>\n",
              "      <th>sTos</th>\n",
              "      <th>dTos</th>\n",
              "      <th>TotPkts</th>\n",
              "      <th>TotBytes</th>\n",
              "      <th>SrcBytes</th>\n",
              "      <th>Label</th>\n",
              "      <th>Malicious</th>\n",
              "    </tr>\n",
              "  </thead>\n",
              "  <tbody>\n",
              "    <tr>\n",
              "      <th>55309</th>\n",
              "      <td>2011/08/19 10:42:24.940312</td>\n",
              "      <td>0.000222</td>\n",
              "      <td>udp</td>\n",
              "      <td>147.32.84.165</td>\n",
              "      <td>1025</td>\n",
              "      <td>&lt;-&gt;</td>\n",
              "      <td>147.32.80.9</td>\n",
              "      <td>53</td>\n",
              "      <td>CON</td>\n",
              "      <td>0.0</td>\n",
              "      <td>0.0</td>\n",
              "      <td>2</td>\n",
              "      <td>203</td>\n",
              "      <td>64</td>\n",
              "      <td>flow=From-Botnet-V53-1-UDP-DNS</td>\n",
              "      <td>1.0</td>\n",
              "    </tr>\n",
              "    <tr>\n",
              "      <th>55483</th>\n",
              "      <td>2011/08/19 10:42:27.233797</td>\n",
              "      <td>0.010105</td>\n",
              "      <td>udp</td>\n",
              "      <td>147.32.84.165</td>\n",
              "      <td>1025</td>\n",
              "      <td>&lt;-&gt;</td>\n",
              "      <td>147.32.80.9</td>\n",
              "      <td>53</td>\n",
              "      <td>CON</td>\n",
              "      <td>0.0</td>\n",
              "      <td>0.0</td>\n",
              "      <td>2</td>\n",
              "      <td>590</td>\n",
              "      <td>87</td>\n",
              "      <td>flow=From-Botnet-V53-1-UDP-DNS</td>\n",
              "      <td>1.0</td>\n",
              "    </tr>\n",
              "    <tr>\n",
              "      <th>55484</th>\n",
              "      <td>2011/08/19 10:42:27.245200</td>\n",
              "      <td>0.086917</td>\n",
              "      <td>tcp</td>\n",
              "      <td>147.32.84.165</td>\n",
              "      <td>1027</td>\n",
              "      <td>-&gt;</td>\n",
              "      <td>74.125.232.130</td>\n",
              "      <td>80</td>\n",
              "      <td>SRPA_SPA</td>\n",
              "      <td>0.0</td>\n",
              "      <td>0.0</td>\n",
              "      <td>7</td>\n",
              "      <td>882</td>\n",
              "      <td>629</td>\n",
              "      <td>flow=From-Botnet-V53-1-TCP-HTTP-Google-Net-Est...</td>\n",
              "      <td>1.0</td>\n",
              "    </tr>\n",
              "    <tr>\n",
              "      <th>55485</th>\n",
              "      <td>2011/08/19 10:42:27.374312</td>\n",
              "      <td>0.000417</td>\n",
              "      <td>udp</td>\n",
              "      <td>147.32.84.165</td>\n",
              "      <td>1025</td>\n",
              "      <td>&lt;-&gt;</td>\n",
              "      <td>147.32.80.9</td>\n",
              "      <td>53</td>\n",
              "      <td>CON</td>\n",
              "      <td>0.0</td>\n",
              "      <td>0.0</td>\n",
              "      <td>2</td>\n",
              "      <td>358</td>\n",
              "      <td>76</td>\n",
              "      <td>flow=From-Botnet-V53-1-UDP-DNS</td>\n",
              "      <td>1.0</td>\n",
              "    </tr>\n",
              "    <tr>\n",
              "      <th>55486</th>\n",
              "      <td>2011/08/19 10:42:27.375722</td>\n",
              "      <td>40.477837</td>\n",
              "      <td>tcp</td>\n",
              "      <td>147.32.84.165</td>\n",
              "      <td>1029</td>\n",
              "      <td>-&gt;</td>\n",
              "      <td>74.125.79.100</td>\n",
              "      <td>80</td>\n",
              "      <td>SRPA_SPA</td>\n",
              "      <td>0.0</td>\n",
              "      <td>0.0</td>\n",
              "      <td>10</td>\n",
              "      <td>3065</td>\n",
              "      <td>1587</td>\n",
              "      <td>flow=From-Botnet-V53-1-TCP-HTTP-Google-Net-Est...</td>\n",
              "      <td>1.0</td>\n",
              "    </tr>\n",
              "    <tr>\n",
              "      <th>...</th>\n",
              "      <td>...</td>\n",
              "      <td>...</td>\n",
              "      <td>...</td>\n",
              "      <td>...</td>\n",
              "      <td>...</td>\n",
              "      <td>...</td>\n",
              "      <td>...</td>\n",
              "      <td>...</td>\n",
              "      <td>...</td>\n",
              "      <td>...</td>\n",
              "      <td>...</td>\n",
              "      <td>...</td>\n",
              "      <td>...</td>\n",
              "      <td>...</td>\n",
              "      <td>...</td>\n",
              "      <td>...</td>\n",
              "    </tr>\n",
              "    <tr>\n",
              "      <th>320654</th>\n",
              "      <td>2011/08/19 11:44:28.704361</td>\n",
              "      <td>0.000000</td>\n",
              "      <td>udp</td>\n",
              "      <td>147.32.84.165</td>\n",
              "      <td>1140</td>\n",
              "      <td>-&gt;</td>\n",
              "      <td>221.123.176.73</td>\n",
              "      <td>8000</td>\n",
              "      <td>REQ</td>\n",
              "      <td>0.0</td>\n",
              "      <td>0.0</td>\n",
              "      <td>1</td>\n",
              "      <td>198</td>\n",
              "      <td>198</td>\n",
              "      <td>flow=From-Botnet-V53-1-UDP-Attempt</td>\n",
              "      <td>1.0</td>\n",
              "    </tr>\n",
              "    <tr>\n",
              "      <th>320669</th>\n",
              "      <td>2011/08/19 11:44:28.993767</td>\n",
              "      <td>0.170053</td>\n",
              "      <td>udp</td>\n",
              "      <td>147.32.84.165</td>\n",
              "      <td>32234</td>\n",
              "      <td>&lt;-&gt;</td>\n",
              "      <td>77.198.89.70</td>\n",
              "      <td>23872</td>\n",
              "      <td>CON</td>\n",
              "      <td>0.0</td>\n",
              "      <td>0.0</td>\n",
              "      <td>2</td>\n",
              "      <td>485</td>\n",
              "      <td>340</td>\n",
              "      <td>flow=From-Botnet-V53-1-UDP-Established</td>\n",
              "      <td>1.0</td>\n",
              "    </tr>\n",
              "    <tr>\n",
              "      <th>320754</th>\n",
              "      <td>2011/08/19 11:44:30.271095</td>\n",
              "      <td>65.879608</td>\n",
              "      <td>udp</td>\n",
              "      <td>147.32.84.165</td>\n",
              "      <td>7600</td>\n",
              "      <td>&lt;-&gt;</td>\n",
              "      <td>221.123.176.37</td>\n",
              "      <td>10007</td>\n",
              "      <td>CON</td>\n",
              "      <td>0.0</td>\n",
              "      <td>0.0</td>\n",
              "      <td>3</td>\n",
              "      <td>240</td>\n",
              "      <td>65</td>\n",
              "      <td>flow=From-Botnet-V53-1-UDP-Established</td>\n",
              "      <td>1.0</td>\n",
              "    </tr>\n",
              "    <tr>\n",
              "      <th>321340</th>\n",
              "      <td>2011/08/19 11:44:40.153951</td>\n",
              "      <td>0.069815</td>\n",
              "      <td>udp</td>\n",
              "      <td>147.32.84.165</td>\n",
              "      <td>32234</td>\n",
              "      <td>&lt;-&gt;</td>\n",
              "      <td>78.235.173.96</td>\n",
              "      <td>54472</td>\n",
              "      <td>CON</td>\n",
              "      <td>0.0</td>\n",
              "      <td>0.0</td>\n",
              "      <td>2</td>\n",
              "      <td>473</td>\n",
              "      <td>140</td>\n",
              "      <td>flow=From-Botnet-V53-1-UDP-Established</td>\n",
              "      <td>1.0</td>\n",
              "    </tr>\n",
              "    <tr>\n",
              "      <th>321914</th>\n",
              "      <td>2011/08/19 11:44:48.381741</td>\n",
              "      <td>0.361530</td>\n",
              "      <td>udp</td>\n",
              "      <td>147.32.84.165</td>\n",
              "      <td>1153</td>\n",
              "      <td>&lt;-&gt;</td>\n",
              "      <td>221.123.176.74</td>\n",
              "      <td>10986</td>\n",
              "      <td>CON</td>\n",
              "      <td>0.0</td>\n",
              "      <td>0.0</td>\n",
              "      <td>2</td>\n",
              "      <td>169</td>\n",
              "      <td>106</td>\n",
              "      <td>flow=From-Botnet-V53-1-UDP-Established</td>\n",
              "      <td>1.0</td>\n",
              "    </tr>\n",
              "  </tbody>\n",
              "</table>\n",
              "<p>807 rows × 16 columns</p>\n",
              "</div>"
            ],
            "text/plain": [
              "                         StartTime  ...  Malicious\n",
              "55309   2011/08/19 10:42:24.940312  ...        1.0\n",
              "55483   2011/08/19 10:42:27.233797  ...        1.0\n",
              "55484   2011/08/19 10:42:27.245200  ...        1.0\n",
              "55485   2011/08/19 10:42:27.374312  ...        1.0\n",
              "55486   2011/08/19 10:42:27.375722  ...        1.0\n",
              "...                            ...  ...        ...\n",
              "320654  2011/08/19 11:44:28.704361  ...        1.0\n",
              "320669  2011/08/19 11:44:28.993767  ...        1.0\n",
              "320754  2011/08/19 11:44:30.271095  ...        1.0\n",
              "321340  2011/08/19 11:44:40.153951  ...        1.0\n",
              "321914  2011/08/19 11:44:48.381741  ...        1.0\n",
              "\n",
              "[807 rows x 16 columns]"
            ]
          },
          "metadata": {
            "tags": []
          }
        },
        {
          "output_type": "display_data",
          "data": {
            "text/html": [
              "<div>\n",
              "<style scoped>\n",
              "    .dataframe tbody tr th:only-of-type {\n",
              "        vertical-align: middle;\n",
              "    }\n",
              "\n",
              "    .dataframe tbody tr th {\n",
              "        vertical-align: top;\n",
              "    }\n",
              "\n",
              "    .dataframe thead th {\n",
              "        text-align: right;\n",
              "    }\n",
              "</style>\n",
              "<table border=\"1\" class=\"dataframe\">\n",
              "  <thead>\n",
              "    <tr style=\"text-align: right;\">\n",
              "      <th></th>\n",
              "      <th>StartTime</th>\n",
              "      <th>Dur</th>\n",
              "      <th>Proto</th>\n",
              "      <th>SrcAddr</th>\n",
              "      <th>Sport</th>\n",
              "      <th>Dir</th>\n",
              "      <th>DstAddr</th>\n",
              "      <th>Dport</th>\n",
              "      <th>State</th>\n",
              "      <th>sTos</th>\n",
              "      <th>dTos</th>\n",
              "      <th>TotPkts</th>\n",
              "      <th>TotBytes</th>\n",
              "      <th>SrcBytes</th>\n",
              "      <th>Label</th>\n",
              "      <th>Malicious</th>\n",
              "    </tr>\n",
              "  </thead>\n",
              "  <tbody>\n",
              "    <tr>\n",
              "      <th>0</th>\n",
              "      <td>2011/08/19 10:02:43.748728</td>\n",
              "      <td>3063.798096</td>\n",
              "      <td>udp</td>\n",
              "      <td>49.49.86.113</td>\n",
              "      <td>15889</td>\n",
              "      <td>&lt;-&gt;</td>\n",
              "      <td>147.32.84.59</td>\n",
              "      <td>63550</td>\n",
              "      <td>CON</td>\n",
              "      <td>0.0</td>\n",
              "      <td>0.0</td>\n",
              "      <td>3</td>\n",
              "      <td>435</td>\n",
              "      <td>290</td>\n",
              "      <td>flow=Background-Established-cmpgw-CVUT</td>\n",
              "      <td>0.0</td>\n",
              "    </tr>\n",
              "    <tr>\n",
              "      <th>1</th>\n",
              "      <td>2011/08/19 10:10:35.615858</td>\n",
              "      <td>2408.900391</td>\n",
              "      <td>udp</td>\n",
              "      <td>213.140.231.5</td>\n",
              "      <td>56930</td>\n",
              "      <td>&lt;-&gt;</td>\n",
              "      <td>147.32.84.59</td>\n",
              "      <td>8500</td>\n",
              "      <td>CON</td>\n",
              "      <td>0.0</td>\n",
              "      <td>0.0</td>\n",
              "      <td>3</td>\n",
              "      <td>433</td>\n",
              "      <td>290</td>\n",
              "      <td>flow=Background-Established-cmpgw-CVUT</td>\n",
              "      <td>0.0</td>\n",
              "    </tr>\n",
              "    <tr>\n",
              "      <th>2</th>\n",
              "      <td>2011/08/19 10:16:33.807982</td>\n",
              "      <td>1981.947021</td>\n",
              "      <td>udp</td>\n",
              "      <td>85.237.165.50</td>\n",
              "      <td>59891</td>\n",
              "      <td>&lt;-&gt;</td>\n",
              "      <td>147.32.84.59</td>\n",
              "      <td>63550</td>\n",
              "      <td>CON</td>\n",
              "      <td>0.0</td>\n",
              "      <td>0.0</td>\n",
              "      <td>2</td>\n",
              "      <td>290</td>\n",
              "      <td>145</td>\n",
              "      <td>flow=Background-Established-cmpgw-CVUT</td>\n",
              "      <td>0.0</td>\n",
              "    </tr>\n",
              "    <tr>\n",
              "      <th>3</th>\n",
              "      <td>2011/08/19 10:26:31.883066</td>\n",
              "      <td>1559.903076</td>\n",
              "      <td>udp</td>\n",
              "      <td>178.210.60.177</td>\n",
              "      <td>43233</td>\n",
              "      <td>&lt;-&gt;</td>\n",
              "      <td>147.32.84.59</td>\n",
              "      <td>22602</td>\n",
              "      <td>CON</td>\n",
              "      <td>0.0</td>\n",
              "      <td>0.0</td>\n",
              "      <td>2</td>\n",
              "      <td>290</td>\n",
              "      <td>145</td>\n",
              "      <td>flow=Background-Established-cmpgw-CVUT</td>\n",
              "      <td>0.0</td>\n",
              "    </tr>\n",
              "    <tr>\n",
              "      <th>4</th>\n",
              "      <td>2011/08/19 10:26:56.132358</td>\n",
              "      <td>1848.048584</td>\n",
              "      <td>udp</td>\n",
              "      <td>101.108.5.88</td>\n",
              "      <td>16857</td>\n",
              "      <td>&lt;-&gt;</td>\n",
              "      <td>147.32.84.59</td>\n",
              "      <td>22602</td>\n",
              "      <td>CON</td>\n",
              "      <td>0.0</td>\n",
              "      <td>0.0</td>\n",
              "      <td>2</td>\n",
              "      <td>290</td>\n",
              "      <td>145</td>\n",
              "      <td>flow=Background-Established-cmpgw-CVUT</td>\n",
              "      <td>0.0</td>\n",
              "    </tr>\n",
              "  </tbody>\n",
              "</table>\n",
              "</div>"
            ],
            "text/plain": [
              "                    StartTime  ...  Malicious\n",
              "0  2011/08/19 10:02:43.748728  ...        0.0\n",
              "1  2011/08/19 10:10:35.615858  ...        0.0\n",
              "2  2011/08/19 10:16:33.807982  ...        0.0\n",
              "3  2011/08/19 10:26:31.883066  ...        0.0\n",
              "4  2011/08/19 10:26:56.132358  ...        0.0\n",
              "\n",
              "[5 rows x 16 columns]"
            ]
          },
          "metadata": {
            "tags": []
          }
        }
      ]
    },
    {
      "cell_type": "code",
      "metadata": {
        "id": "LdxL1nuq0-WM"
      },
      "source": [
        "# Break data into target and features\r\n",
        "y12 = scenario_12.Malicious\r\n",
        "features = ['Dur', 'TotPkts', 'TotBytes', 'SrcBytes']\r\n",
        "X12 = scenario_12[features].copy()\r\n",
        "\r\n",
        "# Break data into training and testing data (80/20 split)\r\n",
        "X12_train, X12_test, y12_train, y12_test, = train_test_split(X12,y12, train_size = 0.8, test_size = 0.2, random_state = 1)"
      ],
      "execution_count": null,
      "outputs": []
    },
    {
      "cell_type": "code",
      "metadata": {
        "colab": {
          "base_uri": "https://localhost:8080/"
        },
        "id": "kN-vA0_K0-X4",
        "outputId": "3612800e-08dd-4138-b9f6-d3e691c9cf2a"
      },
      "source": [
        "# Generate base model\r\n",
        "classifier_12 = RandomForestClassifier(max_leaf_nodes = 100, random_state = 1)\r\n",
        "\r\n",
        "# Fit model to training data\r\n",
        "classifier_12.fit(X12_train,y12_train)"
      ],
      "execution_count": null,
      "outputs": [
        {
          "output_type": "execute_result",
          "data": {
            "text/plain": [
              "RandomForestClassifier(bootstrap=True, ccp_alpha=0.0, class_weight=None,\n",
              "                       criterion='gini', max_depth=None, max_features='auto',\n",
              "                       max_leaf_nodes=100, max_samples=None,\n",
              "                       min_impurity_decrease=0.0, min_impurity_split=None,\n",
              "                       min_samples_leaf=1, min_samples_split=2,\n",
              "                       min_weight_fraction_leaf=0.0, n_estimators=100,\n",
              "                       n_jobs=None, oob_score=False, random_state=1, verbose=0,\n",
              "                       warm_start=False)"
            ]
          },
          "metadata": {
            "tags": []
          },
          "execution_count": 121
        }
      ]
    },
    {
      "cell_type": "code",
      "metadata": {
        "colab": {
          "base_uri": "https://localhost:8080/"
        },
        "id": "DfqFpMdu0-Z7",
        "outputId": "4dbeef2d-76f3-409e-b69e-be6882ef7689"
      },
      "source": [
        "predictions12 = classifier_12.predict(X12_test)\r\n",
        "\r\n",
        "accuracy_score(y12_test, predictions12)"
      ],
      "execution_count": null,
      "outputs": [
        {
          "output_type": "execute_result",
          "data": {
            "text/plain": [
              "0.9954835240801905"
            ]
          },
          "metadata": {
            "tags": []
          },
          "execution_count": 122
        }
      ]
    },
    {
      "cell_type": "code",
      "metadata": {
        "colab": {
          "base_uri": "https://localhost:8080/"
        },
        "id": "A_MRfIil0-b4",
        "outputId": "225cb500-1c5f-454e-b7e5-33a9ac15605c"
      },
      "source": [
        "f1_score(y12_test, predictions12)"
      ],
      "execution_count": null,
      "outputs": [
        {
          "output_type": "execute_result",
          "data": {
            "text/plain": [
              "0.528846153846154"
            ]
          },
          "metadata": {
            "tags": []
          },
          "execution_count": 123
        }
      ]
    },
    {
      "cell_type": "code",
      "metadata": {
        "colab": {
          "base_uri": "https://localhost:8080/",
          "height": 105
        },
        "id": "UI9NMcpC2Nxk",
        "outputId": "bbc4cda0-4287-4177-bbed-fea4ed9e7529"
      },
      "source": [
        "labels12 = np.unique(y12_test)\r\n",
        "cm12 = confusion_matrix(y12_test, predictions12, labels=labels12)\r\n",
        "pd.DataFrame(cm12, index=labels12, columns=labels12)"
      ],
      "execution_count": null,
      "outputs": [
        {
          "output_type": "execute_result",
          "data": {
            "text/html": [
              "<div>\n",
              "<style scoped>\n",
              "    .dataframe tbody tr th:only-of-type {\n",
              "        vertical-align: middle;\n",
              "    }\n",
              "\n",
              "    .dataframe tbody tr th {\n",
              "        vertical-align: top;\n",
              "    }\n",
              "\n",
              "    .dataframe thead th {\n",
              "        text-align: right;\n",
              "    }\n",
              "</style>\n",
              "<table border=\"1\" class=\"dataframe\">\n",
              "  <thead>\n",
              "    <tr style=\"text-align: right;\">\n",
              "      <th></th>\n",
              "      <th>0.0</th>\n",
              "      <th>1.0</th>\n",
              "    </tr>\n",
              "  </thead>\n",
              "  <tbody>\n",
              "    <tr>\n",
              "      <th>0.0</th>\n",
              "      <td>64636</td>\n",
              "      <td>11</td>\n",
              "    </tr>\n",
              "    <tr>\n",
              "      <th>1.0</th>\n",
              "      <td>283</td>\n",
              "      <td>165</td>\n",
              "    </tr>\n",
              "  </tbody>\n",
              "</table>\n",
              "</div>"
            ],
            "text/plain": [
              "       0.0  1.0\n",
              "0.0  64636   11\n",
              "1.0    283  165"
            ]
          },
          "metadata": {
            "tags": []
          },
          "execution_count": 124
        }
      ]
    },
    {
      "cell_type": "code",
      "metadata": {
        "colab": {
          "base_uri": "https://localhost:8080/",
          "height": 295
        },
        "id": "I3YRcMVF2Nz5",
        "outputId": "5bdc34cd-5aa9-4cad-d6e5-53c35d58ecd1"
      },
      "source": [
        "importances12 = classifier_12.feature_importances_\r\n",
        "indices12 = np.argsort(importances12)\r\n",
        "\r\n",
        "plt.title('Feature Importances')\r\n",
        "plt.barh(range(len(indices12)), importances12[indices12], color='b', align='center')\r\n",
        "plt.yticks(range(len(indices12)), [features[i] for i in indices12])\r\n",
        "plt.xlabel('Relative Importance')\r\n",
        "plt.show()"
      ],
      "execution_count": null,
      "outputs": [
        {
          "output_type": "display_data",
          "data": {
            "image/png": "[encoded data removed]",
            "text/plain": [
              "<Figure size 432x288 with 1 Axes>"
            ]
          },
          "metadata": {
            "tags": [],
            "needs_background": "light"
          }
        }
      ]
    },
    {
      "cell_type": "markdown",
      "metadata": {
        "id": "0BlxFZ5x2fPr"
      },
      "source": [
        "**Scenario 13 Model 1**"
      ]
    },
    {
      "cell_type": "code",
      "metadata": {
        "id": "vK6iti1X2hE7"
      },
      "source": [
        "scenario_13 = pd.read_csv('https://mcfp.felk.cvut.cz/publicDatasets/CTU-Malware-Capture-Botnet-54/detailed-bidirectional-flow-labels/capture20110815-3.binetflow')"
      ],
      "execution_count": null,
      "outputs": []
    },
    {
      "cell_type": "code",
      "metadata": {
        "id": "6pc6Oa4X2hHO"
      },
      "source": [
        "# Generate binary malicious target column\r\n",
        "scenario_13.loc[scenario_13['SrcAddr'] == '147.32.84.165', 'Malicious'] = 1\r\n",
        "scenario_13.loc[scenario_13['Malicious'] != 1, 'Malicious'] = 0"
      ],
      "execution_count": null,
      "outputs": []
    },
    {
      "cell_type": "code",
      "metadata": {
        "colab": {
          "base_uri": "https://localhost:8080/",
          "height": 565
        },
        "id": "ERjkFHLV2hLg",
        "outputId": "bf5f8f7c-9f10-46dc-8f82-12984e0ae7f8"
      },
      "source": [
        "display(scenario_13.loc[scenario_13['SrcAddr'] == '147.32.84.165'])\r\n",
        "display(scenario_13.head())"
      ],
      "execution_count": null,
      "outputs": [
        {
          "output_type": "display_data",
          "data": {
            "text/html": [
              "<div>\n",
              "<style scoped>\n",
              "    .dataframe tbody tr th:only-of-type {\n",
              "        vertical-align: middle;\n",
              "    }\n",
              "\n",
              "    .dataframe tbody tr th {\n",
              "        vertical-align: top;\n",
              "    }\n",
              "\n",
              "    .dataframe thead th {\n",
              "        text-align: right;\n",
              "    }\n",
              "</style>\n",
              "<table border=\"1\" class=\"dataframe\">\n",
              "  <thead>\n",
              "    <tr style=\"text-align: right;\">\n",
              "      <th></th>\n",
              "      <th>StartTime</th>\n",
              "      <th>Dur</th>\n",
              "      <th>Proto</th>\n",
              "      <th>SrcAddr</th>\n",
              "      <th>Sport</th>\n",
              "      <th>Dir</th>\n",
              "      <th>DstAddr</th>\n",
              "      <th>Dport</th>\n",
              "      <th>State</th>\n",
              "      <th>sTos</th>\n",
              "      <th>dTos</th>\n",
              "      <th>TotPkts</th>\n",
              "      <th>TotBytes</th>\n",
              "      <th>SrcBytes</th>\n",
              "      <th>Label</th>\n",
              "      <th>Malicious</th>\n",
              "    </tr>\n",
              "  </thead>\n",
              "  <tbody>\n",
              "    <tr>\n",
              "      <th>14915</th>\n",
              "      <td>2011/08/15 17:16:48.558133</td>\n",
              "      <td>0.000241</td>\n",
              "      <td>udp</td>\n",
              "      <td>147.32.84.165</td>\n",
              "      <td>1025</td>\n",
              "      <td>&lt;-&gt;</td>\n",
              "      <td>147.32.80.9</td>\n",
              "      <td>53</td>\n",
              "      <td>CON</td>\n",
              "      <td>0.0</td>\n",
              "      <td>0.0</td>\n",
              "      <td>2</td>\n",
              "      <td>203</td>\n",
              "      <td>64</td>\n",
              "      <td>flow=From-Botnet-V54-UDP-DNS</td>\n",
              "      <td>1.0</td>\n",
              "    </tr>\n",
              "    <tr>\n",
              "      <th>15052</th>\n",
              "      <td>2011/08/15 17:16:50.806904</td>\n",
              "      <td>0.111665</td>\n",
              "      <td>udp</td>\n",
              "      <td>147.32.84.165</td>\n",
              "      <td>1025</td>\n",
              "      <td>&lt;-&gt;</td>\n",
              "      <td>147.32.80.9</td>\n",
              "      <td>53</td>\n",
              "      <td>CON</td>\n",
              "      <td>0.0</td>\n",
              "      <td>0.0</td>\n",
              "      <td>2</td>\n",
              "      <td>590</td>\n",
              "      <td>87</td>\n",
              "      <td>flow=From-Botnet-V54-UDP-DNS</td>\n",
              "      <td>1.0</td>\n",
              "    </tr>\n",
              "    <tr>\n",
              "      <th>15062</th>\n",
              "      <td>2011/08/15 17:16:50.919759</td>\n",
              "      <td>0.053440</td>\n",
              "      <td>tcp</td>\n",
              "      <td>147.32.84.165</td>\n",
              "      <td>1027</td>\n",
              "      <td>-&gt;</td>\n",
              "      <td>74.125.232.201</td>\n",
              "      <td>80</td>\n",
              "      <td>SRPA_SPA</td>\n",
              "      <td>0.0</td>\n",
              "      <td>0.0</td>\n",
              "      <td>7</td>\n",
              "      <td>882</td>\n",
              "      <td>629</td>\n",
              "      <td>flow=From-Botnet-V54-TCP-HTTP-Google-Net-Estab...</td>\n",
              "      <td>1.0</td>\n",
              "    </tr>\n",
              "    <tr>\n",
              "      <th>22789</th>\n",
              "      <td>2011/08/15 17:18:59.575757</td>\n",
              "      <td>0.000326</td>\n",
              "      <td>udp</td>\n",
              "      <td>147.32.84.165</td>\n",
              "      <td>1025</td>\n",
              "      <td>&lt;-&gt;</td>\n",
              "      <td>147.32.80.9</td>\n",
              "      <td>53</td>\n",
              "      <td>CON</td>\n",
              "      <td>0.0</td>\n",
              "      <td>0.0</td>\n",
              "      <td>2</td>\n",
              "      <td>226</td>\n",
              "      <td>71</td>\n",
              "      <td>flow=From-Botnet-V54-UDP-DNS</td>\n",
              "      <td>1.0</td>\n",
              "    </tr>\n",
              "    <tr>\n",
              "      <th>22790</th>\n",
              "      <td>2011/08/15 17:18:59.581094</td>\n",
              "      <td>8.824491</td>\n",
              "      <td>tcp</td>\n",
              "      <td>147.32.84.165</td>\n",
              "      <td>1039</td>\n",
              "      <td>-&gt;</td>\n",
              "      <td>83.133.119.196</td>\n",
              "      <td>80</td>\n",
              "      <td>S_</td>\n",
              "      <td>0.0</td>\n",
              "      <td>NaN</td>\n",
              "      <td>3</td>\n",
              "      <td>186</td>\n",
              "      <td>186</td>\n",
              "      <td>flow=From-Botnet-V54-TCP-Attempt</td>\n",
              "      <td>1.0</td>\n",
              "    </tr>\n",
              "    <tr>\n",
              "      <th>...</th>\n",
              "      <td>...</td>\n",
              "      <td>...</td>\n",
              "      <td>...</td>\n",
              "      <td>...</td>\n",
              "      <td>...</td>\n",
              "      <td>...</td>\n",
              "      <td>...</td>\n",
              "      <td>...</td>\n",
              "      <td>...</td>\n",
              "      <td>...</td>\n",
              "      <td>...</td>\n",
              "      <td>...</td>\n",
              "      <td>...</td>\n",
              "      <td>...</td>\n",
              "      <td>...</td>\n",
              "      <td>...</td>\n",
              "    </tr>\n",
              "    <tr>\n",
              "      <th>1921763</th>\n",
              "      <td>2011/08/16 09:34:48.720564</td>\n",
              "      <td>1.308413</td>\n",
              "      <td>tcp</td>\n",
              "      <td>147.32.84.165</td>\n",
              "      <td>23049</td>\n",
              "      <td>-&gt;</td>\n",
              "      <td>184.173.217.40</td>\n",
              "      <td>443</td>\n",
              "      <td>S_RA</td>\n",
              "      <td>0.0</td>\n",
              "      <td>0.0</td>\n",
              "      <td>6</td>\n",
              "      <td>366</td>\n",
              "      <td>186</td>\n",
              "      <td>flow=From-Botnet-V54-TCP-Attempt</td>\n",
              "      <td>1.0</td>\n",
              "    </tr>\n",
              "    <tr>\n",
              "      <th>1921844</th>\n",
              "      <td>2011/08/16 09:34:51.024297</td>\n",
              "      <td>1.207547</td>\n",
              "      <td>tcp</td>\n",
              "      <td>147.32.84.165</td>\n",
              "      <td>23050</td>\n",
              "      <td>-&gt;</td>\n",
              "      <td>184.173.217.40</td>\n",
              "      <td>443</td>\n",
              "      <td>S_RA</td>\n",
              "      <td>0.0</td>\n",
              "      <td>0.0</td>\n",
              "      <td>6</td>\n",
              "      <td>366</td>\n",
              "      <td>186</td>\n",
              "      <td>flow=From-Botnet-V54-TCP-Attempt</td>\n",
              "      <td>1.0</td>\n",
              "    </tr>\n",
              "    <tr>\n",
              "      <th>1921938</th>\n",
              "      <td>2011/08/16 09:34:53.227430</td>\n",
              "      <td>1.307525</td>\n",
              "      <td>tcp</td>\n",
              "      <td>147.32.84.165</td>\n",
              "      <td>23051</td>\n",
              "      <td>-&gt;</td>\n",
              "      <td>184.173.217.40</td>\n",
              "      <td>443</td>\n",
              "      <td>S_RA</td>\n",
              "      <td>0.0</td>\n",
              "      <td>0.0</td>\n",
              "      <td>6</td>\n",
              "      <td>366</td>\n",
              "      <td>186</td>\n",
              "      <td>flow=From-Botnet-V54-TCP-Attempt</td>\n",
              "      <td>1.0</td>\n",
              "    </tr>\n",
              "    <tr>\n",
              "      <th>1922018</th>\n",
              "      <td>2011/08/16 09:34:55.530820</td>\n",
              "      <td>1.308276</td>\n",
              "      <td>tcp</td>\n",
              "      <td>147.32.84.165</td>\n",
              "      <td>23052</td>\n",
              "      <td>-&gt;</td>\n",
              "      <td>184.173.217.40</td>\n",
              "      <td>443</td>\n",
              "      <td>S_RA</td>\n",
              "      <td>0.0</td>\n",
              "      <td>0.0</td>\n",
              "      <td>6</td>\n",
              "      <td>366</td>\n",
              "      <td>186</td>\n",
              "      <td>flow=From-Botnet-V54-TCP-Attempt</td>\n",
              "      <td>1.0</td>\n",
              "    </tr>\n",
              "    <tr>\n",
              "      <th>1922099</th>\n",
              "      <td>2011/08/16 09:34:57.834124</td>\n",
              "      <td>0.146164</td>\n",
              "      <td>tcp</td>\n",
              "      <td>147.32.84.165</td>\n",
              "      <td>23053</td>\n",
              "      <td>-&gt;</td>\n",
              "      <td>184.173.217.40</td>\n",
              "      <td>443</td>\n",
              "      <td>S_RA</td>\n",
              "      <td>0.0</td>\n",
              "      <td>0.0</td>\n",
              "      <td>2</td>\n",
              "      <td>122</td>\n",
              "      <td>62</td>\n",
              "      <td>flow=From-Botnet-V54-TCP-Attempt</td>\n",
              "      <td>1.0</td>\n",
              "    </tr>\n",
              "  </tbody>\n",
              "</table>\n",
              "<p>40003 rows × 16 columns</p>\n",
              "</div>"
            ],
            "text/plain": [
              "                          StartTime  ...  Malicious\n",
              "14915    2011/08/15 17:16:48.558133  ...        1.0\n",
              "15052    2011/08/15 17:16:50.806904  ...        1.0\n",
              "15062    2011/08/15 17:16:50.919759  ...        1.0\n",
              "22789    2011/08/15 17:18:59.575757  ...        1.0\n",
              "22790    2011/08/15 17:18:59.581094  ...        1.0\n",
              "...                             ...  ...        ...\n",
              "1921763  2011/08/16 09:34:48.720564  ...        1.0\n",
              "1921844  2011/08/16 09:34:51.024297  ...        1.0\n",
              "1921938  2011/08/16 09:34:53.227430  ...        1.0\n",
              "1922018  2011/08/16 09:34:55.530820  ...        1.0\n",
              "1922099  2011/08/16 09:34:57.834124  ...        1.0\n",
              "\n",
              "[40003 rows x 16 columns]"
            ]
          },
          "metadata": {
            "tags": []
          }
        },
        {
          "output_type": "display_data",
          "data": {
            "text/html": [
              "<div>\n",
              "<style scoped>\n",
              "    .dataframe tbody tr th:only-of-type {\n",
              "        vertical-align: middle;\n",
              "    }\n",
              "\n",
              "    .dataframe tbody tr th {\n",
              "        vertical-align: top;\n",
              "    }\n",
              "\n",
              "    .dataframe thead th {\n",
              "        text-align: right;\n",
              "    }\n",
              "</style>\n",
              "<table border=\"1\" class=\"dataframe\">\n",
              "  <thead>\n",
              "    <tr style=\"text-align: right;\">\n",
              "      <th></th>\n",
              "      <th>StartTime</th>\n",
              "      <th>Dur</th>\n",
              "      <th>Proto</th>\n",
              "      <th>SrcAddr</th>\n",
              "      <th>Sport</th>\n",
              "      <th>Dir</th>\n",
              "      <th>DstAddr</th>\n",
              "      <th>Dport</th>\n",
              "      <th>State</th>\n",
              "      <th>sTos</th>\n",
              "      <th>dTos</th>\n",
              "      <th>TotPkts</th>\n",
              "      <th>TotBytes</th>\n",
              "      <th>SrcBytes</th>\n",
              "      <th>Label</th>\n",
              "      <th>Malicious</th>\n",
              "    </tr>\n",
              "  </thead>\n",
              "  <tbody>\n",
              "    <tr>\n",
              "      <th>0</th>\n",
              "      <td>2011/08/15 17:13:40.449530</td>\n",
              "      <td>504.234436</td>\n",
              "      <td>tcp</td>\n",
              "      <td>90.177.154.197</td>\n",
              "      <td>20127</td>\n",
              "      <td>&lt;?&gt;</td>\n",
              "      <td>147.32.84.144</td>\n",
              "      <td>22</td>\n",
              "      <td>FPA_FPA</td>\n",
              "      <td>0.0</td>\n",
              "      <td>0.0</td>\n",
              "      <td>25518</td>\n",
              "      <td>24184088</td>\n",
              "      <td>681036</td>\n",
              "      <td>flow=Background</td>\n",
              "      <td>0.0</td>\n",
              "    </tr>\n",
              "    <tr>\n",
              "      <th>1</th>\n",
              "      <td>2011/08/15 17:13:40.453458</td>\n",
              "      <td>1052.854126</td>\n",
              "      <td>tcp</td>\n",
              "      <td>198.36.38.132</td>\n",
              "      <td>55530</td>\n",
              "      <td>&lt;?&gt;</td>\n",
              "      <td>147.32.86.183</td>\n",
              "      <td>443</td>\n",
              "      <td>FPA_FPA</td>\n",
              "      <td>0.0</td>\n",
              "      <td>0.0</td>\n",
              "      <td>37113</td>\n",
              "      <td>8107174</td>\n",
              "      <td>825680</td>\n",
              "      <td>flow=Background</td>\n",
              "      <td>0.0</td>\n",
              "    </tr>\n",
              "    <tr>\n",
              "      <th>2</th>\n",
              "      <td>2011/08/15 17:13:40.456275</td>\n",
              "      <td>1046.228882</td>\n",
              "      <td>udp</td>\n",
              "      <td>41.103.64.21</td>\n",
              "      <td>54617</td>\n",
              "      <td>&lt;-&gt;</td>\n",
              "      <td>147.32.86.183</td>\n",
              "      <td>51246</td>\n",
              "      <td>CON</td>\n",
              "      <td>0.0</td>\n",
              "      <td>0.0</td>\n",
              "      <td>24471</td>\n",
              "      <td>6638214</td>\n",
              "      <td>6634822</td>\n",
              "      <td>flow=Background-UDP-Established</td>\n",
              "      <td>0.0</td>\n",
              "    </tr>\n",
              "    <tr>\n",
              "      <th>3</th>\n",
              "      <td>2011/08/15 17:13:40.462030</td>\n",
              "      <td>3599.993896</td>\n",
              "      <td>tcp</td>\n",
              "      <td>147.32.80.13</td>\n",
              "      <td>80</td>\n",
              "      <td>&lt;?&gt;</td>\n",
              "      <td>147.32.84.162</td>\n",
              "      <td>60840</td>\n",
              "      <td>PA_A</td>\n",
              "      <td>0.0</td>\n",
              "      <td>0.0</td>\n",
              "      <td>77144</td>\n",
              "      <td>61919076</td>\n",
              "      <td>60398556</td>\n",
              "      <td>flow=From-Background-CVUT-Proxy</td>\n",
              "      <td>0.0</td>\n",
              "    </tr>\n",
              "    <tr>\n",
              "      <th>4</th>\n",
              "      <td>2011/08/15 17:13:40.464134</td>\n",
              "      <td>3599.980225</td>\n",
              "      <td>tcp</td>\n",
              "      <td>83.163.158.159</td>\n",
              "      <td>65400</td>\n",
              "      <td>&lt;?&gt;</td>\n",
              "      <td>147.32.84.171</td>\n",
              "      <td>6881</td>\n",
              "      <td>PA_PA</td>\n",
              "      <td>0.0</td>\n",
              "      <td>0.0</td>\n",
              "      <td>269868</td>\n",
              "      <td>256890904</td>\n",
              "      <td>5818939</td>\n",
              "      <td>flow=Background</td>\n",
              "      <td>0.0</td>\n",
              "    </tr>\n",
              "  </tbody>\n",
              "</table>\n",
              "</div>"
            ],
            "text/plain": [
              "                    StartTime  ...  Malicious\n",
              "0  2011/08/15 17:13:40.449530  ...        0.0\n",
              "1  2011/08/15 17:13:40.453458  ...        0.0\n",
              "2  2011/08/15 17:13:40.456275  ...        0.0\n",
              "3  2011/08/15 17:13:40.462030  ...        0.0\n",
              "4  2011/08/15 17:13:40.464134  ...        0.0\n",
              "\n",
              "[5 rows x 16 columns]"
            ]
          },
          "metadata": {
            "tags": []
          }
        }
      ]
    },
    {
      "cell_type": "code",
      "metadata": {
        "id": "U31vylj82hOE"
      },
      "source": [
        "# Break data into target and features\r\n",
        "y13 = scenario_13.Malicious\r\n",
        "features = ['Dur', 'TotPkts', 'TotBytes', 'SrcBytes']\r\n",
        "X13 = scenario_13[features].copy()\r\n",
        "\r\n",
        "# Break data into training and testing data (80/20 split)\r\n",
        "X13_train, X13_test, y13_train, y13_test, = train_test_split(X13,y13, train_size = 0.8, test_size = 0.2, random_state = 1)"
      ],
      "execution_count": null,
      "outputs": []
    },
    {
      "cell_type": "code",
      "metadata": {
        "colab": {
          "base_uri": "https://localhost:8080/"
        },
        "id": "cGg0lsLS2hP6",
        "outputId": "49484a83-b0b0-4fed-eded-cbf05556f1cc"
      },
      "source": [
        "# Generate base model\r\n",
        "classifier_13 = RandomForestClassifier(max_leaf_nodes = 100, random_state = 1)\r\n",
        "\r\n",
        "# Fit model to training data\r\n",
        "classifier_13.fit(X13_train,y13_train)"
      ],
      "execution_count": null,
      "outputs": [
        {
          "output_type": "execute_result",
          "data": {
            "text/plain": [
              "RandomForestClassifier(bootstrap=True, ccp_alpha=0.0, class_weight=None,\n",
              "                       criterion='gini', max_depth=None, max_features='auto',\n",
              "                       max_leaf_nodes=100, max_samples=None,\n",
              "                       min_impurity_decrease=0.0, min_impurity_split=None,\n",
              "                       min_samples_leaf=1, min_samples_split=2,\n",
              "                       min_weight_fraction_leaf=0.0, n_estimators=100,\n",
              "                       n_jobs=None, oob_score=False, random_state=1, verbose=0,\n",
              "                       warm_start=False)"
            ]
          },
          "metadata": {
            "tags": []
          },
          "execution_count": 131
        }
      ]
    },
    {
      "cell_type": "code",
      "metadata": {
        "colab": {
          "base_uri": "https://localhost:8080/"
        },
        "id": "hqBoOxwC2hRt",
        "outputId": "fab69eaf-8e30-4439-9cc8-b84d6e4dace2"
      },
      "source": [
        "predictions13 = classifier_13.predict(X13_test)\r\n",
        "\r\n",
        "accuracy_score(y13_test, predictions13)"
      ],
      "execution_count": null,
      "outputs": [
        {
          "output_type": "execute_result",
          "data": {
            "text/plain": [
              "0.9944705607355271"
            ]
          },
          "metadata": {
            "tags": []
          },
          "execution_count": 132
        }
      ]
    },
    {
      "cell_type": "code",
      "metadata": {
        "colab": {
          "base_uri": "https://localhost:8080/"
        },
        "id": "BuelMkdX2hTi",
        "outputId": "0d286dfd-b0a4-4aaa-ae31-e65ee2cb3d33"
      },
      "source": [
        "f1_score(y13_test, predictions13)"
      ],
      "execution_count": null,
      "outputs": [
        {
          "output_type": "execute_result",
          "data": {
            "text/plain": [
              "0.8543875247931059"
            ]
          },
          "metadata": {
            "tags": []
          },
          "execution_count": 133
        }
      ]
    },
    {
      "cell_type": "code",
      "metadata": {
        "colab": {
          "base_uri": "https://localhost:8080/",
          "height": 105
        },
        "id": "kGeFaToa4VBQ",
        "outputId": "d611d95c-2839-4c58-873d-995c865ef1f9"
      },
      "source": [
        "labels13 = np.unique(y13_test)\r\n",
        "cm13 = confusion_matrix(y13_test, predictions13, labels=labels13)\r\n",
        "pd.DataFrame(cm13, index=labels13, columns=labels13)"
      ],
      "execution_count": null,
      "outputs": [
        {
          "output_type": "execute_result",
          "data": {
            "text/html": [
              "<div>\n",
              "<style scoped>\n",
              "    .dataframe tbody tr th:only-of-type {\n",
              "        vertical-align: middle;\n",
              "    }\n",
              "\n",
              "    .dataframe tbody tr th {\n",
              "        vertical-align: top;\n",
              "    }\n",
              "\n",
              "    .dataframe thead th {\n",
              "        text-align: right;\n",
              "    }\n",
              "</style>\n",
              "<table border=\"1\" class=\"dataframe\">\n",
              "  <thead>\n",
              "    <tr style=\"text-align: right;\">\n",
              "      <th></th>\n",
              "      <th>0.0</th>\n",
              "      <th>1.0</th>\n",
              "    </tr>\n",
              "  </thead>\n",
              "  <tbody>\n",
              "    <tr>\n",
              "      <th>0.0</th>\n",
              "      <td>376655</td>\n",
              "      <td>153</td>\n",
              "    </tr>\n",
              "    <tr>\n",
              "      <th>1.0</th>\n",
              "      <td>1976</td>\n",
              "      <td>6246</td>\n",
              "    </tr>\n",
              "  </tbody>\n",
              "</table>\n",
              "</div>"
            ],
            "text/plain": [
              "        0.0   1.0\n",
              "0.0  376655   153\n",
              "1.0    1976  6246"
            ]
          },
          "metadata": {
            "tags": []
          },
          "execution_count": 134
        }
      ]
    },
    {
      "cell_type": "code",
      "metadata": {
        "colab": {
          "base_uri": "https://localhost:8080/",
          "height": 295
        },
        "id": "-ZRccJE34afL",
        "outputId": "9e180aea-98f2-4404-e0cd-e1cf6eee659b"
      },
      "source": [
        "importances13 = classifier_13.feature_importances_\r\n",
        "indices13 = np.argsort(importances13)\r\n",
        "\r\n",
        "plt.title('Feature Importances')\r\n",
        "plt.barh(range(len(indices13)), importances13[indices13], color='b', align='center')\r\n",
        "plt.yticks(range(len(indices13)), [features[i] for i in indices13])\r\n",
        "plt.xlabel('Relative Importance')\r\n",
        "plt.show()"
      ],
      "execution_count": null,
      "outputs": [
        {
          "output_type": "display_data",
          "data": {
            "image/png": "[encoded data removed]",
            "text/plain": [
              "<Figure size 432x288 with 1 Axes>"
            ]
          },
          "metadata": {
            "tags": [],
            "needs_background": "light"
          }
        }
      ]
    }
  ]
}