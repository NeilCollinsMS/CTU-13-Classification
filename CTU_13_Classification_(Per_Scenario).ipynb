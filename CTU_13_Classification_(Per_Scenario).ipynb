{
  "nbformat": 4,
  "nbformat_minor": 0,
  "metadata": {
    "colab": {
      "name": "CTU-13 Classification (Per Scenario).ipynb",
      "provenance": [],
      "authorship_tag": "ABX9TyO+roN1Jn9BobkYRp1MWDDn",
      "include_colab_link": true
    },
    "kernelspec": {
      "name": "python3",
      "display_name": "Python 3"
    }
  },
  "cells": [
    {
      "cell_type": "markdown",
      "metadata": {
        "id": "view-in-github",
        "colab_type": "text"
      },
      "source": [
        "<a href=\"https://colab.research.google.com/github/NeilCollinsMS/CTU-13-Classification/blob/main/CTU_13_Classification_(Per_Scenario).ipynb\" target=\"_parent\"><img src=\"https://colab.research.google.com/assets/colab-badge.svg\" alt=\"Open In Colab\"/></a>"
      ]
    },
    {
      "cell_type": "markdown",
      "metadata": {
        "id": "g-v9ttM__Yhd"
      },
      "source": [
        "**CTU-13 Classification Project**\r\n",
        "\r\n",
        "Per-Scenario Notbook (Each scenario is its own training and testing data)\r\n",
        "\r\n",
        "Alternate notebook will be generated for aggregate models utilizing master data."
      ]
    },
    {
      "cell_type": "code",
      "metadata": {
        "id": "LaRnxc9FNrA8"
      },
      "source": [
        "# Import Libraries \r\n",
        "import pandas as pd\r\n",
        "import numpy as np\r\n",
        "from sklearn.model_selection import train_test_split\r\n",
        "from sklearn.ensemble import RandomForestClassifier\r\n",
        "from sklearn.metrics import confusion_matrix\r\n",
        "from sklearn.metrics import f1_score \r\n",
        "from sklearn.metrics import accuracy_score \r\n",
        "from matplotlib import pyplot as plt"
      ],
      "execution_count": 13,
      "outputs": []
    },
    {
      "cell_type": "code",
      "metadata": {
        "id": "kiaTeiV9Pjal"
      },
      "source": [
        "# Load publicly accessible CTU-13 bidirectional netflow files into pandas dataframes. \r\n",
        "# Initially, I ran some .head() commands to make sure the data properly imported, but to avoid clutter, I will condense all of the file reading into one singular cell.\r\n",
        "# If you want to look at the dataframes just type scenario_# (dataframe names) into a cell and you'll get a combo of heads/tails in Google Colab.\r\n",
        "\r\n",
        "# Unfortunately, Google Colab hosts notebooks on virtual machines that it recycles every time the notebook disconnects. However, since each VM has limited RAM only run the necessary files.\r\n",
        "\r\n",
        "# scenario_1 = pd.read_csv('https://mcfp.felk.cvut.cz/publicDatasets/CTU-Malware-Capture-Botnet-42/detailed-bidirectional-flow-labels/capture20110810.binetflow')\r\n",
        "# scenario_2 = pd.read_csv('https://mcfp.felk.cvut.cz/publicDatasets/CTU-Malware-Capture-Botnet-43/detailed-bidirectional-flow-labels/capture20110811.binetflow')\r\n",
        "# scenario_3 = pd.read_csv('https://mcfp.felk.cvut.cz/publicDatasets/CTU-Malware-Capture-Botnet-44/detailed-bidirectional-flow-labels/capture20110812.binetflow')\r\n",
        "# scenario_4 = pd.read_csv('https://mcfp.felk.cvut.cz/publicDatasets/CTU-Malware-Capture-Botnet-45/detailed-bidirectional-flow-labels/capture20110815.binetflow')\r\n",
        "# scenario_5 = pd.read_csv('https://mcfp.felk.cvut.cz/publicDatasets/CTU-Malware-Capture-Botnet-46/detailed-bidirectional-flow-labels/capture20110815-2.binetflow')\r\n",
        "# scenario_6 = pd.read_csv('https://mcfp.felk.cvut.cz/publicDatasets/CTU-Malware-Capture-Botnet-47/detailed-bidirectional-flow-labels/capture20110816.binetflow')\r\n",
        "# scenario_7 = pd.read_csv('https://mcfp.felk.cvut.cz/publicDatasets/CTU-Malware-Capture-Botnet-48/detailed-bidirectional-flow-labels/capture20110816-2.binetflow')\r\n",
        "# scenario_8 = pd.read_csv('https://mcfp.felk.cvut.cz/publicDatasets/CTU-Malware-Capture-Botnet-49/detailed-bidirectional-flow-labels/capture20110816-3.binetflow')\r\n",
        "# scenario_9 = pd.read_csv('https://mcfp.felk.cvut.cz/publicDatasets/CTU-Malware-Capture-Botnet-50/detailed-bidirectional-flow-labels/capture20110817.binetflow')\r\n",
        "# scenario_10 = pd.read_csv('https://mcfp.felk.cvut.cz/publicDatasets/CTU-Malware-Capture-Botnet-51/detailed-bidirectional-flow-labels/capture20110818.binetflow')\r\n",
        "# scenario_11 = pd.read_csv('https://mcfp.felk.cvut.cz/publicDatasets/CTU-Malware-Capture-Botnet-52/detailed-bidirectional-flow-labels/capture20110818-2.binetflow')\r\n",
        "# scenario_12 = pd.read_csv('https://mcfp.felk.cvut.cz/publicDatasets/CTU-Malware-Capture-Botnet-53/detailed-bidirectional-flow-labels/capture20110819.binetflow')\r\n",
        "# scenario_13 = pd.read_csv('https://mcfp.felk.cvut.cz/publicDatasets/CTU-Malware-Capture-Botnet-54/detailed-bidirectional-flow-labels/capture20110815-3.binetflow')"
      ],
      "execution_count": 46,
      "outputs": []
    },
    {
      "cell_type": "markdown",
      "metadata": {
        "id": "lIb9fXzJ_hDM"
      },
      "source": [
        "**Scenario 1 Model 1**"
      ]
    },
    {
      "cell_type": "code",
      "metadata": {
        "id": "yRe0VwOoG9Sr"
      },
      "source": [
        "# Running all 13 scenarios takes a lot of RAM, so I am only using one at a time to not exceed Colab's RAM limit\r\n",
        "scenario_1 = pd.read_csv('https://mcfp.felk.cvut.cz/publicDatasets/CTU-Malware-Capture-Botnet-42/detailed-bidirectional-flow-labels/capture20110810.binetflow')"
      ],
      "execution_count": 3,
      "outputs": []
    },
    {
      "cell_type": "code",
      "metadata": {
        "id": "Vm1jKCSFsVWf"
      },
      "source": [
        "# Generate binary malicious target column\r\n",
        "scenario_1.loc[scenario_1['SrcAddr'] == '147.32.84.165', 'Malicious'] = 1\r\n",
        "scenario_1.loc[scenario_1['SrcAddr'] != '147.32.84.165', 'Malicious'] = 0"
      ],
      "execution_count": 4,
      "outputs": []
    },
    {
      "cell_type": "code",
      "metadata": {
        "colab": {
          "base_uri": "https://localhost:8080/",
          "height": 565
        },
        "id": "YCFfjWa743Pi",
        "outputId": "e2d606f8-fd47-4e59-91b4-e83c3b77c4d5"
      },
      "source": [
        "# Checking to make sure that binary assignments worked\r\n",
        "display(scenario_1.loc[scenario_1['SrcAddr'] == '147.32.84.165'])\r\n",
        "display(scenario_1.head())"
      ],
      "execution_count": 5,
      "outputs": [
        {
          "output_type": "display_data",
          "data": {
            "text/html": [
              "<div>\n",
              "<style scoped>\n",
              "    .dataframe tbody tr th:only-of-type {\n",
              "        vertical-align: middle;\n",
              "    }\n",
              "\n",
              "    .dataframe tbody tr th {\n",
              "        vertical-align: top;\n",
              "    }\n",
              "\n",
              "    .dataframe thead th {\n",
              "        text-align: right;\n",
              "    }\n",
              "</style>\n",
              "<table border=\"1\" class=\"dataframe\">\n",
              "  <thead>\n",
              "    <tr style=\"text-align: right;\">\n",
              "      <th></th>\n",
              "      <th>StartTime</th>\n",
              "      <th>Dur</th>\n",
              "      <th>Proto</th>\n",
              "      <th>SrcAddr</th>\n",
              "      <th>Sport</th>\n",
              "      <th>Dir</th>\n",
              "      <th>DstAddr</th>\n",
              "      <th>Dport</th>\n",
              "      <th>State</th>\n",
              "      <th>sTos</th>\n",
              "      <th>dTos</th>\n",
              "      <th>TotPkts</th>\n",
              "      <th>TotBytes</th>\n",
              "      <th>SrcBytes</th>\n",
              "      <th>Label</th>\n",
              "      <th>Malicious</th>\n",
              "    </tr>\n",
              "  </thead>\n",
              "  <tbody>\n",
              "    <tr>\n",
              "      <th>675537</th>\n",
              "      <td>2011/08/10 11:04:24.863449</td>\n",
              "      <td>0.000278</td>\n",
              "      <td>udp</td>\n",
              "      <td>147.32.84.165</td>\n",
              "      <td>1025</td>\n",
              "      <td>&lt;-&gt;</td>\n",
              "      <td>147.32.80.9</td>\n",
              "      <td>53</td>\n",
              "      <td>CON</td>\n",
              "      <td>0.0</td>\n",
              "      <td>0.0</td>\n",
              "      <td>2</td>\n",
              "      <td>203</td>\n",
              "      <td>64</td>\n",
              "      <td>flow=From-Botnet-V42-UDP-DNS</td>\n",
              "      <td>1.0</td>\n",
              "    </tr>\n",
              "    <tr>\n",
              "      <th>675872</th>\n",
              "      <td>2011/08/10 11:04:27.118993</td>\n",
              "      <td>0.020525</td>\n",
              "      <td>udp</td>\n",
              "      <td>147.32.84.165</td>\n",
              "      <td>1025</td>\n",
              "      <td>&lt;-&gt;</td>\n",
              "      <td>147.32.80.9</td>\n",
              "      <td>53</td>\n",
              "      <td>CON</td>\n",
              "      <td>0.0</td>\n",
              "      <td>0.0</td>\n",
              "      <td>2</td>\n",
              "      <td>590</td>\n",
              "      <td>87</td>\n",
              "      <td>flow=From-Botnet-V42-UDP-DNS</td>\n",
              "      <td>1.0</td>\n",
              "    </tr>\n",
              "    <tr>\n",
              "      <th>675877</th>\n",
              "      <td>2011/08/10 11:04:27.140727</td>\n",
              "      <td>0.045125</td>\n",
              "      <td>tcp</td>\n",
              "      <td>147.32.84.165</td>\n",
              "      <td>1027</td>\n",
              "      <td>-&gt;</td>\n",
              "      <td>74.125.232.195</td>\n",
              "      <td>80</td>\n",
              "      <td>SRPA_SPA</td>\n",
              "      <td>0.0</td>\n",
              "      <td>0.0</td>\n",
              "      <td>7</td>\n",
              "      <td>882</td>\n",
              "      <td>629</td>\n",
              "      <td>flow=From-Botnet-V42-TCP-HTTP-Google-Net-Estab...</td>\n",
              "      <td>1.0</td>\n",
              "    </tr>\n",
              "    <tr>\n",
              "      <th>689920</th>\n",
              "      <td>2011/08/10 11:06:23.268442</td>\n",
              "      <td>0.336250</td>\n",
              "      <td>udp</td>\n",
              "      <td>147.32.84.165</td>\n",
              "      <td>1025</td>\n",
              "      <td>&lt;-&gt;</td>\n",
              "      <td>147.32.80.9</td>\n",
              "      <td>53</td>\n",
              "      <td>CON</td>\n",
              "      <td>0.0</td>\n",
              "      <td>0.0</td>\n",
              "      <td>2</td>\n",
              "      <td>215</td>\n",
              "      <td>71</td>\n",
              "      <td>flow=From-Botnet-V42-UDP-DNS</td>\n",
              "      <td>1.0</td>\n",
              "    </tr>\n",
              "    <tr>\n",
              "      <th>689955</th>\n",
              "      <td>2011/08/10 11:06:23.606888</td>\n",
              "      <td>3514.083496</td>\n",
              "      <td>tcp</td>\n",
              "      <td>147.32.84.165</td>\n",
              "      <td>1039</td>\n",
              "      <td>-&gt;</td>\n",
              "      <td>60.190.222.139</td>\n",
              "      <td>65520</td>\n",
              "      <td>SPA_SPA</td>\n",
              "      <td>0.0</td>\n",
              "      <td>0.0</td>\n",
              "      <td>120</td>\n",
              "      <td>7767</td>\n",
              "      <td>2690</td>\n",
              "      <td>flow=From-Botnet-V42-TCP-Established</td>\n",
              "      <td>1.0</td>\n",
              "    </tr>\n",
              "    <tr>\n",
              "      <th>...</th>\n",
              "      <td>...</td>\n",
              "      <td>...</td>\n",
              "      <td>...</td>\n",
              "      <td>...</td>\n",
              "      <td>...</td>\n",
              "      <td>...</td>\n",
              "      <td>...</td>\n",
              "      <td>...</td>\n",
              "      <td>...</td>\n",
              "      <td>...</td>\n",
              "      <td>...</td>\n",
              "      <td>...</td>\n",
              "      <td>...</td>\n",
              "      <td>...</td>\n",
              "      <td>...</td>\n",
              "      <td>...</td>\n",
              "    </tr>\n",
              "    <tr>\n",
              "      <th>2785281</th>\n",
              "      <td>2011/08/10 15:48:48.058272</td>\n",
              "      <td>0.000000</td>\n",
              "      <td>udp</td>\n",
              "      <td>147.32.84.165</td>\n",
              "      <td>2077</td>\n",
              "      <td>-&gt;</td>\n",
              "      <td>89.149.254.87</td>\n",
              "      <td>53</td>\n",
              "      <td>INT</td>\n",
              "      <td>0.0</td>\n",
              "      <td>NaN</td>\n",
              "      <td>1</td>\n",
              "      <td>72</td>\n",
              "      <td>72</td>\n",
              "      <td>flow=From-Botnet-V42-UDP-Attempt-DNS</td>\n",
              "      <td>1.0</td>\n",
              "    </tr>\n",
              "    <tr>\n",
              "      <th>2785303</th>\n",
              "      <td>2011/08/10 15:48:48.338346</td>\n",
              "      <td>0.000000</td>\n",
              "      <td>tcp</td>\n",
              "      <td>147.32.84.165</td>\n",
              "      <td>1081</td>\n",
              "      <td>-&gt;</td>\n",
              "      <td>202.59.166.29</td>\n",
              "      <td>25</td>\n",
              "      <td>S_</td>\n",
              "      <td>0.0</td>\n",
              "      <td>NaN</td>\n",
              "      <td>1</td>\n",
              "      <td>62</td>\n",
              "      <td>62</td>\n",
              "      <td>flow=From-Botnet-V42-TCP-Attempt-SPAM</td>\n",
              "      <td>1.0</td>\n",
              "    </tr>\n",
              "    <tr>\n",
              "      <th>2785326</th>\n",
              "      <td>2011/08/10 15:48:48.448462</td>\n",
              "      <td>0.000405</td>\n",
              "      <td>udp</td>\n",
              "      <td>147.32.84.165</td>\n",
              "      <td>2079</td>\n",
              "      <td>&lt;-&gt;</td>\n",
              "      <td>147.32.80.9</td>\n",
              "      <td>53</td>\n",
              "      <td>CON</td>\n",
              "      <td>0.0</td>\n",
              "      <td>0.0</td>\n",
              "      <td>2</td>\n",
              "      <td>138</td>\n",
              "      <td>69</td>\n",
              "      <td>flow=From-Botnet-V42-UDP-DNS</td>\n",
              "      <td>1.0</td>\n",
              "    </tr>\n",
              "    <tr>\n",
              "      <th>2785382</th>\n",
              "      <td>2011/08/10 15:48:49.059334</td>\n",
              "      <td>0.056870</td>\n",
              "      <td>udp</td>\n",
              "      <td>147.32.84.165</td>\n",
              "      <td>2077</td>\n",
              "      <td>&lt;-&gt;</td>\n",
              "      <td>188.65.208.29</td>\n",
              "      <td>53</td>\n",
              "      <td>CON</td>\n",
              "      <td>0.0</td>\n",
              "      <td>0.0</td>\n",
              "      <td>2</td>\n",
              "      <td>144</td>\n",
              "      <td>72</td>\n",
              "      <td>flow=From-Botnet-V42-UDP-DNS</td>\n",
              "      <td>1.0</td>\n",
              "    </tr>\n",
              "    <tr>\n",
              "      <th>2785433</th>\n",
              "      <td>2011/08/10 15:48:49.449944</td>\n",
              "      <td>0.055294</td>\n",
              "      <td>udp</td>\n",
              "      <td>147.32.84.165</td>\n",
              "      <td>2079</td>\n",
              "      <td>&lt;-&gt;</td>\n",
              "      <td>217.16.16.30</td>\n",
              "      <td>53</td>\n",
              "      <td>CON</td>\n",
              "      <td>0.0</td>\n",
              "      <td>0.0</td>\n",
              "      <td>2</td>\n",
              "      <td>204</td>\n",
              "      <td>71</td>\n",
              "      <td>flow=From-Botnet-V42-UDP-DNS</td>\n",
              "      <td>1.0</td>\n",
              "    </tr>\n",
              "  </tbody>\n",
              "</table>\n",
              "<p>40961 rows × 16 columns</p>\n",
              "</div>"
            ],
            "text/plain": [
              "                          StartTime  ...  Malicious\n",
              "675537   2011/08/10 11:04:24.863449  ...        1.0\n",
              "675872   2011/08/10 11:04:27.118993  ...        1.0\n",
              "675877   2011/08/10 11:04:27.140727  ...        1.0\n",
              "689920   2011/08/10 11:06:23.268442  ...        1.0\n",
              "689955   2011/08/10 11:06:23.606888  ...        1.0\n",
              "...                             ...  ...        ...\n",
              "2785281  2011/08/10 15:48:48.058272  ...        1.0\n",
              "2785303  2011/08/10 15:48:48.338346  ...        1.0\n",
              "2785326  2011/08/10 15:48:48.448462  ...        1.0\n",
              "2785382  2011/08/10 15:48:49.059334  ...        1.0\n",
              "2785433  2011/08/10 15:48:49.449944  ...        1.0\n",
              "\n",
              "[40961 rows x 16 columns]"
            ]
          },
          "metadata": {
            "tags": []
          }
        },
        {
          "output_type": "display_data",
          "data": {
            "text/html": [
              "<div>\n",
              "<style scoped>\n",
              "    .dataframe tbody tr th:only-of-type {\n",
              "        vertical-align: middle;\n",
              "    }\n",
              "\n",
              "    .dataframe tbody tr th {\n",
              "        vertical-align: top;\n",
              "    }\n",
              "\n",
              "    .dataframe thead th {\n",
              "        text-align: right;\n",
              "    }\n",
              "</style>\n",
              "<table border=\"1\" class=\"dataframe\">\n",
              "  <thead>\n",
              "    <tr style=\"text-align: right;\">\n",
              "      <th></th>\n",
              "      <th>StartTime</th>\n",
              "      <th>Dur</th>\n",
              "      <th>Proto</th>\n",
              "      <th>SrcAddr</th>\n",
              "      <th>Sport</th>\n",
              "      <th>Dir</th>\n",
              "      <th>DstAddr</th>\n",
              "      <th>Dport</th>\n",
              "      <th>State</th>\n",
              "      <th>sTos</th>\n",
              "      <th>dTos</th>\n",
              "      <th>TotPkts</th>\n",
              "      <th>TotBytes</th>\n",
              "      <th>SrcBytes</th>\n",
              "      <th>Label</th>\n",
              "      <th>Malicious</th>\n",
              "    </tr>\n",
              "  </thead>\n",
              "  <tbody>\n",
              "    <tr>\n",
              "      <th>0</th>\n",
              "      <td>2011/08/10 09:46:53.047277</td>\n",
              "      <td>3550.182373</td>\n",
              "      <td>udp</td>\n",
              "      <td>212.50.71.179</td>\n",
              "      <td>39678</td>\n",
              "      <td>&lt;-&gt;</td>\n",
              "      <td>147.32.84.229</td>\n",
              "      <td>13363</td>\n",
              "      <td>CON</td>\n",
              "      <td>0.0</td>\n",
              "      <td>0.0</td>\n",
              "      <td>12</td>\n",
              "      <td>875</td>\n",
              "      <td>413</td>\n",
              "      <td>flow=Background-UDP-Established</td>\n",
              "      <td>0.0</td>\n",
              "    </tr>\n",
              "    <tr>\n",
              "      <th>1</th>\n",
              "      <td>2011/08/10 09:46:53.048843</td>\n",
              "      <td>0.000883</td>\n",
              "      <td>udp</td>\n",
              "      <td>84.13.246.132</td>\n",
              "      <td>28431</td>\n",
              "      <td>&lt;-&gt;</td>\n",
              "      <td>147.32.84.229</td>\n",
              "      <td>13363</td>\n",
              "      <td>CON</td>\n",
              "      <td>0.0</td>\n",
              "      <td>0.0</td>\n",
              "      <td>2</td>\n",
              "      <td>135</td>\n",
              "      <td>75</td>\n",
              "      <td>flow=Background-UDP-Established</td>\n",
              "      <td>0.0</td>\n",
              "    </tr>\n",
              "    <tr>\n",
              "      <th>2</th>\n",
              "      <td>2011/08/10 09:46:53.049895</td>\n",
              "      <td>0.000326</td>\n",
              "      <td>tcp</td>\n",
              "      <td>217.163.21.35</td>\n",
              "      <td>80</td>\n",
              "      <td>&lt;?&gt;</td>\n",
              "      <td>147.32.86.194</td>\n",
              "      <td>2063</td>\n",
              "      <td>FA_A</td>\n",
              "      <td>0.0</td>\n",
              "      <td>0.0</td>\n",
              "      <td>2</td>\n",
              "      <td>120</td>\n",
              "      <td>60</td>\n",
              "      <td>flow=Background</td>\n",
              "      <td>0.0</td>\n",
              "    </tr>\n",
              "    <tr>\n",
              "      <th>3</th>\n",
              "      <td>2011/08/10 09:46:53.053771</td>\n",
              "      <td>0.056966</td>\n",
              "      <td>tcp</td>\n",
              "      <td>83.3.77.74</td>\n",
              "      <td>32882</td>\n",
              "      <td>&lt;?&gt;</td>\n",
              "      <td>147.32.85.5</td>\n",
              "      <td>21857</td>\n",
              "      <td>FA_FA</td>\n",
              "      <td>0.0</td>\n",
              "      <td>0.0</td>\n",
              "      <td>3</td>\n",
              "      <td>180</td>\n",
              "      <td>120</td>\n",
              "      <td>flow=Background</td>\n",
              "      <td>0.0</td>\n",
              "    </tr>\n",
              "    <tr>\n",
              "      <th>4</th>\n",
              "      <td>2011/08/10 09:46:53.053937</td>\n",
              "      <td>3427.768066</td>\n",
              "      <td>udp</td>\n",
              "      <td>74.89.223.204</td>\n",
              "      <td>21278</td>\n",
              "      <td>&lt;-&gt;</td>\n",
              "      <td>147.32.84.229</td>\n",
              "      <td>13363</td>\n",
              "      <td>CON</td>\n",
              "      <td>0.0</td>\n",
              "      <td>0.0</td>\n",
              "      <td>42</td>\n",
              "      <td>2856</td>\n",
              "      <td>1596</td>\n",
              "      <td>flow=Background-UDP-Established</td>\n",
              "      <td>0.0</td>\n",
              "    </tr>\n",
              "  </tbody>\n",
              "</table>\n",
              "</div>"
            ],
            "text/plain": [
              "                    StartTime  ...  Malicious\n",
              "0  2011/08/10 09:46:53.047277  ...        0.0\n",
              "1  2011/08/10 09:46:53.048843  ...        0.0\n",
              "2  2011/08/10 09:46:53.049895  ...        0.0\n",
              "3  2011/08/10 09:46:53.053771  ...        0.0\n",
              "4  2011/08/10 09:46:53.053937  ...        0.0\n",
              "\n",
              "[5 rows x 16 columns]"
            ]
          },
          "metadata": {
            "tags": []
          }
        }
      ]
    },
    {
      "cell_type": "code",
      "metadata": {
        "id": "94ZCFgSh_Uhs"
      },
      "source": [
        "# Break data into target and features\r\n",
        "y1 = scenario_1.Malicious\r\n",
        "features = ['Dur', 'TotPkts', 'TotBytes', 'SrcBytes']\r\n",
        "X1 = scenario_1[features].copy()\r\n",
        "\r\n",
        "# Break data into training and testing data (80/20 split)\r\n",
        "X1_train, X1_test, y1_train, y1_test, = train_test_split(X1,y1, train_size = 0.8, test_size = 0.2, random_state = 1)"
      ],
      "execution_count": 6,
      "outputs": []
    },
    {
      "cell_type": "code",
      "metadata": {
        "colab": {
          "base_uri": "https://localhost:8080/"
        },
        "id": "kQulvTHnCxCE",
        "outputId": "a7463eaf-2f67-4ed4-8dde-c89d5e430cae"
      },
      "source": [
        "# Generate base model\r\n",
        "classifier_1 = RandomForestClassifier(max_leaf_nodes = 100, random_state = 1)\r\n",
        "\r\n",
        "# Fit model to training data\r\n",
        "classifier_1.fit(X1_train,y1_train)"
      ],
      "execution_count": 7,
      "outputs": [
        {
          "output_type": "execute_result",
          "data": {
            "text/plain": [
              "RandomForestClassifier(bootstrap=True, ccp_alpha=0.0, class_weight=None,\n",
              "                       criterion='gini', max_depth=None, max_features='auto',\n",
              "                       max_leaf_nodes=100, max_samples=None,\n",
              "                       min_impurity_decrease=0.0, min_impurity_split=None,\n",
              "                       min_samples_leaf=1, min_samples_split=2,\n",
              "                       min_weight_fraction_leaf=0.0, n_estimators=100,\n",
              "                       n_jobs=None, oob_score=False, random_state=1, verbose=0,\n",
              "                       warm_start=False)"
            ]
          },
          "metadata": {
            "tags": []
          },
          "execution_count": 7
        }
      ]
    },
    {
      "cell_type": "code",
      "metadata": {
        "colab": {
          "base_uri": "https://localhost:8080/"
        },
        "id": "os44pNdKI7TE",
        "outputId": "8f03224c-f371-4040-bd6a-7b84398067e6"
      },
      "source": [
        "# Very high accuracy score...potential overfitting? Considering lowering leaf nodes or using 5 fold validation. \r\n",
        "predictions1 = classifier_1.predict(X1_test)\r\n",
        "\r\n",
        "accuracy_score(y1_test, predictions1)"
      ],
      "execution_count": 8,
      "outputs": [
        {
          "output_type": "execute_result",
          "data": {
            "text/plain": [
              "0.9919334853291039"
            ]
          },
          "metadata": {
            "tags": []
          },
          "execution_count": 8
        }
      ]
    },
    {
      "cell_type": "code",
      "metadata": {
        "colab": {
          "base_uri": "https://localhost:8080/"
        },
        "id": "WHsI-KlqKctO",
        "outputId": "b71aa09f-6092-453c-eb15-136e4d9e8f55"
      },
      "source": [
        "pd.Series(y1_test).value_counts()"
      ],
      "execution_count": 9,
      "outputs": [
        {
          "output_type": "execute_result",
          "data": {
            "text/plain": [
              "0.0    556617\n",
              "1.0      8311\n",
              "Name: Malicious, dtype: int64"
            ]
          },
          "metadata": {
            "tags": []
          },
          "execution_count": 9
        }
      ]
    },
    {
      "cell_type": "code",
      "metadata": {
        "colab": {
          "base_uri": "https://localhost:8080/"
        },
        "id": "PyJPIj_KJMAa",
        "outputId": "73c3849a-8e5f-404f-d411-b73a3dbb94c7"
      },
      "source": [
        "pd.Series(predictions1).value_counts()"
      ],
      "execution_count": 10,
      "outputs": [
        {
          "output_type": "execute_result",
          "data": {
            "text/plain": [
              "0.0    560056\n",
              "1.0      4872\n",
              "dtype: int64"
            ]
          },
          "metadata": {
            "tags": []
          },
          "execution_count": 10
        }
      ]
    },
    {
      "cell_type": "code",
      "metadata": {
        "colab": {
          "base_uri": "https://localhost:8080/"
        },
        "id": "Y1QpXnphJMLG",
        "outputId": "9980eb1e-2158-4700-eb0c-2ea4ee44f059"
      },
      "source": [
        "# Decently solid F1 score, but could cause issues\r\n",
        "f1_score(y1_test, predictions1)"
      ],
      "execution_count": 11,
      "outputs": [
        {
          "output_type": "execute_result",
          "data": {
            "text/plain": [
              "0.6543275430478647"
            ]
          },
          "metadata": {
            "tags": []
          },
          "execution_count": 11
        }
      ]
    },
    {
      "cell_type": "code",
      "metadata": {
        "colab": {
          "base_uri": "https://localhost:8080/",
          "height": 105
        },
        "id": "1ta-KSz5Jz-E",
        "outputId": "789e93cb-5226-479b-852f-80b18640d18e"
      },
      "source": [
        "# Model skewed towards false positives. High number of True Negatives likely creating high accuracy score. Lean F1 here.\r\n",
        "\r\n",
        "labels1 = np.unique(y1_test)\r\n",
        "cm1 = confusion_matrix(y1_test, predictions1, labels=labels1)\r\n",
        "pd.DataFrame(cm1, index=labels1, columns=labels1)"
      ],
      "execution_count": 19,
      "outputs": [
        {
          "output_type": "execute_result",
          "data": {
            "text/html": [
              "<div>\n",
              "<style scoped>\n",
              "    .dataframe tbody tr th:only-of-type {\n",
              "        vertical-align: middle;\n",
              "    }\n",
              "\n",
              "    .dataframe tbody tr th {\n",
              "        vertical-align: top;\n",
              "    }\n",
              "\n",
              "    .dataframe thead th {\n",
              "        text-align: right;\n",
              "    }\n",
              "</style>\n",
              "<table border=\"1\" class=\"dataframe\">\n",
              "  <thead>\n",
              "    <tr style=\"text-align: right;\">\n",
              "      <th></th>\n",
              "      <th>0.0</th>\n",
              "      <th>1.0</th>\n",
              "    </tr>\n",
              "  </thead>\n",
              "  <tbody>\n",
              "    <tr>\n",
              "      <th>0.0</th>\n",
              "      <td>556058</td>\n",
              "      <td>559</td>\n",
              "    </tr>\n",
              "    <tr>\n",
              "      <th>1.0</th>\n",
              "      <td>3998</td>\n",
              "      <td>4313</td>\n",
              "    </tr>\n",
              "  </tbody>\n",
              "</table>\n",
              "</div>"
            ],
            "text/plain": [
              "        0.0   1.0\n",
              "0.0  556058   559\n",
              "1.0    3998  4313"
            ]
          },
          "metadata": {
            "tags": []
          },
          "execution_count": 19
        }
      ]
    },
    {
      "cell_type": "code",
      "metadata": {
        "colab": {
          "base_uri": "https://localhost:8080/",
          "height": 295
        },
        "id": "vEq70MXOz1Fi",
        "outputId": "2143efdc-e02c-47ed-abfa-eb8d35ef9201"
      },
      "source": [
        "importances1 = classifier_1.feature_importances_\r\n",
        "indices1 = np.argsort(importances1)\r\n",
        "\r\n",
        "plt.title('Feature Importances')\r\n",
        "plt.barh(range(len(indices1)), importances1[indices1], color='b', align='center')\r\n",
        "plt.yticks(range(len(indices1)), [features[i] for i in indices1])\r\n",
        "plt.xlabel('Relative Importance')\r\n",
        "plt.show()"
      ],
      "execution_count": 15,
      "outputs": [
        {
          "output_type": "display_data",
          "data": {
            "image/png": "[encoded data removed]",
            "text/plain": [
              "<Figure size 432x288 with 1 Axes>"
            ]
          },
          "metadata": {
            "tags": [],
            "needs_background": "light"
          }
        }
      ]
    },
    {
      "cell_type": "markdown",
      "metadata": {
        "id": "iUUjdVmmBF1D"
      },
      "source": [
        "**Scenario 2 Model 1**"
      ]
    },
    {
      "cell_type": "code",
      "metadata": {
        "id": "62KCy0sGBHf5"
      },
      "source": [
        "scenario_2 = pd.read_csv('https://mcfp.felk.cvut.cz/publicDatasets/CTU-Malware-Capture-Botnet-43/detailed-bidirectional-flow-labels/capture20110811.binetflow')"
      ],
      "execution_count": 20,
      "outputs": []
    },
    {
      "cell_type": "code",
      "metadata": {
        "id": "tW9b1vpcB7o9"
      },
      "source": [
        "# Generate binary malicious target column\r\n",
        "scenario_2.loc[scenario_2['SrcAddr'] == '147.32.84.165', 'Malicious'] = 1\r\n",
        "scenario_2.loc[scenario_2['SrcAddr'] != '147.32.84.165', 'Malicious'] = 0"
      ],
      "execution_count": 22,
      "outputs": []
    },
    {
      "cell_type": "code",
      "metadata": {
        "colab": {
          "base_uri": "https://localhost:8080/",
          "height": 565
        },
        "id": "Qb5_sMSMCe7v",
        "outputId": "711f7a00-0287-4370-a112-3d4e1978561e"
      },
      "source": [
        "# Checking to make sure that binary assignments worked\r\n",
        "display(scenario_2.loc[scenario_2['SrcAddr'] == '147.32.84.165'])\r\n",
        "display(scenario_2.head())"
      ],
      "execution_count": 25,
      "outputs": [
        {
          "output_type": "display_data",
          "data": {
            "text/html": [
              "<div>\n",
              "<style scoped>\n",
              "    .dataframe tbody tr th:only-of-type {\n",
              "        vertical-align: middle;\n",
              "    }\n",
              "\n",
              "    .dataframe tbody tr th {\n",
              "        vertical-align: top;\n",
              "    }\n",
              "\n",
              "    .dataframe thead th {\n",
              "        text-align: right;\n",
              "    }\n",
              "</style>\n",
              "<table border=\"1\" class=\"dataframe\">\n",
              "  <thead>\n",
              "    <tr style=\"text-align: right;\">\n",
              "      <th></th>\n",
              "      <th>StartTime</th>\n",
              "      <th>Dur</th>\n",
              "      <th>Proto</th>\n",
              "      <th>SrcAddr</th>\n",
              "      <th>Sport</th>\n",
              "      <th>Dir</th>\n",
              "      <th>DstAddr</th>\n",
              "      <th>Dport</th>\n",
              "      <th>State</th>\n",
              "      <th>sTos</th>\n",
              "      <th>dTos</th>\n",
              "      <th>TotPkts</th>\n",
              "      <th>TotBytes</th>\n",
              "      <th>SrcBytes</th>\n",
              "      <th>Label</th>\n",
              "      <th>Malicious</th>\n",
              "    </tr>\n",
              "  </thead>\n",
              "  <tbody>\n",
              "    <tr>\n",
              "      <th>353034</th>\n",
              "      <td>2011/08/11 10:27:20.087827</td>\n",
              "      <td>0.000151</td>\n",
              "      <td>udp</td>\n",
              "      <td>147.32.84.165</td>\n",
              "      <td>1025</td>\n",
              "      <td>&lt;-&gt;</td>\n",
              "      <td>147.32.80.9</td>\n",
              "      <td>53</td>\n",
              "      <td>CON</td>\n",
              "      <td>0.0</td>\n",
              "      <td>0.0</td>\n",
              "      <td>2</td>\n",
              "      <td>203</td>\n",
              "      <td>64</td>\n",
              "      <td>flow=From-Botnet-V43-UDP-DNS</td>\n",
              "      <td>1.0</td>\n",
              "    </tr>\n",
              "    <tr>\n",
              "      <th>353266</th>\n",
              "      <td>2011/08/11 10:27:22.334730</td>\n",
              "      <td>0.019477</td>\n",
              "      <td>udp</td>\n",
              "      <td>147.32.84.165</td>\n",
              "      <td>1025</td>\n",
              "      <td>&lt;-&gt;</td>\n",
              "      <td>147.32.80.9</td>\n",
              "      <td>53</td>\n",
              "      <td>CON</td>\n",
              "      <td>0.0</td>\n",
              "      <td>0.0</td>\n",
              "      <td>2</td>\n",
              "      <td>590</td>\n",
              "      <td>87</td>\n",
              "      <td>flow=From-Botnet-V43-UDP-DNS</td>\n",
              "      <td>1.0</td>\n",
              "    </tr>\n",
              "    <tr>\n",
              "      <th>353271</th>\n",
              "      <td>2011/08/11 10:27:22.355042</td>\n",
              "      <td>0.045459</td>\n",
              "      <td>tcp</td>\n",
              "      <td>147.32.84.165</td>\n",
              "      <td>1027</td>\n",
              "      <td>-&gt;</td>\n",
              "      <td>74.125.232.198</td>\n",
              "      <td>80</td>\n",
              "      <td>SRPA_SPA</td>\n",
              "      <td>0.0</td>\n",
              "      <td>0.0</td>\n",
              "      <td>7</td>\n",
              "      <td>882</td>\n",
              "      <td>629</td>\n",
              "      <td>flow=From-Botnet-V43-TCP-HTTP-Google-Net-Estab...</td>\n",
              "      <td>1.0</td>\n",
              "    </tr>\n",
              "    <tr>\n",
              "      <th>389373</th>\n",
              "      <td>2011/08/11 10:32:25.092354</td>\n",
              "      <td>0.200739</td>\n",
              "      <td>udp</td>\n",
              "      <td>147.32.84.165</td>\n",
              "      <td>1025</td>\n",
              "      <td>&lt;-&gt;</td>\n",
              "      <td>147.32.80.9</td>\n",
              "      <td>53</td>\n",
              "      <td>CON</td>\n",
              "      <td>0.0</td>\n",
              "      <td>0.0</td>\n",
              "      <td>2</td>\n",
              "      <td>553</td>\n",
              "      <td>78</td>\n",
              "      <td>flow=From-Botnet-V43-UDP-DNS</td>\n",
              "      <td>1.0</td>\n",
              "    </tr>\n",
              "    <tr>\n",
              "      <th>389398</th>\n",
              "      <td>2011/08/11 10:32:25.294505</td>\n",
              "      <td>500.002960</td>\n",
              "      <td>tcp</td>\n",
              "      <td>147.32.84.165</td>\n",
              "      <td>1039</td>\n",
              "      <td>-&gt;</td>\n",
              "      <td>195.113.232.98</td>\n",
              "      <td>80</td>\n",
              "      <td>SPA_FSPA</td>\n",
              "      <td>0.0</td>\n",
              "      <td>0.0</td>\n",
              "      <td>14</td>\n",
              "      <td>5498</td>\n",
              "      <td>531</td>\n",
              "      <td>flow=From-Botnet-V43-TCP-Established-HTTP-Ad-40</td>\n",
              "      <td>1.0</td>\n",
              "    </tr>\n",
              "    <tr>\n",
              "      <th>...</th>\n",
              "      <td>...</td>\n",
              "      <td>...</td>\n",
              "      <td>...</td>\n",
              "      <td>...</td>\n",
              "      <td>...</td>\n",
              "      <td>...</td>\n",
              "      <td>...</td>\n",
              "      <td>...</td>\n",
              "      <td>...</td>\n",
              "      <td>...</td>\n",
              "      <td>...</td>\n",
              "      <td>...</td>\n",
              "      <td>...</td>\n",
              "      <td>...</td>\n",
              "      <td>...</td>\n",
              "      <td>...</td>\n",
              "    </tr>\n",
              "    <tr>\n",
              "      <th>1780033</th>\n",
              "      <td>2011/08/11 13:55:27.981810</td>\n",
              "      <td>2.982934</td>\n",
              "      <td>tcp</td>\n",
              "      <td>147.32.84.165</td>\n",
              "      <td>1123</td>\n",
              "      <td>-&gt;</td>\n",
              "      <td>67.195.168.230</td>\n",
              "      <td>25</td>\n",
              "      <td>S_</td>\n",
              "      <td>0.0</td>\n",
              "      <td>NaN</td>\n",
              "      <td>2</td>\n",
              "      <td>124</td>\n",
              "      <td>124</td>\n",
              "      <td>flow=From-Botnet-V43-TCP-Attempt-SPAM</td>\n",
              "      <td>1.0</td>\n",
              "    </tr>\n",
              "    <tr>\n",
              "      <th>1780035</th>\n",
              "      <td>2011/08/11 13:55:28.000203</td>\n",
              "      <td>0.139268</td>\n",
              "      <td>tcp</td>\n",
              "      <td>147.32.84.165</td>\n",
              "      <td>4383</td>\n",
              "      <td>-&gt;</td>\n",
              "      <td>217.163.21.39</td>\n",
              "      <td>80</td>\n",
              "      <td>FSPA_FSPA</td>\n",
              "      <td>0.0</td>\n",
              "      <td>0.0</td>\n",
              "      <td>10</td>\n",
              "      <td>1451</td>\n",
              "      <td>701</td>\n",
              "      <td>flow=From-Botnet-V43-TCP-WEB-Established</td>\n",
              "      <td>1.0</td>\n",
              "    </tr>\n",
              "    <tr>\n",
              "      <th>1780036</th>\n",
              "      <td>2011/08/11 13:55:28.000218</td>\n",
              "      <td>2.964543</td>\n",
              "      <td>tcp</td>\n",
              "      <td>147.32.84.165</td>\n",
              "      <td>1124</td>\n",
              "      <td>-&gt;</td>\n",
              "      <td>64.12.138.161</td>\n",
              "      <td>25</td>\n",
              "      <td>S_</td>\n",
              "      <td>0.0</td>\n",
              "      <td>NaN</td>\n",
              "      <td>2</td>\n",
              "      <td>124</td>\n",
              "      <td>124</td>\n",
              "      <td>flow=From-Botnet-V43-TCP-Attempt-SPAM</td>\n",
              "      <td>1.0</td>\n",
              "    </tr>\n",
              "    <tr>\n",
              "      <th>1780572</th>\n",
              "      <td>2011/08/11 13:55:34.577108</td>\n",
              "      <td>0.027338</td>\n",
              "      <td>tcp</td>\n",
              "      <td>147.32.84.165</td>\n",
              "      <td>4541</td>\n",
              "      <td>-&gt;</td>\n",
              "      <td>46.4.36.120</td>\n",
              "      <td>443</td>\n",
              "      <td>S_RA</td>\n",
              "      <td>0.0</td>\n",
              "      <td>0.0</td>\n",
              "      <td>2</td>\n",
              "      <td>122</td>\n",
              "      <td>62</td>\n",
              "      <td>flow=From-Botnet-V43-TCP-Attempt</td>\n",
              "      <td>1.0</td>\n",
              "    </tr>\n",
              "    <tr>\n",
              "      <th>1780593</th>\n",
              "      <td>2011/08/11 13:55:34.778838</td>\n",
              "      <td>0.000000</td>\n",
              "      <td>tcp</td>\n",
              "      <td>147.32.84.165</td>\n",
              "      <td>1200</td>\n",
              "      <td>-&gt;</td>\n",
              "      <td>66.94.237.64</td>\n",
              "      <td>25</td>\n",
              "      <td>S_</td>\n",
              "      <td>0.0</td>\n",
              "      <td>NaN</td>\n",
              "      <td>1</td>\n",
              "      <td>62</td>\n",
              "      <td>62</td>\n",
              "      <td>flow=From-Botnet-V43-TCP-Attempt-SPAM</td>\n",
              "      <td>1.0</td>\n",
              "    </tr>\n",
              "  </tbody>\n",
              "</table>\n",
              "<p>20941 rows × 16 columns</p>\n",
              "</div>"
            ],
            "text/plain": [
              "                          StartTime  ...  Malicious\n",
              "353034   2011/08/11 10:27:20.087827  ...        1.0\n",
              "353266   2011/08/11 10:27:22.334730  ...        1.0\n",
              "353271   2011/08/11 10:27:22.355042  ...        1.0\n",
              "389373   2011/08/11 10:32:25.092354  ...        1.0\n",
              "389398   2011/08/11 10:32:25.294505  ...        1.0\n",
              "...                             ...  ...        ...\n",
              "1780033  2011/08/11 13:55:27.981810  ...        1.0\n",
              "1780035  2011/08/11 13:55:28.000203  ...        1.0\n",
              "1780036  2011/08/11 13:55:28.000218  ...        1.0\n",
              "1780572  2011/08/11 13:55:34.577108  ...        1.0\n",
              "1780593  2011/08/11 13:55:34.778838  ...        1.0\n",
              "\n",
              "[20941 rows x 16 columns]"
            ]
          },
          "metadata": {
            "tags": []
          }
        },
        {
          "output_type": "display_data",
          "data": {
            "text/html": [
              "<div>\n",
              "<style scoped>\n",
              "    .dataframe tbody tr th:only-of-type {\n",
              "        vertical-align: middle;\n",
              "    }\n",
              "\n",
              "    .dataframe tbody tr th {\n",
              "        vertical-align: top;\n",
              "    }\n",
              "\n",
              "    .dataframe thead th {\n",
              "        text-align: right;\n",
              "    }\n",
              "</style>\n",
              "<table border=\"1\" class=\"dataframe\">\n",
              "  <thead>\n",
              "    <tr style=\"text-align: right;\">\n",
              "      <th></th>\n",
              "      <th>StartTime</th>\n",
              "      <th>Dur</th>\n",
              "      <th>Proto</th>\n",
              "      <th>SrcAddr</th>\n",
              "      <th>Sport</th>\n",
              "      <th>Dir</th>\n",
              "      <th>DstAddr</th>\n",
              "      <th>Dport</th>\n",
              "      <th>State</th>\n",
              "      <th>sTos</th>\n",
              "      <th>dTos</th>\n",
              "      <th>TotPkts</th>\n",
              "      <th>TotBytes</th>\n",
              "      <th>SrcBytes</th>\n",
              "      <th>Label</th>\n",
              "      <th>Malicious</th>\n",
              "    </tr>\n",
              "  </thead>\n",
              "  <tbody>\n",
              "    <tr>\n",
              "      <th>0</th>\n",
              "      <td>2011/08/11 09:49:35.721274</td>\n",
              "      <td>2069.973145</td>\n",
              "      <td>udp</td>\n",
              "      <td>203.253.8.233</td>\n",
              "      <td>30533</td>\n",
              "      <td>&lt;-&gt;</td>\n",
              "      <td>147.32.84.229</td>\n",
              "      <td>13363</td>\n",
              "      <td>CON</td>\n",
              "      <td>0.0</td>\n",
              "      <td>0.0</td>\n",
              "      <td>3</td>\n",
              "      <td>197</td>\n",
              "      <td>123</td>\n",
              "      <td>flow=Background-UDP-Established</td>\n",
              "      <td>0.0</td>\n",
              "    </tr>\n",
              "    <tr>\n",
              "      <th>1</th>\n",
              "      <td>2011/08/11 09:49:35.721530</td>\n",
              "      <td>895.989258</td>\n",
              "      <td>tcp</td>\n",
              "      <td>81.47.154.13</td>\n",
              "      <td>49200</td>\n",
              "      <td>&lt;?&gt;</td>\n",
              "      <td>147.32.84.229</td>\n",
              "      <td>13363</td>\n",
              "      <td>RPA_PA</td>\n",
              "      <td>0.0</td>\n",
              "      <td>0.0</td>\n",
              "      <td>70</td>\n",
              "      <td>7032</td>\n",
              "      <td>4501</td>\n",
              "      <td>flow=Background</td>\n",
              "      <td>0.0</td>\n",
              "    </tr>\n",
              "    <tr>\n",
              "      <th>2</th>\n",
              "      <td>2011/08/11 09:49:35.721918</td>\n",
              "      <td>0.000120</td>\n",
              "      <td>udp</td>\n",
              "      <td>147.32.84.229</td>\n",
              "      <td>13363</td>\n",
              "      <td>-&gt;</td>\n",
              "      <td>78.42.25.171</td>\n",
              "      <td>42988</td>\n",
              "      <td>INT</td>\n",
              "      <td>0.0</td>\n",
              "      <td>NaN</td>\n",
              "      <td>3</td>\n",
              "      <td>2858</td>\n",
              "      <td>2858</td>\n",
              "      <td>flow=Background-UDP-Attempt</td>\n",
              "      <td>0.0</td>\n",
              "    </tr>\n",
              "    <tr>\n",
              "      <th>3</th>\n",
              "      <td>2011/08/11 09:49:35.722518</td>\n",
              "      <td>3561.927246</td>\n",
              "      <td>udp</td>\n",
              "      <td>147.32.84.229</td>\n",
              "      <td>13363</td>\n",
              "      <td>&lt;-&gt;</td>\n",
              "      <td>113.128.219.130</td>\n",
              "      <td>59790</td>\n",
              "      <td>CON</td>\n",
              "      <td>0.0</td>\n",
              "      <td>0.0</td>\n",
              "      <td>63</td>\n",
              "      <td>15770</td>\n",
              "      <td>13419</td>\n",
              "      <td>flow=Background-UDP-Established</td>\n",
              "      <td>0.0</td>\n",
              "    </tr>\n",
              "    <tr>\n",
              "      <th>4</th>\n",
              "      <td>2011/08/11 09:49:35.723816</td>\n",
              "      <td>0.000000</td>\n",
              "      <td>udp</td>\n",
              "      <td>147.32.84.229</td>\n",
              "      <td>13363</td>\n",
              "      <td>-&gt;</td>\n",
              "      <td>60.50.167.24</td>\n",
              "      <td>40253</td>\n",
              "      <td>INT</td>\n",
              "      <td>0.0</td>\n",
              "      <td>NaN</td>\n",
              "      <td>1</td>\n",
              "      <td>60</td>\n",
              "      <td>60</td>\n",
              "      <td>flow=Background-UDP-Attempt</td>\n",
              "      <td>0.0</td>\n",
              "    </tr>\n",
              "  </tbody>\n",
              "</table>\n",
              "</div>"
            ],
            "text/plain": [
              "                    StartTime  ...  Malicious\n",
              "0  2011/08/11 09:49:35.721274  ...        0.0\n",
              "1  2011/08/11 09:49:35.721530  ...        0.0\n",
              "2  2011/08/11 09:49:35.721918  ...        0.0\n",
              "3  2011/08/11 09:49:35.722518  ...        0.0\n",
              "4  2011/08/11 09:49:35.723816  ...        0.0\n",
              "\n",
              "[5 rows x 16 columns]"
            ]
          },
          "metadata": {
            "tags": []
          }
        }
      ]
    },
    {
      "cell_type": "code",
      "metadata": {
        "id": "1xf-s742DGFW"
      },
      "source": [
        "# Break data into target and features\r\n",
        "y2 = scenario_2.Malicious\r\n",
        "features = ['Dur', 'TotPkts', 'TotBytes', 'SrcBytes']\r\n",
        "X2 = scenario_2[features].copy()\r\n",
        "\r\n",
        "# Break data into training and testing data (80/20 split)\r\n",
        "X2_train, X2_test, y2_train, y2_test, = train_test_split(X2,y2, train_size = 0.8, test_size = 0.2, random_state = 1)"
      ],
      "execution_count": 26,
      "outputs": []
    },
    {
      "cell_type": "code",
      "metadata": {
        "colab": {
          "base_uri": "https://localhost:8080/"
        },
        "id": "SimXNyAaEvDp",
        "outputId": "f4b4a06a-4045-4825-dfec-55b90bf6aae8"
      },
      "source": [
        "# Generate base model\r\n",
        "classifier_2 = RandomForestClassifier(max_leaf_nodes = 100, random_state = 1)\r\n",
        "\r\n",
        "# Fit model to training data\r\n",
        "classifier_2.fit(X2_train,y2_train)"
      ],
      "execution_count": 27,
      "outputs": [
        {
          "output_type": "execute_result",
          "data": {
            "text/plain": [
              "RandomForestClassifier(bootstrap=True, ccp_alpha=0.0, class_weight=None,\n",
              "                       criterion='gini', max_depth=None, max_features='auto',\n",
              "                       max_leaf_nodes=100, max_samples=None,\n",
              "                       min_impurity_decrease=0.0, min_impurity_split=None,\n",
              "                       min_samples_leaf=1, min_samples_split=2,\n",
              "                       min_weight_fraction_leaf=0.0, n_estimators=100,\n",
              "                       n_jobs=None, oob_score=False, random_state=1, verbose=0,\n",
              "                       warm_start=False)"
            ]
          },
          "metadata": {
            "tags": []
          },
          "execution_count": 27
        }
      ]
    },
    {
      "cell_type": "code",
      "metadata": {
        "colab": {
          "base_uri": "https://localhost:8080/"
        },
        "id": "VAOxubPLGqR4",
        "outputId": "0f6e4999-80f8-4887-fee3-ed1ee1a254e3"
      },
      "source": [
        "# Another very high accuracy score...potentially useless metric, very high TNs\r\n",
        "predictions2 = classifier_2.predict(X2_test)\r\n",
        "\r\n",
        "accuracy_score(y2_test, predictions2)"
      ],
      "execution_count": 28,
      "outputs": [
        {
          "output_type": "execute_result",
          "data": {
            "text/plain": [
              "0.9956916695471828"
            ]
          },
          "metadata": {
            "tags": []
          },
          "execution_count": 28
        }
      ]
    },
    {
      "cell_type": "code",
      "metadata": {
        "colab": {
          "base_uri": "https://localhost:8080/"
        },
        "id": "ErB3vPBIG7je",
        "outputId": "a5b36679-d8fb-4c72-a11a-e35dcfb0f1b0"
      },
      "source": [
        "# Much better F1 score than prior model... This reinvigorates my idea that insights can be derived from per-scenario models. \r\n",
        "f1_score(y2_test, predictions2)"
      ],
      "execution_count": 30,
      "outputs": [
        {
          "output_type": "execute_result",
          "data": {
            "text/plain": [
              "0.8002564102564103"
            ]
          },
          "metadata": {
            "tags": []
          },
          "execution_count": 30
        }
      ]
    },
    {
      "cell_type": "code",
      "metadata": {
        "colab": {
          "base_uri": "https://localhost:8080/",
          "height": 105
        },
        "id": "AnE_FJSHHXEW",
        "outputId": "88f76e19-85fa-46ca-f1f4-2a1136b712b6"
      },
      "source": [
        "# Similar issue with model being skewed towards false positives, but to a much less extent than before, hence the improved F1\r\n",
        "labels2 = np.unique(y2_test)\r\n",
        "cm2 = confusion_matrix(y2_test, predictions2, labels=labels2)\r\n",
        "pd.DataFrame(cm2, index=labels2, columns=labels2)"
      ],
      "execution_count": 32,
      "outputs": [
        {
          "output_type": "execute_result",
          "data": {
            "text/html": [
              "<div>\n",
              "<style scoped>\n",
              "    .dataframe tbody tr th:only-of-type {\n",
              "        vertical-align: middle;\n",
              "    }\n",
              "\n",
              "    .dataframe tbody tr th {\n",
              "        vertical-align: top;\n",
              "    }\n",
              "\n",
              "    .dataframe thead th {\n",
              "        text-align: right;\n",
              "    }\n",
              "</style>\n",
              "<table border=\"1\" class=\"dataframe\">\n",
              "  <thead>\n",
              "    <tr style=\"text-align: right;\">\n",
              "      <th></th>\n",
              "      <th>0.0</th>\n",
              "      <th>1.0</th>\n",
              "    </tr>\n",
              "  </thead>\n",
              "  <tbody>\n",
              "    <tr>\n",
              "      <th>0.0</th>\n",
              "      <td>356946</td>\n",
              "      <td>487</td>\n",
              "    </tr>\n",
              "    <tr>\n",
              "      <th>1.0</th>\n",
              "      <td>1071</td>\n",
              "      <td>3121</td>\n",
              "    </tr>\n",
              "  </tbody>\n",
              "</table>\n",
              "</div>"
            ],
            "text/plain": [
              "        0.0   1.0\n",
              "0.0  356946   487\n",
              "1.0    1071  3121"
            ]
          },
          "metadata": {
            "tags": []
          },
          "execution_count": 32
        }
      ]
    },
    {
      "cell_type": "code",
      "metadata": {
        "colab": {
          "base_uri": "https://localhost:8080/",
          "height": 295
        },
        "id": "60pK5dTeHv8y",
        "outputId": "cd19ba7c-7d30-4004-84d1-a4d69a32fd90"
      },
      "source": [
        "# Very interesting that importance differed here. Aggregate model generation should provide us with some fun insights.\r\n",
        "\r\n",
        "importances2 = classifier_2.feature_importances_\r\n",
        "indices2 = np.argsort(importances2)\r\n",
        "\r\n",
        "plt.title('Feature Importances')\r\n",
        "plt.barh(range(len(indices2)), importances2[indices2], color='b', align='center')\r\n",
        "plt.yticks(range(len(indices2)), [features[i] for i in indices2])\r\n",
        "plt.xlabel('Relative Importance')\r\n",
        "plt.show()"
      ],
      "execution_count": 33,
      "outputs": [
        {
          "output_type": "display_data",
          "data": {
            "image/png": "[encoded data removed]",
            "text/plain": [
              "<Figure size 432x288 with 1 Axes>"
            ]
          },
          "metadata": {
            "tags": [],
            "needs_background": "light"
          }
        }
      ]
    },
    {
      "cell_type": "markdown",
      "metadata": {
        "id": "icUqe626IdQ9"
      },
      "source": [
        "**Scenario 3 Model 1**"
      ]
    },
    {
      "cell_type": "code",
      "metadata": {
        "id": "yESmHPY6IfXL"
      },
      "source": [
        "scenario_3 = pd.read_csv('https://mcfp.felk.cvut.cz/publicDatasets/CTU-Malware-Capture-Botnet-44/detailed-bidirectional-flow-labels/capture20110812.binetflow')"
      ],
      "execution_count": 34,
      "outputs": []
    },
    {
      "cell_type": "code",
      "metadata": {
        "id": "Bs5QcrBQJQHl"
      },
      "source": [
        "# Generate binary malicious target column\r\n",
        "scenario_3.loc[scenario_3['SrcAddr'] == '147.32.84.165', 'Malicious'] = 1\r\n",
        "scenario_3.loc[scenario_3['SrcAddr'] != '147.32.84.165', 'Malicious'] = 0"
      ],
      "execution_count": 35,
      "outputs": []
    },
    {
      "cell_type": "code",
      "metadata": {
        "colab": {
          "base_uri": "https://localhost:8080/",
          "height": 565
        },
        "id": "BfcEZxWPKEVr",
        "outputId": "17c35afc-563f-4651-a57d-09982650278c"
      },
      "source": [
        "# Checking to make sure that binary assignments worked\r\n",
        "display(scenario_3.loc[scenario_3['SrcAddr'] == '147.32.84.165'])\r\n",
        "display(scenario_3.head())"
      ],
      "execution_count": 36,
      "outputs": [
        {
          "output_type": "display_data",
          "data": {
            "text/html": [
              "<div>\n",
              "<style scoped>\n",
              "    .dataframe tbody tr th:only-of-type {\n",
              "        vertical-align: middle;\n",
              "    }\n",
              "\n",
              "    .dataframe tbody tr th {\n",
              "        vertical-align: top;\n",
              "    }\n",
              "\n",
              "    .dataframe thead th {\n",
              "        text-align: right;\n",
              "    }\n",
              "</style>\n",
              "<table border=\"1\" class=\"dataframe\">\n",
              "  <thead>\n",
              "    <tr style=\"text-align: right;\">\n",
              "      <th></th>\n",
              "      <th>StartTime</th>\n",
              "      <th>Dur</th>\n",
              "      <th>Proto</th>\n",
              "      <th>SrcAddr</th>\n",
              "      <th>Sport</th>\n",
              "      <th>Dir</th>\n",
              "      <th>DstAddr</th>\n",
              "      <th>Dport</th>\n",
              "      <th>State</th>\n",
              "      <th>sTos</th>\n",
              "      <th>dTos</th>\n",
              "      <th>TotPkts</th>\n",
              "      <th>TotBytes</th>\n",
              "      <th>SrcBytes</th>\n",
              "      <th>Label</th>\n",
              "      <th>Malicious</th>\n",
              "    </tr>\n",
              "  </thead>\n",
              "  <tbody>\n",
              "    <tr>\n",
              "      <th>61467</th>\n",
              "      <td>2011/08/12 15:53:17.142311</td>\n",
              "      <td>1966.745239</td>\n",
              "      <td>icmp</td>\n",
              "      <td>147.32.84.165</td>\n",
              "      <td>0x0303</td>\n",
              "      <td>-&gt;</td>\n",
              "      <td>81.166.246.198</td>\n",
              "      <td>0x8769</td>\n",
              "      <td>URP</td>\n",
              "      <td>0.0</td>\n",
              "      <td>NaN</td>\n",
              "      <td>3</td>\n",
              "      <td>285</td>\n",
              "      <td>285</td>\n",
              "      <td>flow=From-Botnet-V44-ICMP</td>\n",
              "      <td>1.0</td>\n",
              "    </tr>\n",
              "    <tr>\n",
              "      <th>178229</th>\n",
              "      <td>2011/08/12 16:56:52.873156</td>\n",
              "      <td>0.000456</td>\n",
              "      <td>udp</td>\n",
              "      <td>147.32.84.165</td>\n",
              "      <td>1026</td>\n",
              "      <td>&lt;-&gt;</td>\n",
              "      <td>147.32.80.9</td>\n",
              "      <td>53</td>\n",
              "      <td>CON</td>\n",
              "      <td>0.0</td>\n",
              "      <td>0.0</td>\n",
              "      <td>2</td>\n",
              "      <td>400</td>\n",
              "      <td>74</td>\n",
              "      <td>flow=From-Botnet-V44-UDP-DNS</td>\n",
              "      <td>1.0</td>\n",
              "    </tr>\n",
              "    <tr>\n",
              "      <th>181700</th>\n",
              "      <td>2011/08/12 16:59:13.459181</td>\n",
              "      <td>0.121586</td>\n",
              "      <td>udp</td>\n",
              "      <td>147.32.84.165</td>\n",
              "      <td>1026</td>\n",
              "      <td>&lt;-&gt;</td>\n",
              "      <td>147.32.80.9</td>\n",
              "      <td>53</td>\n",
              "      <td>CON</td>\n",
              "      <td>0.0</td>\n",
              "      <td>0.0</td>\n",
              "      <td>2</td>\n",
              "      <td>292</td>\n",
              "      <td>72</td>\n",
              "      <td>flow=From-Botnet-V44-UDP-DNS</td>\n",
              "      <td>1.0</td>\n",
              "    </tr>\n",
              "    <tr>\n",
              "      <th>181705</th>\n",
              "      <td>2011/08/12 16:59:13.581498</td>\n",
              "      <td>10.362481</td>\n",
              "      <td>tcp</td>\n",
              "      <td>147.32.84.165</td>\n",
              "      <td>1046</td>\n",
              "      <td>-&gt;</td>\n",
              "      <td>74.207.254.18</td>\n",
              "      <td>80</td>\n",
              "      <td>SPA_FSPA</td>\n",
              "      <td>0.0</td>\n",
              "      <td>0.0</td>\n",
              "      <td>9</td>\n",
              "      <td>1118</td>\n",
              "      <td>385</td>\n",
              "      <td>flow=From-Botnet-V44-TCP-WEB-Established</td>\n",
              "      <td>1.0</td>\n",
              "    </tr>\n",
              "    <tr>\n",
              "      <th>181711</th>\n",
              "      <td>2011/08/12 16:59:13.934712</td>\n",
              "      <td>0.101143</td>\n",
              "      <td>udp</td>\n",
              "      <td>147.32.84.165</td>\n",
              "      <td>1026</td>\n",
              "      <td>&lt;-&gt;</td>\n",
              "      <td>147.32.80.9</td>\n",
              "      <td>53</td>\n",
              "      <td>CON</td>\n",
              "      <td>0.0</td>\n",
              "      <td>0.0</td>\n",
              "      <td>2</td>\n",
              "      <td>284</td>\n",
              "      <td>68</td>\n",
              "      <td>flow=From-Botnet-V44-UDP-DNS</td>\n",
              "      <td>1.0</td>\n",
              "    </tr>\n",
              "    <tr>\n",
              "      <th>...</th>\n",
              "      <td>...</td>\n",
              "      <td>...</td>\n",
              "      <td>...</td>\n",
              "      <td>...</td>\n",
              "      <td>...</td>\n",
              "      <td>...</td>\n",
              "      <td>...</td>\n",
              "      <td>...</td>\n",
              "      <td>...</td>\n",
              "      <td>...</td>\n",
              "      <td>...</td>\n",
              "      <td>...</td>\n",
              "      <td>...</td>\n",
              "      <td>...</td>\n",
              "      <td>...</td>\n",
              "      <td>...</td>\n",
              "    </tr>\n",
              "    <tr>\n",
              "      <th>4520227</th>\n",
              "      <td>2011/08/15 09:25:26.819651</td>\n",
              "      <td>9.014144</td>\n",
              "      <td>tcp</td>\n",
              "      <td>147.32.84.165</td>\n",
              "      <td>2909</td>\n",
              "      <td>-&gt;</td>\n",
              "      <td>223.255.170.91</td>\n",
              "      <td>22</td>\n",
              "      <td>S_</td>\n",
              "      <td>0.0</td>\n",
              "      <td>NaN</td>\n",
              "      <td>3</td>\n",
              "      <td>186</td>\n",
              "      <td>186</td>\n",
              "      <td>flow=From-Botnet-V44-TCP-Attempt</td>\n",
              "      <td>1.0</td>\n",
              "    </tr>\n",
              "    <tr>\n",
              "      <th>4520295</th>\n",
              "      <td>2011/08/15 09:25:28.020389</td>\n",
              "      <td>9.013652</td>\n",
              "      <td>tcp</td>\n",
              "      <td>147.32.84.165</td>\n",
              "      <td>2910</td>\n",
              "      <td>-&gt;</td>\n",
              "      <td>223.255.178.83</td>\n",
              "      <td>22</td>\n",
              "      <td>S_</td>\n",
              "      <td>0.0</td>\n",
              "      <td>NaN</td>\n",
              "      <td>3</td>\n",
              "      <td>186</td>\n",
              "      <td>186</td>\n",
              "      <td>flow=From-Botnet-V44-TCP-Attempt</td>\n",
              "      <td>1.0</td>\n",
              "    </tr>\n",
              "    <tr>\n",
              "      <th>4532883</th>\n",
              "      <td>2011/08/15 09:29:18.079118</td>\n",
              "      <td>0.000000</td>\n",
              "      <td>udp</td>\n",
              "      <td>147.32.84.165</td>\n",
              "      <td>137</td>\n",
              "      <td>-&gt;</td>\n",
              "      <td>192.168.88.121</td>\n",
              "      <td>45366</td>\n",
              "      <td>INT</td>\n",
              "      <td>0.0</td>\n",
              "      <td>NaN</td>\n",
              "      <td>1</td>\n",
              "      <td>104</td>\n",
              "      <td>104</td>\n",
              "      <td>flow=From-Botnet-V44-UDP-Attempt</td>\n",
              "      <td>1.0</td>\n",
              "    </tr>\n",
              "    <tr>\n",
              "      <th>4576820</th>\n",
              "      <td>2011/08/15 09:42:00.883399</td>\n",
              "      <td>0.000000</td>\n",
              "      <td>udp</td>\n",
              "      <td>147.32.84.165</td>\n",
              "      <td>137</td>\n",
              "      <td>-&gt;</td>\n",
              "      <td>192.168.88.121</td>\n",
              "      <td>43886</td>\n",
              "      <td>INT</td>\n",
              "      <td>0.0</td>\n",
              "      <td>NaN</td>\n",
              "      <td>1</td>\n",
              "      <td>104</td>\n",
              "      <td>104</td>\n",
              "      <td>flow=From-Botnet-V44-UDP-Attempt</td>\n",
              "      <td>1.0</td>\n",
              "    </tr>\n",
              "    <tr>\n",
              "      <th>4630452</th>\n",
              "      <td>2011/08/15 09:54:43.695571</td>\n",
              "      <td>0.000000</td>\n",
              "      <td>udp</td>\n",
              "      <td>147.32.84.165</td>\n",
              "      <td>137</td>\n",
              "      <td>-&gt;</td>\n",
              "      <td>192.168.88.121</td>\n",
              "      <td>46400</td>\n",
              "      <td>INT</td>\n",
              "      <td>0.0</td>\n",
              "      <td>NaN</td>\n",
              "      <td>1</td>\n",
              "      <td>104</td>\n",
              "      <td>104</td>\n",
              "      <td>flow=From-Botnet-V44-UDP-Attempt</td>\n",
              "      <td>1.0</td>\n",
              "    </tr>\n",
              "  </tbody>\n",
              "</table>\n",
              "<p>26761 rows × 16 columns</p>\n",
              "</div>"
            ],
            "text/plain": [
              "                          StartTime  ...  Malicious\n",
              "61467    2011/08/12 15:53:17.142311  ...        1.0\n",
              "178229   2011/08/12 16:56:52.873156  ...        1.0\n",
              "181700   2011/08/12 16:59:13.459181  ...        1.0\n",
              "181705   2011/08/12 16:59:13.581498  ...        1.0\n",
              "181711   2011/08/12 16:59:13.934712  ...        1.0\n",
              "...                             ...  ...        ...\n",
              "4520227  2011/08/15 09:25:26.819651  ...        1.0\n",
              "4520295  2011/08/15 09:25:28.020389  ...        1.0\n",
              "4532883  2011/08/15 09:29:18.079118  ...        1.0\n",
              "4576820  2011/08/15 09:42:00.883399  ...        1.0\n",
              "4630452  2011/08/15 09:54:43.695571  ...        1.0\n",
              "\n",
              "[26761 rows x 16 columns]"
            ]
          },
          "metadata": {
            "tags": []
          }
        },
        {
          "output_type": "display_data",
          "data": {
            "text/html": [
              "<div>\n",
              "<style scoped>\n",
              "    .dataframe tbody tr th:only-of-type {\n",
              "        vertical-align: middle;\n",
              "    }\n",
              "\n",
              "    .dataframe tbody tr th {\n",
              "        vertical-align: top;\n",
              "    }\n",
              "\n",
              "    .dataframe thead th {\n",
              "        text-align: right;\n",
              "    }\n",
              "</style>\n",
              "<table border=\"1\" class=\"dataframe\">\n",
              "  <thead>\n",
              "    <tr style=\"text-align: right;\">\n",
              "      <th></th>\n",
              "      <th>StartTime</th>\n",
              "      <th>Dur</th>\n",
              "      <th>Proto</th>\n",
              "      <th>SrcAddr</th>\n",
              "      <th>Sport</th>\n",
              "      <th>Dir</th>\n",
              "      <th>DstAddr</th>\n",
              "      <th>Dport</th>\n",
              "      <th>State</th>\n",
              "      <th>sTos</th>\n",
              "      <th>dTos</th>\n",
              "      <th>TotPkts</th>\n",
              "      <th>TotBytes</th>\n",
              "      <th>SrcBytes</th>\n",
              "      <th>Label</th>\n",
              "      <th>Malicious</th>\n",
              "    </tr>\n",
              "  </thead>\n",
              "  <tbody>\n",
              "    <tr>\n",
              "      <th>0</th>\n",
              "      <td>2011/08/12 15:24:01.105063</td>\n",
              "      <td>75.532112</td>\n",
              "      <td>tcp</td>\n",
              "      <td>74.125.108.243</td>\n",
              "      <td>80</td>\n",
              "      <td>&lt;?&gt;</td>\n",
              "      <td>147.32.86.187</td>\n",
              "      <td>55707</td>\n",
              "      <td>FPA_FA</td>\n",
              "      <td>0.0</td>\n",
              "      <td>0.0</td>\n",
              "      <td>8107</td>\n",
              "      <td>10096400</td>\n",
              "      <td>10005608</td>\n",
              "      <td>flow=Background</td>\n",
              "      <td>0.0</td>\n",
              "    </tr>\n",
              "    <tr>\n",
              "      <th>1</th>\n",
              "      <td>2011/08/12 15:24:01.105402</td>\n",
              "      <td>6.650236</td>\n",
              "      <td>tcp</td>\n",
              "      <td>147.32.84.164</td>\n",
              "      <td>22</td>\n",
              "      <td>&lt;?&gt;</td>\n",
              "      <td>83.208.193.123</td>\n",
              "      <td>15173</td>\n",
              "      <td>FPA_FPA</td>\n",
              "      <td>0.0</td>\n",
              "      <td>0.0</td>\n",
              "      <td>33</td>\n",
              "      <td>3218</td>\n",
              "      <td>1532</td>\n",
              "      <td>flow=From-Normal-V44-Grill</td>\n",
              "      <td>0.0</td>\n",
              "    </tr>\n",
              "    <tr>\n",
              "      <th>2</th>\n",
              "      <td>2011/08/12 15:24:01.106568</td>\n",
              "      <td>3599.641602</td>\n",
              "      <td>tcp</td>\n",
              "      <td>217.168.211.184</td>\n",
              "      <td>3953</td>\n",
              "      <td>&lt;?&gt;</td>\n",
              "      <td>147.32.84.14</td>\n",
              "      <td>22</td>\n",
              "      <td>PA_PA</td>\n",
              "      <td>0.0</td>\n",
              "      <td>0.0</td>\n",
              "      <td>1604343</td>\n",
              "      <td>1585303458</td>\n",
              "      <td>38328160</td>\n",
              "      <td>flow=Background</td>\n",
              "      <td>0.0</td>\n",
              "    </tr>\n",
              "    <tr>\n",
              "      <th>3</th>\n",
              "      <td>2011/08/12 15:24:01.113763</td>\n",
              "      <td>1341.314453</td>\n",
              "      <td>udp</td>\n",
              "      <td>173.9.132.155</td>\n",
              "      <td>54369</td>\n",
              "      <td>&lt;-&gt;</td>\n",
              "      <td>147.32.84.59</td>\n",
              "      <td>15046</td>\n",
              "      <td>CON</td>\n",
              "      <td>0.0</td>\n",
              "      <td>0.0</td>\n",
              "      <td>284072</td>\n",
              "      <td>243446592</td>\n",
              "      <td>120384296</td>\n",
              "      <td>flow=Background-Established-cmpgw-CVUT</td>\n",
              "      <td>0.0</td>\n",
              "    </tr>\n",
              "    <tr>\n",
              "      <th>4</th>\n",
              "      <td>2011/08/12 15:24:01.119062</td>\n",
              "      <td>3599.992920</td>\n",
              "      <td>tcp</td>\n",
              "      <td>88.103.40.117</td>\n",
              "      <td>37378</td>\n",
              "      <td>&lt;?&gt;</td>\n",
              "      <td>147.32.84.59</td>\n",
              "      <td>56306</td>\n",
              "      <td>PA_PA</td>\n",
              "      <td>0.0</td>\n",
              "      <td>0.0</td>\n",
              "      <td>229138</td>\n",
              "      <td>213637628</td>\n",
              "      <td>206786146</td>\n",
              "      <td>flow=Background-Established-cmpgw-CVUT</td>\n",
              "      <td>0.0</td>\n",
              "    </tr>\n",
              "  </tbody>\n",
              "</table>\n",
              "</div>"
            ],
            "text/plain": [
              "                    StartTime  ...  Malicious\n",
              "0  2011/08/12 15:24:01.105063  ...        0.0\n",
              "1  2011/08/12 15:24:01.105402  ...        0.0\n",
              "2  2011/08/12 15:24:01.106568  ...        0.0\n",
              "3  2011/08/12 15:24:01.113763  ...        0.0\n",
              "4  2011/08/12 15:24:01.119062  ...        0.0\n",
              "\n",
              "[5 rows x 16 columns]"
            ]
          },
          "metadata": {
            "tags": []
          }
        }
      ]
    },
    {
      "cell_type": "code",
      "metadata": {
        "id": "jeOaORQbKI12"
      },
      "source": [
        "# Break data into target and features\r\n",
        "y3 = scenario_3.Malicious\r\n",
        "features = ['Dur', 'TotPkts', 'TotBytes', 'SrcBytes']\r\n",
        "X3 = scenario_3[features].copy()\r\n",
        "\r\n",
        "# Break data into training and testing data (80/20 split)\r\n",
        "X3_train, X3_test, y3_train, y3_test, = train_test_split(X3,y3, train_size = 0.8, test_size = 0.2, random_state = 1)"
      ],
      "execution_count": 37,
      "outputs": []
    },
    {
      "cell_type": "code",
      "metadata": {
        "colab": {
          "base_uri": "https://localhost:8080/"
        },
        "id": "CeUlD4yuKWQD",
        "outputId": "caeeeab7-d952-4f1f-9f04-d259d62efbab"
      },
      "source": [
        "# Generate base model\r\n",
        "classifier_3 = RandomForestClassifier(max_leaf_nodes = 100, random_state = 1)\r\n",
        "\r\n",
        "# Fit model to training data\r\n",
        "classifier_3.fit(X3_train,y3_train)"
      ],
      "execution_count": 38,
      "outputs": [
        {
          "output_type": "execute_result",
          "data": {
            "text/plain": [
              "RandomForestClassifier(bootstrap=True, ccp_alpha=0.0, class_weight=None,\n",
              "                       criterion='gini', max_depth=None, max_features='auto',\n",
              "                       max_leaf_nodes=100, max_samples=None,\n",
              "                       min_impurity_decrease=0.0, min_impurity_split=None,\n",
              "                       min_samples_leaf=1, min_samples_split=2,\n",
              "                       min_weight_fraction_leaf=0.0, n_estimators=100,\n",
              "                       n_jobs=None, oob_score=False, random_state=1, verbose=0,\n",
              "                       warm_start=False)"
            ]
          },
          "metadata": {
            "tags": []
          },
          "execution_count": 38
        }
      ]
    },
    {
      "cell_type": "code",
      "metadata": {
        "colab": {
          "base_uri": "https://localhost:8080/"
        },
        "id": "QEuNhe4GLtE2",
        "outputId": "a69f60a4-d969-4f65-d4ab-84148eefeaf6"
      },
      "source": [
        "# Accuracy is useless here. I'll keep running it to check for major errors, but it is largely useless.\r\n",
        "predictions3 = classifier_3.predict(X3_test)\r\n",
        "\r\n",
        "accuracy_score(y3_test, predictions3)"
      ],
      "execution_count": 39,
      "outputs": [
        {
          "output_type": "execute_result",
          "data": {
            "text/plain": [
              "0.9989077917225685"
            ]
          },
          "metadata": {
            "tags": []
          },
          "execution_count": 39
        }
      ]
    },
    {
      "cell_type": "code",
      "metadata": {
        "colab": {
          "base_uri": "https://localhost:8080/"
        },
        "id": "8BnqpMgeL_uh",
        "outputId": "4e249e3a-be3a-45d1-85ed-985858ed808e"
      },
      "source": [
        "# Incredibly high f1 score\r\n",
        "f1_score(y3_test, predictions3)"
      ],
      "execution_count": 40,
      "outputs": [
        {
          "output_type": "execute_result",
          "data": {
            "text/plain": [
              "0.9041988641653477"
            ]
          },
          "metadata": {
            "tags": []
          },
          "execution_count": 40
        }
      ]
    },
    {
      "cell_type": "code",
      "metadata": {
        "colab": {
          "base_uri": "https://localhost:8080/",
          "height": 105
        },
        "id": "ICsrKAHUMMZV",
        "outputId": "a0f47665-1cae-431d-99f2-ae6e2b9ac027"
      },
      "source": [
        "# Best model so far\r\n",
        "labels3 = np.unique(y3_test)\r\n",
        "cm3 = confusion_matrix(y3_test, predictions3, labels=labels3)\r\n",
        "pd.DataFrame(cm3, index=labels3, columns=labels3)"
      ],
      "execution_count": 41,
      "outputs": [
        {
          "output_type": "execute_result",
          "data": {
            "text/html": [
              "<div>\n",
              "<style scoped>\n",
              "    .dataframe tbody tr th:only-of-type {\n",
              "        vertical-align: middle;\n",
              "    }\n",
              "\n",
              "    .dataframe tbody tr th {\n",
              "        vertical-align: top;\n",
              "    }\n",
              "\n",
              "    .dataframe thead th {\n",
              "        text-align: right;\n",
              "    }\n",
              "</style>\n",
              "<table border=\"1\" class=\"dataframe\">\n",
              "  <thead>\n",
              "    <tr style=\"text-align: right;\">\n",
              "      <th></th>\n",
              "      <th>0.0</th>\n",
              "      <th>1.0</th>\n",
              "    </tr>\n",
              "  </thead>\n",
              "  <tbody>\n",
              "    <tr>\n",
              "      <th>0.0</th>\n",
              "      <td>936243</td>\n",
              "      <td>446</td>\n",
              "    </tr>\n",
              "    <tr>\n",
              "      <th>1.0</th>\n",
              "      <td>583</td>\n",
              "      <td>4856</td>\n",
              "    </tr>\n",
              "  </tbody>\n",
              "</table>\n",
              "</div>"
            ],
            "text/plain": [
              "        0.0   1.0\n",
              "0.0  936243   446\n",
              "1.0     583  4856"
            ]
          },
          "metadata": {
            "tags": []
          },
          "execution_count": 41
        }
      ]
    },
    {
      "cell_type": "code",
      "metadata": {
        "colab": {
          "base_uri": "https://localhost:8080/",
          "height": 295
        },
        "id": "JH5mLC9LMX5L",
        "outputId": "189aefbc-36c5-4856-b81d-6b2cf335b840"
      },
      "source": [
        "# The two models that have TotBytes as the most important (with Dur and SrcBytes following) have performed the best thusfar\r\n",
        "\r\n",
        "importances3 = classifier_3.feature_importances_\r\n",
        "indices3 = np.argsort(importances3)\r\n",
        "\r\n",
        "plt.title('Feature Importances')\r\n",
        "plt.barh(range(len(indices2)), importances3[indices3], color='b', align='center')\r\n",
        "plt.yticks(range(len(indices3)), [features[i] for i in indices3])\r\n",
        "plt.xlabel('Relative Importance')\r\n",
        "plt.show()"
      ],
      "execution_count": 42,
      "outputs": [
        {
          "output_type": "display_data",
          "data": {
            "image/png": "[encoded data removed]",
            "text/plain": [
              "<Figure size 432x288 with 1 Axes>"
            ]
          },
          "metadata": {
            "tags": [],
            "needs_background": "light"
          }
        }
      ]
    },
    {
      "cell_type": "markdown",
      "metadata": {
        "id": "v6ZMO0rkMuYs"
      },
      "source": [
        "**Scenario 4 Model 1**"
      ]
    }
  ]
}